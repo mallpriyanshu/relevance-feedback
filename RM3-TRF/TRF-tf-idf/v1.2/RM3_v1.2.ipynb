{
 "cells": [
  {
   "attachments": {},
   "cell_type": "markdown",
   "id": "3f922bba",
   "metadata": {},
   "source": [
    "#### imports"
   ]
  },
  {
   "cell_type": "code",
   "execution_count": 1,
   "id": "dad0912a",
   "metadata": {},
   "outputs": [
    {
     "data": {
      "text/plain": [
       "<jcc.JCCEnv at 0x7f81d6247c90>"
      ]
     },
     "execution_count": 1,
     "metadata": {},
     "output_type": "execute_result"
    }
   ],
   "source": [
    "import math\n",
    "import lucene\n",
    "import time\n",
    "import nltk\n",
    "import itertools\n",
    "import numpy as np\n",
    "from tqdm import tqdm\n",
    "from java.io import File\n",
    "import xml.etree.ElementTree as ET\n",
    "from collections import defaultdict\n",
    "from org.apache.lucene.store import FSDirectory\n",
    "from org.apache.lucene.util import BytesRefIterator\n",
    "from org.apache.lucene.index import DirectoryReader, Term\n",
    "from org.apache.lucene.analysis.en import EnglishAnalyzer\n",
    "from org.apache.lucene.analysis.core import WhitespaceAnalyzer\n",
    "from org.apache.lucene.queryparser.classic import QueryParser\n",
    "from org.apache.lucene.search import IndexSearcher, BooleanQuery, BooleanClause, TermQuery, BoostQuery\n",
    "from org.apache.lucene.search.similarities import BM25Similarity, LMJelinekMercerSimilarity, LMDirichletSimilarity\n",
    "lucene.initVM()"
   ]
  },
  {
   "cell_type": "code",
   "execution_count": 2,
   "id": "daecea70",
   "metadata": {},
   "outputs": [],
   "source": [
    "q_name = 'trec678-robust'"
   ]
  },
  {
   "cell_type": "code",
   "execution_count": 3,
   "id": "da8c844e",
   "metadata": {},
   "outputs": [],
   "source": [
    "index_path = '../../../index/'\n",
    "topicFilePath = f'../../../{q_name}.xml'\n",
    "qrel_file = '../../../trec678_robust.qrel'\n",
    "\n",
    "directory = FSDirectory.open(File(index_path).toPath())\n",
    "indexReader = DirectoryReader.open(directory)"
   ]
  },
  {
   "cell_type": "code",
   "execution_count": 4,
   "id": "f3061de2",
   "metadata": {},
   "outputs": [],
   "source": [
    "def query_topics(xml_file):\n",
    "    tree = ET.parse(xml_file)\n",
    "    root = tree.getroot()\n",
    "\n",
    "    parsed_topics = {}\n",
    "\n",
    "    for top in root.findall('top'):\n",
    "        num = top.find('num').text.strip()\n",
    "        title = top.find('title').text.strip()\n",
    "        parsed_topics[num] = title\n",
    "\n",
    "    return parsed_topics"
   ]
  },
  {
   "cell_type": "code",
   "execution_count": 5,
   "id": "b9be077c",
   "metadata": {},
   "outputs": [],
   "source": [
    "def makeRelJudgeDict(qrelFilePath):\n",
    "    # {qid1:{docid1:0/1,docid2:0/1,...}, qid2:{docid2:0/1,docid4:0/1,...},...}\n",
    "    relJudgeDict = {}\n",
    "    with open(qrelFilePath, 'r') as f:\n",
    "        for line in f:\n",
    "            l = line.split()\n",
    "            qid, docid, judgement = l[0], l[2], int(l[3])\n",
    "            if qid not in relJudgeDict:\n",
    "                relJudgeDict[qid] = {docid: judgement}\n",
    "            else:\n",
    "                relJudgeDict[qid][docid] = judgement\n",
    "    return relJudgeDict\n",
    "\n",
    "def isTrueRelevant(qid, docid, relJudgeDict):\n",
    "    # returns if the doc is True relevant, for the given query, according to the judgment file\n",
    "    if qid not in relJudgeDict:\n",
    "        return False\n",
    "    if docid not in relJudgeDict[qid]:\n",
    "        return False\n",
    "    if relJudgeDict[qid][docid] == 1:   # 1 -> Relevant TRF\n",
    "        return True\n",
    "    if relJudgeDict[qid][docid] == 0:\n",
    "        return False\n",
    "\n",
    "def isTrueNonRelevant(qid, docid, relJudgeDict):\n",
    "    # returns if the doc is NOT true relevant, for the given query, according to the judgment file\n",
    "    if qid not in relJudgeDict:\n",
    "        return False\n",
    "    if docid not in relJudgeDict[qid]:\n",
    "        return False\n",
    "    if relJudgeDict[qid][docid] == 0:   # 0 -> Non-relevant TRF\n",
    "        return True\n",
    "    if relJudgeDict[qid][docid] == 1:\n",
    "        return False\n",
    "\n",
    "relJudgeDict = makeRelJudgeDict(qrel_file)"
   ]
  },
  {
   "cell_type": "code",
   "execution_count": 6,
   "id": "b64d41c6",
   "metadata": {},
   "outputs": [],
   "source": [
    "query_all = query_topics(topicFilePath)"
   ]
  },
  {
   "cell_type": "code",
   "execution_count": 7,
   "id": "64bc6b52",
   "metadata": {},
   "outputs": [],
   "source": [
    "def getDocumentVector(luceneDocid, indexReader):\n",
    "\n",
    "    N = indexReader.numDocs()  \n",
    "    # N = indexReader.getSumTotalTermFreq(\"CONTENTS\")\n",
    "                     \n",
    "    \n",
    "    docVec = defaultdict(lambda: [0, 0]) \n",
    "    D = 0                                 \n",
    "    \n",
    "    terms = indexReader.getTermVector(luceneDocid, 'CONTENTS')\n",
    "    iterator = terms.iterator()\n",
    "    for term in BytesRefIterator.cast_(iterator):\n",
    "        t = term.utf8ToString()\n",
    "        tf = iterator.totalTermFreq()  \n",
    "        df = indexReader.docFreq(Term('CONTENTS', t))\n",
    "        # cf = indexReader.totalTermFreq(Term('CONTENTS', t))\n",
    "        D += tf\n",
    "        docVec[t][0] = tf\n",
    "        docVec[t][1] = df\n",
    "    \n",
    "    docVec = {key: (value[0] / D) * math.log(N / (value[1] + 1)) for key, value in docVec.items()}\n",
    "    \n",
    "    total_weight = sum(docVec.values())\n",
    "    docVec = {key: value / total_weight for key, value in docVec.items()}\n",
    "\n",
    "    return docVec\n"
   ]
  },
  {
   "attachments": {},
   "cell_type": "markdown",
   "id": "265bc659",
   "metadata": {},
   "source": [
    "### RM3\n"
   ]
  },
  {
   "cell_type": "code",
   "execution_count": 8,
   "id": "076c7239",
   "metadata": {},
   "outputs": [],
   "source": [
    "def search(indexReader, query, similarity, top_rel_doc, qid, tpd, tnd):\n",
    "    analyzer = EnglishAnalyzer()\n",
    "    searcher = IndexSearcher(indexReader)\n",
    "    searcher.setSimilarity(similarity)\n",
    "    # query = QueryParser('CONTENTS', analyzer).escape(query)      # a few titles had '/' in them which \n",
    "    \n",
    "    # query = QueryParser(\"CONTENTS\", analyzer).parse(query)\n",
    "\n",
    "    scoreDocs = searcher.search(query, top_rel_doc).scoreDocs\n",
    "    \n",
    "    docids = [scoreDoc.doc for scoreDoc in scoreDocs]\n",
    "\n",
    "    relevent_docs = []\n",
    "    nonrel_docs = []\n",
    "    for id in docids:\n",
    "        doc = searcher.doc(id)\n",
    "        if isTrueRelevant(qid, doc.get('ID'), relJudgeDict):\n",
    "            relevent_docs.append(id)\n",
    "        if isTrueNonRelevant(qid, doc.get('ID'), relJudgeDict):\n",
    "            nonrel_docs.append(id)\n",
    "   \n",
    "    # print(qid,relevent_docs)\n",
    "    docids = relevent_docs[:tpd]\n",
    "    ndocid = nonrel_docs[:tnd]\n",
    "    \n",
    "    set_cont = {term for doc in docids for term in getDocumentVector(doc, indexReader).keys()}\n",
    "\n",
    "    \n",
    "    \n",
    "    # set_n = {term for doc in ndocid for term in getDocumentVector(doc, indexReader).keys()}\n",
    "    \n",
    "    # query_terms_set = set([term.strip()[9:] for term in query.toString().split()])\n",
    "    # set_cont = set_cont.difference(set_n) | query_terms_set\n",
    "\n",
    "    # set_cont = {ele for ele in set_cont if ele.isalpha()} \n",
    "\n",
    "    return set_cont, docids, ndocid"
   ]
  },
  {
   "cell_type": "code",
   "execution_count": 9,
   "id": "8b873b73",
   "metadata": {},
   "outputs": [],
   "source": [
    "def RM3_term_selection(Query, set_ET, docs, ndocid, indexReader, alpha, lamb, expanded_query_terms):\n",
    "    \n",
    "    totalTF = indexReader.getSumTotalTermFreq(\"CONTENTS\")\n",
    "\n",
    "    Q = Query.split()\n",
    "    weight = {}\n",
    "\n",
    "    cf = {}\n",
    "    for t in set_ET | set(Q):\n",
    "        T = Term(\"CONTENTS\", t)\n",
    "        cf[t] = indexReader.totalTermFreq(T)/totalTF\n",
    "\n",
    "    docVectors = {}\n",
    "    ndocVectors = {}\n",
    "   \n",
    "    \n",
    "    for d in docs:                    \n",
    "        docVectors[d] = getDocumentVector(d, indexReader)\n",
    "    \n",
    "    for d in ndocid:                    \n",
    "        ndocVectors[d] = getDocumentVector(d, indexReader)\n",
    "        \n",
    "        \n",
    "    # tagged = nltk.tag.pos_tag(list(set_ET), tagset='universal')\n",
    "    # set_ET = set([ele[0] for ele in tagged if ele[1] in ['NOUN','ADJ','ADP','X']])\n",
    "    ml = lamb\n",
    "    for w in set_ET:\n",
    "        p_wr = 0\n",
    "        tdc = 0\n",
    "        for d in docs:                  \n",
    "            tdc = tdc + 1\n",
    "            # p_wd = (ml*(docVectors[d].get(w,0)) + (1 - ml)*cf[w]) \n",
    "            p_wd = docVectors[d].get(w,0)     \n",
    "        \n",
    "            p_q = 1\n",
    "            for q in Q:\n",
    "                # p_q = p_q*docVectors[d].get(q,0)   \n",
    "                p_q = p_q*(ml*(docVectors[d].get(q,0)) + (1 - ml)*cf[q])   \n",
    "\n",
    "            p_wr = p_wr + p_wd\n",
    "        \n",
    "        p_wr = p_wr/tdc\n",
    "\n",
    "        p_wnr = 0\n",
    "        ndc = 0 \n",
    "        for d in ndocid:\n",
    "            ndc = ndc + 1\n",
    "            \n",
    "            # p_wnd = (ml*(ndocVectors[d].get(w,0)) + (1 - ml)*cf[w]) \n",
    "            p_wnd = ndocVectors[d].get(w,0)\n",
    "\n",
    "            p_q = 1\n",
    "            for q in Q:\n",
    "                # p_q = p_q*docVectors[d].get(q,0)   \n",
    "                p_q = p_q*(ml*(ndocVectors[d].get(q,0)) + (1 - ml)*cf[q])\n",
    "\n",
    "            p_wnr = p_wnr + p_wnd\n",
    "        if ndc != 0:\n",
    "            p_wnr = p_wnr/ndc\n",
    "        \n",
    "        p_wr = p_wr - p_wnr\n",
    "\n",
    "        if p_wr > 0:\n",
    "            weight[w] = p_wr\n",
    "\n",
    "\n",
    "    weight = dict(sorted(weight.items(), key=lambda x:x[1], reverse=True)[:expanded_query_terms])\n",
    "    \n",
    "    norm = sum(weight.values())\n",
    "    weight = {w:weight[w]/norm for w in weight}\n",
    " \n",
    "    for w in weight.keys() | set(Q):\n",
    "        weight[w] = (alpha*weight.get(w,0)) + (1-alpha)*(Q.count(w)/len(Q))\n",
    "  \n",
    "\n",
    "    temp_list = sorted(weight.items(), key=lambda x:x[1], reverse=True)\n",
    "    sorted_weights = dict(temp_list)\n",
    "\n",
    "    return sorted_weights"
   ]
  },
  {
   "cell_type": "code",
   "execution_count": 10,
   "id": "37a65a4c",
   "metadata": {},
   "outputs": [],
   "source": [
    "def expanded_query_BM25(search, RM3_term_selection, k1, b, alpha, top_rel_doc, expanded_query_terms, mu, tpd, tnd):\n",
    "\n",
    "    analyzer = EnglishAnalyzer()\n",
    "    similarity = BM25Similarity(k1,b)\n",
    "    expanded_q = []\n",
    "\n",
    "    i = 0\n",
    "    for qid, q in tqdm(query_all.items(), colour='red', desc='Expanding Queries', leave=False):\n",
    "    # for qid, q in query_all.items():\n",
    "     \n",
    "        i += 1 \n",
    "        escaped_q = QueryParser('CONTENTS', analyzer).escape(q)      # a few titles had '/' in them which \n",
    "        query = QueryParser('CONTENTS', analyzer).parse(escaped_q)\n",
    "        \n",
    "        query_terms = [term.strip()[9:] for term in query.toString().split()]\n",
    "        parsed_q = ' '.join(query_terms)\n",
    "#         print(parsed_q)\n",
    "        expension_term_set, docids, ndocid = search(indexReader, query, similarity, top_rel_doc, qid, tpd, tnd)\n",
    "        # expension_term_set, docids, ndocid = search(indexReader, q, similarity, top_rel_doc, qid, tpd, tnd)\n",
    "        weights = RM3_term_selection(parsed_q, expension_term_set, docids, ndocid, indexReader, alpha, mu, expanded_query_terms)\n",
    "        print(qid, q, weights)\n",
    "        # print(weights.keys())    \n",
    "        booleanQuery = BooleanQuery.Builder()\n",
    "        for m, n in weights.items():\n",
    "            t = Term('CONTENTS', m)\n",
    "            tq = TermQuery(t)\n",
    "            boostedTermQuery = BoostQuery(tq, float(n))\n",
    "            BooleanQuery.setMaxClauseCount(4096)\n",
    "            booleanQuery.add(boostedTermQuery, BooleanClause.Occur.SHOULD)\n",
    "        booleanQuery = booleanQuery.build()\n",
    "       \n",
    "        expanded_q.append(booleanQuery)   \n",
    "\n",
    "    return expanded_q"
   ]
  },
  {
   "cell_type": "code",
   "execution_count": 11,
   "id": "108049ac",
   "metadata": {},
   "outputs": [],
   "source": [
    "def search_retrived(indexReader, Query, Qid, similarity, out_name):\n",
    "\n",
    "    searcher = IndexSearcher(indexReader)\n",
    "    searcher.setSimilarity(similarity)\n",
    "   \n",
    "    scoreDocs = searcher.search(Query, 1000).scoreDocs             #retrieving top 1000 relDoc\n",
    "    i = 1\n",
    "    res = ''\n",
    "\n",
    "    for scoreDoc in scoreDocs:\n",
    "        doc = searcher.doc(scoreDoc.doc)\n",
    "        r = str(Qid) + '\\t' + 'Q0' + '\\t' + str(doc.get('ID')) + '\\t' + str(i) + '\\t' + str(scoreDoc.score) + '\\t' + str(out_name) + '\\n'\n",
    "        res += r\n",
    "        i = i+1   \n",
    "\n",
    "    return res"
   ]
  },
  {
   "cell_type": "code",
   "execution_count": 12,
   "id": "7a67596e",
   "metadata": {},
   "outputs": [],
   "source": [
    "def run_RM3(top_PRD, expanded_query_terms, alpha, lamb, tpd, tnd):\n",
    "    expand_q = expanded_query_BM25(search, RM3_term_selection, k1, b, alpha, top_PRD, expanded_query_terms, lamb, tpd, tnd)\n",
    "                                       \n",
    "    name = 'prm_'\n",
    "    sim = BM25Similarity(k1,b)\n",
    "    name = name + 'BM25_' + str(k1) + '_'+ str(b)\n",
    "\n",
    "    file_name = f'./res_TRF/{q_name}/{tpd}_{tnd}_{q_name}_lamb_' + str(lamb) +'_docs_' + str(top_PRD) + '_terms_' + str(expanded_query_terms) + '_alpha_' + str(alpha) +'_tf-idf_' +'.txt'\n",
    "    out_file = open(file_name, \"w\")\n",
    "\n",
    "    res = ''\n",
    "    for i in tqdm(range(len(query_all)),colour='cyan', desc = 'Re-retrival', leave=False):\n",
    "    # for i in range(len(query_all)):\n",
    "    \n",
    "        result =  search_retrived(indexReader, expand_q[i], list(query_all.keys())[i], sim, name)\n",
    "        res = res + result\n",
    "\n",
    "    out_file.write(res)\n",
    "    out_file.close()\n",
    "    # print(\"Retrieval Completed - result dumped in\", file_name)"
   ]
  },
  {
   "cell_type": "code",
   "execution_count": 13,
   "id": "a113aefc",
   "metadata": {},
   "outputs": [
    {
     "name": "stderr",
     "output_type": "stream",
     "text": [
      "  0%|\u001b[31m          \u001b[0m| 0/1 [00:00<?, ?it/s]"
     ]
    },
    {
     "name": "stdout",
     "output_type": "stream",
     "text": [
      "301 International Organized Crime {'organ': 0.06666666666666665, 'crime': 0.06666666666666665, 'intern': 0.06666666666666665, 'mafia': 0.05592167492837333, 'loeschnak': 0.05152673429283222, 'gelbard': 0.02802754629129367, 'interior': 0.026438495964030823, 'smuggl': 0.025805113430879018, 'brecha': 0.024765815542493977, 'austrian': 0.023119721142472956, 'drug': 0.021697838541550527, 'polic': 0.0209575178674324, 'narcot': 0.020830752743172212, 'traffick': 0.02078139168496386, 'yugomafia': 0.020366448402743282, 'vaculik': 0.020023683875873895, 'tsekhanov': 0.019711595983909154, 'syndic': 0.019050842658628057, 'austria': 0.018622784221679324, 'gang': 0.017213723049621512, 'cri': 0.017027550110553583, 'vienna': 0.014798063348140808, 'stoppach': 0.013491622467629208, 'au1803173194': 0.01334912258391593, 'crack': 0.0132354245030438, 'china': 0.012411513135471385, 'dresden': 0.012082424195893952, 'klimov': 0.01200034122875568, 'slave': 0.01189890379157645, 'iturria': 0.01184117420590447, 'cocain': 0.011584922803379975, 'chines': 0.011559978363556864, 'hk0702090294': 0.0114330293242137, 'launder': 0.01131089869083506, 'netherland': 0.011203295855046404, 'impun': 0.010983906971193577, 'blackmail': 0.01093795260734503, 'cooper': 0.010853089346146146, 'kong': 0.01075285534249021, 'hong': 0.01064215638256676, 'trajanov': 0.010224838556952555, 'camorra': 0.00986789068304265, 'czech': 0.009856563137416587, 'increasingli': 0.009781201353965608, 'au1103112194': 0.00954264396372106, 'interpol': 0.009497733796074145, 'schill': 0.009337721898884552, 'ws0401133194': 0.009112747393390862, 'monei': 0.00902341313404065, 'py0705020494': 0.008984883346983018, 'br1706123394': 0.008930950249705123, 'increas': 0.008824325471146225, 'lithuanian': 0.00875518113506741}\n"
     ]
    },
    {
     "name": "stderr",
     "output_type": "stream",
     "text": []
    },
    {
     "name": "stdout",
     "output_type": "stream",
     "text": [
      "302 Poliomyelitis and Post-Polio {'polio': 0.1919012292308506, 'poliomyel': 0.08259906866062944, 'post': 0.06666666666666665, 'health': 0.047961845252543066, 'erad': 0.04598996593203477, 'children': 0.037168190043153054, 'diseas': 0.0327998870797346, 'case': 0.027381813003429636, 'china': 0.02538085973834981, 'hemispher': 0.022563335461255482, 'cholera': 0.0174818885420677, 'immun': 0.01530939694773336, 'azerbaijan': 0.015145607853991203, 'quadro': 0.013540963465829423, 'tep': 0.013300101495238907, 'paralysi': 0.012304315960395119, '94we0186a': 0.011866628038699818, 'year': 0.011460260360950617, 'campaign': 0.011332458495164788, 'typhoid': 0.011251939226714218, 'program': 0.011223139808629474, 'wirth': 0.010891426297154908, '2000': 0.010798965321646736, 'ciro': 0.010622690960607237, 'epidem': 0.010362796886932544, 'english': 0.010098083342279792, 'america': 0.010016633490763937, 'outbreak': 0.00992558639932881, 'title:epidemiolog': 0.009832586964625165, 'guo': 0.009741241340763169, 'mass': 0.00973354672888304, '266404': 0.009554706156157364, 'ministri': 0.009477852881962769, 'nov': 0.0094626421251136, 'jpr': 0.009382165118435053, 'delma': 0.00920087173783659, 'achiev': 0.009026274897290751, 'inocul': 0.008947616084665839, 'wipe': 0.008916057219917183, 'million': 0.008735239226630697, 'hk0212041093': 0.008717744983158755, 'malaria': 0.008711428635094689, 'western': 0.008638062839874387, 'bk2906080194': 0.008418052172006576, 'epidemiolog': 0.008383185819727029, 'hk2311040293': 0.008314036045064277, 'whoop': 0.008050594945039964, 'elimin': 0.008007250535124242, 'south': 0.007881074786154678, 'global': 0.007820692288352374, 'assist': 0.007701332505346218}\n"
     ]
    },
    {
     "name": "stderr",
     "output_type": "stream",
     "text": []
    },
    {
     "name": "stdout",
     "output_type": "stream",
     "text": [
      "303 Hubble Telescope Achievements {'hubbl': 0.06666666666666665, 'telescop': 0.06666666666666665, 'achiev': 0.06666666666666665, 'univers': 0.04452687006811385, 'quasar': 0.03401052522890246, 'astronom': 0.03168805021105586, 'eandnaafft': 0.03106193074677941, 'cosmologist': 0.02919451298601396, 'saturn': 0.027493204462404566, 'galaxi': 0.026806537530895347, 'helium': 0.02604269838555839, 'vlt': 0.02395164080898643, 'p9661': 0.022605851641444963, 'goldin': 0.02126867529991936, 'squirrel': 0.020169804479642377, '940114': 0.019129333913555514, 'cobe': 0.01849462289393073, 'light': 0.01849250872417313, 'bang': 0.018345330060266046, 'particl': 0.017900803263007817, 'ingersol': 0.01713532999892329, 'cosmolog': 0.0167028414025036, 'repair': 0.015976556408995552, 'distant': 0.01399217755757806, 'billi': 0.013937866461074786, 'earth': 0.013577896570986998, 'observ': 0.013570993354704209, 'burp': 0.013121121380120776, 'dark': 0.011751141695115638, '8.00': 0.011522356355463241, 'burbidg': 0.011474039359793966, 'lhc': 0.011302852482271041, 'planet': 0.010914247281164783, 'succeed': 0.010705452229868954, 'pictur': 0.01063488089006697, 'big': 0.010545648338886616, 'dcacuacqft': 0.010538848410894357, 'daniel': 0.010088831588960786, 'world': 0.010088107877454042, 'faint': 0.010020155705785985, 'silla': 0.010007305528970063, 'matter': 0.009981219740925033, 'peer': 0.009783891081094738, 'imag': 0.009672421027713922, 'cern': 0.009439506516644235, 'usz': 0.00936934953788242, 'blind': 0.009288073982799487, 'storm': 0.009161868644550911, 'ted': 0.009072849225780345, 'cloud': 0.008987202636356738, 'star': 0.008956435512181525, 'research': 0.0087798597718287, 'focu': 0.00871577073800818}\n"
     ]
    },
    {
     "name": "stderr",
     "output_type": "stream",
     "text": []
    },
    {
     "name": "stdout",
     "output_type": "stream",
     "text": [
      "304 Endangered Species (Mammals) {'blank': 0.16017443810014934, 'mammal': 0.06666666666666665, 'speci': 0.06666666666666665, 'endang': 0.06666666666666665, 'dolphin': 0.028998158957407733, 'ovi': 0.026912005867984135, 'otter': 0.023272225490184116, 'sanctuari': 0.02253463820584812, 'popul': 0.021696105519963576, 'whale': 0.021312408936364796, 'subspeci': 0.020166571563986713, 'gill': 0.01994084215939112, 'vignei': 0.019407652061826392, 'fish': 0.018792666826114635, 'vessel': 0.018512599222536827, 'certif': 0.015577054535348557, 'lujan': 0.015544568288137738, 'gerrodett': 0.014934403202681018, 'squirrel': 0.014817379845312426, '918': 0.014459619590741803, 'saiga': 0.013628696391465488, 'net': 0.013503547132747942, 'tuna': 0.01330507509868465, 'steller': 0.013126899967336762, 'petrovich': 0.011572144249830071, 'recoveri': 0.01136175106710204, 'florida': 0.01131597084160269, 'grai': 0.011105677111474276, 'fishermen': 0.011049281819374021, 'owner': 0.010694471133487976, 'humpback': 0.010308047440908545, 'holder': 0.010189557781799884, 'boat': 0.009880101621790725, 'experiment': 0.00942982566642109, 'california': 0.009346624621324814, 'wildlif': 0.009118885836038542, 'exempt': 0.008980509453433202, 'p476b': 0.008925254024324461, 'registr': 0.00887356754541693, 'servic': 0.008789457877076133, 'plan': 0.008721972670142008, 'prohibit': 0.008564445164329615, 'catch': 0.008489920076965463, 'robustu': 0.008422885475834046, 'intention': 0.008388309959948983, 'wolf': 0.008381752704143333, 'megaptera': 0.008339448906007785, 'novaeanglia': 0.008339448906007785, 'environmentalist': 0.008310159086924519, 'p572': 0.008270165197183788, '220391': 0.00819440079506273, 'extinct': 0.008042323459910263, 'biopsi': 0.007976082541920554}\n"
     ]
    },
    {
     "name": "stderr",
     "output_type": "stream",
     "text": []
    },
    {
     "name": "stdout",
     "output_type": "stream",
     "text": [
      "305 Most Dangerous Vehicles {'vehicl': 0.0792157992152892, 'danger': 0.06666666666666665, 'most': 0.06666666666666665, 'bronco': 0.05310459645954627, 'fatal': 0.04328088419096332, 'samurai': 0.04233750806965443, 'lardi': 0.03579271519162779, 'drive': 0.032199778057678284, 'ford': 0.0320829770768098, 'laguna': 0.030407075371162835, 'accid': 0.029726167883055377, 'johnsen': 0.029353064563663617, 'wheel': 0.026422373922200145, 'roll': 0.025742228920137278, 'car': 0.024416830669553403, 'canyon': 0.018724861400576644, 'risk': 0.015757693411561708, 'oncom': 0.015650906378396442, 'trip': 0.015376047897367765, 'plane': 0.014203853116504595, 'ii': 0.013476327096213473, 'stinson': 0.013475234380710797, 'bertsch': 0.013224493049985412, 'swerv': 0.013163509849523976, 'passeng': 0.012365583773213987, 'rover': 0.011487125315027788, 'road': 0.011434446786462013, 'driver': 0.010620145199517345, 'four': 0.01052476072210052, 'mile': 0.010377453834446802, 'cheroke': 0.009978323501450405, 'nhtsa': 0.009874511285680995, 'dy': 0.009694580541641133, 'over': 0.009632570762186732, 'evan': 0.009544833488861424, '100,000': 0.009307019447747734, 'hurd': 0.009185304705913395, 'said': 0.008740476355297157, 'collis': 0.008554685510814735, 'kill': 0.008495653160566037, 'suzuki': 0.008431143130099305, 'safe': 0.008208656982297757, 'investig': 0.007690253230697866, 'traffic': 0.007681614031002506, 'util': 0.007506417971568544, 'woman': 0.007431600976072647, '291042': 0.0073497947675365445, 'mpv': 0.0073469543961844595, 'errat': 0.007180193380349762, 'old': 0.007034803131867187, 'cult': 0.006926981828967008, 'analysi': 0.006925852276912291}\n"
     ]
    },
    {
     "name": "stderr",
     "output_type": "stream",
     "text": []
    },
    {
     "name": "stdout",
     "output_type": "stream",
     "text": [
      "306 African Civilian Deaths {'african': 0.08473040974749943, 'death': 0.08311762430465149, 'civilian': 0.06666666666666665, 'djibouti': 0.043924053468804396, 'legwaila': 0.033093386718645666, 'apla': 0.03272499656774078, 'lesotho': 0.03075170670723787, 'africa': 0.029131589105969205, 'mb2501112194': 0.02380983337468666, 'un': 0.023562635240102346, 'mandela': 0.02325062464091798, 'sizw': 0.018702840492294055, 'bean': 0.018003107232351694, 'monrovia': 0.016924785904414864, 'doolittl': 0.016916728870426303, 'ahm': 0.01613302533219099, 'botswana': 0.015898183133016573, 'resolut': 0.015861768990444457, 'januari': 0.015414336935637304, 'ciat': 0.015119026134149994, 'deathtol': 0.014488510790798242, 'war': 0.01417166463351209, 'mission': 0.014008070608188353, 'februari': 0.01374809917583356, 'rwanda': 0.0134727812159118, 'opposit': 0.013297674201192612, 'johnson': 0.013208813648556772, '177782': 0.012982276783590697, 'eepb4aa6ft': 0.01280686347971104, 'awsat': 0.012596780735186329, 'sharq': 0.012467802544321902, 'dini': 0.012189534640234404, '5,500': 0.012137128090794608, 'kouchner': 0.012130785604184803, 'mehu': 0.012027955154372605, 'drafr016_d_94017': 0.01190491668734333, 'california': 0.011757422248619304, 'prison': 0.011550923330287725, 'displac': 0.011422054814595397, 'congress': 0.011405708475595341, 'farmer': 0.011367805876782669, 'woewiyu': 0.011330503762265859, 'al': 0.011313157362186625, 'machet': 0.01121407256654641, 'truce': 0.011177218813199045, 'senat': 0.011149523277146432, 'johannesburg': 0.011097916537573789, 'incid': 0.010992188949853552, 'gikongoro': 0.010968764891796417, 'nelson': 0.010960414308434006, 'violenc': 0.01091533722353561}\n"
     ]
    },
    {
     "name": "stderr",
     "output_type": "stream",
     "text": []
    },
    {
     "name": "stdout",
     "output_type": "stream",
     "text": [
      "307 New Hydroelectric Projects {'hydroelectr': 0.1019763332029276, 'project': 0.06666666666666665, 'new': 0.06666666666666665, 'power': 0.044918215273431344, 'electr': 0.035174809537677064, 'station': 0.031419345619308, 'abb': 0.029516398925207202, 'egat': 0.02454878730884015, 'hydropow': 0.022623048099130606, 'svp': 0.022307797237879526, 'china': 0.021170235117896914, 'mw': 0.020778637104469765, 'karun': 0.019791069095647235, 'lao': 0.019556165196037124, 'fork': 0.017735181240724842, 'ertan': 0.0172755145393813, 'coal': 0.01727280198227051, 'mln': 0.01679143942619896, 'vinh': 0.016754840330835463, 'dansranjav': 0.0156121830042266, 'construct': 0.015363970095144414, 'bk2003151194': 0.015314402227178787, 'million': 0.014808762506664342, 'thailand': 0.014306883077294184, 'cup': 0.014152460961853661, 'scheme': 0.013849157420789897, 'mozambiqu': 0.013070559695905716, 'contract': 0.012500423020751182, 'guangxi': 0.012114089902907108, 'gundersen': 0.012040059811220565, 'prefectur': 0.011994596640436929, 'gener': 0.011950911818418442, 'diamond': 0.011682087172542566, 'bangkok': 0.01160624369770016, 'suppli': 0.01137931446591274, 'dollar': 0.011319963689393014, 'substat': 0.010945038622300628, 'hongshui': 0.010925059931586392, 'ow0801171994': 0.010757512974875967, 'kv': 0.010712466612191152, 'build': 0.010591810810285917, 'ow1703134094': 0.01047115813968117, 'plant': 0.01040904151428393, 'cedarburg': 0.010389525472367852, 'complet': 0.010039263176217509, 'thermoelectr': 0.009968158837232217, 'ut': 0.009923886437010967, 'montsam': 0.009885103075266952, 'py1005122494': 0.009822898358517788, 'consortium': 0.009793537269637413, 'rio': 0.009679256483946444, 'mend': 0.009676260505060976}\n"
     ]
    },
    {
     "name": "stderr",
     "output_type": "stream",
     "text": []
    },
    {
     "name": "stdout",
     "output_type": "stream",
     "text": [
      "308 Implant Dentistry {'implant': 0.1633565273021391, 'dentistri': 0.09999999999999998, 'materi': 0.03669765598941526, 'bone': 0.031619202457649265, 'prosthesi': 0.02921921985649394, 'dental': 0.028854926258725114, 'glenoid': 0.027300342998905738, 'condyl': 0.026255737081518068, 'mandibular': 0.02575884346846822, 'fossa': 0.025619989633563617, 'devic': 0.024028898093936376, 'dentist': 0.023543613083577823, 'patient': 0.023141973383037494, 'humphrei': 0.021051258129984846, 'artifici': 0.01946921809756368, 'replac': 0.019285390106962896, 'premarket': 0.016598304045835725, 'temperatur': 0.01608164959004456, 'plastic': 0.015906626071535142, 'hip': 0.015679326652554008, 'bonfield': 0.014346207060475354, 'metal': 0.012621378545113138, 'joint': 0.012075635739903326, 'tooth': 0.011765763500162521, 'branemark': 0.01162224534219988, 'gum': 0.011619160306336447, 'arteri': 0.011617726756494102, 'interpor': 0.011135148789855009, 'antibiot': 0.010867190462182857, 'professor': 0.010805247778468965, 'dieaaadeft': 0.010793261423621393, 'bodi': 0.010717950903601108, 'human': 0.010504014677893709, 'shape': 0.010235553985937389, 'westfield': 0.010139311277266383, 'panel': 0.009897781221535564, 'design': 0.009585629750791969, 'prof': 0.009334538754199132, 'porou': 0.009232913115938787, 'jaw': 0.009121847783233186, 'bullet': 0.00895080080428828, 'infect': 0.008845359061198597, 'ref': 0.008651871160170174, 'nuala': 0.008609598004076654, 'product': 0.008446243303029432, 'classifi': 0.008386880998877338, 'teflon': 0.008244177038824768, 'p308': 0.008140721936144887, 'class': 0.00811708765159091, 'phobia': 0.008104769548177763, 'vitek': 0.007995281016500098}\n"
     ]
    },
    {
     "name": "stderr",
     "output_type": "stream",
     "text": []
    },
    {
     "name": "stdout",
     "output_type": "stream",
     "text": [
      "309 Rap and Crime {'crime': 0.09999999999999998, 'rap': 0.09999999999999998, 'kravitz': 0.036484742851461645, 'lenni': 0.033705592042523894, 'pop': 0.03257979738304553, 'marlei': 0.028286729013368112, 'sinatra': 0.02775519378239998, 'elvi': 0.02581193223644069, 'sublimin': 0.023585755920295243, 'rechtien': 0.023374118480708344, 'bonnilla': 0.022614955466352494, 'sy': 0.021064770571681126, 'tackiest': 0.02077852299067288, 'pitchmen': 0.019601562420714355, 'frank': 0.01849405731864574, 'fan': 0.018433742919002634, 'pitchman': 0.01806941842248988, 'hype': 0.017884758559669516, 'ziggi': 0.017765129945034742, 'showbiz': 0.016638775871156215, 'promo': 0.01644407318823175, 'vanilli': 0.015787854674069148, 'motown': 0.015446489215315974, 'banner': 0.01478077946844318, 'stardom': 0.01414869147029824, 'milli': 0.014082053605220255, 'patton': 0.014036779259088281, 'grammi': 0.013895029408677853, 'kingpin': 0.013661639240846669, 'year': 0.013079793677921232, 'harper': 0.01191904375761252, '326133': 0.011687059240354172, 'lavish': 0.011615167732272898, 'chef': 0.011264475597343301, 'nixon': 0.011161255937127393, 'mistaken': 0.01108575954938866, 'hart': 0.010934775761192908, 'reign': 0.010842032068213284, 'falsi': 0.01082926159004397, 'deniec': 0.01082926159004397, 'father': 0.010781621035603995, 'bob': 0.010591734939976817, 'palmes': 0.010443347333236583, 'multiplatinum': 0.010278997353489455, 'abc': 0.010152193220124284, 'ei': 0.010097621027764257, 'son': 0.009916840053379256, 'i.q': 0.009630098480980589, 'songstress': 0.009630098480980589, 'sillier': 0.00936078111564965, 'star': 0.009336836764086785, 'listen': 0.00931899796735902}\n"
     ]
    },
    {
     "name": "stderr",
     "output_type": "stream",
     "text": []
    },
    {
     "name": "stdout",
     "output_type": "stream",
     "text": [
      "310 Radio Waves and Brain Cancer {'cancer': 0.08628727119768403, 'wave': 0.0637212013560261, 'radio': 0.06258368756385412, 'brain': 0.04999999999999999, 'electromagnet': 0.04914372952798351, 'cellular': 0.04420837825172533, 'antenna': 0.04126534628172661, 'phone': 0.03145407019003486, 'nrpb': 0.026215837699882262, 'field': 0.024783189898511693, 'leukaemia': 0.021630592115497813, 'childhood': 0.02044445174960414, 'efic8acwft': 0.018974950826700587, 'electr': 0.0185385660280314, 'power': 0.01814423001547252, 'link': 0.01711123815399499, 'hunt': 0.016248762979136255, 'zagor': 0.01591637790229897, 'tumour': 0.015858817414329568, 'radiat': 0.015683397419277597, 'dclbzac8ft': 0.015092520837754309, 'jr': 0.014783614656629357, '9789': 0.013274167483732176, 'telephon': 0.01289712658876461, 'cabl': 0.012751453654654311, 'curv': 0.012726909518957672, 'doll': 0.01257209641343399, 'karen': 0.012309624898537768, 'radiolog': 0.012232010034897753, 'health': 0.011859623992148002, '940609': 0.011736723380067735, 'mobil': 0.011500595204343194, 'ventur': 0.011403868463858512, 'reynard': 0.011061147334417723, 'studi': 0.01076508797660893, 'tech': 0.010510645548307865, 'exposur': 0.010315574823896112, 'line': 0.010286601895264832, 'p9431': 0.010015801295280072, 'resid': 0.009915652787007474, 'munsterman': 0.009820607708655381, 'hemwood': 0.009820607708655381, 'sir': 0.00974886025324706, 'surround': 0.00973522078221756, 'gadget': 0.009718217004856025, 'telesi': 0.009326761314466818, 'ionis': 0.00932514545750279, 'park': 0.009137785713684681, '930312': 0.00910117706019516, 'scare': 0.009077970157876782, 'electro': 0.0089627034783079}\n"
     ]
    },
    {
     "name": "stderr",
     "output_type": "stream",
     "text": []
    },
    {
     "name": "stdout",
     "output_type": "stream",
     "text": [
      "311 Industrial Espionage {'industri': 0.11688605757551672, 'espionag': 0.09999999999999998, 'vw': 0.09272389898409356, 'gm': 0.048331815507208796, 'opel': 0.039596523645747624, 'lopez': 0.03469270623719735, 'piech': 0.024810959544472908, 'volkswagen': 0.023402607173772974, 'europark': 0.022932653739148774, 'mr': 0.022928723859043938, 'samsung': 0.022664582302374742, 'bnd': 0.021213570412505586, 'ka': 0.021073434752520166, 'motor': 0.020281863584331955, 'car': 0.018660957035060637, 'mossad': 0.0174443328515311, 'compani': 0.016727103533967332, 'tamara': 0.015212684093992969, 'layton': 0.015028249152794021, 'investig': 0.014255771822147673, 'german': 0.013999674156267607, 'employe': 0.013926311004736054, 'arriortua': 0.012645544128918815, 'wolfsburg': 0.012551643925622384, 'ncp': 0.011750052254961339, 'kanther': 0.01171219175376477, 'ignacio': 0.01115892807050109, 'stodulka': 0.010813911847975366, 'htt': 0.010442041824261897, 'inform': 0.010028004324702803, 'park': 0.00964386188249536, 'data': 0.009605495328133089, 'stolen': 0.009524842762956252, 'rival': 0.009262381926947703, 'secret': 0.008992129037238747, 'khic': 0.008849689380893993, 'p3711': 0.008704978882395827, 'adam': 0.008626365352244465, 'theft': 0.008481028929265824, 'legal': 0.008350368600850106, 'rexrodt': 0.007869667533124475, 'schmidbauer': 0.007745777669483738, 'au2102110394': 0.0076330852349524485, 'dne': 0.00757301126162092, 'fronta': 0.0075336990582654546, 'grata': 0.007514722960325088, 'confidenti': 0.007446075751046608, 'ferdinand': 0.007410321190973303, 'mlada': 0.007408030293948743, 'carratu': 0.0070206472046134396, 'au1704204694': 0.006907020659083664}\n"
     ]
    },
    {
     "name": "stderr",
     "output_type": "stream",
     "text": []
    },
    {
     "name": "stdout",
     "output_type": "stream",
     "text": [
      "312 Hydroponics {'hydropon': 0.23255944282372693, 'marijuana': 0.06141544751775742, 'cocain': 0.032095422876993636, 'drug': 0.030078304559912436, 'arrest': 0.025610156830603872, 'plant': 0.025415471586555743, 'chicori': 0.024915331497102004, 'polic': 0.02360630584210257, 'indoor': 0.022400211961686848, 'bugbe': 0.020382545611598267, 'grower': 0.01957401420857661, 'seizur': 0.01874427826225309, 'skunk': 0.017171534110316976, 'yerger': 0.016447234276539945, 'cannabi': 0.016288810914996087, 'lo': 0.01581053477285568, 'glasshous': 0.015759671955881554, 'angel': 0.015713829268156343, 'nci': 0.015483985180285688, 'monrovia': 0.015202389327058884, 'brimmer': 0.01506310578290849, 'grow': 0.014985204841808287, 'farm': 0.014385828102946061, 'stowel': 0.014139763288707877, 'salisburi': 0.013788150539896949, 'san': 0.013215020901352296, 'confisc': 0.012735826680397931, 'gegax': 0.011715200411902098, 'sentenc': 0.011612458823878364, 'hemplemen': 0.011296498133038355, 'restrepo': 0.010935258392262013, 'narcot': 0.010909516637356474, 'investig': 0.01085397260042572, 'dima': 0.010852725122227043, 'cultiv': 0.010801384614041159, 'fortevil': 0.010519785359064188, 'oakcliff': 0.010475973108297416, 'gate': 0.010363025210790713, 'pound': 0.010138108764738887, '216741': 0.010043471398716522, 'chu': 0.009962223068693887, 'advertis': 0.009896391590802335, 'soil': 0.00987047249283461, 'elliott': 0.009659218948038478, 'steroid': 0.00963168232203138, 'magazin': 0.009606778297122344, 'said': 0.009559223806974222, 'duck': 0.00951326023570675, 'westminst': 0.009460596549809214, 'drew': 0.009334950588269563}\n"
     ]
    },
    {
     "name": "stderr",
     "output_type": "stream",
     "text": []
    },
    {
     "name": "stdout",
     "output_type": "stream",
     "text": [
      "313 Magnetic Levitation-Maglev {'maglev': 0.15043186697435104, 'magnet': 0.09294292939128147, 'levit': 0.06666666666666665, 'caltran': 0.029577051859486298, 'speed': 0.029084170225406915, 'train': 0.028455706531545024, 'project': 0.02755987565739684, 'cryocool': 0.025804279362578397, 'bechtel': 0.025529152334614794, 'transrapid': 0.024009641922684906, 'vega': 0.02327033499970511, 'palmdal': 0.02131824769318496, 'line': 0.020003103298363994, 'perini': 0.01841264805440274, 'buffa': 0.018171475322828638, 'counti': 0.01758013574205838, 'm.p.h': 0.016912064964415965, 'transport': 0.016755033769759994, 'railwai': 0.016631068886739955, 'propos': 0.015194531951047236, 'rail': 0.014311164018661018, 'california': 0.013208256788671794, 'la': 0.013071415391378112, 'freewai': 0.012610702175678815, 'consortium': 0.012080026157653192, 'angel': 0.012024608134938615, 'privat': 0.011738605338802615, 'lo': 0.011681866828486908, 'tgv': 0.011375982774356029, 'chiaverini': 0.01109964990256708, 'roth': 0.01101218317559456, 'guidewai': 0.010505196635950467, 'tesla': 0.010220703555482123, 'nevada': 0.010156834027065291, 'kapala': 0.01010513591560311, 'orang': 0.00979642723093818, 'german': 0.009555434824738083, 'germani': 0.009210490656356178, 'toll': 0.009203900587034986, 'airport': 0.009042278175751428, 'anaheim': 0.009033556207472204, 'car': 0.008988573905539072, 'technolog': 0.008969391875721431, 'approv': 0.008644820326763562, 'octd': 0.008552249720049273, 'rout': 0.008403853001080297, 'fare': 0.008351970782665653, 'miyazaki': 0.00832794941287572, 'marlow': 0.008315464960611094, 'hamburg': 0.008075960777389162, 'lax': 0.008015361125604812}\n"
     ]
    },
    {
     "name": "stderr",
     "output_type": "stream",
     "text": []
    },
    {
     "name": "stdout",
     "output_type": "stream",
     "text": [
      "314 Marine Vegetation {'marin': 0.14621488207634475, 'veget': 0.09999999999999998, 'qingdao': 0.05806819891123166, 'seawe': 0.053473242055610604, 'sea': 0.04374164788663229, 'lewallen': 0.03949928139176182, 'ow1504024494': 0.030727741908057778, 'ocean': 0.030136451402018084, 'fish': 0.02794099714647595, 'product': 0.019405431802655363, 'research': 0.018036899428296983, 'harvest': 0.017087580336234223, 'island': 0.015964728192456156, 'mendocino': 0.015591102113086841, 'drchi073_o_94006': 0.015363870954028889, 'scientist': 0.01534517460609578, 'xinhua': 0.015265726763209808, 'hawaiian': 0.014245151656610998, 'crayfish': 0.01403110075807635, 'biotechnolog': 0.013185246372632653, 'port': 0.013074119051663814, 'abalon': 0.013065188212025014, 'breed': 0.012731304008191958, 'farm': 0.012268494750770548, 'mauna': 0.012085819242135525, 'bio': 0.011471072743865827, 'salmon': 0.011114619240975732, 'biotechnologist': 0.010779631364179133, 'seafood': 0.01037565351627261, 'develop': 0.010290183336527283, 'compound': 0.01026535194232838, 'kamuela': 0.010231537141171624, '0202': 0.01004222506360105, '808': 0.009881026923913738, 'prawn': 0.009431621963655979, 'hoki': 0.00941106152926644, 'kona': 0.009399854956483943, 'aquacultur': 0.008646551040110806, 'rais': 0.008605589090082357, 'eleanor': 0.008465712939026466, 'martek': 0.008464498331635494, 'beij': 0.00821575196696531, 'our': 0.008022173285231296, '073': 0.007785265283440652, 'resourc': 0.007735353183208929, 'boat': 0.0076305583712690545, 'teshima': 0.007522623705641678, 'sovereignti': 0.0074942989758802914, 'formul': 0.007440675249699134, 'industri': 0.007398780167157082, 'cultiv': 0.00732894766210599}\n"
     ]
    },
    {
     "name": "stderr",
     "output_type": "stream",
     "text": []
    },
    {
     "name": "stdout",
     "output_type": "stream",
     "text": [
      "315 Unexplained Highway Accidents {'unexplain': 0.06666666666666665, 'highwai': 0.06666666666666665, 'accid': 0.06666666666666665, 'car': 0.03766390548593722, 'di': 0.029603578751702386, 'man': 0.02678645997287627, 'ekern': 0.02636954714189152, 'brief': 0.025762770966234028, 'patrol': 0.024776668109011246, 'gallo': 0.02382145467702332, 'freewai': 0.023328387036780245, 'digest': 0.020647672136848122, 'buckman': 0.020213358051926103, 'bu': 0.02009738926517975, 'metro': 0.019191836518728994, 'california': 0.019039971542906865, 'carranza': 0.018491624851488576, 'palmdal': 0.017758180390726425, 'kill': 0.017383214618097637, 'drift': 0.01709669979189002, 'diego': 0.017002351402960632, 'san': 0.016596841207849822, 'overturn': 0.016037752623097666, 'southbound': 0.015958175663178583, 'elvira': 0.015861383255181754, 'crash': 0.014901671072969481, 'column': 0.014809584780685928, 'swerv': 0.014757273141443043, 'newhal': 0.013971393475782074, 'struck': 0.013865819160601518, 'old': 0.013844136870816212, 'eject': 0.013486804937412004, 'deavila': 0.013019211646173603, 'injur': 0.012583339585262044, 'road': 0.012379035268270423, '221672': 0.012156751482259164, 'hospit': 0.01211432024518589, 'veer': 0.011800238941145805, 'off': 0.011493054241464934, 'p.m': 0.011303843026494101, 'truck': 0.011148260687484084, 'scene': 0.011038748769344603, 'northbound': 0.010716551643730487, 'bloomfield': 0.010660674239648664, 'pulga': 0.010564899495634142, 'keifer': 0.010220852279934653, 'sylvia': 0.010108981829182464, '170th': 0.010007466029940314, 'investig': 0.00999655334313908, 'releas': 0.009932566227698583, 'fallbrook': 0.009879030697529455, 'nevada': 0.009878840056318505, 'gragnani': 0.009870873362931638}\n"
     ]
    },
    {
     "name": "stderr",
     "output_type": "stream",
     "text": []
    },
    {
     "name": "stdout",
     "output_type": "stream",
     "text": [
      "316 Polygamy Polyandry Polygyny {'polygami': 0.1019081065038733, 'polyandri': 0.06666666666666665, 'polygyni': 0.06666666666666665, 'arqam': 0.03773412965093517, 'swapp': 0.034731657693757766, 'lebaron': 0.031088753942774158, 'tunisia': 0.026150213949319535, 'utah': 0.025556088838351622, 'diderot': 0.025396635585492672, 'uganda': 0.023469499553613396, 'tebbit': 0.022992040643323924, 'khmer': 0.021676516836158774, 'indonesia': 0.021283670061526747, 'islam': 0.02102035147137822, 'mahathir': 0.02032588386430853, 'addam': 0.02016112193605331, 'tunisian': 0.018395075962347417, 'polygamist': 0.018024679109849208, 'aid': 0.0180117240905218, 'clan': 0.016187990518905227, 'roug': 0.01593503249930528, 'malaysia': 0.015156355401262273, 'disincorpor': 0.01500414682685401, 'al': 0.014904835398586261, 'parti': 0.014270524136132383, 'birth': 0.01342827169230499, 'town': 0.012766841475154882, 'popul': 0.01275921128256073, 'umno': 0.012331467009171615, 'dkwcoacdft': 0.012320847466973147, 'furbank': 0.011451055009677321, 'control': 0.011176236652150326, 'ashaari': 0.011168502677422493, 'govern': 0.011119820323559215, 'sentenc': 0.01110071395731085, 'boswel': 0.010934628395156177, 'bigamist': 0.010836426503980508, '120232': 0.010737226230715996, 'superglu': 0.010732442920124118, 'dr': 0.010501623298729603, 'thai': 0.010397954410233919, 'joseph': 0.01038191596203944, 'bourguiba': 0.010328866500016522, 'prison': 0.010183437519808413, 'ut': 0.009347867811534674, '9.35': 0.009334460421481108, 'muslim': 0.009326157863498516, 'infect': 0.009112834788731284, 'maguir': 0.009052577032979053, 'opposit': 0.008931714868716864, 'rahim': 0.008790111696121494, 'malai': 0.008728418421882449}\n"
     ]
    },
    {
     "name": "stderr",
     "output_type": "stream",
     "text": []
    },
    {
     "name": "stdout",
     "output_type": "stream",
     "text": [
      "317 Unsolicited Faxes {'unsolicit': 0.14986555154741626, 'fax': 0.09999999999999998, 'junk': 0.044024515242115335, 'cmr': 0.04005004230124245, 'sb': 0.030359359873192222, 'bill': 0.030259473054911563, 'advertis': 0.029555229059546523, 'ab': 0.027641428043299, 'forbear': 0.026990919750727163, 'legisl': 0.02376138524374767, 'd': 0.02272762668472556, 'sen': 0.02199877529271546, 'telemarket': 0.02092217198973613, \"o'neil\": 0.018841079057367496, 'committe': 0.018655645972186115, 'assemblywoman': 0.017384886377034864, 'osp': 0.017071066016078346, 'markei': 0.017070615687859832, 'speier': 0.014856789407367297, 'would': 0.014375682132391501, 'vote': 0.014179023923620164, 'glynn': 0.013226118278191408, 'assemblyman': 0.012807373868657691, 'carrier': 0.012637659608893846, 'tddra': 0.012220473993734618, 'lobbi': 0.011424804827777765, 'torr': 0.0110274416485365, 'veto': 0.010900113988470912, 'subcommitte': 0.010734852215993382, 'governor': 0.010362029761121707, 'gillam': 0.010162971973710867, 'dial': 0.00994946479910384, 'commiss': 0.009773530358550279, 'prohibit': 0.009764988761794388, 'francisco': 0.00975531883596921, 'ban': 0.009595100120624742, 'tr': 0.009356774199997865, 'san': 0.009262687595492525, '61424': 0.009231472692944909, 'senat': 0.009198271117317629, 'viciou': 0.009149122825316464, '58053': 0.009098441806811283, 'sacramento': 0.009064540521331113, 'lo': 0.009040118524778954, 'assembl': 0.009030772908729213, 'dog': 0.008946160572277668, 'kopp': 0.008863781954565162, 'burgen': 0.008784927615310285, 'oblig': 0.008720380664668454, 'tcpa': 0.008707712899916911, 'approv': 0.008611324402129392}\n"
     ]
    },
    {
     "name": "stderr",
     "output_type": "stream",
     "text": []
    },
    {
     "name": "stdout",
     "output_type": "stream",
     "text": [
      "318 Best Retirement Country {'countri': 0.06666666666666665, 'best': 0.06666666666666665, 'retir': 0.06666666666666665, 'beechcroft': 0.0434323838478038, 'live': 0.03650014006393076, 'estonian': 0.02969362453415324, 'popul': 0.027706124420184865, 'estonia': 0.027196221971805847, 'cypru': 0.02596163545958053, 'russian': 0.025242584051920387, 'lago': 0.023887472795986586, '310663': 0.023470949996382558, 'spain': 0.022607353409818516, 'citi': 0.01911605750128388, 'pegasu': 0.01879209159077227, 'ilnitskii': 0.0170798267518822, 'courtyard': 0.01617471342952526, 'zhirinovskii': 0.016098730937592638, 'properti': 0.015251147386482745, 'cypriot': 0.015063866056592393, 'guidebook': 0.014766424482279545, 'costa': 0.01458357633811961, 'vacat': 0.0144269818883224, 'island': 0.014174309218452983, 'tacoma': 0.013958811104988656, 'rozhok': 0.013799176101525354, 'cern': 0.01372252984639428, 'cruijsen': 0.013503991996837605, 'hous': 0.013060778492302708, 'bracklei': 0.012832853232645568, 'home': 0.012570797315818644, 'overload': 0.012525924685460436, 'p.m': 0.012034537393541947, 'melbourn': 0.011869605256109014, 'parker': 0.011844402804538511, 'foreign': 0.011826971669643027, 'half': 0.011702045315055839, '139': 0.011623226805182072, 'rica': 0.011563459955094064, 'american': 0.011560265099355318, 'sharon': 0.011532400135383092, 'uruguai': 0.01141186294520176, 'javea': 0.011107077971143929, '5.8': 0.01093771542040002, 'nigeria': 0.01074238344995615, 'brief': 0.010660454234835927, 'resid': 0.01062314099768188, 'room': 0.01045746168044438, 'expatri': 0.01037910123173395, 'cottag': 0.010368605634910618, 'flat': 0.010311420437759108, 'granni': 0.010123025300358558, 'coleman': 0.010119757352824554}\n"
     ]
    },
    {
     "name": "stderr",
     "output_type": "stream",
     "text": []
    },
    {
     "name": "stdout",
     "output_type": "stream",
     "text": [
      "319 New Fuel Sources {'new': 0.06666666666666665, 'sourc': 0.06666666666666665, 'fuel': 0.06666666666666665, 'plutonium': 0.0526101876873106, 'energi': 0.052589566115164126, 'power': 0.0371074556834226, 'cell': 0.03589393072088524, 'silic': 0.02609968975591145, 'electr': 0.02588642561826386, 'nuclear': 0.025279389825942012, 'japan': 0.022774666589388145, 'sup': 0.022372120324486405, 'renew': 0.021251575365647934, 'plant': 0.02046122739388316, 'technolog': 0.019220645927452328, 'nffo': 0.018417275797391452, 'tokyo': 0.018340077163761133, 'orimuls': 0.017732019505089607, 'hydrogen': 0.01614483386082178, 'rokkasho': 0.015364132747648838, 'pdvsa': 0.01533212195257129, 'reactor': 0.0151469229443739, 'kw': 0.014904604818166717, 'develop': 0.014155641141177898, 'kyodo': 0.013357060739194754, 'ow0602085694': 0.013139143718829939, 'epd': 0.012900380917173493, 'reaction': 0.012866045990828768, 'butan': 0.01282600457044399, 'eggar': 0.012763211942800097, 'uranium': 0.012669023706828235, 'gasif': 0.012105482030385344, 'spent': 0.01101920932067467, 'oxid': 0.011011518282855343, '2010': 0.010979821072768915, 'solar': 0.010919388421152493, 'electrolyt': 0.010158752944942374, 'co': 0.00984349689026962, 'commiss': 0.009649360497375897, '2030': 0.009161623623280336, 'ton': 0.008864519945651126, 'ltd': 0.008782247095582488, 'recycl': 0.008644910515929242, 'ow1702062494': 0.00845625393862914, 'chain': 0.008406515743451096, 'reprocess': 0.008327296575609015, 'breeder': 0.008214652662592182, 'coal': 0.008101943695311017, 'r': 0.008082779949865644, 'fission': 0.008054491309591861, 'pafc': 0.008050027028339487, 'na': 0.007790672803391779, '3sio': 0.0077696531274912195}\n"
     ]
    },
    {
     "name": "stderr",
     "output_type": "stream",
     "text": []
    },
    {
     "name": "stdout",
     "output_type": "stream",
     "text": [
      "320 Undersea Fiber Optic Cable {'cabl': 0.07276934683558936, 'flag': 0.05559731041385366, 'fiber': 0.04999999999999999, 'undersea': 0.04999999999999999, 'optic': 0.04999999999999999, 'nynex': 0.04713336583215688, 'submarin': 0.04092515969512192, 'yackanich': 0.02951418318361231, 'alcatel': 0.028723585764905253, 'kdd': 0.025571023329802645, 'telecom': 0.024732957344256686, 'fibr': 0.022593323184059915, 'etpi': 0.021755037495629445, 'dallah': 0.02146296214933381, 'fibreopt': 0.02020638822350241, 'stc': 0.019839602864682913, 'baraka': 0.019654492352016703, 'supplier': 0.018508534071939222, 'globe': 0.01814196340921292, 'link': 0.017452450604101492, 'marubeni': 0.015491988801738465, '1.2bn': 0.014186458010144357, 'bege': 0.013920436365912413, 'japan': 0.013794029268388037, 'saudi': 0.012899742081496197, 'consortium': 0.011732950836297568, '120,000': 0.011628241965822468, '600m': 0.011552461889882563, 'telecommun': 0.011369626745684622, 'system': 0.010953871979737479, 'philippin': 0.01090477295580398, 'thailand': 0.010895312853667764, 'pokphand': 0.010890671432608875, 'bk2104074894': 0.010877518747814723, 'charoen': 0.010852465439996984, 'arabia': 0.010760243947156993, 'alsthom': 0.010616811478078931, 't': 0.01053346719404316, 'igf': 0.010524230133824048, 'ebydjafeft': 0.009718020728377996, 'jeddah': 0.00916555832889513, '17,000': 0.009087593783164923, 'capac': 0.008857854258047764, 'east': 0.008787725137197566, 'merger': 0.008602324036839906, 'around': 0.008557541450548274, '941217': 0.008540697390522649, 'bell': 0.008533287966411817, 'dollar': 0.008427363919454185, 'carrier': 0.008405612867726684, 'elqaraadft': 0.008162380057682881, 'investor': 0.008115833861306817, 'mediterranean': 0.008071217331946134}\n"
     ]
    },
    {
     "name": "stderr",
     "output_type": "stream",
     "text": []
    },
    {
     "name": "stdout",
     "output_type": "stream",
     "text": [
      "321 Women in Parliaments {'women': 0.15049470355758485, 'parliament': 0.09999999999999998, 'elect': 0.048373864429241784, 'candid': 0.04119887251881236, 'mp': 0.037231943241246436, 'ginwala': 0.03384424025644626, 'femal': 0.02938055482757524, 'parti': 0.02149733931586492, 'polit': 0.020082863679006337, 'muhua': 0.019607048792102656, 'doi': 0.019188546690842752, 'labour': 0.018188451688830175, 'shadow': 0.01799771654398635, 'constitu': 0.017108466558620708, 'her': 0.016301185180362415, 'elector': 0.016166611420565153, 'dgacvabjft': 0.015335056085959154, 'cc1apaawft': 0.014903867370360492, 'quota': 0.014451124462252019, 'i': 0.013695988928622877, 'muscl': 0.013607948258042492, 'mashokw': 0.013446835716361594, 'lakhova': 0.013025201143572602, 'indonesian': 0.012997420358560144, 'vote': 0.012722850612133206, 'chen': 0.012558232361507205, 'she': 0.012481593533682047, 'represent': 0.012455010380612513, 'speaker': 0.012019926272874772, 'wahono': 0.01200088092298764, 'liber': 0.011814234299131695, 'jordan': 0.011730214366887598, 'sex': 0.011535872173480056, 'cdu': 0.01149628483721474, 'cf3ataezft': 0.011323993783523511, 'cabinet': 0.01057294770483649, 'faisal': 0.0103689408569758, 'japan': 0.01009366261243385, '920630': 0.010039718573537597, 'burk': 0.009824131005032044, 'politkovskaya': 0.009471039493439592, '930701': 0.009384568008435505, '920328': 0.009364971855729922, 'p8651': 0.009323919761214394, 'russia': 0.009189619355993278, 'shortlist': 0.008939203846101675, 'flex': 0.00886522888616025, 'you': 0.008657103213035413, 'voter': 0.008653485542380625, 'number': 0.008557695735977847, 'where': 0.008428818979861086}\n"
     ]
    },
    {
     "name": "stderr",
     "output_type": "stream",
     "text": []
    },
    {
     "name": "stdout",
     "output_type": "stream",
     "text": [
      "322 International Art Crime {'lerner': 0.08494702422102159, 'art': 0.06666666666666665, 'crime': 0.06666666666666665, 'intern': 0.06666666666666665, 'meador': 0.053832881711733, 'marco': 0.04232851729373813, 'whitewright': 0.039891700027699276, 'marigni': 0.03410317873523144, 'kort': 0.028471886671750907, 'sonnier': 0.02841931561269287, 'philippin': 0.027402555586046463, 'manuscript': 0.02731921993579048, 'imelda': 0.02542802771064026, 'marcos': 0.01934718708282926, 'ladi': 0.015115828710954266, 'spenc': 0.014175026802538446, 'he': 0.01358649115524615, 'testimoni': 0.01346724222795878, 'akemoto': 0.013372790539767518, 'orchid': 0.012357877120291204, 'finder': 0.012303481625209266, 'quedlinburg': 0.012127055001232706, 'treasur': 0.011927849897431689, 'her': 0.011862765203383115, 'hi': 0.011153518838149579, 'tantoco': 0.010789763924089136, 'khashoggi': 0.010700254107985287, 'estat': 0.010439206100840663, 'fraud': 0.010185414003708808, 'hardwar': 0.010012230428441793, 'stan': 0.009963389964225945, 'lawyer': 0.009847154254742682, 'investig': 0.009630691875365952, 'evid': 0.009612332148561161, 'charg': 0.009435032468102645, 'phoni': 0.009385844947276019, 'joe': 0.00907837451374987, 'de': 0.008995700234040355, 'texa': 0.00882733980008386, 'thief': 0.008807502815816584, 'town': 0.008784074738366503, 'gimenez': 0.008606808109177392, 'store': 0.008324918346515024, 'she': 0.00823709857154227, 'trial': 0.008186334969788621, 'million': 0.007992231777615447, 'ferdinand': 0.007579542019935916, 'prosecutor': 0.007482978526490798, 'germani': 0.007339823170041887, 'cocain': 0.007313081158591125, 'bank': 0.007257359093060319, 'shaft': 0.007158155655696451, 'juror': 0.007085940564810997}\n"
     ]
    },
    {
     "name": "stderr",
     "output_type": "stream",
     "text": []
    },
    {
     "name": "stdout",
     "output_type": "stream",
     "text": [
      "323 Literary/Journalistic Plagiarism {'plagiar': 0.15659031332782689, 'literari': 0.06666666666666665, 'journalist': 0.06666666666666665, 'king': 0.04194443479918006, 'attali': 0.040863946846789234, 'biden': 0.028451000571374487, 'coleridg': 0.026807282887366064, 'libel': 0.025537171750896804, 'locklin': 0.02526738338787668, 'sue': 0.023843612878343606, 'kandel': 0.01839204309280689, 'detcaaaaft': 0.018073428862824644, 'p2732': 0.01795201271937915, 'colleg': 0.01763490935608942, 'book': 0.016927797234277314, 'buchwald': 0.01668324694177507, 'jackson': 0.014357861777895543, 'abatemarco': 0.014332581057786424, 'armour': 0.014079691967000992, 'kcal': 0.013781099950377854, 'mitterrand': 0.013572545721080992, '930520': 0.013556537086998208, 'mallon': 0.013474155947119905, 'inaccuraci': 0.013375525276541065, 'rideau': 0.01334507176731025, 'corcoran': 0.013105319909865173, 'nash': 0.012511552593094064, 'drake': 0.011881202296644074, 'alleg': 0.011675997112233957, 'misconduct': 0.011262498828213292, 'vers': 0.01114962051229515, 'cage': 0.011044950366417908, 'lawsuit': 0.011037356467780672, 'accus': 0.0109230775921912, 'columnist': 0.01090917261987691, 'dissert': 0.010606556666668149, 'booklet': 0.01043173211563571, 'angolit': 0.01010642610892199, 'wiesel': 0.009568597485782274, 'holm': 0.00943991985797278, 'academ': 0.009297131708979143, 'gerald': 0.00928162233328807, 'jacqu': 0.00868313216632343, '307944': 0.008514852379432614, 'tillich': 0.008501592229779911, 'court': 0.008475599526124672, 'holidai': 0.008431998357705328, '131953': 0.008307487588552763, 'honor': 0.00823350710659382, 'research': 0.008181820236311836, 'reconstruct': 0.008148148453006246, 'homag': 0.008112138838058044}\n"
     ]
    },
    {
     "name": "stderr",
     "output_type": "stream",
     "text": []
    },
    {
     "name": "stdout",
     "output_type": "stream",
     "text": [
      "324 Argentine/British Relations {'british': 0.09338144208112023, 'malvina': 0.06983228513501609, 'argentin': 0.06666666666666665, 'relat': 0.06666666666666665, 'island': 0.047383673900626914, 'clarin': 0.044217936171482494, 'falkland': 0.039522787885862234, 'argentina': 0.036729007829608945, 'anzorregui': 0.03156689731116271, 'oil': 0.023467421904424947, 'hurd': 0.02233461781929061, 'bueno': 0.0208425714508265, 'war': 0.02018582913108841, 'britain': 0.018878065899956893, 'petrella': 0.01796593017659431, 'intellig': 0.016672964953586732, 'tella': 0.016366248185374806, 'u.k': 0.015256630418302866, 'thatcher': 0.013861192181071184, 'communiqu': 0.013506713087303333, 'militari': 0.01304415639342203, 'py0803230594': 0.012836084580730779, 'uk': 0.01257454212725711, 'chile': 0.012083127107324641, 'air': 0.01158560721523382, 'py2506003894': 0.011483117876218234, 'diplomat': 0.01142840875559358, 'matzkin': 0.01082413959489012, 'sovereignti': 0.0107725911451672, 'navi': 0.010623634980167036, 'di': 0.010522973915903878, 'zone': 0.01024473026021138, 'conflict': 0.00988969649620005, 'py0503214494': 0.00931083304716905, 'kelper': 0.009249055009848356, 'seismic': 0.009210839411794219, 'explor': 0.00918585229647635, 'albonico': 0.008917059053159598, 'ypf': 0.008869077904333491, 'soldier': 0.008807475335722561, 'bloc': 0.008722965125638082, 'acenolaza': 0.008642311524165695, 'embargo': 0.008466445055022474, 'london': 0.008271722513215672, 'pm2601124094': 0.008264300302623586, 'longdon': 0.00784710162595669, 'lawmak': 0.007604466941419601, 'py1103222694': 0.007547089069907322, 'visit': 0.007163748962612789, 'issu': 0.007096567683608151, 'rimmington': 0.006880754911348198, 'deputi': 0.006723974921624423}\n"
     ]
    },
    {
     "name": "stderr",
     "output_type": "stream",
     "text": []
    },
    {
     "name": "stdout",
     "output_type": "stream",
     "text": [
      "325 Cult Lifestyles {'cult': 0.09999999999999998, 'lifestyl': 0.09999999999999998, 'brown': 0.04170847671943064, 'geerl': 0.034291576960195594, 'ginger': 0.0330915655491339, 'deprogram': 0.033013916069092375, 'her': 0.028690155019849707, 'brotherhood': 0.028034626844989065, 'constanzo': 0.02776369807600504, 'altschul': 0.0276602085441014, 'moon': 0.02709660737390488, 'kidnap': 0.02456969529137571, 'she': 0.019770494241766537, 'p8661': 0.019061639874800414, '931115': 0.018824382373488897, 'jouret': 0.018809989360384374, 'parent': 0.017176377706303803, 'deprogramm': 0.016694308576548356, 'member': 0.016541175101811516, 'great': 0.0164081768608071, 'tsvygun': 0.015340154334359264, 'abduct': 0.014941524195637993, 'dkpcnaguft': 0.014830980638589966, 'aldret': 0.014604977223201351, 'dkocbaaoft': 0.01449915133570206, 'polic': 0.01438551223486876, 'ukrain': 0.013380411984019337, 'prosecut': 0.013161526560048318, 'earl': 0.013069485176685353, 'religi': 0.012258900042131149, 'daughter': 0.01223036522926335, 'wit': 0.012173172298577097, 'rempel': 0.011141265269020331, 'maria': 0.010811034869835763, 'attornei': 0.010565541240206614, 'suicid': 0.010287968324606458, 'kilroi': 0.009834993919954476, 'juror': 0.009766951053587046, 'white': 0.009686955738522112, 'erler': 0.00938039876554802, 'defens': 0.00933303543189689, 'morri': 0.009003217388123463, 'uaz': 0.008959652341509212, 'kiev': 0.008790788326667876, 'imprison': 0.008752992002271778, 'cathedr': 0.008741090269702722, 'charg': 0.008722885793844632, 'children': 0.008608605032640002, 'case': 0.008586200434402497, 'diego': 0.008424296739254438, 'bibl': 0.008329681843484883, 'ascend': 0.008189213417847617}\n"
     ]
    },
    {
     "name": "stderr",
     "output_type": "stream",
     "text": []
    },
    {
     "name": "stdout",
     "output_type": "stream",
     "text": [
      "326 Ferry Sinkings {'ferri': 0.18227388433966868, 'sink': 0.09999999999999998, 'estonia': 0.05023360338851273, 'safeti': 0.04245009764732173, 'imo': 0.038149503663900304, 'bow': 0.03688783563825059, 'p4482': 0.03180356771770517, 'maritim': 0.029011577163664135, 'ro': 0.023702615143233685, '900': 0.020909639637984825, 'door': 0.019744848787116395, 'roll': 0.01898029275077214, 'tighter': 0.017860096089738032, 'deck': 0.016031481908657715, 'batchelor': 0.014995034521035584, 'port': 0.014905774215954713, 'sweden': 0.014065500594629316, 'ejrcwaguft': 0.013454533675938194, 'bangladesh': 0.01315479037533304, 'finland': 0.012833686875965287, 'standard': 0.012420043300505812, 'bulkhead': 0.012247945403533864, 'baltic': 0.011332820372687817, 'water': 0.011055350864604189, 'live': 0.010805476578571099, 'ejteuacift': 0.01072409810600345, 'panel': 0.010516145122112498, 'procedur': 0.010303648954589987, 'stenmark': 0.010062439134870026, 'au': 0.009851419516027974, 'bdz': 0.009702653677841495, 'titan': 0.009536631682618361, 'capsiz': 0.00953413933805851, 'haiti': 0.009528497798645844, 'disast': 0.009433532813728645, 'swedish': 0.009373642235460581, 'european': 0.009341458591968752, 'organis': 0.009225674894077801, 'loss': 0.008954715525842967, 'charl': 0.008853913171243366, 'princ': 0.008485962753834956, 'herald': 0.008347228454052415, 'inspect': 0.007977422864757763, \"o'neil\": 0.007835185912531593, 'vehicl': 0.007827902491721626, '941112': 0.007734706467261785, 'intern': 0.007585765764682093, 'elfdiaa8ft': 0.007585531593301708, 'bengal': 0.00757510288384626, 'improv': 0.007446243328015226, 'shipown': 0.007346336267619161}\n"
     ]
    },
    {
     "name": "stderr",
     "output_type": "stream",
     "text": []
    },
    {
     "name": "stdout",
     "output_type": "stream",
     "text": [
      "327 Modern Slavery {'slaveri': 0.145516323878313, 'modern': 0.09999999999999998, 'dfhcqaabft': 0.03549712885254347, 'iv': 0.034297612801510106, 'labor': 0.033128172324652226, 'somi': 0.030811710765902556, 'ilo': 0.028449582263214476, 'guarani': 0.026054195774769792, 'ashaninka': 0.02560749116309104, 'worker': 0.02213228999612408, '930608': 0.02148692472105751, 'gillam': 0.02093713480487919, 'edwin': 0.02008490098846987, 'satyarthi': 0.017756795637259532, 'wage': 0.017049333603379895, 'bondag': 0.016381750777399902, 'children': 0.016018467170782393, 'labour': 0.015872919171462715, 'cnz': 0.015834299984221846, 'p9211': 0.015460619041279084, 'talcott': 0.015440833088382691, 'suit': 0.01402230514860674, 'ranch': 0.013279608068783883, 'mexican': 0.013059493006164337, 'violat': 0.012663114647572159, 'court': 0.012624155318769717, 'flower': 0.012217111698623056, 'daughter': 0.01196705603292916, '08': 0.011677194421643732, 'indict': 0.011624918656768166, 'brief': 0.011597302914834835, 'wife': 0.011193832513579114, 'rancher': 0.011103413574192686, 'sentenc': 0.010976885210228354, 'ventura': 0.010872231189056898, 'carpet': 0.010867804305816945, 'sold': 0.010824864304105238, 'alleg': 0.010650788574400908, 'asia': 0.010566756368377866, 'feder': 0.01049274308168123, 'captiv': 0.010129824422983548, 'm': 0.010067425104232893, 'sell': 0.009968606985808494, 'villag': 0.009512514921457466, 'mexico': 0.009491727079302655, 'sudan': 0.009480050481766776, 'py0903145794': 0.009310871662638264, 'lawsuit': 0.009299420884548723, 'testimoni': 0.009128075413630664, 'loom': 0.008951110584284957, 'striegel': 0.00856030661451524}\n"
     ]
    },
    {
     "name": "stderr",
     "output_type": "stream",
     "text": []
    },
    {
     "name": "stdout",
     "output_type": "stream",
     "text": [
      "328 Pope Beatifications {'beatif': 0.12080080406998081, 'pope': 0.09999999999999998, 'hawaii': 0.03830588371753889, 'beatifi': 0.035180039100614555, 'mackillop': 0.030066143456850797, 'zambia': 0.028302169750108064, 'auschwitz': 0.023751286752896957, 'serra': 0.022729403209666904, 'veuster': 0.02225613875075341, 'eejc9adxft': 0.02225613875075341, 'saint': 0.019371655756135864, 'siguenza': 0.018870694175337512, 'governor': 0.017766222772477618, 'her': 0.01750566010073674, 'church': 0.017222499859149153, 'rasoamanarivo': 0.017094855389706353, 'borsch': 0.01670461392809964, 'leper': 0.0162840190205694, 'molokai': 0.015635681438774557, 'beastli': 0.015509786321938787, '1873': 0.015411265491174768, 'broken': 0.015300503163669191, 'she': 0.01527947421883031, 'island': 0.015248391457508784, 'cathol': 0.015235987603471585, 'madagascar': 0.014959540108449377, 'ceremoni': 0.01492227702509775, 'damien': 0.01478693393305024, 'sainthood': 0.014706858377347271, 'kaunda': 0.01447005821159677, 'rega': 0.013731976950990652, '940510': 0.013557975363647098, 'mission': 0.013099517520607958, 'penola': 0.012885490052936056, 'episcop': 0.012135336866997836, 'hack': 0.01194214873691174, 'missionari': 0.011761134726055847, 'pontiff': 0.011390310816266354, 'lusaka': 0.01114955906302275, 'diocesan': 0.011060505941741842, 'victoir': 0.010987394912194831, 'savior': 0.01060338993812885, 'marriag': 0.010464120911943126, 'domain': 0.010389850218072864, 'cri': 0.010263720609787858, 'hip': 0.009937564725037876, 'mari': 0.009842547052856523, 'montoya': 0.00982012965598054, 'bless': 0.009815849847934738, 'clash': 0.009620330652799937, 'priest': 0.009606159523799453}\n"
     ]
    },
    {
     "name": "stderr",
     "output_type": "stream",
     "text": []
    },
    {
     "name": "stdout",
     "output_type": "stream",
     "text": [
      "329 Mexican Air Pollution {'pollut': 0.09363848508598753, 'air': 0.08463643406347877, 'pemex': 0.08158759605288353, 'mexican': 0.07683397831595351, 'mexico': 0.06856291778051515, 'salina': 0.04200613347119176, 'unlead': 0.03178698729295034, 'oil': 0.024831943977306238, 'citi': 0.020779051642485127, 'japan': 0.020322070918031815, 'damian': 0.019630136210966487, 'gasolin': 0.01894415456964453, 'fight': 0.017584340253681004, 'fraser': 0.016257945949817807, 'ozon': 0.014623123645926668, 'mayor': 0.014104466200251662, 'kaifu': 0.013848802773822314, 'camacho': 0.01356511669475449, 'carlo': 0.013451828464095462, 'perkin': 0.01324866828100904, 'toshiki': 0.012947026183670688, 'manuel': 0.012942384144897632, 'ga': 0.012120816773043126, 'diesel': 0.011387570928830736, 'ventil': 0.011261876155456547, 'invest': 0.011199945546994647, 'ecologist': 0.010889197400270105, '235612': 0.010864585234485375, 'catalyst': 0.010811782742277544, 'hurd': 0.010695732200842113, 'gortari': 0.010621436961971703, 'dollar': 0.010589582504208925, 'japanes': 0.010243604096116882, 'matthei': 0.010183498675205023, 'guerra': 0.009800317721932909, 'crude': 0.009519786250528371, '4.6bn': 0.00945795167921362, 'visit': 0.009450154561949864, 'reduc': 0.009347417324860878, 'hicom': 0.009320356029216862, 'smog': 0.00929177277089181, '8832': 0.00878898717437512, '91m': 0.008638244703751897, 'cfcaxae8ft': 0.00863492525628882, 'monopoli': 0.008615130740657081, '920110': 0.008539215458486021, 'cajaradgft': 0.008449048099434414, 'foreign': 0.008410874765890137, 'sulfur': 0.008375482284841699, '234761': 0.008357113984656274}\n"
     ]
    },
    {
     "name": "stderr",
     "output_type": "stream",
     "text": []
    },
    {
     "name": "stdout",
     "output_type": "stream",
     "text": [
      "330 Iran-Iraq Cooperation {'iraq': 0.1269157840647228, 'iraqi': 0.0911501322861583, 'iran': 0.06666666666666665, 'cooper': 0.06666666666666665, 'iranian': 0.05917437559622971, 'baghdad': 0.056393332508286126, 'velayati': 0.032493402425426775, 'tehran': 0.022243140956848394, 'zarif': 0.02206691447699663, 'mojahedin': 0.0219527900020229, 'saddam': 0.020959262172969777, 'awsat': 0.01971028251382874, 'sharq': 0.019508469317782606, 'pow': 0.0183525182441997, 'basra': 0.01820019297667381, 'shatt': 0.017249723249549598, 'moujahedeen': 0.01655430717324125, 'visit': 0.01600640376001508, 'hussein': 0.01565768640732947, 'al': 0.015277644955669526, 'deleg': 0.0138171318284331, 'arab': 0.013074185752322052, 'postpon': 0.011599194354509635, 'ali': 0.011374904870326396, 'husayn': 0.010377405253261732, 'mashhad': 0.010199845661696806, 'prison': 0.009617879850770436, 'nam': 0.009353541810940611, 'oil': 0.009105039943242263, 'akbar': 0.008782109210205556, 'bomb': 0.00861309121951473, 'khalq': 0.00833289786915257, 'nc2506091594': 0.008081732113759022, 'hadithi': 0.007325611200916408, 'jun': 0.007190468247440705, 'pm0306135094': 0.007160788231502091, 'citi': 0.007071835689196466, 'aircraft': 0.007006266705542579, 'side': 0.00694905971235768, 'u.n': 0.006927835002518603, 'ld0806131694': 0.0068688432899022605, 'shiit': 0.0067595449525802076, 'waterwai': 0.0066862721989632895, 'ld2102105294': 0.006596744779515388, 'pm2706110094': 0.006345337153394185, 'june': 0.006177116822170444, 'javad': 0.006063939796454225, 'ow1806150494': 0.005925145569346886, 'prepar': 0.005915308062547562, 'xinhua': 0.0058872958230733845, 'terrorist': 0.005813536458207157, 'main': 0.005800394144951049}\n"
     ]
    },
    {
     "name": "stderr",
     "output_type": "stream",
     "text": []
    },
    {
     "name": "stdout",
     "output_type": "stream",
     "text": [
      "331 World Bank Criticism {'bank': 0.09838726691526983, 'world': 0.09314362171207569, 'critic': 0.0781829240945001, 'narmada': 0.04535691035519639, 'dam': 0.04380281926516447, 'project': 0.0400631611838989, 'mors': 0.03911781520596567, 'imf': 0.03701278778224919, 'panel': 0.0319352839053686, 'environment': 0.026920396089162992, 'environmentalist': 0.019316965121467092, 'stoutjesdijk': 0.01898710921055588, 'disclosur': 0.01882985980945944, 'arun': 0.018057224859654896, 'india': 0.016534405379833503, 'complaint': 0.01506505605563496, 'resettl': 0.0149948496463782, 'develop': 0.014588075254348402, 'nepal': 0.014016586237083573, 'sarovar': 0.01355868939328389, 'berger': 0.013536003085789013, 'poorest': 0.012701129454517991, 'board': 0.012537659927730616, 'camdessu': 0.012284672009306753, 'director': 0.012020571177120036, 'graham': 0.011768457497007471, 'draft': 0.011738004243223958, 'institut': 0.011526353224809585, 'lend': 0.01149700474771077, 'duk': 0.011043369877673397, 'bretton': 0.010764115528607971, 'displac': 0.01025047410750049, 'mr': 0.010062673492652663, 'poverti': 0.009767595719280642, 'inspect': 0.009720454468214216, 'sardar': 0.009627774623722316, 'irrig': 0.009589908456754748, 'washington': 0.009576932082861908, 'bradford': 0.009505006100282955, 'cjacyaatft': 0.009091857905902473, 'cavanagh': 0.008932195326184311, 'step': 0.008655003218277713, 'inadequ': 0.00859900358776334, 'transpar': 0.008484966950227466, 'georg': 0.008467995450390517, 'investig': 0.008317149710620095, '3bn': 0.008117546670839507, 'polici': 0.008011494829716614, '3.75bn': 0.007993648996675781, 'madhya': 0.00793917005208286}\n"
     ]
    },
    {
     "name": "stderr",
     "output_type": "stream",
     "text": []
    },
    {
     "name": "stdout",
     "output_type": "stream",
     "text": [
      "332 Income Tax Evasion {'evas': 0.08225164486344197, 'tax': 0.06666666666666665, 'incom': 0.06666666666666665, 'gioiosa': 0.06278104388441573, 'helmslei': 0.05115690933728248, 'sentenc': 0.0325501942699692, 'rose': 0.030355208266206826, 'cincinnati': 0.026726787650741813, 'convict': 0.024347370076221488, 'prison': 0.023989717629826296, 'leona': 0.021955906233675052, 'sturman': 0.020398348969800795, 'juri': 0.0199043325022348, 'plead': 0.019117701480624947, 'dellon': 0.018941508334910012, 'charg': 0.01866442195327378, 'fine': 0.017549949064047242, 'carter': 0.016737765009341824, 'pete': 0.01659810409573826, 'hunter': 0.01634229876678807, 'count': 0.016247072308287175, 'guilti': 0.015930364491875446, 'trial': 0.014895393565544644, 'sak': 0.01445688988629785, 'grand': 0.014094349141626645, 'indict': 0.01387670921671645, 'her': 0.013257188179813265, 'feder': 0.012459676700645489, 'cocain': 0.012422208896680739, 'spurrier': 0.01234081967525579, 'dershowitz': 0.011173048981989196, 'column': 0.010578322106721987, 'basebal': 0.01056271207962867, 'tripp': 0.010210658196953545, 'anderson': 0.010122728050599413, 'brief': 0.010100605895640566, 'gambl': 0.009912774278518355, 'judg': 0.009857167324391666, 'pik': 0.009849338983434291, 'he': 0.009519952026659218, 'larceni': 0.009314138318452816, 'grabecz': 0.009223194515454643, 'gilliam': 0.009131548479357139, 'testimoni': 0.008916827820835976, 'fraud': 0.008835508633317389, 'prosecutor': 0.008791897644939267, 'million': 0.0086412779787147, 'hi': 0.008532051535055861, 'briefli': 0.008462324156175906, 'icasiano': 0.008418448148848894, 'plea': 0.008115248105927814, 'conspiraci': 0.008047008953765375}\n"
     ]
    },
    {
     "name": "stderr",
     "output_type": "stream",
     "text": []
    },
    {
     "name": "stdout",
     "output_type": "stream",
     "text": [
      "333 Antibiotics Bacteria Disease {'antibiot': 0.15162210716524574, 'bacteria': 0.08606845344142429, 'diseas': 0.06666666666666665, 'infect': 0.03345709491676447, 'plagu': 0.033329043970332234, 'resist': 0.02811982182378537, 'microb': 0.02464183770358508, 'cefotaxim': 0.023882295803221352, 'strep': 0.023439532332834558, 'calgen': 0.02258954097849843, 'kan': 0.02112145570702842, 'strain': 0.01661363628501926, 'gene': 0.016359731201489727, 'toxin': 0.015969089919524056, 'aph': 0.01506942638787958, 'tularensi': 0.014877254285185215, 'francisella': 0.014877254285185215, 'syndrom': 0.014570229637435733, 'fasciiti': 0.01448215515934617, 'zinnat': 0.014406006063414974, 'necrotis': 0.014286076243843919, 'infecti': 0.014075273642992776, 'virul': 0.013787539093549447, 'dna': 0.01355249973162996, 'ref': 0.013365798357426798, 'inhibitori': 0.013319288540908381, 'streptococcu': 0.013102950862947677, 'streptococc': 0.012916782444877343, 'implant': 0.012498936334001315, 'khimioterapiya': 0.012328468394390618, 'antibiotiki': 0.012328468394390618, 'amikacin': 0.011873448203823063, 'microbiologist': 0.01136676031477614, 'mice': 0.011310548307148944, 'dental': 0.011257811917941491, 'efficaci': 0.01089215803405728, 'r': 0.010864679383684142, 'tb': 0.010857488735303674, 'experiment': 0.010670237558952267, 'albino': 0.010377345205448016, 'superbug': 0.00997464193884906, 'transform': 0.009666038117059605, 'dentist': 0.009650657106971924, 'rsquo': 0.009647013433453751, 'kanamycin': 0.009531206832550283, 'fever': 0.009352533965772835, 'glaxo': 0.009332124933998298, 'sisomycin': 0.009321604660309186, 'bactericid': 0.00899876238458345, 'combin': 0.008810149794437862, 'cholera': 0.008520073396053282}\n"
     ]
    },
    {
     "name": "stderr",
     "output_type": "stream",
     "text": []
    },
    {
     "name": "stdout",
     "output_type": "stream",
     "text": [
      "334 Export Controls Cryptography {'cryptograph': 0.13925778650159437, 'cryptographi': 0.08043466605787983, 'control': 0.06666666666666665, 'export': 0.06666666666666665, 'encrypt': 0.059723673587886994, 'fip': 0.05604255684590125, 'modul': 0.03980412834029059, 'standard': 0.032468277724135096, 'internet': 0.02117328080161745, 'nist': 0.020824208063008137, 'licens': 0.019782642973074402, 'softwar': 0.018209890590502792, 'pub': 0.01699544343463954, 'pgp': 0.01641508383945406, 'comput': 0.0158940327766794, 'interfac': 0.014557717393664875, 'applic': 0.014399708436377421, 'authent': 0.013757370119087476, '140': 0.012832158035759433, 'secur': 0.012457866792103915, 'code': 0.012209951269286855, 'implement': 0.011651891541265696, 'hyph': 0.010560995254883855, 'zimmermann': 0.010506719331298637, 'algorithm': 0.010477006071186259, 'user': 0.009907955086338821, 'viacrypt': 0.009331846807118493, 'u.': 0.009064124901218445, 'specifi': 0.008846764872621078, '123': 0.008674989621134102, 'conform': 0.00853781579722378, '124.15': 0.00845196725797647, 'munit': 0.008354235399092018, 'messag': 0.008311486124783945, 'approv': 0.008084468591109322, 'function': 0.007812018187176745, '22': 0.007670893124294297, 'cfr': 0.0076330036845587874, 'kei': 0.007478469377837304, 'xiii': 0.007425896494286002, 'compli': 0.0073133325341801225, 'depart': 0.007087597363565232, 'unclassifi': 0.007009385824363919, 'xxx': 0.006953381546248801, 'specif': 0.006738149078767098, 'data': 0.006711385199805649, 'protect': 0.006632262467611626, 'devic': 0.006559115730214473, '124': 0.006529161574254279, 'arrang': 0.006506429891401009, 'scrambl': 0.006346207132564007, 'distribut': 0.0062572672153424925}\n"
     ]
    },
    {
     "name": "stderr",
     "output_type": "stream",
     "text": []
    },
    {
     "name": "stdout",
     "output_type": "stream",
     "text": [
      "335 Adoptive Biological Parents {'adopt': 0.1078300927343698, 'parent': 0.09732086715017635, 'calvert': 0.06781421294699116, 'biolog': 0.06666666666666665, 'surrog': 0.06183284967402254, 'johnson': 0.04594330754010248, 'birth': 0.03825243055209131, 'babi': 0.031128647462455375, 'mother': 0.029750397501588366, 'she': 0.02798036635622831, 'her': 0.02656967589000303, 'genet': 0.026074648020866238, 'adopte': 0.02073228699119463, 'anna': 0.020227343704812467, 'surrogaci': 0.018221559099460282, 'amanda': 0.013661643455819406, 'wyckoff': 0.013614526096494365, 'crispina': 0.013388753530672846, 'sippl': 0.013029095596674431, 'parslow': 0.013028997070796156, 'coupl': 0.011374720194554794, 'deusen': 0.011114728932952126, 'quackenbush': 0.010772492436458697, 'contract': 0.010757999500138135, 'gilbert': 0.010226068285116371, 'record': 0.009783845795011016, 'child': 0.009606874787933277, 'confidenti': 0.009097057589932069, 'cri': 0.00881159515048442, 'court': 0.008744439466964751, 'william': 0.008588804450507167, 'jodi': 0.008342865782645432, '270664': 0.008122045661212355, 'custodi': 0.007991960645250063, 'bialack': 0.007683045933435902, 'burk': 0.007299591788538497, 'harrison': 0.00728958755903148, 'erica': 0.007210008638179075, 'tann': 0.006969051133104927, 'furi': 0.006915068249175541, 'mark': 0.006867103845462422, 'gewertz': 0.006698933246759176, 'fertil': 0.006640591596121619, 'argleben': 0.006607601643853731, 'letter': 0.006434674279335171, 'laflamm': 0.006257794685493691, 'aleut': 0.006257037038158844, 'infertil': 0.006251834497915199, 'bill': 0.006168317930623692, 'california': 0.006084397306015672, 'tribe': 0.005961493908148382}\n"
     ]
    },
    {
     "name": "stderr",
     "output_type": "stream",
     "text": []
    },
    {
     "name": "stdout",
     "output_type": "stream",
     "text": [
      "336 Black Bear Attacks {'bear': 0.12147684838046396, 'black': 0.06666666666666665, 'attack': 0.06666666666666665, 'garbag': 0.05499422306093137, 'coverston': 0.04943758611532955, 'smelli': 0.03877757190897255, '115951': 0.028992029326134747, 'lake': 0.02357096403694829, 'anim': 0.022157604463318846, 'forest': 0.021212158944125526, 'herron': 0.02101715953376127, 'grizzli': 0.019862744415097583, 'forag': 0.019799169651866854, 'biologist': 0.01954937394391625, 'hibern': 0.019244718974721332, 'drought': 0.017974653513093932, 'ammonia': 0.017024358213506334, 'odor': 0.016141643446579295, 'greas': 0.01588140856736763, 'wildlif': 0.015656590451466498, 'bacon': 0.014893740648402879, 'sprinkl': 0.014809474340146941, 'pickup': 0.01369352921805056, 'trash': 0.013510309390115015, 'taho': 0.012809391451978906, 'homeown': 0.012454093191990057, 'behavior': 0.012368184941530804, 'mask': 0.012304271726381216, 'plastic': 0.01147740947501058, 'wrap': 0.011273279569839322, 'favorit': 0.010740733346811073, 'food': 0.01064590037447695, 'sight': 0.010431807338664731, 'snack': 0.010203337499575905, 'around': 0.010187080424780347, 'gari': 0.010159689754952739, 'veget': 0.010060590820306468, '95': 0.009772943317680933, 'eat': 0.009698431089338641, 'paulek': 0.009149417800805462, 'varieti': 0.009084831359977685, 'rip': 0.008809719086920166, 'hundr': 0.008227674136981984, 'anchorag': 0.008144595888767517, 'pyramid': 0.00792181013067403, 'said': 0.007916194118393142, 'ic': 0.007516805184291261, 'fairbank': 0.007460029651106469, 'he': 0.007101204212207195, 'ranger': 0.007079772399962338, 'metro': 0.007031308233115454, 'everyth': 0.006958299595827985}\n"
     ]
    },
    {
     "name": "stderr",
     "output_type": "stream",
     "text": []
    },
    {
     "name": "stdout",
     "output_type": "stream",
     "text": [
      "337 Viral Hepatitis {'hepat': 0.12550424147725117, 'viral': 0.09999999999999998, 'viru': 0.04948246821240589, 'gene': 0.042245821862824995, 'kosic': 0.030966013006229226, 'lilli': 0.028798600461364496, 'diseas': 0.02707630818333602, 'djerkov': 0.022343684258918438, 'vaccinia': 0.021201270252322484, 'interferon': 0.02075026577675185, 'ld0502084694': 0.02023905571373101, 'petersburg': 0.02014159515459026, 'ld2012173193': 0.019723669751011138, 'epidemiolog': 0.018078987073801466, 'infecti': 0.01727915990956557, 'przemysl': 0.016892840049791743, 'therapi': 0.01626200988453601, 'crada': 0.015940315209298624, 'health': 0.015316329487323005, 'immunis': 0.014929103243515082, 'pm1702154594': 0.01481626237386362, 'cdc': 0.014320280730364397, 'tanjug': 0.014246955748411764, 'antigen': 0.01366899024586974, 'research': 0.013513656641891329, 'belgrad': 0.01286098152916737, 'au1612065693': 0.012761037174380896, 'hk2204060094': 0.012660742211630539, 'blood': 0.012592527332842591, 'polonia': 0.012432166366681386, 'protein': 0.012079907509333195, 'titr': 0.011801112132449214, 'anti': 0.011702461205018125, 'epidem': 0.011687272744444178, 'cancer': 0.011486220723309811, 'st': 0.011405568779393756, 'clinic': 0.011021308180466658, 'school': 0.010936614973628307, 'cirrhosi': 0.010806958957487463, 'serbo': 0.01047131854957063, 'yersinia': 0.010463555686243072, '004': 0.010197597164417944, 'jptep007___94034': 0.010119527856865505, 'c': 0.010115181654093879, 'erythrocyt': 0.010051621231408632, 'zonjic': 0.009930526337297085, 'jptep001___94034': 0.009861834875505569, 'dysenteri': 0.00977198008267222, 'croatian': 0.009768312781994854, 'alarm': 0.00973637336447806, 'sens': 0.009539405886249526}\n"
     ]
    },
    {
     "name": "stderr",
     "output_type": "stream",
     "text": []
    },
    {
     "name": "stdout",
     "output_type": "stream",
     "text": [
      "338 Risk of Aspirin {'aspirin': 0.14768513232060312, 'risk': 0.09999999999999998, 'quinin': 0.06890202982700526, 'perlman': 0.05983596781786724, 'attack': 0.025076539682354928, 'cramp': 0.024415262792375218, 'reckitt': 0.023401460947615443, 'bmj': 0.023320942283002244, 'heart': 0.021247087402559012, 'midtown': 0.02020994033906455, 'thrombosi': 0.019627604459771058, 'stroke': 0.018631783934187837, 'sulfat': 0.01774388962351898, 'nocturn': 0.017608189370347072, 'leg': 0.017106194012805415, 'vitamin': 0.016109685538606967, 'treatment': 0.015200880011389703, '100,000': 0.015145908583786115, 'patient': 0.01496974982359113, 'pharmacist': 0.014927687796207774, 'colman': 0.014829054236471607, 'fatal': 0.014259345403996157, 'cardiovascular': 0.013703851446077053, 'pharmaci': 0.013249624699237942, 'eagc3ab0ft': 0.012785627313229915, 'placebo': 0.012682161702525821, 'monterei': 0.012581138216698533, 'low': 0.012200188314849973, 'mg': 0.011910484351921956, 'ref': 0.011861724590477248, 'bleed': 0.01080688394213797, 'angina': 0.010567128847685205, 'death': 0.010367799412902124, 'muscl': 0.009693880235560203, 'regularli': 0.009551238819416122, 'sam': 0.009249306153084792, 'prevent': 0.009234241313973997, 'avoid': 0.009189854509480953, 'effect': 0.009182146157561842, 'sale': 0.009177841641726142, '250': 0.008856700536694413, 'inder': 0.00876795130815146, 'inhibit': 0.00875761997242258, 'store': 0.008737178279908567, 'druggist': 0.008583141572492013, 'vein': 0.008361920593282442, 'ebgc7accft': 0.008184930858958805, '940107': 0.008024109914535319, 'narrow': 0.007879944743219711, 'global': 0.007866564198811772, 'clotbust': 0.007730480145848495}\n"
     ]
    },
    {
     "name": "stderr",
     "output_type": "stream",
     "text": []
    },
    {
     "name": "stdout",
     "output_type": "stream",
     "text": [
      "339 Alzheimer's Drug Treatment {'cognex': 0.09926811759990525, 'drug': 0.09173414802142271, 'treatment': 0.06666666666666665, 'alzheim': 0.06666666666666665, 'lambert': 0.03953969852531556, 'warner': 0.03499123129963035, 'fda': 0.03231693110751179, 'alcar': 0.025909726471621694, 'approv': 0.02377548583108453, 'smithklin': 0.022039590708617433, 'deprenyl': 0.021938622509665814, 'efficaci': 0.018992860788507142, 'citrat': 0.018712995927238598, 'panel': 0.01625027899936147, 'recommend': 0.015869583532317155, '2h': 0.015839485036198128, 'trial': 0.015592162971781938, '1h': 0.014611940903193725, 'advisori': 0.014358647422397697, 'ckkciaggft': 0.01432131391641426, 'ondansetron': 0.013590080224293739, 'flu': 0.013020279099063274, 'tau': 0.012741293422835288, 'beecham': 0.012729795576547638, 'sigma': 0.012671176238269072, 'tacrin': 0.012446482554314704, 'patent': 0.012335626259009313, 'nicotin': 0.01203409929115192, 'zagor': 0.010907446858260401, 'cholinesteras': 0.010818449761893632, 'dcsb4agvft': 0.010716566653071538, 'oxiracetam': 0.010619437605719373, 'amantadin': 0.010346969198279567, 'imigran': 0.010216598076737766, 'padua': 0.010118572390175131, 'food': 0.009987332581714295, 'syke': 0.009848353104006155, 'physostigmin': 0.009819631294443708, 'halt': 0.009414663842235741, 'cfva1ab9ft': 0.00932068807761884, 'denbufyllin': 0.00932068807761884, 'tech': 0.009277116730447059, 'mild': 0.009221549834305849, 'discoveri': 0.009202181803118057, 'us': 0.008984232641968673, 'sumatriptan': 0.00893479346608491, '921111': 0.008810267375418604, '970': 0.008800902640243196, 'vaccin': 0.008701182071862558, 'patch': 0.00856748738996648, 'ranitidin': 0.008541126623339211, 'cfr': 0.008538774330466804}\n"
     ]
    },
    {
     "name": "stderr",
     "output_type": "stream",
     "text": []
    },
    {
     "name": "stdout",
     "output_type": "stream",
     "text": [
      "340 Land Mine Ban {'mine': 0.1291970237031232, 'ban': 0.06666666666666665, 'land': 0.06666666666666665, 'landmin': 0.051202270300967606, 'weapon': 0.03274364152547838, 'icrc': 0.03246826614700402, 'cambodia': 0.02791886162809192, 'antipersonnel': 0.02673704542477248, 'falkland': 0.026276601299626924, 'export': 0.023060116206342643, 'laser': 0.018858448835808284, 'argentina': 0.01844524588333912, 'destruct': 0.01722111014300052, 'personnel': 0.016381927166650632, 'cambodian': 0.01636383216403786, 'anti': 0.01586411263478812, 'tella': 0.015854599443856084, 'au1802193394': 0.015697225769075267, 'doswald': 0.015697225769075267, 'ranariddh': 0.015685343862205884, 'civilian': 0.014928931483953137, 'argentin': 0.01473413338826104, 'un': 0.014699887734309148, 'convent': 0.014202282704176783, 'bk1003100294': 0.013938256857601184, 'geneva': 0.013774395135917147, 'beck': 0.01330028762768634, 'royal': 0.013238347377013654, 'clear': 0.012980450207453122, 'ordnanc': 0.012193286059314266, 'island': 0.011538633674064241, 'afghanistan': 0.011482967940650419, 'arm': 0.011441357732821704, 'bilnei': 0.011118306479529997, 'minefield': 0.011074825174543279, 'clearanc': 0.010876338789968625, 'intern': 0.010782101466159148, 'ow1103123394': 0.010576485420744965, 'kyodo': 0.009516080833675375, 'cocom': 0.009483258828463063, 'tokyo': 0.009287277322661608, 'afp': 0.009280834240130435, 'muli': 0.009243647972498591, 'sadruddin': 0.009178819737083588, 'self': 0.009161476489659063, 'ieng': 0.009119001400032354, 'laid': 0.008837880096021334, 'au0806123194': 0.008692641186798836, '1982': 0.008314839715491738, 'cross': 0.008098912804442662, 'expert': 0.007981868377201171, 'disarma': 0.007915954501094875}\n"
     ]
    },
    {
     "name": "stderr",
     "output_type": "stream",
     "text": []
    },
    {
     "name": "stdout",
     "output_type": "stream",
     "text": [
      "341 Airport Security {'secur': 0.1330552507001552, 'airport': 0.09999999999999998, 'baggag': 0.05714566494984218, 'carrier': 0.03547471295665485, 'passeng': 0.03476104310150956, 'detector': 0.02792277842169051, 'airlin': 0.027236670543678038, 'hijack': 0.024222982624166594, 'faa': 0.023101399100484702, 'air': 0.02253425958655114, 'aviat': 0.021202395959363934, 'screen': 0.020020515713274303, 'terrorist': 0.018044807286373383, 'luggag': 0.017122398643812233, 'inform': 0.0165172015948404, 'tak': 0.01604023153711882, 'aircraft': 0.015755116063672914, 'manchest': 0.015752791831149197, 'knbc': 0.015486042499079934, 'metal': 0.014668293861796354, 'cargo': 0.013977161934035918, 'bag': 0.0137516459130805, 'kean': 0.013154830096145282, 'br2204094294': 0.013137477578605315, '191.7': 0.012816692956200422, 'wayn': 0.012793326766946618, 'staf': 0.012336938318643818, 'kai': 0.011663380823490329, 'rai': 0.011541236624079673, 'weapon': 0.011345169745186179, 'procedur': 0.01124429679261828, 'x': 0.011192409428093244, 'devic': 0.011161335081110025, 'sensit': 0.011093396390064842, 'cox': 0.011054103584009671, 'checkpoint': 0.010844464446020998, 'machin': 0.010724268483619235, 'person': 0.01069907120152508, 'civil': 0.0104533401944356, '191.3': 0.010287972760112759, 'counti': 0.010185608189308797, 'scan': 0.010140535249965279, 'unauthor': 0.01005603474669885, 'disclosur': 0.010050884188500643, 'protect': 0.010011961971514565, 'night': 0.009967340933647182, 'sect': 0.009753117636584478, 'autom': 0.009733175400693985, 'burbank': 0.009728177463355745, 'station': 0.009532123736234091, 'explos': 0.009503964390258003}\n"
     ]
    },
    {
     "name": "stderr",
     "output_type": "stream",
     "text": []
    },
    {
     "name": "stdout",
     "output_type": "stream",
     "text": [
      "342 Diplomatic Expulsion {'diplomat': 0.09999999999999998, 'expuls': 0.09999999999999998, 'pakhtusov': 0.07017415859245552, 'soviet': 0.04862553845478606, 'bk1306143394': 0.03839743634033507, 'islamabad': 0.02820990327178235, 'gundi': 0.027875214822135914, 'ptv': 0.02452048279112229, 'gerasimov': 0.023581665219962446, 'pakistan': 0.02315902715229129, 'dprk': 0.022962987439999825, 'korean': 0.019605563413300026, 'pakistani': 0.018624400564774574, 'spy': 0.018109157371357317, 'mikhailov': 0.017075188278636678, 'espionag': 0.01700384376230896, 'moscow': 0.016414389653899013, 'african': 0.015825626685348662, 'u.': 0.015248446949592416, 'expel': 0.014873226526715104, 'german': 0.014811032907447178, 'attach': 0.014729026982194913, 'stepashin': 0.014628072611662324, 'ld0604161694': 0.013480901286026607, 'van': 0.012859616976130101, 'sensation': 0.012858264257678673, 'televis': 0.012053750813051947, 'ld1806163594': 0.011798005883206841, 'mistreat': 0.011663714962873207, 'scrupul': 0.011165239688286532, 'normal': 0.011145532535702706, 'interfax': 0.01078142626925564, 'item': 0.01067352175257514, 'arrest': 0.010598899761711843, 'tass': 0.010395840245351359, 'south': 0.010004089914531918, 'drnes115_v_94004': 0.009924249712035454, 'drnes114_v_94004': 0.009918951564876113, 'factual': 0.009565322965810379, 'missil': 0.00941377324399782, 'ussr': 0.009380676951972748, 'export': 0.009330907072749148, 'incorrect': 0.009102194759234959, 'counterintellig': 0.009055543058955095, 'reject': 0.008969644331162359, 'germani': 0.008861423839979581, 'pyongyang': 0.008854657094981828, 'employe': 0.00880779226683062, 'classifi': 0.008794780965531513, '1400': 0.008775274036806271, 'comput': 0.00869594530562511, 'north': 0.00861566869096086}\n"
     ]
    },
    {
     "name": "stderr",
     "output_type": "stream",
     "text": []
    },
    {
     "name": "stdout",
     "output_type": "stream",
     "text": [
      "343 Police Deaths {'polic': 0.09999999999999998, 'death': 0.09999999999999998, 'mors': 0.06609865326399685, 'bomb': 0.041863540946421446, 'eckl': 0.03318363549667123, 'subvers': 0.027446598265322447, 'rosa': 0.027299573936955857, 'kill': 0.026908430851535933, 'mccree': 0.02202071879312095, 'lima': 0.021753798334555513, 'kuster': 0.02092500281691339, 'chaplain': 0.02041885476047578, 'murder': 0.019562749188999192, 'desco': 0.019545407882068388, '0': 0.0183189365677515, 'la': 0.017748196383775863, 'aguilar': 0.01741924231188671, 'pratt': 0.017275417759113662, 'rosen': 0.015710185297991213, 'jungl': 0.015469346671389765, 'inglewood': 0.015286193985367425, 'region': 0.015212404480465264, 'wrede': 0.015172532075734652, 'sl': 0.015083355093617147, 'attack': 0.01430086416362418, 'de': 0.01321289649773799, 'sentenc': 0.01293071352978855, 'makeup': 0.012773180940865273, 'jackson': 0.012238599019416235, 'offic': 0.011445050584100464, 'modani': 0.011411845223249065, 'norri': 0.010865551563294844, \"jama'ah\": 0.01073661829434344, 'victim': 0.010630596432114408, 'convict': 0.01062485652766651, 'trial': 0.01055937638685401, 'milit': 0.010411890765507923, 'explos': 0.009912365029284775, 'balayza': 0.00980167665265016, 'nc2503201594': 0.00980167665265016, 'garag': 0.009593608837155253, 'narcot': 0.009553702523359964, 'provinc': 0.009421515330539414, 'mrta': 0.009410274727986532, 'percent': 0.00931987783444863, 'eight': 0.00905298641845721, 'hollywood': 0.008872370425088188, 'northern': 0.008829336335052082, 'moor': 0.00880264272914687, 'donelson': 0.008605890354193804, 'juror': 0.008603686455904478, 'court': 0.008553574601389695}\n"
     ]
    },
    {
     "name": "stderr",
     "output_type": "stream",
     "text": []
    },
    {
     "name": "stdout",
     "output_type": "stream",
     "text": [
      "344 Abuses of E-Mail {'telework': 0.07438242926866521, 'e': 0.06666666666666665, 'abus': 0.06666666666666665, 'mail': 0.06666666666666665, 'privaci': 0.05502431260290738, 'shoar': 0.049339514175404026, 'messag': 0.047504830366249945, 'comput': 0.04566947858532452, 'epson': 0.04069114507328275, 'snowden': 0.027516312126945493, 'regan': 0.026755992750501934, 'citi': 0.02269329447367912, 'employe': 0.020248441903160597, 'lawsuit': 0.014628720131501363, '315984': 0.013805135068998274, 'telephon': 0.013072246431163715, 'shipman': 0.012796080508057688, 'colorado': 0.012524411931998408, 'frow': 0.012114068370414253, 'fax': 0.011920997046123429, 'tap': 0.011899942954748232, 'mani': 0.01166724332102002, 'cellular': 0.011268013984167664, 'councilman': 0.011010726394890872, 'compani': 0.010890449618698804, 'worker': 0.010587094061036466, 'mesa': 0.010504110652277361, 'roeder': 0.010386978568523223, 'costa': 0.010328423955537423, 'voicemail': 0.010280275598397939, 'cybervirgin': 0.010024161767286453, 'monitor': 0.00969825568059273, 'i': 0.009695035576988434, 'confidenti': 0.009440195354831857, 'attornei': 0.009245073225431569, 'termin': 0.008903870964238138, 'read': 0.008770701257167219, 'raduchel': 0.008567718714178682, 'sexist': 0.008548489307089959, 'my': 0.008213255574811474, 'internet': 0.008174538244536055, 'corpor': 0.007826106919249043, 'murki': 0.007758409539200786, 'invas': 0.007757202653935067, 'privat': 0.007755273246718885, 'me': 0.0077001504306148235, 'gossip': 0.007632055548428641, 'eavesdrop': 0.00758419963017895, 'incid': 0.007558409727812493, 'articl': 0.007471296527387573, '327': 0.0074385347519511265, 'mcneali': 0.0073803096584161626, 'council': 0.007346085775277946}\n"
     ]
    },
    {
     "name": "stderr",
     "output_type": "stream",
     "text": []
    },
    {
     "name": "stdout",
     "output_type": "stream",
     "text": [
      "345 Overseas Tobacco Sales {'morri': 0.0731221056891218, 'sale': 0.06666666666666665, 'tobacco': 0.06666666666666665, 'oversea': 0.06666666666666665, 'philip': 0.0602750563356749, 'dollar': 0.03799517378538175, 'marlboro': 0.033679538134969766, 'bat': 0.03284702254789114, 'rjr': 0.03276704957469514, 'cent': 0.028879438427010597, 'nabisco': 0.0268404755610142, 'brand': 0.022680210113509916, 'quarter': 0.022545119928283876, 'per': 0.020868941800853767, 'seita': 0.020863334031498867, 'smoke': 0.019247073261284747, 'cigarett': 0.018730827648399204, 'incom': 0.017583497088374086, 'volum': 0.017338594934312664, 'domest': 0.014791045069058859, 'food': 0.01419417261112947, 'profit': 0.013938570679717533, 'rose': 0.01390072531610927, 'p2111': 0.012600181997398433, 'oper': 0.010676998686002833, 'winston': 0.010246304333064393, 'europ': 0.01018387440811849, 'gall': 0.009853874067009499, 'improv': 0.0097003689198105, 'trademark': 0.009642085397617621, 'busi': 0.009594681913858965, 'net': 0.009561420511896606, 'premium': 0.009510828567112991, 'worldwid': 0.009237508234499377, 'p21': 0.008859805190902743, 'lower': 0.008693639556274243, 'usz': 0.008650168232262785, 'atk': 0.008215915175630762, 'kazakhstan': 0.008165777994523329, 'york': 0.008126860807863531, 'dckcyadrft': 0.008056721370184575, 'million': 0.007928185164550688, 'cracker': 0.00771273920046431, '13.7bn': 0.007525275443745157, '3bn': 0.007399074570342514, 'item': 0.007294202243875052, 'camel': 0.007264174924143663, 'lucki': 0.00721508039877494, 'goodwil': 0.007098700811519346, 'packet': 0.007002688881175983, 'kazakh': 0.0069878585536671325, 'billion': 0.006963756478128575, 'kombinat': 0.00694327542728985}\n"
     ]
    },
    {
     "name": "stderr",
     "output_type": "stream",
     "text": []
    },
    {
     "name": "stdout",
     "output_type": "stream",
     "text": [
      "346 Educational Standards {'standard': 0.09999999999999998, 'educ': 0.09999999999999998, 'curriculum': 0.09575699419618458, 'pupil': 0.046573527595930454, 'ofst': 0.043985486964245556, 'school': 0.04267763124913045, 'test': 0.035737363531834494, 'teach': 0.03476979792761982, 'teacher': 0.029672404474155846, 'p9411': 0.025568615472007773, 'primari': 0.019911243805376264, 'children': 0.01858100095145326, 'patten': 0.017910031219041018, 'auther': 0.016460234230583674, 'read': 0.015932192637518282, 'union': 0.015284855577765953, 'inspector': 0.0139955068968319, 'english': 0.012948270579273122, 'govern': 0.012706289614872161, 'mr': 0.012634146599087643, 'watchdog': 0.012615631322820706, 'p82': 0.012328252304408881, 'pamphlet': 0.01227012511449915, 'wale': 0.011642527399654549, 'england': 0.011424210678231152, 'john': 0.011074703136388557, 'compulsori': 0.010907692271284965, 'lesson': 0.010848683351020329, 'tech': 0.010308096223366543, 'clau': 0.009580017688174132, 'ashcroft': 0.009379972636018308, \"o'hear\": 0.009326886824351163, 'sai': 0.0092799875798821, 'plewi': 0.009064991804468406, 'nation': 0.008501724030096004, 'sir': 0.008479687388543124, 'report': 0.008313263283106666, 'workload': 0.007990770047810916, 'gbz': 0.007890769209029235, 'classroom': 0.007801938404089707, 'seven': 0.007732105769653008, 'ag': 0.007657367611216007, 'kingdom': 0.007653779446301518, 'were': 0.007583599385126934, 'cent': 0.0075813944027490745, 'rural': 0.007560583164659482, 'rigour': 0.007518367981265578, 'safeti': 0.007421249211900645, 'said': 0.007368839628896786, 'parent': 0.00730657175524823, 'subject': 0.007267832114406402, 'straw': 0.0072127853084193}\n"
     ]
    },
    {
     "name": "stderr",
     "output_type": "stream",
     "text": []
    },
    {
     "name": "stdout",
     "output_type": "stream",
     "text": [
      "347 Wildlife Extinction {'extinct': 0.09999999999999998, 'wildlif': 0.09999999999999998, 'tiger': 0.059947253242458975, 'wild': 0.03869774157318792, 'panda': 0.036581117701947684, 'zoo': 0.035102522536330553, 'bone': 0.034022251806254115, 'quagga': 0.03377885436273979, 'breed': 0.027331824882163472, 'hors': 0.0219888712407379, 'anim': 0.02169339877348591, 'rhinocero': 0.021295480347820066, 'tamarin': 0.021266413168995246, 'china': 0.020150061510811154, 'taiwan': 0.01925478714690343, 'ow0606034394': 0.018495160816667154, 'tengg': 0.018401284405535855, 'crane': 0.01732505781564885, 'horn': 0.016875880196041398, 'rhino': 0.01654828972237936, 'seal': 0.015091834130821508, 'monkei': 0.015024995121697516, 'trade': 0.013115171335377516, 'saimaa': 0.013114046823240914, 'wwf': 0.012834953298129299, 'bloxam': 0.01260984948889875, 'desert': 0.011766491339734121, 'gansu': 0.011715939832086325, 'beij': 0.01143539853894409, 'ivori': 0.01099024822010619, 'edleuabeft': 0.010330809050584156, 'dune': 0.01002511004566963, 'bison': 0.00992115569781782, 'chines': 0.009764973784045956, 'zebra': 0.009646920788415695, 'xinhua': 0.009496956626165058, 'dunn': 0.009477607437091891, 'center': 0.009354204525047554, 'rent': 0.009122873216030223, 'aquarium': 0.008875077629993433, 'ngo': 0.00866145802187895, 'poacher': 0.008643073469629088, 'captiv': 0.00838290345910017, 'burn': 0.008337139189364377, 'taipei': 0.00827480311111575, 'nanci': 0.008237392357375452, 'saiga': 0.008068183073688076, 'embargo': 0.008043314591301828, 'convent': 0.007994592425372907, 'p9512': 0.007937361624953478, 'takin': 0.007624261758936707, 'karoo': 0.007324648737276696}\n"
     ]
    },
    {
     "name": "stderr",
     "output_type": "stream",
     "text": []
    },
    {
     "name": "stdout",
     "output_type": "stream",
     "text": [
      "348 Agoraphobia {'agoraphobia': 0.19999999999999996, 'schulz': 0.056807389149721554, 'mental': 0.04623858898483921, 'simmon': 0.03892298238900792, 'she': 0.029859978728687876, 'clinic': 0.027858463728743885, 'havisham': 0.027305210970487187, 'maravilla': 0.025501878826565967, 'peanut': 0.025024733432300647, 'health': 0.02244325578273916, 'submarin': 0.018386053252638264, 'vanguard': 0.018182376172187008, 'estella': 0.018173043931543887, 'missil': 0.017235803986597728, 'patient': 0.017163362499339044, 'strip': 0.01603814996577459, 'trident': 0.015678015254678927, 'escarcega': 0.01536104903504702, 'i': 0.015079020475241636, 'cartoonist': 0.014875858218969085, 'charli': 0.014564739056457082, 'treasur': 0.014176676356022717, 'fernando': 0.013695436435950566, 'johnson': 0.013017602408504645, \"i'm\": 0.012974427810584298, 'gold': 0.012463768022795328, 'pharo': 0.012343868127911288, 'humphrei': 0.012185183294017327, 'navi': 0.011913548020699573, 'crew': 0.011749739000697753, 'marex': 0.011710465603472048, 'cartoon': 0.011453203473393223, 'hair': 0.010960254210103042, 'counti': 0.010922664417344486, 'wold': 0.010901767562620623, 'sai': 0.010720053122185325, 'nuclear': 0.010185971077930393, 'charact': 0.009837539312307306, 'actress': 0.009726415426256433, 'closur': 0.009671964050713158, 'psychiatr': 0.009485538064066256, 'center': 0.009482206798315736, 'syndic': 0.00942261002755781, 'vallei': 0.009403593882985055, 'warhead': 0.009147841264847653, 'scripp': 0.0089672810899259, 'weapon': 0.008823447770355031, 'hi': 0.008704380518969868, 'charl': 0.008545935609847398, 'san': 0.008452880179673578, 'water': 0.008253783218378795}\n"
     ]
    },
    {
     "name": "stderr",
     "output_type": "stream",
     "text": []
    },
    {
     "name": "stdout",
     "output_type": "stream",
     "text": [
      "349 Metabolism {'metabol': 0.2870408312325562, 'pathwai': 0.04815766055359763, 'calori': 0.03088088148996007, 'iron': 0.030490051385545974, 'brain': 0.026567730807912932, 'toxic': 0.02247472802068242, 'substanc': 0.021192056113997746, 'cellulit': 0.020700645459811602, 'ntbc': 0.020635161649262917, 'enzym': 0.020616732575660927, 'mouthwash': 0.019187583526147647, 'children': 0.01712919230764024, 'bodi': 0.016983976078153686, 'ethanol': 0.01667120041364048, 'mpdl': 0.016053243611378557, 'schizophren': 0.015134002685099368, 'neuron': 0.01493730012888296, 'cell': 0.014260671732589658, 'fat': 0.014044652143900667, 'tyrosinaemia': 0.013756774432841942, 'diet': 0.013476916935896924, 'child': 0.01316488666943015, 'contain': 0.012949488573365168, 'compound': 0.012492464234193945, 'buchsbaum': 0.012225310771825903, 'peroxid': 0.012063689767594175, 'weight': 0.011514022095266738, 'aaoa': 0.011493415322889309, 'wadden': 0.011230539601706883, 'receptor': 0.01093947520405948, 'your': 0.010778303425424882, 'neurotox': 0.010389931821989436, 'packag': 0.010375805811266865, 'neurotransmitt': 0.01025578278580875, 'product': 0.010147527666084219, 'imag': 0.009936580615195284, 'lyakhovich': 0.009796538770301082, 'sanitariya': 0.009772386734889824, 'gigiyena': 0.009727520603016826, 'acetyl': 0.009569914848310641, 'nerv': 0.009534332715751874, 'metabolit': 0.009459643254350614, 'acid': 0.009276148159250874, 'alcohol': 0.009107489910048646, 'node': 0.009047087489540138, 'methoxyanilin': 0.009025264735410125, 'ici': 0.008938653801555898, 'can': 0.008860678405257533, 'blood': 0.008792847492585413, 'amino': 0.008742275428468652}\n"
     ]
    },
    {
     "name": "stderr",
     "output_type": "stream",
     "text": []
    },
    {
     "name": "stdout",
     "output_type": "stream",
     "text": [
      "350 Health and Computer Terminals {'vdt': 0.09746319793108081, 'termin': 0.06666666666666665, 'comput': 0.06666666666666665, 'health': 0.06666666666666665, 'keyboard': 0.036037153854899015, 'safeti': 0.032935392749693676, 'rsi': 0.0313805712675542, 'ergonom': 0.02723545319268847, 'displai': 0.027064492911062082, 'injuri': 0.026758748028770648, 'bee': 0.025917687883947483, 'video': 0.02566535718865033, 'occup': 0.024719515538833517, 'worker': 0.0234201723131231, 'wrist': 0.021639770066615674, 'icl': 0.01787133569370101, 'fresno': 0.017650665174407283, 'screen': 0.01697585286389841, 'repetit': 0.015811592509677928, 'newspap': 0.014363169353958236, 'newsdai': 0.013832870256129507, 'citi': 0.01355857117350412, 'strain': 0.012786733108732913, 'law': 0.011788703996171459, 'fibr': 0.011503758735964013, 'workplac': 0.011367300819310706, 'furnitur': 0.01100196786185577, 'work': 0.010960194004039999, 'york': 0.010821569539701151, 'guild': 0.010340650700829828, 'agno': 0.010041427444706156, 'toughest': 0.010037251785919021, 'autobrit': 0.010034323302400693, 'mous': 0.009941455822712698, 'monitor': 0.009887753882252638, 'brief': 0.00979796274486058, 'syndrom': 0.009631704250809572, 'adjust': 0.009471558307942225, 'pain': 0.00944796139155801, 'stress': 0.009276232745543844, 'workstat': 0.00888567823380424, 'studi': 0.008583251696763062, 'shoulder': 0.00808663469489028, 'design': 0.008067461652650694, 'postur': 0.007999135109350087, 'osha': 0.007882348193232858, 'labor': 0.007658085315073549, 'wire': 0.00763120745403444, 'pregnanc': 0.007458182148582931, '328341': 0.007425539136610958, '237753': 0.007314900320028664, 'height': 0.007291916909216806, 'brauer': 0.007275578738254947}\n"
     ]
    },
    {
     "name": "stderr",
     "output_type": "stream",
     "text": []
    },
    {
     "name": "stdout",
     "output_type": "stream",
     "text": [
      "351 Falkland petroleum exploration {'falkland': 0.19469398731698842, 'island': 0.07707427496045081, 'argentina': 0.06850033551471833, 'petroleum': 0.06666666666666665, 'explor': 0.06666666666666665, 'bueno': 0.038275815226736315, 'seismic': 0.03291108930699544, 'fkz': 0.02896107450656657, 'argentin': 0.02463155630676571, 'ypf': 0.02215324352264282, 'britain': 0.021569540379224, 'sovereignti': 0.020603387820937232, 'british': 0.020131537114001574, 'cbrbmaaeft': 0.019388307523480457, 'survei': 0.01859124900193365, 'air': 0.015466088030783462, 'barham': 0.014777226107831422, 'water': 0.0116763795058346, 'geolog': 0.010994815237853797, 'menem': 0.010795550100359177, 'dlfc8aesft': 0.010687154725171143, 'disput': 0.010182802586288522, '931202': 0.01016375684065759, '1982': 0.008851481684629832, 'sampson': 0.008810454548056233, 'talk': 0.00818638612101532, 'uk': 0.007927909999253588, 'studi': 0.007622975713003348, 'around': 0.007551258734851251, 'london': 0.007290133583465336, 'arz': 0.006979102264924457, 'p1311': 0.0069741985522196286, 'ga': 0.006775063890685298, 'govern': 0.006720303359036527, 'zone': 0.006615905615529324, 'joint': 0.006362921286663405, '02': 0.006270526686317847, 'kelper': 0.006184708020834231, 'fannin': 0.0061217876038403875, 'atlant': 0.005878429898205785, 'data': 0.005853000058099578, 'claim': 0.005711174947330682, 'pm2601124094': 0.005496467769843213, 'recognis': 0.005395136254465142, 'licenc': 0.005374621293251388, 'yacimiento': 0.005226527190609146, 'invas': 0.005193308654282303, 'privatis': 0.005142533849120182, 'legisl': 0.005055623261762402, 'minist': 0.005017331936180088, 'conflict': 0.004940854867585789, 'councillor': 0.0049073673853838595}\n"
     ]
    },
    {
     "name": "stderr",
     "output_type": "stream",
     "text": []
    },
    {
     "name": "stdout",
     "output_type": "stream",
     "text": [
      "352 British Chunnel impact {'british': 0.08457576746926078, 'impact': 0.07877793215257625, 'chunnel': 0.06666666666666665, 'orli': 0.041940642095954744, 'tunnel': 0.02639837688152923, 'ferri': 0.025288437551101845, 'meana': 0.02405545208748354, 'ripa': 0.024006634892362152, 'airport': 0.02127997258008229, 'darenth': 0.020452302375049126, 'br': 0.020278636026228192, 'eurotunnel': 0.020068926403866386, 'termin': 0.019376397513451788, 'price': 0.018859618678747348, 'm6': 0.01883296778381097, 'you': 0.018672929488594434, 'assess': 0.018315352493189413, 'folkeston': 0.017895833188766714, 'pound': 0.01741606138516395, 'midland': 0.017081498580278656, 'junction': 0.016872357266430292, 'airlin': 0.016834683059944712, 'cheeseright': 0.015261445926690332, 'cozett': 0.01495108080887441, 'villag': 0.014836626430911694, 'hous': 0.014636644239897276, 'airwai': 0.0142485515700328, 'fagg': 0.014120954146542753, 'journei': 0.014071092012049632, 'trip': 0.014042832152655739, 'eetcsabyft': 0.014039606320238271, 'court': 0.013450835209712231, 'motorwai': 0.013357008128660239, 'sangatt': 0.01335326441523113, 'have': 0.012343782168591515, 'birmingham': 0.012171581950804724, 'extend': 0.012127881851616928, 'victimis': 0.012103559873700327, 'near': 0.012096715928140567, 'travel': 0.011704868098044947, 'green': 0.01164808644199234, 'uk': 0.011386126319271453, 'properti': 0.011372791817313032, 'larg': 0.011209826128208967, '920110': 0.011200806736802757, '310': 0.011167606289663592, 'kent': 0.011157142514848324, 'flight': 0.011117261132298613, 'virgin': 0.010996807570250539, 'castellini': 0.010971760562296581, 'share': 0.010906006634118715}\n"
     ]
    },
    {
     "name": "stderr",
     "output_type": "stream",
     "text": []
    },
    {
     "name": "stdout",
     "output_type": "stream",
     "text": [
      "353 Antarctica exploration {'antarctica': 0.15961916924388356, 'explor': 0.09999999999999998, 'whale': 0.08308385956909412, 'miner': 0.039358265997347104, 'krill': 0.037148909121962025, 'ozon': 0.028803879278258934, 'moratorium': 0.027792107982979087, 'greenpeac': 0.02413512303416522, 'mine': 0.02406426419698319, 'sanctuari': 0.02265770750264963, 'scientist': 0.021400603644179842, 'research': 0.021015888796413782, 'treati': 0.017220545101626076, 'environ': 0.01552386329915463, 'madrid': 0.014778448970270502, 'antarct': 0.014706999106316582, 'ecolog': 0.014647530094771759, 'pgm': 0.01452504815963398, 'chile': 0.013522230112446833, 'extract': 0.013020440764555927, 'holdgat': 0.012593859905288569, 'austral': 0.012262488791554572, 'scientif': 0.012227949810517112, 'iwc': 0.012128729535941522, 'environment': 0.012004495825596618, 'hunt': 0.011846132601986076, 'mink': 0.011177751663103724, 'winter': 0.010868898141219926, 'contin': 0.010370233275700575, 'oil': 0.009830386509943917, 'telescop': 0.009535891681607237, 'wildlif': 0.009484417264406367, 'convent': 0.009258546821076382, 'astronom': 0.009200488724452565, 'solstic': 0.00883273723933913, 'ecosystem': 0.008808519567024558, 'wilder': 0.00855882221327064, 'jiang': 0.008509181495739341, 'ashdown': 0.008442354818976879, '285902': 0.008429941125224199, 'futur': 0.008393510880238922, 'rhodium': 0.008384260165884684, 'sunlight': 0.008297772721923342, 'atmospher': 0.008035193368436467, 'vicki': 0.008030495077723535, 'bdsbdae3ft': 0.008007027932221926, 'chlorofluorocarbon': 0.007943358299960825, 'environmentalist': 0.007928309705884373, 'pollut': 0.007914490622224738, 'ow2006142594': 0.00789945811858778, 'salut': 0.007769412118250854}\n"
     ]
    },
    {
     "name": "stderr",
     "output_type": "stream",
     "text": []
    },
    {
     "name": "stdout",
     "output_type": "stream",
     "text": [
      "354 journalist risks {'journalist': 0.11813351489473005, 'risk': 0.09999999999999998, 'xi': 0.035543033214111806, 'china': 0.029856517525009608, 'kong': 0.024956561079865585, 'hong': 0.024699637196226004, 'yang': 0.022870621231908982, 'aleanca': 0.02120742950443191, 'shanmugaratnam': 0.020914608866609896, 'frangaj': 0.02087598457893823, 'albania': 0.020800730919054683, 'secret': 0.020778523645443248, 'leka': 0.020732062015831953, 'freedom': 0.01995441671587951, 'vujasinov': 0.019286283402909228, 'singapor': 0.018352798750397515, 'albanian': 0.018188284256833193, 'zoysa': 0.017219897437847388, 'croatia': 0.016429191838465158, 'chines': 0.015666846791821606, 'koha': 0.015614255401349843, 'croatian': 0.01546139540838657, 'khoza': 0.014858302883649012, 'tirana': 0.014838349138029864, 'ihd': 0.014628980048668106, 'narco': 0.01426132449525295, 'zerhouni': 0.014113368374501806, 'kill': 0.014083816546786952, 'mostar': 0.014038365855773408, 'hostel': 0.014009846442327181, 'democraci': 0.01392399153381027, 'pao': 0.013858110238503482, 'hvo': 0.013835106170259556, 'ming': 0.013489255891688862, 'beij': 0.012861099368966143, 'arrest': 0.012851568053835012, 'sanction': 0.01282485215510437, 'dada': 0.01262236134293, 'zefi': 0.012502762773987314, 'keko': 0.012451612921055205, 'tortur': 0.012188115190382029, 'prosecut': 0.011187962025497808, 'hoehn': 0.010788913711521415, 'human': 0.010702674923775147, 'colleagu': 0.010617252904875116, 'yildiz': 0.0104462857443563, 'espectador': 0.010337519909994784, 'prison': 0.01027014048217828, 'ld0305231894': 0.010154202475841749, 'algier': 0.009885981439617882, 'mb1101121294': 0.009825282280778351}\n"
     ]
    },
    {
     "name": "stderr",
     "output_type": "stream",
     "text": []
    },
    {
     "name": "stdout",
     "output_type": "stream",
     "text": [
      "355 ocean remote sensing {'space': 0.06799843721946791, 'ocean': 0.06666666666666665, 'sens': 0.06666666666666665, 'remot': 0.06666666666666665, 'nasa': 0.03669049930683362, 'ukrain': 0.03589997803292446, 'research': 0.03315649115174412, 'radar': 0.029532797124993588, 'observ': 0.026498596301321523, 'earth': 0.021862555010062085, 'npt': 0.021086833197094437, 'er': 0.02042026998381774, 'envisat': 0.020009098604665047, 'cooper': 0.018998929080052785, 'pivdenn': 0.018711166532833765, 'ld0104102394': 0.0181970251795404, 'ukrainian': 0.018180838153146573, 'nkau': 0.01797364295400074, 'hough': 0.016828744152383078, 'calibr': 0.01632977004335968, 'radiomet': 0.01373817382701863, 'issledovaniy': 0.01352011124495043, 'kosmosa': 0.01352011124495043, 'imag': 0.01344253945390264, 'sciamachi': 0.01337708510390564, 'shuttl': 0.012854666628417883, 'zemli': 0.01281248881803303, 'gorbulin': 0.012437004695013132, 'asar': 0.012196482091097216, 'onboard': 0.01210500443642075, 'mode': 0.01184278838691002, 'rao': 0.011737147957752166, 'iz': 0.01166595877522367, 'paton': 0.011310645389871622, 'kiev': 0.011011581876395782, 'isro': 0.010763422554152424, 'sup': 0.010587251978505258, 'launch': 0.010358600171514768, 'techniqu': 0.01019587711230168, 'horbulin': 0.01015021727081735, 'surfac': 0.010048585235101277, 'bureau': 0.010012162168108659, 'sar': 0.009902887180110086, 'agenc': 0.009621041496631958, 'prof': 0.00959888145065426, 'spaceborn': 0.009366496224109925, 'ic': 0.009361813485118392, 'swath': 0.009303170279344934, 'pslv': 0.009261785481971818, 'jptac004__l94048': 0.0090985125897702, 'azimuth': 0.008948838996846512, 'yuzhnoy': 0.008884122530551274, 'jer': 0.008588871836284455}\n"
     ]
    },
    {
     "name": "stderr",
     "output_type": "stream",
     "text": []
    },
    {
     "name": "stdout",
     "output_type": "stream",
     "text": [
      "356 postmenopausal estrogen Britain {'calcium': 0.06831868783522024, 'postmenopaus': 0.06666666666666665, 'britain': 0.06666666666666665, 'estrogen': 0.06666666666666665, 'drug': 0.05193477047644124, 'estrapel': 0.035061685336599216, 'tamoxifen': 0.03444337886882083, 'estradiol': 0.027041136074435423, 'breast': 0.02656366132296944, '802': 0.026510368013055015, 'fda': 0.02628947389028424, 'cancer': 0.02343932225427739, 'pellet': 0.020790407630116706, 'mg': 0.017897444640236678, 'intak': 0.017706660776220726, 'bartor': 0.017530842668299608, 'healthi': 0.015210108280210716, 'adoles': 0.01516456617220029, 'decalcif': 0.01516456617220029, 'club4abift': 0.01516456617220029, 'applic': 0.015052549659135432, 'food': 0.014973087228377861, 'pharmac': 0.014701384659019821, 'bretz': 0.014342671374184377, 'export': 0.014164005453166033, 'coffe': 0.011819253135156223, 'mcgannon': 0.011796646257069048, 'antacid': 0.011206890038049973, 'alcohol': 0.011199893217931897, 'act': 0.010981161024612052, 'insead': 0.010487713568717517, 'approv': 0.010409942151545414, 'kale': 0.010283645888270906, 'docket': 0.010160018514947654, 'yoghurt': 0.010103233175220364, 'file': 0.010049055470680301, 'miner': 0.009969116734846704, '921221': 0.009952857821445171, 'hyph': 0.009544254897047738, 'sardin': 0.009461732089195955, 'porou': 0.009438344618761375, 'evalu': 0.00921590570215624, 'research': 0.009195336605634935, 'adulthood': 0.009188130101762487, 'you': 0.008927478356611535, 'limeston': 0.00884649513653272, 'leafi': 0.008782118599631232, 'hysterectom': 0.008765421334149804, 'excess': 0.008615057102046549, 'clot': 0.008584806867488368, 'b': 0.008573630718791544, 'oyster': 0.00857209638983724, '382': 0.008404419524187452}\n"
     ]
    },
    {
     "name": "stderr",
     "output_type": "stream",
     "text": []
    },
    {
     "name": "stdout",
     "output_type": "stream",
     "text": [
      "357 territorial waters dispute {'territori': 0.09105903076448177, 'disput': 0.0863311815513325, 'water': 0.06666666666666665, 'vietnam': 0.05120093719940927, 'island': 0.04033349800937966, 'spratli': 0.028460453851954205, 'oil': 0.025822786843905206, 'falkland': 0.023896230053502727, 'argentina': 0.022605431048188643, 'japanes': 0.022555050017945798, 'vietnames': 0.022287414540028708, 'kuril': 0.02177756171617137, 'rockal': 0.021123534157314758, 'china': 0.020947735648773908, 'mile': 0.020525447963967977, 'golhan': 0.01851698881795155, 'russia': 0.01840665534758709, 'creston': 0.018055036267720904, 'panov': 0.017167476746033677, 'sovereignti': 0.016296815339426333, 'russian': 0.015512614069727907, 'vielman': 0.015228880637580345, 'hanoi': 0.01484160564929011, 'interfax': 0.014688791184681544, 'south': 0.013925461594181315, 'violat': 0.01341872741629632, 'nansha': 0.012274278742785132, 'chines': 0.012105225186323634, 'bueno': 0.012016338571195316, 'zone': 0.011796769096100907, 'foreign': 0.011654549670108596, 'maritim': 0.011558679009271043, 'ld0402153894': 0.011113540464387015, 'levin': 0.01103226457140134, 'guatemala': 0.010711821186213553, 'kyodo': 0.010605572644110819, 'fkz': 0.010434923612957309, 'claim': 0.010223063933026234, '200': 0.010188455031670676, 'kiet': 0.010049417902363092, 'contract': 0.009794322135753854, 'thai': 0.00965593582077793, 'ow1805090594': 0.009631543310902116, 'dejckaflft': 0.009392549609773869, 'vo': 0.0093221928363256, 'japan': 0.009196891668489303, 'iceland': 0.009188653157593221, 'belizean': 0.00914964995700233, 'joint': 0.009106751822114654, 'nemuro': 0.009073666588500211, 'explor': 0.00907093036735199}\n"
     ]
    },
    {
     "name": "stderr",
     "output_type": "stream",
     "text": []
    },
    {
     "name": "stdout",
     "output_type": "stream",
     "text": [
      "358 blood-alcohol fatalities {'alcohol': 0.06666666666666665, 'fatal': 0.06666666666666665, 'blood': 0.06666666666666665, 'giunta': 0.05450650521500953, 'ornela': 0.034321887117980475, 'mann': 0.030747689445690354, 'rausi': 0.026590800093466177, 'she': 0.025366978515760915, 'deyna': 0.02495459668322642, 'vehicular': 0.02417075771946282, 'jagg': 0.023291527671324336, 'sentenc': 0.023120757296220207, 'manslaught': 0.022610169932811345, 'ewel': 0.021612538590014413, 'barsumyan': 0.02096799927790755, 'dusen': 0.017590675678144964, 'crash': 0.017115649792452975, 'toran': 0.01683433395512773, 'bonin': 0.01668716017516049, 'her': 0.016316917340350633, 'convict': 0.015831696475041634, 'car': 0.015560608008586736, 'sowel': 0.015439973348777598, 'trial': 0.015040248197389045, 'bencangei': 0.013997623152694148, 'chp': 0.013448926205658693, 'court': 0.013356748282609016, 'covei': 0.013356538807651181, 'dist': 0.013016687246710783, 'vallei': 0.012978096613116392, '0.10': 0.012217943210048737, 'conwai': 0.011995686385201305, 'atti': 0.011621387932160783, 'adkin': 0.011620394134580025, 'contrera': 0.011567529303316495, 'kill': 0.01147461895855131, 'judg': 0.011350453159092862, 'attornei': 0.011133582557411856, 'juror': 0.010914653733115374, 'lacei': 0.010872455457902781, 'level': 0.010684188306116402, 'dewei': 0.010621245300789395, 'killelea': 0.010490554830392374, 'murder': 0.010403149716369353, 'charvet': 0.010143556536259007, 'testifi': 0.010051594142371847, 'superior': 0.010010239733012509, 'charg': 0.00972302030563184, 'woman': 0.009073893223058233, 'oxenreid': 0.00888992914173336, 'prison': 0.008825831417011787, 'ventura': 0.008773199711441429, 'simi': 0.008706801966084433}\n"
     ]
    },
    {
     "name": "stderr",
     "output_type": "stream",
     "text": []
    },
    {
     "name": "stdout",
     "output_type": "stream",
     "text": [
      "359 mutual fund predictors {'fund': 0.16055527234355826, 'mutual': 0.11940541362268745, 'predictor': 0.06666666666666665, 'bogl': 0.058348816856683444, 'invest': 0.031364072685937744, 'index': 0.02793441725309358, 'vanguard': 0.027870185700845315, 'you': 0.02712243517314758, 'charg': 0.022602517148035836, 'fidel': 0.01888132989647375, 'expens': 0.017069382667547147, 'eeaaiadtft': 0.01637462548708542, 'reasingli': 0.015842797514450488, 'manag': 0.015771537062332586, 'hirsch': 0.015735116362270537, 'investor': 0.015663287109259152, 'portfolio': 0.015068376474511492, 'monei': 0.014534220962335198, 'trust': 0.013442534990902373, 'your': 0.013020705058448406, 'cost': 0.012757987299101686, 'life': 0.012639508573142581, '125bn': 0.012478483817879214, 'irwin': 0.01222997044410581, 'fee': 0.011830989896706695, 'stock': 0.01172518199139075, 'fan': 0.011028137454227125, 'term': 0.01053204165500419, 'ratio': 0.010506811984539533, '800': 0.010467944380054682, '940430': 0.010314729197327913, 'sing': 0.010045239840507508, 'p6722': 0.009786388732870544, 'load': 0.00970345196164563, 'perform': 0.009542391671994943, 'amp': 0.009405409014799878, 'yield': 0.00934872009779232, 'bond': 0.008499564510789285, 'intermedi': 0.007896498153737289, 'commiss': 0.007851116715368346, 'annual': 0.007679337057566846, 'individu': 0.007661559766513216, 'high': 0.007634608487277528, 'woodrow': 0.007135526529521274, 'litman': 0.007009520290665342, 'dreyfu': 0.007003644405626768, '7447': 0.006983167584716828, 'bacon': 0.006814203355917427, 'save': 0.0068125338064985, 'advis': 0.0067073456027603095, 'nl': 0.006694274683677526}\n"
     ]
    },
    {
     "name": "stderr",
     "output_type": "stream",
     "text": []
    },
    {
     "name": "stdout",
     "output_type": "stream",
     "text": [
      "360 drug legalization benefits {'drug': 0.21089494745688006, 'legal': 0.09757396846961748, 'benefit': 0.06666666666666665, 'lestel': 0.042253616229206044, 'jauvert': 0.03341570347166056, 'bennett': 0.03315388582315432, 'decrimin': 0.031067607222162515, 'addict': 0.02940193936029888, 'bedout': 0.02582450735780703, 'marijuana': 0.02472597549532592, 'abus': 0.019241063475544683, 'kendal': 0.018544798830451622, 'alcohol': 0.016861587378109184, 'argentina': 0.016641017165299855, 'samper': 0.01612373806060937, 'iglesia': 0.015116602437798658, 'traffick': 0.014782231737145577, 'walton': 0.014524957743081341, 'war': 0.012029120393138212, 'dealer': 0.011778861478381598, 'crack': 0.01164666167989234, 'py1503174194': 0.010881640211942468, 'pa2702045094': 0.01078596317913726, 'shultz': 0.010772097660087536, 'bueno': 0.010251266119345724, 'launder': 0.010096967654703897, 'czar': 0.010077024922827115, 'repent': 0.009408902186931778, '194504': 0.009298532548762664, 'blackmarr': 0.008996527491133182, 'user': 0.00868916042912196, 'problem': 0.00866760872999174, 'decter': 0.008480246435070336, 'heroin': 0.007833007321987764, 'argentin': 0.007746423642951471, 'galbraith': 0.007630104639712096, 'would': 0.007334357353788963, 'advoc': 0.007317692359232991, 'enforc': 0.007179942201751906, 'repress': 0.006823178472112225, 'schmoke': 0.006800499503329997, 'armageddon': 0.006589126989980747, 'pastrana': 0.006455587148781102, 'violenc': 0.006336764310715885, 'inner': 0.006300571636777223, 'cali': 0.00620300598670092, 'weddl': 0.006199436006308057, 'inravis': 0.006192789524613365, 'noticia': 0.006151401573844366, 'cannabi': 0.006122753268726192, 'rehash': 0.006107962557397376}\n"
     ]
    },
    {
     "name": "stderr",
     "output_type": "stream",
     "text": []
    },
    {
     "name": "stdout",
     "output_type": "stream",
     "text": [
      "361 clothing sweatshops {'cloth': 0.09999999999999998, 'sweatshop': 0.09999999999999998, 'sew': 0.08444098169784636, 'garment': 0.061577770068666327, 'otero': 0.03509760167074598, 'shop': 0.032280373195936435, 'labor': 0.03051897699339541, 'nguyen': 0.0282613082010255, 'orang': 0.02343382363137923, 'minimum': 0.023325033237777543, 'wage': 0.022602524336968435, 'she': 0.022010652237460147, 'solano': 0.021012114997756355, 'counti': 0.01992620833396512, 'owner': 0.018959116952654436, 'vietnames': 0.017579470018296406, 'licens': 0.01686840534969779, 'cubberli': 0.015603348131910827, 'nutter': 0.015512690674250118, 'sewn': 0.013971049355838552, 'law': 0.012871525637005332, '4.25': 0.012200198918954915, 'duong': 0.012128932465365996, 'said': 0.012093372645019897, 'welfar': 0.011694736615830419, 'inspector': 0.01130679520358379, 'her': 0.011257109044802968, 'atilano': 0.011046185590091632, 'label': 0.010545900267516355, 'ana': 0.010388672357314766, 'immigr': 0.009745778261352278, 'fashion': 0.009578751988707848, 'machin': 0.009133383572127923, 'valladar': 0.009116069357542738, 'efron': 0.008919960340379512, 'depart': 0.008777528058866297, 'governor': 0.008459280477482367, 'maldonado': 0.008395713253516972, 'violat': 0.008384019451080436, 'illeg': 0.008279394941002698, 'bonacich': 0.008210928556636136, 'investig': 0.007999754371431073, 'feder': 0.007880462977618949, 'contractor': 0.00783226354350054, 'fraud': 0.0078071809812643375, '261131': 0.007788316243944849, 'check': 0.007735118044916861, 'rolen': 0.007596919917344231, 'angel': 0.0075403359944070675, 'dress': 0.007527301987629256, 'sonni': 0.007467034097413676, 'monei': 0.007309625750776884}\n"
     ]
    },
    {
     "name": "stderr",
     "output_type": "stream",
     "text": []
    },
    {
     "name": "stdout",
     "output_type": "stream",
     "text": [
      "362 human smuggling {'smuggl': 0.09999999999999998, 'human': 0.09999999999999998, 'alien': 0.07864113771675567, 'immigr': 0.06604235275553103, 'smuggler': 0.05471033620960172, 'illeg': 0.05242015742374143, 'chines': 0.027694766037224212, 'in': 0.02750102941709891, 'emigr': 0.024499227437014943, 'arrest': 0.02281433337803622, 'gustafson': 0.019218906839206643, 'thakkar': 0.015829550808014237, 'angel': 0.015474591016446215, 'diego': 0.015432763046577964, 'agent': 0.015260373335750406, 'lo': 0.014627419258290676, 'san': 0.01435510615904814, 'aguilar': 0.014002202143760197, 'gregg': 0.013715261730501225, 'airport': 0.013704117943058517, 'motel': 0.012422908301513224, 'flight': 0.012093215624260013, 'ring': 0.011643743893313388, 'nagoya': 0.011256917739915807, 'passeng': 0.010934287123662617, 'freighter': 0.010828586534306793, 'boat': 0.010241467181951949, 'kong': 0.010165077706583705, 'hong': 0.010060429825270417, 'coast': 0.009658972329545708, 'compart': 0.00964013742503179, 'said': 0.009615118847697288, 'carlsbad': 0.009570027134090081, 'offici': 0.009437709442290877, 'brechtel': 0.009389317170912494, 'hk0603060994': 0.009181583343520566, 'patrol': 0.00876121437528115, 'suspect': 0.008481649420508545, 'crimin': 0.008416384777427365, 'ship': 0.008371627807667039, 'york': 0.008295101384862216, 'were': 0.008279092814367188, 'indict': 0.008238748864955165, 'truck': 0.008199165885019117, 'intercept': 0.008181431226936285, 'dfdb5aazft': 0.0078020089352016835, '102171': 0.00774273354580218, 'crackdown': 0.007551334140848046, 'guzman': 0.007474461484198, 'romero': 0.007410070461731394, 'atlanta': 0.007409681805469863, 'wakayama': 0.0073021607901999535}\n"
     ]
    },
    {
     "name": "stderr",
     "output_type": "stream",
     "text": []
    },
    {
     "name": "stdout",
     "output_type": "stream",
     "text": [
      "363 transportation tunnel disasters {'tunnel': 0.10965837938175224, 'disast': 0.06666666666666665, 'transport': 0.06666666666666665, 'fire': 0.03744828522567014, 'freewai': 0.03727179390835502, 'subwai': 0.029469694231444896, 'br': 0.02861264716831416, 'accid': 0.028569771698104526, 'pravetton': 0.02465659827024466, '172881': 0.020449476924960443, 'pilgrim': 0.01998614662426028, 'severn': 0.019985904529885603, 'arabia': 0.019199704246722266, 'york': 0.019010463353468888, 'saudi': 0.018616545152651025, 'injur': 0.01756049454582423, 'sprinter': 0.01637431776175291, 'crew': 0.016072301249020593, 'blast': 0.015754539278863913, 'car': 0.015426869616248296, 'railroad': 0.015086395102128398, 'hajj': 0.014948748383994782, 'midtown': 0.014346585657102718, 'astoria': 0.014025068343249809, 'explos': 0.0137740168980294, 'truck': 0.01360155593733036, 'waldorf': 0.01357422870175401, 'pilgrimag': 0.013453569950668633, 'mecca': 0.013141523026381635, 'crash': 0.013007346856172273, 'driver': 0.012511391416891489, 'turkei': 0.012500443157704664, 'junction': 0.012467916409265162, '244512': 0.012022875216594502, 'passeng': 0.011850953383923599, 'worker': 0.011122013672126299, 'commut': 0.010936238371915463, 'evacu': 0.010661336877781244, 'co10': 0.010620490688617479, 'pileup': 0.010615102693006306, 'blaze': 0.01060972558831478, 'licenc': 0.010457814367245827, 'train': 0.010431298391036976, 'safeti': 0.010238202698850792, 'wire': 0.010069284940018214, '122': 0.009629094366433305, 'p4011': 0.009628601376464966, 'hurt': 0.009622082433682, 'seymour': 0.009573296057323141, '1,426': 0.009481297012365336, '6f': 0.009334864262789198, 'ellbeabpft': 0.009199371259959874}\n"
     ]
    },
    {
     "name": "stderr",
     "output_type": "stream",
     "text": []
    },
    {
     "name": "stdout",
     "output_type": "stream",
     "text": [
      "364 rabies {'rabi': 0.25475572658077944, 'dog': 0.04701813897525244, 'bat': 0.04039397349856336, 'kyonggi': 0.02690651168578925, 'kikinda': 0.023885592582874753, 'oman': 0.021799410901520266, 'kangwon': 0.021472720710903496, 'skunk': 0.021097924256730537, 'fox': 0.020941059826629676, 'outbreak': 0.020551636322586827, 'case': 0.0194471086721946, 'cholera': 0.01938327969077811, 'di': 0.018888850993713787, 'cat': 0.017017335118159848, 'provinc': 0.016070511089265018, 'infect': 0.015601297278633167, '327731': 0.015421952280107282, 'migrant': 0.015193650880521454, 'sk0203014594': 0.015056604990258377, 'leishmaniasi': 0.014931483000497235, '17234': 0.014577087751859156, 'hwachon': 0.013687119842236323, 'epidem': 0.013504948663394745, 'oregon': 0.012905474552743308, 'wild': 0.012889707861728487, 'mexican': 0.012778635824942763, 'jackal': 0.01244127578191776, 'kizer': 0.012251519129224927, 'monument': 0.011969591007751667, 'marksmen': 0.011958855733168417, 'olivenhain': 0.011861408910245966, 'bitten': 0.011606609069916597, 'chorwon': 0.011549522253581544, 'mcandrew': 0.011331358479367925, 'schaffner': 0.011328043439153758, 'tep': 0.011300853975069967, 'cow': 0.010818381301112616, 'spanish': 0.010752012854475398, 'au2202141594': 0.010311038594308737, 'muscat': 0.010088396780331636, 'lao': 0.010087844843741367, 'sao': 0.010052507539218082, 'paulo': 0.01002768409027028, 'boi': 0.009653694425824044, 'hepat': 0.009296353095273059, 'worker': 0.00924230385191406, 'revaccin': 0.00921489769244027, 'death': 0.009015332561582861, 'title:epidemiolog': 0.008931068159110994, 'ek2cxaebft': 0.008731702598334315}\n"
     ]
    },
    {
     "name": "stderr",
     "output_type": "stream",
     "text": []
    },
    {
     "name": "stdout",
     "output_type": "stream",
     "text": [
      "365 El Nino {'nino': 0.16739204585062406, 'el': 0.14667142549008882, 'weather': 0.03753629780524369, 'drought': 0.03565646074351806, 'warm': 0.035041156888707785, 'water': 0.02473169960353161, 'disast': 0.023200028662392864, 'australia': 0.021296671771066564, 'ocean': 0.02124556038533299, 'pacif': 0.020739414164295103, 'temperatur': 0.02062590757504435, 'injuri': 0.017102035143485027, 'rain': 0.016808067500842384, 'hyph': 0.016495450131369493, 'storm': 0.01520541147302877, 'kouski': 0.015110041649733614, 'fish': 0.014533522750541048, 'crop': 0.014391985226019722, 'fishmeal': 0.014284989348924308, 'fishermen': 0.014024505178710112, 'phenomenon': 0.01378921714443125, 'california': 0.012902886643260024, 'climat': 0.012583091552552479, 'lagoon': 0.012055899152140677, 'small': 0.01201816220705507, 'area': 0.011156454156982885, 'dorado': 0.011119114792681553, 'beach': 0.010890782215918621, 'tern': 0.01087878014736729, 'contigu': 0.010809250723018667, 'agricultur': 0.010772569168635431, '59002': 0.010532500619166878, 'sugar': 0.010477282206716291, 'loan': 0.010358481015455093, 'degre': 0.01010018452551021, 'meteorologist': 0.009988318199358052, 'forecast': 0.009874979483251757, 'winter': 0.009814582672737382, 'counti': 0.009574439164481278, 'czarnikow': 0.009510066069876316, 'elig': 0.009461819000743839, 'tropic': 0.009417615166204794, 'erskin': 0.009210083289391888, '8025': 0.009180950685725102, 'wind': 0.009140402285959347, 'elsewher': 0.008871872148274928, '76155': 0.00858676524350063, 'normal': 0.008389846111530435, 'effect': 0.008334221446155306, 'econom': 0.00810670541941585}\n"
     ]
    },
    {
     "name": "stderr",
     "output_type": "stream",
     "text": []
    },
    {
     "name": "stdout",
     "output_type": "stream",
     "text": [
      "366 commercial cyanide uses {'commerci': 0.06666666666666665, 'us': 0.06666666666666665, 'cyanid': 0.06666666666666665, 'mine': 0.05073591842102407, 'gold': 0.03855647587499177, 'bsc': 0.03598489425585449, 'baetz': 0.021471821741235637, 'summitvil': 0.02037861690812581, 'or': 0.020370148383796142, 'leach': 0.019960362632895527, 'cake': 0.019575974615967957, 'mg': 0.019563970349784337, 'newmont': 0.019493859822121082, 'filter': 0.01937684102125102, 'bp': 0.01926022995995478, 'kasman': 0.018861470250227524, 'water': 0.018029174060237355, 'navi': 0.01764696921994811, 'chemic': 0.017484332275435308, 'reservoir': 0.01678300103939802, 'electrod': 0.016429650376602694, 'sodium': 0.016412845505828843, 'labbitt': 0.01627073964172189, 'spill': 0.016258160521406, 'concentr': 0.015398085908929, 'plate': 0.01537249468025084, 'heap': 0.015188608657831275, 'bird': 0.014869486128702567, 'jacob': 0.014424202801831917, 'sub': 0.014418140781238814, 'carter': 0.013600884681379544, 'plant': 0.01294407252877784, 'dam': 0.012604683609303356, 'ut': 0.012459469192811693, 'gallon': 0.01241999997665029, 'sewer': 0.012275608436345986, 'solut': 0.011643857108017297, 'metal': 0.011389942231868462, 'juneau': 0.011279635193745849, 'barker': 0.011224107554767531, 'ashanti': 0.011178597323601543, 'yanacocha': 0.010936845954084786, 'convict': 0.01075723217672462, 'pantil': 0.010345896236723969, 'artcraft': 0.010177753965110925, \"d'alen\": 0.010167148156066229, 'nevada': 0.00993031244026283, 'illeg': 0.009873498997175979, 'thiourea': 0.009690044924247647, 'iran': 0.009551991286600302, 'coeur': 0.009177330226422009, 'marcelo': 0.008933695110275709, 'samuel': 0.008860916852443}\n"
     ]
    },
    {
     "name": "stderr",
     "output_type": "stream",
     "text": []
    },
    {
     "name": "stdout",
     "output_type": "stream",
     "text": [
      "367 piracy {'piraci': 0.19999999999999996, 'singapor': 0.033621599470781326, 'kong': 0.031339408604019264, 'hong': 0.03101677430581829, 'malacca': 0.030944561606164656, 'aqabah': 0.02951725726402197, 'china': 0.02760822787018325, 'ship': 0.026502155146473718, 'indonesia': 0.026341668272656594, 'imo': 0.025160813141998452, 'strait': 0.02507826952266003, 'sea': 0.024770962872179052, 'mitropoulo': 0.024764961310061166, 'maritim': 0.01975874357166059, 'jana': 0.018072762009524495, 'vessel': 0.017668829748942457, 'attack': 0.017154604487475737, 'malaysia': 0.016893778963130397, 'port': 0.016891931553183248, 'u.': 0.016774939169879263, 'indonesian': 0.016697751906519665, 'imb': 0.016359489211426832, 'incid': 0.01572282922892695, 'ld2903175994': 0.015394777281835538, 'naval': 0.014804061916178135, 'patrol': 0.01277292339974853, 'boat': 0.012502468016404639, 'navi': 0.01234950594651342, 'lumpur': 0.012231960093920372, 'kieran': 0.012230002115950269, 'kuala': 0.012217088279243594, 'chines': 0.01204432767121275, 'tang': 0.012031732968700738, 'smuggl': 0.011898295427210588, 'warship': 0.011056388878441995, 'south': 0.01067523311037975, 'water': 0.0100658511234003, 'english': 0.01006563560924217, 'bk0906161194': 0.009187400750404797, 'thimio': 0.008996316017628833, 'dcacuabcft': 0.008969430794606123, 'admir': 0.008887332320220214, 'collis': 0.008515367330565222, 'report': 0.00846420571568878, 'philippin': 0.008452329523363568, 'al': 0.008417388299756077, 'tripoli': 0.008396540206108916, 'cook': 0.007857055168024858, 'drnes063_d_94004': 0.007697388640917769, 'mar': 0.007642371951272687, 'jordanian': 0.0075143022053722796}\n"
     ]
    },
    {
     "name": "stderr",
     "output_type": "stream",
     "text": []
    },
    {
     "name": "stdout",
     "output_type": "stream",
     "text": [
      "368 in vitro fertilization {'fertil': 0.1652836591875138, 'vitro': 0.09999999999999998, 'embryo': 0.09674689349089725, 'egg': 0.04235151169024187, 'davi': 0.03956622709862455, 'ivf': 0.02489284656902808, 'implant': 0.02267631769544399, 'coupl': 0.02027441602785421, 'frozen': 0.019560625166034375, 'pregnanc': 0.019353902320179292, 'sue': 0.018896377854438696, 'sperm': 0.018437225463155946, 'babi': 0.016519337744262425, 'divorc': 0.016402785436829742, 'hertig': 0.01595264070085805, 'werlin': 0.015750667731915507, 'genet': 0.01532980909429241, 'tube': 0.014890949934102364, 'mari': 0.013583687477535331, 'infertil': 0.013468344555632606, 'custodi': 0.013306609808187146, 'surrogaci': 0.013088134895749774, 'husband': 0.012597399350917854, 'insemin': 0.012473263929076935, 'reproduct': 0.012404828930708293, 'womb': 0.012234485558211034, 'woman': 0.0120928885530698, 'children': 0.012073789551964469, 'junior': 0.01186059900298387, 'birth': 0.01167741181601659, 'fallopian': 0.011451406355219122, 'maryvil': 0.009953965260442855, 'judg': 0.009397742004857506, 'right': 0.00934856867716152, 'parent': 0.008598072981362588, 'case': 0.008564932810113243, 'fatherhood': 0.008154217745123938, 'hospit': 0.008056770432069288, 'lewi': 0.008000138851322062, 'artifici': 0.007834194853618413, 'quadruplet': 0.007570966041236269, 'medic': 0.007346201579835964, 'gynecolog': 0.00723299611317578, 'research': 0.0072050002419718345, 'ratnam': 0.007090899477124136, 'barragan': 0.006928325769295531, 'medicin': 0.006896567515812385, 'conceiv': 0.006738253966752855, 'fleischman': 0.006720838707532028, 'miscarriag': 0.006672695108630138, 'seven': 0.006489608871616624}\n"
     ]
    },
    {
     "name": "stderr",
     "output_type": "stream",
     "text": []
    },
    {
     "name": "stdout",
     "output_type": "stream",
     "text": [
      "369 anorexia nervosa bulimia {'anorexia': 0.11465917013433347, 'nervosa': 0.08825858540509776, 'bulimia': 0.06666666666666665, 'eat': 0.04252402532289276, 'disord': 0.039506166809898824, 'diet': 0.03692968708162488, 'opiat': 0.035252561564109997, 'rigbi': 0.030556473444899986, 'women': 0.02881894044014842, 'karen': 0.02420274367021439, 'weight': 0.02053584186060879, 'carpent': 0.018631386058291594, 'she': 0.018573111645197534, 'patient': 0.018318450561715913, 'callawai': 0.018241347736456862, 'album': 0.01671837508734052, 'endorphin': 0.015843447601539624, 'wiesner': 0.015746378108292512, 'johnson': 0.015395392993156475, 'i': 0.014945364797354449, 'solomon': 0.014550953816637558, 'committe': 0.014319890514765439, 'teen': 0.014199755874924344, '232231': 0.014058715454678539, 'calori': 0.013859250543919514, 'gymnast': 0.011895170269646416, 'neil': 0.01097902383698561, 'meet': 0.01095370144606254, 'jaglom': 0.010913465234863357, 'advisori': 0.010744992631979823, 'hospit': 0.010645887021222775, 'psychiatr': 0.010432814593828131, 'ager': 0.010327351963032591, 'solo': 0.01021888152833509, 'research': 0.009900214541859402, 'hear': 0.009838036880468894, 'marrazzi': 0.009760038124358866, 'outgrow': 0.009734958914631962, 'fda': 0.009720798438551689, 'richard': 0.009574416853790355, '97323': 0.009443043925461842, \"she'll\": 0.00921711870478428, 'appetit': 0.008940406238738602, 'drug': 0.008727515551415108, 'portion': 0.008585883509846355, 'hyph': 0.008292782825831345, 'ramon': 0.008156981608250891, 'open': 0.008137115749429295, 'medic': 0.008006057348285222, 'addict': 0.007813333824869255, 'rochest': 0.007727325238703306}\n"
     ]
    },
    {
     "name": "stderr",
     "output_type": "stream",
     "text": []
    },
    {
     "name": "stdout",
     "output_type": "stream",
     "text": [
      "370 food/drug laws {'drug': 0.06666666666666665, 'food': 0.06666666666666665, 'law': 0.06666666666666665, 'label': 0.05531331846360871, 'fda': 0.04331321480927913, 'patent': 0.04293574613567008, 'nutrit': 0.03461777398822737, 'dmf': 0.03342691483945641, 'dietari': 0.029489139672597267, 'reg': 0.02048373625331111, 'trademark': 0.020474468810326607, 'phase': 0.01983287954586322, 'regulatori': 0.019790392790177122, 'folat': 0.017905927287003142, 'comment': 0.017489620761242247, 'period': 0.017059885917906338, 'carcinogen': 0.01604448800429489, 'bean': 0.015623911781446918, 'review': 0.015219514080915292, 'petit': 0.015203603070780336, 'vitamin': 0.01491556832481316, 'determin': 0.014602616583768213, 'claim': 0.014494933119491273, 'extens': 0.014460392285754445, 'zerit': 0.013875003282613672, '505': 0.013616996597461071, 'nutrient': 0.013382825558162594, 'shellfish': 0.013157927278586945, 'propos': 0.013106253013180814, '1993': 0.013044899570898986, 'molluscan': 0.012841957239913155, 'applic': 0.011525933817083209, 'supplement': 0.011456936553628944, 'menhaden': 0.011175959108844837, 'folic': 0.010940113833403835, 'neural': 0.010906821713038846, 'pirsu': 0.01064775739665603, 'workshop': 0.010132952547309622, 'cholesterol': 0.010079095885507292, 'pesticid': 0.010074258638978921, 'defect': 0.010072318184110725, 'betaseron': 0.009965392415261419, 'docket': 0.009710147766166523, 'amend': 0.009336199295501639, 'ident': 0.009207341398548069, 'date': 0.009127456584378395, 'ingredi': 0.0090966936558295, 'clinic': 0.009096452451545773, 'contain': 0.00886325671382575, 'potenc': 0.008501975011873285, 'antioxid': 0.008206049182791407, 'chd': 0.00807811146318664, '1990': 0.008074867315778908}\n"
     ]
    },
    {
     "name": "stderr",
     "output_type": "stream",
     "text": []
    },
    {
     "name": "stdout",
     "output_type": "stream",
     "text": [
      "371 health insurance holistic {'insur': 0.1059858106410608, 'health': 0.09651648258602873, 'holist': 0.06666666666666665, 'clinicar': 0.05526201469499612, 'medic': 0.04889480505500403, 'coverag': 0.03949175126229997, 'medicar': 0.03548899092003218, 'care': 0.024319358497324264, 'strasbourgeois': 0.024237769328332492, 'cover': 0.02168733162981553, 'therapi': 0.020942094377566126, 'blanch': 0.02078448392986465, 'you': 0.017355415781368493, 'cart': 0.01705407088581602, 'mutuel': 0.016148159623600812, 'blue': 0.01530471449748424, 'penman': 0.01529773383499982, 'physician': 0.014952458746054215, 'cross': 0.014798066327185467, 'russian': 0.014349403464710545, 'premium': 0.013555806455693912, 'offer': 0.013418547875066794, 'benefit': 0.01311295862016371, 'physic': 0.013109688264988645, 'diagnost': 0.013078902900910315, 'hospit': 0.012482965428428654, 'depanaedft': 0.012118884664166246, 'procedur': 0.01099657945077942, 'consum': 0.010637285755867882, 'citizen': 0.010620772534290597, '2,526': 0.01016291050334805, 'exclud': 0.00997311220757877, 'patient': 0.009946557925897666, 'condit': 0.009825747973259132, 'cost': 0.009796924824634408, 'club': 0.00977649370755249, 'employ': 0.009732719389354452, 'physiotherapi': 0.00966702474081581, 'hewitt': 0.009300113766752641, '1,315': 0.009235344423102294, 'dentist': 0.009184761779412402, 'bollert': 0.0088920966654785, 'servic': 0.008703967752626983, 'outpati': 0.008686588620174022, 'optician': 0.008600543015648788, 'furnish': 0.008581142770038823, 'feder': 0.008580249995745795, 'nurs': 0.008298355033998742, 'life': 0.008188454315578427, '1,598': 0.008128239469470049, 'employe': 0.008068676418964497}\n"
     ]
    },
    {
     "name": "stderr",
     "output_type": "stream",
     "text": []
    },
    {
     "name": "stdout",
     "output_type": "stream",
     "text": [
      "372 Native American casino {'casino': 0.1264964104793573, 'indian': 0.08279532029095941, 'gambl': 0.0689201311065487, 'nativ': 0.06666666666666665, 'american': 0.06666666666666665, 'mohawk': 0.05575460553684056, 'reserv': 0.03752400229234254, 'tribal': 0.026108354716444283, 'york': 0.02309831821406938, 'itt': 0.02193088842605274, 'tribe': 0.019286323762808383, 'regi': 0.019248689603700946, 'pequot': 0.018817459398691117, 'ladbrok': 0.018329943510998016, 'tarbel': 0.016553890564526868, 'state': 0.015127902987290493, 'canadian': 0.014424675124793321, 'dollar': 0.014047872939959141, 'foxwood': 0.013516996791557365, 'riverboat': 0.012766491648921472, 'wampanoag': 0.011545919192195284, 'violenc': 0.011360472228711614, 'vote': 0.011277889761183208, 'caesar': 0.010890308519681877, 'raid': 0.010545345257846745, 'narragansett': 0.009495664435913181, 'game': 0.009248269893888513, 'straddl': 0.008895737923757918, 'polic': 0.008698109487896712, 'evacu': 0.008516576885998528, 'canada': 0.008492690541345617, 'connecticut': 0.008460527003590781, '92251': 0.008359078059105482, '102934': 0.008218851085226185, 'legalis': 0.008022192555251804, 'bingo': 0.00794226443367044, 'cuomo': 0.007872504551218008, 'side': 0.007638891160438504, 'nation': 0.0075531346437441695, 'warrior': 0.007527046659701266, 'cdollar': 0.0074384467919476355, 'bet': 0.0071885127222047224, 'race': 0.007158798095230685, 'galleri': 0.0071314058816395135, 'st': 0.007069001246905917, 'new': 0.0067810960939964915, 'carniv': 0.006749699631539633, 'windsor': 0.006648501814730874, 'acr': 0.006348592976403686, '210934': 0.006317387355930706, 'brief': 0.006277443511444811, 'land': 0.006248028868463852}\n"
     ]
    },
    {
     "name": "stderr",
     "output_type": "stream",
     "text": []
    },
    {
     "name": "stdout",
     "output_type": "stream",
     "text": [
      "373 encryption equipment export {'encrypt': 0.10348829025304712, 'export': 0.09955535053330998, 'cryptograph': 0.07355907838658356, 'equip': 0.06666666666666665, 'fip': 0.057818821391911246, 'standard': 0.04538934885431673, 'modul': 0.03146446782681022, 'clipper': 0.026846829667229802, 'hyph': 0.022728889008168964, '140': 0.021255036053214174, 'pub': 0.019619148575500133, 'nist': 0.019538062195972213, 'chip': 0.016785074216946198, 'commerc': 0.016563774506469463, 'fax': 0.016347461381785465, 'feder': 0.015744515509642062, 'requir': 0.014570895981533147, 'licens': 0.014145357910509984, 'agenc': 0.013924290500335555, 'approv': 0.012645317603093207, 'u.': 0.012597646953799788, 'comput': 0.012575016351382121, 'meteor': 0.01180991569486607, 'applic': 0.011082782403906498, 'categori': 0.010877710599637217, 'superhighwai': 0.010789359146490533, 'interoper': 0.010744526074482657, 'unclassifi': 0.010652538114178078, 'algorithm': 0.010621621269075893, 'gp': 0.01059874127159283, 'semiconductor': 0.010557628000338465, 'administr': 0.010395884116229256, 'gore': 0.00986018320578319, 'arrang': 0.009855435204664817, '123.16': 0.009410103059175976, 'secur': 0.009395489768957467, 'navig': 0.00927142447975203, 'scrambler': 0.009071273801885084, 'pgp': 0.008365151130543244, 'washington': 0.008300273019002378, 'waiver': 0.008212825268595805, 'shall': 0.008170333807041909, 'license': 0.00790717364367031, 'std': 0.007801996357297095, 'b': 0.007713450353266026, 'govern': 0.0076332019270804454, '1': 0.007614342671791956, 'depart': 0.007410255211432096, 'cantwel': 0.007366860169736914, 'specifi': 0.007341443317017797, 'alli': 0.007338736584280009}\n"
     ]
    },
    {
     "name": "stderr",
     "output_type": "stream",
     "text": []
    },
    {
     "name": "stdout",
     "output_type": "stream",
     "text": [
      "374 Nobel prize winners {'nobel': 0.06666666666666665, 'prize': 0.06666666666666665, 'winner': 0.06666666666666665, 'tho': 0.044396679382959395, 'becker': 0.0399018144994083, 'dalai': 0.02851955650125512, 'laureat': 0.02761376944416745, 'lama': 0.02672234787958998, 'chemistri': 0.025741477227727586, 'rostropovich': 0.024988379939705544, 'univers': 0.023392255945257484, 'beckett': 0.020841373137725425, 'cech': 0.02049819626074805, 'jobless': 0.01737898292813723, 'dehmelt': 0.01684634028596476, 'atom': 0.016686325408510377, 'charpak': 0.016125128548547196, 'rna': 0.015956171138795088, 'hi': 0.015551872489490451, 'columbian': 0.015251744323828524, 'ca': 0.015249837601148836, 'teresa': 0.014863413093432296, 'vietnam': 0.01470127705418059, 'bant': 0.014685038167831161, 'gere': 0.014340800235783503, 'econom': 0.013722330182413409, 'school': 0.013597672833726477, 'ramsei': 0.013526824208283142, 'morrison': 0.01348553895987603, 'discoveri': 0.013113105212232396, 'altman': 0.012953231720043801, 'divorc': 0.012844502412685498, 'dfkb5aajft': 0.0127695856246115, 'clock': 0.012649427610901596, 'thailand': 0.01262085621515206, 'godot': 0.012547289076936525, 'cesium': 0.012284512281472499, 'game': 0.011504530431580498, 'birmingham': 0.011413557950904448, 'he': 0.01122484947537689, 'theori': 0.011209712603544204, 'skill': 0.011013662052437775, 'harsanyi': 0.0108061708097003, 'fogel': 0.01078619923566164, 'chicago': 0.010758505473420062, 'duc': 0.010757170094644983, 'stockholm': 0.010727788897862536, 'simon': 0.010693732146104952, 'europ': 0.010607643450163573, 'bellow': 0.010582733646055328, 'prof': 0.01054820664114782, 'translat': 0.010535760114119726, '1970': 0.010462119144746143}\n"
     ]
    },
    {
     "name": "stderr",
     "output_type": "stream",
     "text": []
    },
    {
     "name": "stdout",
     "output_type": "stream",
     "text": [
      "375 hydrogen energy {'energi': 0.12031843944204011, 'hydrogen': 0.09999999999999998, 'fusion': 0.08652740648458034, 'solar': 0.04628556924554721, 'research': 0.04446286465720617, 'tritium': 0.026263889924827956, 'reactor': 0.025823435615657434, 'eniricerch': 0.025447719010961867, 'nuclear': 0.0239173787002977, 'engin': 0.021429753543583473, 'experi': 0.021168573358590306, 'ansa': 0.01825325769297033, 'deuterium': 0.016442020490388766, 'mazda': 0.015546539773148321, 'scientist': 0.015182625162231851, 'iter': 0.015118507510887261, 'univers': 0.014351542387557106, '94ws0332b': 0.013929085468650133, 'we': 0.013266632649444186, 'adhl': 0.012518491432578686, 'inf': 0.012427413492194029, 'thermoelectr': 0.012418675312148436, 'rome': 0.012332160520021724, 'laboratori': 0.012090806995645237, 'ld0612154393': 0.011913492120149983, 'eisenbeiss': 0.011403087545507807, 'hysolar': 0.011403087545507807, 'element': 0.011178284240754604, 'project': 0.01110564845718283, 'fleischmann': 0.011032566360670413, 'nuclei': 0.010775442730593146, 'pon': 0.010737299366356558, 'plasma': 0.010672837706621377, 'lgr': 0.0106654772001087, 'vellon': 0.01058721863006085, 'microorgan': 0.010510764450104959, 'saudi': 0.010319499249744464, 'sun': 0.010266094638323939, 'clean': 0.009841747310540744, 'earth': 0.00978046196955296, 'car': 0.009775469667281213, 'tripoli': 0.009746693351000606, 'ansaservic': 0.009667837916764226, 'ocean': 0.009524676584582925, 'yamanouchi': 0.009404749383533154, 'power': 0.009274451567680492, 'italian': 0.00907696586815361, 'br0701153194': 0.009076847053657779, 'al': 0.00898470842650657, 'mi0701153194': 0.008885626746436975, 'atom': 0.008866175041462988}\n"
     ]
    },
    {
     "name": "stderr",
     "output_type": "stream",
     "text": []
    },
    {
     "name": "stdout",
     "output_type": "stream",
     "text": [
      "376 World Court {'world': 0.09999999999999998, 'court': 0.09999999999999998, 'libya': 0.06618366762754573, 'nuclear': 0.03666086937349266, 'libyan': 0.03432544507089422, 'jamahiriyah': 0.028131383908264213, 'chad': 0.027486903857288594, 'hagu': 0.02541697599539406, 'nujoma': 0.024536225569376135, 'intern': 0.02370347646127965, 'statement': 0.021482531395455577, 'aouzou': 0.020914787417719627, 'bomb': 0.019579413063001008, 'soviet': 0.018958810491955504, 'justic': 0.01809704422726471, 'arm': 0.017523519563840857, 'tripoli': 0.017072164983579396, 'ebgc7afyft': 0.01653278612559971, 'nicaragua': 0.016386242965674393, 'sanction': 0.015376793107479842, 'noriega': 0.015129053302819787, 'u.n': 0.014609901460917441, 'tdz': 0.014159926378956654, 'weapon': 0.01370143391940932, 'africa': 0.01336036981513318, 'icj': 0.013238851615459755, 'arab': 0.012596931403001261, 'bush': 0.012454714647311165, 'lyz': 0.012351912884444365, 'kyodo': 0.011464018270343155, 'japan': 0.0112408425030185, 'swapo': 0.011226680167484942, 'border': 0.011016732371253168, 'submit': 0.010878265486753474, 'violat': 0.010848954173071981, 'us': 0.010772967932790237, 'rule': 0.01076039481543469, 'lithuania': 0.010423251601435164, 'lockerbi': 0.01024374827858659, 'nagasaki': 0.010166299753625832, '940204': 0.010133275468666155, 'ow0506135394': 0.009806557089578425, 'atom': 0.009646605185127197, 'resolut': 0.009616525299411191, 'boutro': 0.009597968367203927, 'law': 0.009492940372346803, 'contra': 0.009291775433208757, '28201': 0.009076827939806398, 'jana': 0.008807854248828243, 'ow0606104294': 0.00857063246529905, 'airlin': 0.00853522640994101, 'human': 0.008409519734226528}\n"
     ]
    },
    {
     "name": "stderr",
     "output_type": "stream",
     "text": []
    },
    {
     "name": "stdout",
     "output_type": "stream",
     "text": [
      "377 cigar smoking {'cigar': 0.11804527729926564, 'smoke': 0.09999999999999998, 'tobacco': 0.053775706631826015, 'proposit': 0.040380628696485205, 'tabacalera': 0.039238496612654314, '99': 0.03758324383233372, 'health': 0.02843981841587693, 'cohiba': 0.027957548439771853, 'cubatabaco': 0.02415736881693598, 'cigarett': 0.02141520074380609, 'tax': 0.020986978855933272, 'havana': 0.01903242528340899, 'deukmejian': 0.018360906436770432, 'shanken': 0.018110001073495755, 'dhaababqft': 0.01702509369553309, 'monei': 0.016985676908311167, 'castro': 0.016448990095291903, 'p2131': 0.015810257658438465, 'hurwitz': 0.01579293194692709, 'beach': 0.014453068872072842, 'davidoff': 0.014271381798464797, 'cumberleg': 0.014106571340673217, 'bill': 0.013879476644818624, 'smoker': 0.013624812602137751, 'schielein': 0.013270008834531489, 'perez': 0.012923807756294184, 'puff': 0.012702871460051154, 'cuba': 0.012353355931722793, 'california': 0.012251482185616919, 'maddi': 0.012227305123414398, 'ritz': 0.012045306142087034, 'cuban': 0.012032987085772546, 'p2121': 0.011101116993813859, '930731': 0.010836433679676051, 'orang': 0.01079401306434636, 'counti': 0.01072826985629523, 'brand': 0.01065085713626788, 'shuit': 0.010353175916993706, 'hospit': 0.010311434368551522, 'fidel': 0.009652609345406613, 'pack': 0.009644579084930743, 'snuff': 0.009452283490745457, 'baro': 0.009164934357835452, 'warn': 0.009138821855390085, 'indig': 0.008562273107112698, 'trauma': 0.00847193684294526, 'legislatur': 0.008407918576296277, 'p2111': 0.00839438803460433, 'roll': 0.008392553769851192, 'coalit': 0.008138399976281489, 'lawmak': 0.008115013321932046}\n"
     ]
    },
    {
     "name": "stderr",
     "output_type": "stream",
     "text": []
    },
    {
     "name": "stdout",
     "output_type": "stream",
     "text": [
      "378 euro opposition {'opposit': 0.09999999999999998, 'euro': 0.09999999999999998, 'currenc': 0.04579151101382726, 'european': 0.043827082141064455, 'german': 0.03915590495798802, 'singl': 0.033844657629633235, 'monetari': 0.033208603568076346, 'germani': 0.030179957133760343, 'union': 0.027654088753266803, 'europ': 0.026989359000387788, 'kohl': 0.026546189706423834, 'emu': 0.02604035398256198, 'franc': 0.022399678163319295, 'french': 0.021929832667584588, 'british': 0.021839520045127667, 'eu': 0.02099818350849529, 'referendum': 0.019873046413875536, 'poll': 0.019565615482677812, 'cent': 0.01714801950682177, 'spd': 0.015874446033174904, 'per': 0.015231542097711685, 'sovereignti': 0.014502156042501109, 'aitken': 0.012415931844562442, 'bonn': 0.01220543753050163, 'speech': 0.012121083961044195, 'scottish': 0.01198718571179341, 'thatcher': 0.011796605498942993, 'santer': 0.01150740129018756, 'integr': 0.011130810748342775, 'mark': 0.010566609367889893, 'econom': 0.009938521202405716, 'le': 0.009490189764639759, 'chancellor': 0.009459034402694001, 'favour': 0.009457942806955758, 'sterl': 0.009086751504128812, 'voter': 0.009000099767376262, 'nation': 0.008922224389806794, 'fear': 0.008720404561397012, 'bundesbank': 0.008614847117514798, 'power': 0.008588776717023273, 'polici': 0.008569173317603157, 'differ': 0.008520722232623375, 'jacqu': 0.008424671858698142, 'lefranc': 0.008101670445530456, 'lillei': 0.007715256479608339, 'ye': 0.0076276772187674055, 'd': 0.007531392118108939, 'pm0606120894': 0.007265437881310004, 'cbvaeaenft': 0.007263349990684759, 'widen': 0.007140436257014647, 'renegoti': 0.007117421188691981, 'erm': 0.007113184975871538}\n"
     ]
    },
    {
     "name": "stderr",
     "output_type": "stream",
     "text": []
    },
    {
     "name": "stdout",
     "output_type": "stream",
     "text": [
      "379 mainstreaming {'mainstream': 0.19999999999999996, 'student': 0.049520983256824816, 'handicap': 0.04467639437685014, 'educ': 0.038903824980240746, 'school': 0.038370812513818534, 'parent': 0.03279107360812244, 'teacher': 0.029516025092865713, 'children': 0.027814582018236257, 'regular': 0.021547871576812472, 'impair': 0.021211373501186126, 'special': 0.020440482630151312, 'class': 0.019957126998679447, '304403': 0.018594285030510433, 'englelmen': 0.018594285030510433, 'program': 0.01736203013553941, 'schoolchildren': 0.016680977863427357, 'debbi': 0.016658883578544115, 'hear': 0.015586524523194221, 'orang': 0.015335886434690194, 'extracurricular': 0.014586193808452852, 'ritter': 0.014513741664309077, 'metro': 0.014089314338171061, 'famili': 0.013515641601714982, 'counti': 0.012994317768028908, 'we': 0.012351781319857123, '304704': 0.012305423490653255, 'marcotti': 0.012305423490653255, 'deaf': 0.012004415907496164, 'district': 0.011970425127597195, 'pendulum': 0.011181691206692858, 'kanod': 0.011162764740006076, 'marci': 0.010550107152114772, 'candid': 0.010426584612700122, 'prepar': 0.009878321315133887, 'gala': 0.009783363774540596, 'trend': 0.009677182414338929, 'letter': 0.009600801333638078, 'hawthorn': 0.009248343573340869, 'sarah': 0.009244142020348475, 'expertis': 0.009225612367562877, '143': 0.009202765761141912, 'hanov': 0.008880315775831179, 'hampar': 0.008842473119507295, 'particip': 0.008809244561427221, 'jeannin': 0.008705357931118892, 'univers': 0.008701152539393867, 'goal': 0.008691963604768382, 'peer': 0.008676050503653982, 'irvin': 0.008633033519065185, 'seagren': 0.00846850701577093, 'intervent': 0.008210119490765565}\n"
     ]
    },
    {
     "name": "stderr",
     "output_type": "stream",
     "text": []
    },
    {
     "name": "stdout",
     "output_type": "stream",
     "text": [
      "380 obesity medical treatment {'obes': 0.11508745899379408, 'medic': 0.06666666666666665, 'treatment': 0.06666666666666665, 'rue': 0.04398152041128795, 'exercis': 0.041309629002299564, 'ftc': 0.03062851839553409, 'clinic': 0.027567508300834917, 'food': 0.025685378260663486, 'she': 0.023423213535618263, 'met': 0.023412366241298888, 'drug': 0.019575389690748558, 'physic': 0.01932012701001046, '79481': 0.01857829462992188, 'fit': 0.01737038046763736, 'diego': 0.01579918923241749, 'her': 0.015527660964846778, 'adult': 0.01546446291107588, 'diabet': 0.014487003552943406, 'survei': 0.014432685226063094, 'vigor': 0.014358908411615133, 'fda': 0.014152969805809604, 'older': 0.014052146961819445, 'walk': 0.013528566808296925, 'minut': 0.013477197164796837, 'pumpernickel': 0.013377715273711325, 'firm': 0.013173014128013819, 'fat': 0.012863457308557168, '65': 0.01257025107731305, '1984': 0.012339671509877345, 'avocado': 0.012155309976151246, 'sugar': 0.012144371798681568, 'cck': 0.012011837541973113, 'san': 0.011969677394304372, 'ag': 0.011927597862702189, 'synthroid': 0.011805194915322031, 'weight': 0.01168565415509162, 'aerob': 0.011634832238828774, 'ssri': 0.011036424232515694, 'metabol': 0.010906834808309743, 'cdc': 0.01086393884254755, 'peptid': 0.010814712074081148, '20': 0.010788674578271155, '90': 0.010622155853772484, 'complaint': 0.010547853126299835, 'colon': 0.0105378759780349, 'atlanta': 0.01041948472776539, 'american': 0.010305383973075436, 'olestra': 0.010069851199336129, 'unlik': 0.0097415259932351, 'abundantli': 0.009727667183197168, 'goal': 0.009713103228552573, 'gut': 0.009692019707810503}\n"
     ]
    },
    {
     "name": "stderr",
     "output_type": "stream",
     "text": []
    },
    {
     "name": "stdout",
     "output_type": "stream",
     "text": [
      "381 alternative medicine {'medicin': 0.09999999999999998, 'altern': 0.09999999999999998, 'buddhist': 0.04430745458668033, 'diseas': 0.03282496533477901, 'isol': 0.029876774122261696, 'patient': 0.029699814442639378, 'anemia': 0.026242828588044134, 'centorx': 0.024706988162221145, 'symposium': 0.024263250988700948, 'aid': 0.02387467893640885, 'precaut': 0.02324148132685566, 'xinhua': 0.022884028086611937, 'cure': 0.022007747941360012, 'ow1812074793': 0.02032567736277704, 'china': 0.01942160678951691, 'healer': 0.01928734228631479, 'treatment': 0.01843038628904186, 'beij': 0.018204888906131745, 'clinic': 0.017429638392060992, 'ow2405185194': 0.016597179184996192, 'defici': 0.016441430890646116, 'chines': 0.015491861975880136, 'hospit': 0.015316892963415618, 'wuyishan': 0.014931660524101387, 'fujian': 0.013386277597721761, 'iron': 0.013024867036901736, 'toothpast': 0.012929384795918703, 'aguilar': 0.012913657314077882, 'infect': 0.0129050297497222, 'lilli': 0.012335618805585076, 'provinc': 0.012106852594776042, 'radiat': 0.011949888960249448, 'prednison': 0.011676705425420134, 'implant': 0.01132634555426667, 'centocor': 0.011296957681773018, 'angioplasti': 0.011208957757128098, 'tradit': 0.010805744236288922, 'hiv': 0.010710181528666186, 'thyroid': 0.010697616323478959, 'utig': 0.010632104651125173, 'expert': 0.010505588765431503, 'bush': 0.010188096269588047, 'jptep001___94013': 0.01016283868138852, 'weixu': 0.01016283868138852, 'chongji': 0.00959856888295438, 'califf': 0.00956181406297718, 'cdc': 0.009513026422657452, 'senil': 0.009288770960437117, 'sod': 0.009194855709522822, 'categori': 0.008790761782245003, 'manual': 0.0087848181720799, 'centoxin': 0.008533253514783836}\n"
     ]
    },
    {
     "name": "stderr",
     "output_type": "stream",
     "text": []
    },
    {
     "name": "stdout",
     "output_type": "stream",
     "text": [
      "382 hydrogen fuel automobiles {'automobil': 0.06666666666666665, 'hydrogen': 0.06666666666666665, 'fuel': 0.06666666666666665, 'daimler': 0.06395445271781719, 'cell': 0.05359718141354798, 'benz': 0.037823713026405525, 'car': 0.032694850553767536, 'ballard': 0.030339325427142773, 'technolog': 0.028416449534594032, 'ulm': 0.027694422397404092, 'catalyst': 0.024887023635293822, 'batteri': 0.022806556247092154, 'combust': 0.021910005166042905, 'weul': 0.021262653956657766, 'research': 0.021177186410848745, 'gaseou': 0.01699434648964516, 'power': 0.016724630069938285, 'mazda': 0.016030471095337027, 'electrod': 0.015721923824180386, 'iceland': 0.015132950498854263, 'pollut': 0.013988772708578512, 'hythan': 0.012682979029119013, '94ws0332b': 0.012634896243969927, 'sup': 0.012329225151161284, 'oxid': 0.012219281980132115, 'fusion': 0.012163355625024313, 'abacu': 0.012048908457754543, 'platinum': 0.012046376057335093, 'air': 0.011682625589234337, 'electr': 0.01143617356157758, 'kikinzoku': 0.011371012185750895, 'german': 0.010700867583275752, 'germani': 0.010647361121376186, 'membran': 0.010353130247352241, 'hartmut': 0.010278108265608512, 'van': 0.010002485208143196, 'lgr': 0.009674518698237237, 'vellon': 0.009603531344833348, 'giri': 0.009140715856559824, '94ws0335a': 0.009077607207948953, 'tillmetz': 0.009077607207948953, 'motor': 0.009067628892307698, 'experiment': 0.008664166419716025, 'prototyp': 0.008565641522284518, 'produc': 0.008493074311765868, 'zero': 0.008490331471312286, 'kg': 0.008413130599429948, 'fossil': 0.008187054363535477, 'automot': 0.008061812678436519, 'yamanouchi': 0.00803270418477424, 'electrolyt': 0.00797079046633442, 'compani': 0.007865440904484978, 'temperatur': 0.007860542390126742}\n"
     ]
    },
    {
     "name": "stderr",
     "output_type": "stream",
     "text": []
    },
    {
     "name": "stdout",
     "output_type": "stream",
     "text": [
      "383 mental illness drugs {'drug': 0.12386608419322936, 'ill': 0.06666666666666665, 'mental': 0.06666666666666665, 'prozac': 0.06554046364425184, 'hydergin': 0.0316159739211367, 'patient': 0.030540994932098164, 'alzheim': 0.028831658196567862, 'lilli': 0.02652686154249208, 'wesbeck': 0.02185155924302931, 'karter': 0.02177720784009264, 'rowland': 0.020222981430589027, 'pharmaceut': 0.01991157499263435, 'sandoz': 0.019080345788681966, 'clozapin': 0.017825755006094096, 'placebo': 0.01775923535734027, 'compuls': 0.016993288585360256, 'clomipramin': 0.016880536081852134, 'clozaril': 0.016353751978141363, 'caremark': 0.015771349586131644, 'paraphilia': 0.015432030003470282, 'lynch': 0.014739159685897521, 'tha': 0.014153890211278726, 'brain': 0.01396364449195976, 'graedon': 0.01342869139765216, 'ries': 0.013317421506773562, 'prescript': 0.013277382799306596, 'medicin': 0.013186450839968554, 'suit': 0.012636638648025958, 'paraphil': 0.011870792310361757, 'eli': 0.011852708443173456, 'psychiatrist': 0.011837096109180354, 'camarillo': 0.011078817041023445, 'obsess': 0.010934232429694355, 'doctor': 0.010668608530926046, 'schizophren': 0.010560282196982436, 'receptor': 0.010433470605220367, 'mathai': 0.010388385671827852, 'behavior': 0.010334363120237439, 'court': 0.00979294590920586, 'price': 0.009783331755559475, 'neurolept': 0.009478130977311615, 'kramer': 0.009011528178247729, '324452': 0.008965888917700891, 'joseph': 0.008785107134410042, 'kemper': 0.008540543622288078, 'kentucki': 0.008460236563216907, 'schizophrenia': 0.008348816326408189, 'medic': 0.008346989771207281, 'glazer': 0.008162421546634078, 'sexual': 0.008063231048120194, 'blood': 0.007821388728915498, 'involuntarili': 0.007662417824756873}\n"
     ]
    },
    {
     "name": "stderr",
     "output_type": "stream",
     "text": []
    },
    {
     "name": "stdout",
     "output_type": "stream",
     "text": [
      "384 space station moon {'space': 0.09419698928006709, 'station': 0.06666666666666665, 'moon': 0.06666666666666665, 'esa': 0.02892805294155092, 'cordel': 0.028815385959788928, 'balloon': 0.028753642298188803, 'h': 0.028573190435223023, 'ton': 0.025685814115318457, 'reactor': 0.024123263154712124, 'expedit': 0.024036496957142228, 'mar': 0.02279727399807454, 'rocket': 0.021957372896980357, 'fiscal': 0.020966507911685344, 'bugbe': 0.019919480456015427, 'shuttl': 0.019473027366053913, 'launch': 0.018222658451237914, 'ga': 0.017765623326963877, 'superplast': 0.01756245604267022, 'spend': 0.01734110300395358, 'soil': 0.016663580269086882, '649': 0.016285193288787688, '285024': 0.01617918717041519, '444': 0.014854627182565146, 'capabl': 0.014791215850034598, 'project': 0.014590804644034415, 'program': 0.014431897148761228, 'senat': 0.014344922938462165, '105854': 0.014183652385429502, 'salisburi': 0.014060479430236077, 'japan': 0.01367452733672915, 'sunlight': 0.012937567209032198, 'nasda': 0.01274101814156673, 'mennicken': 0.012266761398753843, 'vehicl': 0.012095567313766275, 'brief': 0.012079366109570309, 'develop': 0.012032666820979067, 'yen': 0.011928050288441584, 'author': 0.011831676496038591, 'dara': 0.011663694962522385, 'propos': 0.01130564370613193, 'metric': 0.0112379649624484, '44': 0.011210633898616424, '100': 0.011182390675892377, 'settlement': 0.010503255063046332, '284991': 0.010362913208502647, 'ow1406105394': 0.010263777114245748, 'pressur': 0.009854926399110214, 'research': 0.009851934004919547, 'hydropon': 0.009654032575159727, 'oxygen': 0.009625656238930838, 'q': 0.009440577106496269, 'ok': 0.00941816673232639}\n"
     ]
    },
    {
     "name": "stderr",
     "output_type": "stream",
     "text": []
    },
    {
     "name": "stdout",
     "output_type": "stream",
     "text": [
      "385 hybrid fuel cars {'car': 0.1184400710317627, 'batteri': 0.09882777839715808, 'hybrid': 0.07804124619605106, 'fuel': 0.06666666666666665, 'hydrogen': 0.042211901956175614, 'electr': 0.03451607756343549, 'petrol': 0.020601671610390927, 'motor': 0.019513374175558623, 'daimler': 0.0188424901094971, 'wheel': 0.01848918418239961, 'drive': 0.018134736959117107, 'power': 0.017515815625599302, 'speed': 0.017457951458504272, 'engin': 0.017143023218886794, 'nickel': 0.016797884572719204, 'combust': 0.01596834788026497, 'turbin': 0.015261837643959298, 'ford': 0.015001193092337554, 'superdr': 0.014810058629499454, 'mcgee': 0.014353701749095477, 'recharg': 0.014196948933861937, 'callawai': 0.012907948793436022, '94ws0332b': 0.012874331519471245, 'miti': 0.012506739245243212, 'pollut': 0.011660091220228593, 'alabac': 0.011550321009691968, 'buse': 0.01110304161080927, 'cvt': 0.011086093965245212, 'micro': 0.011033549226536873, 'convent': 0.010957243354362248, 'blundr': 0.010933856446325751, 'lb': 0.010718098106105097, 'spijker': 0.010588871581703345, 'eindhoven': 0.010508482462552142, 'volvo': 0.010417746416089928, 'esr': 0.01032181528669057, 'driven': 0.010180804706751367, 'frankfurt': 0.00990857924349129, 'vellon': 0.009785521297812436, 'ulm': 0.009784932535001518, 'onan': 0.009641729942066194, 'moc': 0.00937773888320359, 'cng': 0.00920521577397161, 'emiss': 0.009187441238573325, 'ecc': 0.009127349070266477, 'gasolin': 0.008855987215984564, 'tandem': 0.00885164351631557, 'acid': 0.008785965462111925, 'amp': 0.00853663304176973, 'litr': 0.008468814620460197, 'research': 0.008341451554787539}\n"
     ]
    },
    {
     "name": "stderr",
     "output_type": "stream",
     "text": []
    },
    {
     "name": "stdout",
     "output_type": "stream",
     "text": [
      "386 teaching disabled children {'teach': 0.06666666666666665, 'children': 0.06666666666666665, 'disabl': 0.06666666666666665, 'child': 0.06263955645393533, 'preschool': 0.04044085568201606, 'music': 0.03485862305073908, 'student': 0.03157239610647468, 'iep': 0.027562876758491558, 'class': 0.023115585599665964, 'school': 0.022603718016383712, 'environ': 0.020089153750832374, 'csc': 0.02005854148373725, 'gate': 0.01932598156035016, 'makaton': 0.01867530816762757, 'educ': 0.016981987292356737, 'read': 0.016849551043410963, 'classroom': 0.016412000258467292, 'arrang': 0.01597760852485993, 'irvin': 0.015959476120245546, 'virtual': 0.015004449124451327, 'morri': 0.014852591859213582, 'desktop': 0.014192163589429947, 'vr': 0.013912800768391168, 'her': 0.013653072382720101, 'model': 0.013514862001184142, 'user': 0.01342429755974759, 'ulrich': 0.013298933075537292, 'therapi': 0.013150267345328301, 'disord': 0.013020143744988812, 'zanger': 0.012916590996219602, 'product': 0.01279565560254433, 'dyslexia': 0.012608226980289515, '65,000': 0.011645530620495696, 'jennif': 0.011632619143284863, 'kiwan': 0.011557368992283039, 'hyperact': 0.011280200867582196, 'screen': 0.011245299096719494, 'wong': 0.011124899705490035, 'borczon': 0.011107707557183077, '36661': 0.011035845019249677, 'stalei': 0.010723675310657335, 'virart': 0.010651400693930755, 'placement': 0.010610022711783365, 'instrument': 0.0103719322007666, 'softwar': 0.010340662860663336, 'behavior': 0.010074586072385214, 'hop': 0.00989016278203107, 'gatewai': 0.00972406326693584, 'realiti': 0.009626731752880957, '8730': 0.00961310308093041, 'skill': 0.009564394732931795, 'csun': 0.009358085781852526, 'develop': 0.009354432850322923}\n"
     ]
    },
    {
     "name": "stderr",
     "output_type": "stream",
     "text": []
    },
    {
     "name": "stdout",
     "output_type": "stream",
     "text": [
      "387 radioactive waste {'radioact': 0.09999999999999998, 'wast': 0.09999999999999998, 'glass': 0.038663269908093184, 'savannah': 0.035927232432849225, 'nira': 0.03308783717964602, 'stort': 0.03082069844400477, 'dambr': 0.025911737774331214, 'ei': 0.02416841755931145, 'river': 0.020663311306589705, 'process': 0.020017783726062967, 'vitrifi': 0.019869531597218673, 'immobil': 0.01968466411073835, 'melter': 0.01865833044478938, 'hungari': 0.01752102819371262, 'sst': 0.01745859854379871, 'br0905095194': 0.017274491849554145, 'inciner': 0.016830187064193043, 'environment': 0.01569527740497829, 'calixaren': 0.015583516567052284, 'concret': 0.015124529506209307, 'tv1': 0.015071376143054337, 'cesium': 0.015032281313373131, 'hungarian': 0.01466456307483905, 'dst': 0.014487613222377894, 'radiokhimiya': 0.014430903150950448, 'brtn': 0.014424955466721524, 'composit': 0.01440525178137516, 'pm0405151494': 0.013920028041680977, 'kjeller': 0.013920028041680977, 'kommers': 0.013796220227366969, 'loam': 0.013683336446398218, 'swedish': 0.013623850936663358, 'mgal': 0.013149326452455732, 'buri': 0.012764397275094558, 'decamp': 0.01261482307500678, 'altern': 0.012209765820368383, 'sorbent': 0.01220726033822523, 'plant': 0.012013400942308095, 'store': 0.011921679155400745, 'programmat': 0.011816309193952086, 'mk0804094094': 0.011639092762159695, 'norwegian': 0.011529794793827989, 'barrel': 0.011394700932669182, 'compress': 0.010814804946622694, '937m0174r': 0.010636208743095241, 'matric': 0.01051297031550028, 'action': 0.010474994901383239, 'vitrif': 0.01043226044797217, 'plutonium': 0.01015251108280986, 'geolog': 0.009957915544953887, 'molecul': 0.009863185444171921, 'chernomyrdin': 0.00947374637240684}\n"
     ]
    },
    {
     "name": "stderr",
     "output_type": "stream",
     "text": []
    },
    {
     "name": "stdout",
     "output_type": "stream",
     "text": [
      "388 organic soil enhancement {'organ': 0.07802229813888434, 'enhanc': 0.06666666666666665, 'soil': 0.06666666666666665, 'garden': 0.04254402123332454, 'biotal': 0.03531997331224492, 'fertil': 0.0306967048482877, 'sludg': 0.02910794045064022, 'strawberri': 0.028886703092859334, 'crop': 0.028640995804174615, 'compost': 0.02509804303045733, 'dundon': 0.02461673580737382, 'rose': 0.02368376718993319, 'plant': 0.02129156396576842, 'fertilis': 0.020751183177226063, 'veget': 0.020692562783664836, 'farmer': 0.019900913592106474, 'farm': 0.01961667960781253, 'hectar': 0.019183752197646453, 'cabbag': 0.017550754641900514, 'punga': 0.01687473063486501, 'alpin': 0.016734737257140492, 'seed': 0.01669441720231852, 'zeke': 0.014348703929737564, 'transplant': 0.013613608390049839, 'pandol': 0.013338636475199356, 'grower': 0.012721677060574078, 'bloom': 0.012636604101654153, 'produc': 0.012599941239888092, 'grown': 0.012404492543181211, 'manur': 0.012215272068168833, '766716': 0.011773324437414974, 'ed2daackft': 0.011773324437414974, 'cereal': 0.011671886701917848, 'root': 0.0115488197179111, 'your': 0.011546726106874789, 'estonia': 0.011491711579804994, 'aitken': 0.01100371989320959, '10ppm': 0.010737252578913692, 'flower': 0.010736730519970632, 'funghi': 0.010591877196729056, 'spring': 0.010336788726539493, 'water': 0.010230650651804594, 'pesticid': 0.00988826819607538, 'hybrid': 0.009755586441679337, 'shale': 0.009738797297033612, 'woodchip': 0.00965019137048132, 'contain': 0.009556971463562089, 'broccoli': 0.009387993756446935, 'ifad': 0.009173298543771339, 'cauliflow': 0.008916705440058645, 'grow': 0.008848894352242889, '0222': 0.008519733479726491}\n"
     ]
    },
    {
     "name": "stderr",
     "output_type": "stream",
     "text": []
    },
    {
     "name": "stdout",
     "output_type": "stream",
     "text": [
      "389 illegal technology transfer {'technolog': 0.07871696315503403, 'transfer': 0.06666666666666665, 'illeg': 0.06666666666666665, 'ferranti': 0.05896925498320289, 'guerin': 0.04706464664644133, 'iraq': 0.03742702704051832, 'export': 0.035338092402372116, 'isc': 0.03490117032580514, 'bnl': 0.031569471588260185, 'jaei': 0.024046700029904385, 'missil': 0.022921939456429317, 'nandori': 0.02051278940619515, 'indict': 0.017869729754353535, 'iraqi': 0.016898178605549246, 'hoffman': 0.01669120321400132, 'toshiba': 0.015492548978886342, 'arrest': 0.01538663823564373, 'militari': 0.014713973174108259, 'ld1306151794': 0.014530976712678762, 'mr': 0.014510203539773933, 'jasin': 0.014222541660657027, 'manual': 0.013306643363389499, 'posei': 0.013275023344949725, 'inman': 0.013153431256854673, 'defenc': 0.013070357304501238, 'german': 0.012953404314851747, 'sikorski': 0.012275812726471838, 'khadi': 0.012153828945069703, 'sentenc': 0.01212942782411059, 'equip': 0.01189749818443743, 'capacitor': 0.011838631302056958, 'bush': 0.011702888849472277, 'cia': 0.011496649060088215, 'itar': 0.011346176329352264, 'japan': 0.01124669391204413, 'striker': 0.010758844030647264, 'charg': 0.010751891539272543, 'fleet': 0.010393570590966711, 'tass': 0.010258892844423058, '147323': 0.010256394703097575, 'board': 0.01012414496656856, 'japanes': 0.009825235588526294, 'arm': 0.009790574934881245, 'atlanta': 0.00957904572699235, 'ohlson': 0.009503603851606647, 'prison': 0.009158397887173644, 'convict': 0.009032586493494085, 'smuggl': 0.008929316704193979, 'prosecutor': 0.008884275838956518, 'had': 0.008655264041358798, 'salzburg': 0.008569804646688502, 'panic': 0.008564306650353785}\n"
     ]
    },
    {
     "name": "stderr",
     "output_type": "stream",
     "text": []
    },
    {
     "name": "stdout",
     "output_type": "stream",
     "text": [
      "390 orphan drugs {'drug': 0.19812686851583733, 'orphan': 0.09999999999999998, 'epo': 0.051648458987008906, 'amgen': 0.041047739559596785, 'azt': 0.039241193305011766, 'patient': 0.033463890293015, 'diseas': 0.031132349566965225, 'fda': 0.03044628031820902, 'ddi': 0.02130087763307947, 'kidnei': 0.020055325908654015, 'anemia': 0.019250911482300653, 'research': 0.019076646072539248, 'approv': 0.01767466141584192, 'dialysi': 0.015138220811201057, 'treatment': 0.014565024258504328, 'aid': 0.014405270410118107, 'genentech': 0.014309817035372156, 'disord': 0.013640613469117211, 'rare': 0.013241181565371808, 'atnativ': 0.012800595735712843, 'baxter': 0.012251997082885789, 'trial': 0.01149146053858744, 'health': 0.01091837994584921, 'therapi': 0.010822745591531298, 'blood': 0.010168823368404639, 'infect': 0.009913540012111224, 'pharmaceut': 0.00987266078685595, 'actimmun': 0.009707926775193327, 'medic': 0.009572523273463165, 'bristol': 0.009370372105276512, 'cancer': 0.009365493984106589, 'cystic': 0.009287008381352877, 'studi': 0.009227913211574216, 'fibrosi': 0.0092178065644509, 'clot': 0.008861236425155839, 'antivir': 0.00882067415018496, 'prograf': 0.008715069036461473, 'viru': 0.008689944635912597, 'transplant': 0.008648351448656937, 'physician': 0.00864091716595075, 'healthcar': 0.008393282218911866, 'hecht': 0.008269852678075866, 'immun': 0.00820222853445697, 'mice': 0.007986687164020602, 'clinic': 0.00794978213315729, 'treat': 0.007875413730277408, 'compani': 0.007679999347440904, 'pediatr': 0.007530591429356186, 'develop': 0.007388781784518176, 'market': 0.007332814532972811, 'rat': 0.00725979561938903}\n"
     ]
    },
    {
     "name": "stderr",
     "output_type": "stream",
     "text": []
    },
    {
     "name": "stdout",
     "output_type": "stream",
     "text": [
      "391 R&D drug prices {'drug': 0.10006092559733645, 'price': 0.07080182582180904, 'pharmaceut': 0.06717199080764209, 'd': 0.04999999999999999, 'r': 0.04999999999999999, 'healthcar': 0.027286502345738862, 'pfizer': 0.02540829158565702, 'compani': 0.024075756838659635, 'amp': 0.0233043217892251, 'japanes': 0.021989106519710203, 'fujisawa': 0.020858919055077654, 'research': 0.02065815388483215, 'develop': 0.02003093964345992, 'schere': 0.018989282467430205, 'compound': 0.018914027414751077, 'dr': 0.01866864119733329, 'market': 0.01841238054364634, 'medicin': 0.017995127201747813, 'biotechnolog': 0.016476501289711554, 'plough': 0.016155699380178617, 'merck': 0.015876107678298595, 'glaxo': 0.015627420662984212, 'cent': 0.015368423632828474, 'japan': 0.015205180871338994, 'innov': 0.015090264830758855, 'smithklin': 0.013937641646622, 'sankyo': 0.01372432169225216, 'per': 0.013616214856484657, 'prograf': 0.013161030909407663, 'ringros': 0.012954144493166961, 'product': 0.012775611471935634, 'syntex': 0.012715112312763977, 'beecham': 0.012630789250474096, 'manufactur': 0.012186441234216772, 'increas': 0.010877045070111144, 'us': 0.010857233052439444, 'transplant': 0.010723491628742988, 'yamanouchi': 0.01038429443135607, 'dollar': 0.010323782986012307, 'daiichi': 0.010241153389844616, 'abraham': 0.00995274917010542, 'rebat': 0.009800551223170967, 'eisai': 0.008526807117936488, 'pressur': 0.008520082393414638, 'group': 0.008489751773422883, '1980': 0.007240628371599798, 'sai': 0.007142382513052376, 'hertfordshir': 0.0071094827646520425, 'dismai': 0.007003658208054377, 'discoveri': 0.0069862189105650676, 'growth': 0.0068716477552301985, 'europ': 0.0068219403128093395}\n"
     ]
    },
    {
     "name": "stderr",
     "output_type": "stream",
     "text": []
    },
    {
     "name": "stdout",
     "output_type": "stream",
     "text": [
      "392 robotics {'robot': 0.339938453241961, 'weld': 0.08906590617212881, 'odet': 0.0359747288831729, 'esab': 0.03275443110464256, 'arc': 0.024747526645878988, 'andro': 0.020381529307761083, 'igm': 0.018390641476849094, 'gmfanuc': 0.018243063534582913, 'mannequin': 0.01699442960564309, 'motor': 0.015155129984267707, 'spot': 0.014867467178581421, 'automot': 0.014547500428694425, 'paint': 0.014365000609166373, 'supplier': 0.014147364028863683, 'sprai': 0.014031150845471428, 'robotis': 0.012882206388704104, 'langner': 0.012296061990796628, 'supercomput': 0.012167309569133911, 'android': 0.01213054259159442, 'gm': 0.011394936211637098, '94p60099a': 0.011144243536230655, 'mattucci': 0.010499122389279747, 'bomb': 0.010381861274224082, 'vehicl': 0.01006755402223966, 'storag': 0.009969692839896968, 'sai': 0.009549112961917837, 'casc': 0.009544771632764685, 'custom': 0.009494007297034354, 'model': 0.009306001032711937, 'manufactur': 0.009149333467109352, 'converi': 0.008804041740538712, 'surgeon': 0.008744806400704732, 'percent': 0.008544444284400463, 'plant': 0.008485668934306618, 'industri': 0.008301314822040582, 'cassett': 0.008168272971483133, 'jingyu': 0.007835728013817067, 'camera': 0.007763380922944376, 'human': 0.007735167066406566, 'more': 0.007702424527225047, 'robodoc': 0.007681661408521355, 'fuzzi': 0.007660706046998556, 'engelberg': 0.0076142093540009495, '94ws0317a': 0.007528037755266251, 'ow2501224694': 0.007421024543112269, 'instal': 0.007397019752058676, 'cltalac0ft': 0.0073179777113474885, '11,795': 0.007283536220836648, '6460': 0.007221040737754499, 'stereoscopi': 0.007208456533295312}\n"
     ]
    },
    {
     "name": "stderr",
     "output_type": "stream",
     "text": []
    },
    {
     "name": "stdout",
     "output_type": "stream",
     "text": [
      "393 mercy killing {'kill': 0.09999999999999998, 'merci': 0.09999999999999998, 'cruzan': 0.054083354779579686, 'linar': 0.041063813454110414, 'patient': 0.03936878855459994, 'euthanasia': 0.02925474975089995, 'her': 0.025171208843135992, 'roeder': 0.023222439254088574, 'pain': 0.02140670124484341, 'she': 0.02061752592830038, 'wife': 0.02015331449796394, 'nurs': 0.0196853026888339, 'william': 0.01890355959858732, 'medic': 0.018165104381696388, 'death': 0.017905545965544518, 'boegl': 0.017729686554221774, 'die': 0.01758750698214909, 'nanci': 0.01726694811112492, 'delbert': 0.01723649296960013, 'zala': 0.016961309136343618, 'gilbert': 0.016749535602609278, 'murder': 0.016504209067929584, 'ill': 0.01630416236275011, 'life': 0.014850484742563298, 'harper': 0.014789308912807506, 'overdos': 0.013386759021587603, 'chicago': 0.013111532462085563, 'diseas': 0.012991009560817907, 'comatos': 0.012754523881608984, 'doctor': 0.012748514890908866, 'hospit': 0.01246115122558364, 'termin': 0.012316718195291206, 'wire': 0.011273328469995588, 'suffer': 0.01112234704511117, 'gerald': 0.011092788198466366, 'polic': 0.011038918035037822, 'alic': 0.011016673088681829, 'manslaught': 0.010928550413902722, 'care': 0.010926552737378597, 'suicid': 0.010873381092948444, '106202': 0.010288167003823278, 'treatment': 0.010146259022446168, 'cicero': 0.009377331421896595, '154073': 0.009216932373071222, 'final': 0.008954887193639198, 'lainz': 0.008864843277110887, '41774': 0.008864843277110887, 'ward': 0.008825724500982476, 'lethal': 0.008471624651993059, 'wuppert': 0.008084378752696525, 'michaela': 0.00797789428489985, '67': 0.007903312536639824}\n"
     ]
    },
    {
     "name": "stderr",
     "output_type": "stream",
     "text": []
    },
    {
     "name": "stdout",
     "output_type": "stream",
     "text": [
      "394 home schooling {'home': 0.09999999999999998, 'school': 0.09999999999999998, 'educ': 0.04955323592108906, 'book': 0.0448029638791307, 'homeless': 0.036774817572179166, 'nobel': 0.03537267964321812, 'choic': 0.026930704601272993, 'ruth': 0.02460701206655759, 'robinson': 0.02460056378795107, 'children': 0.024482177934786322, 'dropout': 0.023796952000827046, 'klicka': 0.023622915971200052, 'classroom': 0.021182175988854628, 'lueder': 0.01991256223604755, 'teach': 0.018798182673096055, 'mobil': 0.018677265336044222, 'norwalk': 0.01818314326605244, 'wigginton': 0.017806864263594527, 'teacher': 0.016191826948647597, 'young': 0.0158201542353246, 'sean': 0.015529996447328566, 'shana': 0.014537098601679727, 'rove': 0.013241961592379484, 'mirada': 0.013105931653165592, 'jose': 0.012738261520801203, 'schooler': 0.012446916093030294, 'program': 0.012018982329456813, 'featherli': 0.011868527801521332, 'assign': 0.011760742318727327, 'hirsch': 0.011658962262575324, 'balfour': 0.011391886958864662, 'counti': 0.011250008287178979, 'charter': 0.011052438404526382, 'algebra': 0.011002011469410272, '84243': 0.010916994541303956, 'famili': 0.01081602521849666, 'clara': 0.010627182079861552, 'motor': 0.010097670193896326, 'pregnant': 0.009990157628709332, 'michigan': 0.009812391751380885, 'greater': 0.009790479794530177, 'instruct': 0.009643326279814587, 'campsit': 0.009197536662420321, 'carola': 0.009045551529801563, 'taught': 0.009014100520870904, 'ann': 0.008590533399100424, 'drop': 0.008514823982756086, 'project': 0.008180994391414965, 'motel': 0.007992775443429162, 'independ': 0.007980487736891917, 'travel': 0.007619247295286426, 'counsel': 0.0074497974835152116}\n"
     ]
    },
    {
     "name": "stderr",
     "output_type": "stream",
     "text": []
    },
    {
     "name": "stdout",
     "output_type": "stream",
     "text": [
      "395 tourism {'tourism': 0.19999999999999996, 'cuba': 0.05066178907409194, 'caribbean': 0.04282021924589128, 'tourist': 0.0359593947326145, 'china': 0.030606393466589634, 'cuban': 0.029635572359228327, 'hotel': 0.02329313817723078, 'shanghai': 0.022566846890852837, 'lao': 0.022021426104551836, 'thailand': 0.021981603236333566, 'intur': 0.02032856391680528, 'havana': 0.01901686823152828, 'castro': 0.01890282355716024, 'checkpoint': 0.018508845506325148, 'xinhua': 0.017635142968460176, 'singapor': 0.01654795420569658, 'kenya': 0.016424836254084862, 'ow2905130694': 0.015527072200822726, 'provinc': 0.015304588166843061, 'bk1105071094': 0.014851182856419946, 'resort': 0.014821113802085065, 'dollar': 0.014681770343979605, 'latina': 0.014649667559258934, 'visitor': 0.014262287204106572, 'guizhou': 0.014111709881507381, 'prensa': 0.013767055265183995, 'percent': 0.013493892719154547, 'fl2105181794': 0.013352427662459415, 'ow0305110994': 0.012121240130419483, 'world': 0.011947500224337776, 'reactiv': 0.011811160518928866, 'islazul': 0.011356987886333722, 'ow2305174494': 0.011251844010378854, 'rok': 0.011073348740236579, 'algarv': 0.010904588320305051, 'cubanacan': 0.01087192881015891, 'jegham': 0.010792327067467272, 'guitart': 0.010112396154885281, 'island': 0.010009652746727401, 'tunisia': 0.009974210460844759, 'lpdr': 0.00982286729923744, 'santana': 0.009810214106509889, 'sultan': 0.009742349564728213, 'econom': 0.009468844009481924, 'yang': 0.009314900026090492, 'cayo': 0.009167155735629026, 'gaviota': 0.009078240236860392, 'relva': 0.009009184996347204, 'open': 0.008939880109001232, 'asean': 0.008936427883210533, 'tat': 0.00874856537261313}\n"
     ]
    },
    {
     "name": "stderr",
     "output_type": "stream",
     "text": []
    },
    {
     "name": "stdout",
     "output_type": "stream",
     "text": [
      "396 sick building syndrome {'build': 0.12732504818625645, 'sick': 0.10043084883315093, 'syndrom': 0.08252891261213181, 'indoor': 0.032833304377885696, 'fibr': 0.03199496317292258, 'air': 0.03162191009676862, 'symptom': 0.029083366230311533, 'sb': 0.026413222547783763, 'exposur': 0.021778030371219184, 'osha': 0.021059096991688668, 'ventil': 0.020554312134124963, 'hse': 0.019734008497317296, 'occup': 0.018396627429835496, 'irrit': 0.017605770832095986, 'ex': 0.01672236751693997, 'headach': 0.016185243717157575, 'worker': 0.01618163082123052, 'miner': 0.0158980832200886, 'environment': 0.014999644338902508, 'risk': 0.014987985074521787, 'tobacco': 0.0148405273230559, 'contamin': 0.014755768069244899, 'smoke': 0.01413247492472118, 'hyph': 0.013905362466966179, 'insul': 0.013578496341669903, 'throat': 0.013471106511452474, 'effect': 0.012676778094965604, 'condit': 0.012614480633690828, 'bri': 0.012188655977737807, 'poor': 0.011832675473109316, 'nose': 0.011520369130760754, 'qualiti': 0.011300741320277969, 'neurobehavior': 0.011154073546962821, 'offic': 0.010708194881602556, 'respiratori': 0.010671396263551725, 'chemic': 0.01000736556556987, 'microbi': 0.009677778180471823, 'caus': 0.009604123034773471, 'audubon': 0.009351040998633741, 'mucou': 0.009168322509450638, 'formaldehyd': 0.009064172509844884, 'et': 0.009054753977635114, 'estim': 0.008915206902007925, 'iaq': 0.008734102694215243, 'pharmacokinet': 0.008522949172583614, 'milton': 0.008514169904902625, 'fr940405': 0.008488410205214491, 'dizzi': 0.00847152256759508, 'catherin': 0.008460710616335377, 'complaint': 0.008279893198662224}\n"
     ]
    },
    {
     "name": "stderr",
     "output_type": "stream",
     "text": []
    },
    {
     "name": "stdout",
     "output_type": "stream",
     "text": [
      "397 automobile recalls {'recal': 0.16340727112357267, 'automobil': 0.1117236720096007, 'mazda': 0.04560019994807417, 'ford': 0.035357947857280185, 'defect': 0.03087535427736481, 'emiss': 0.029614463268511013, 'motor': 0.02519425444139549, 'subaru': 0.023741611955769876, 'oldsmobil': 0.02134117415055005, 'bag': 0.020936922974312003, 'model': 0.02057043276955298, 'briefli': 0.018773819285889032, 'prizm': 0.017086548035352506, 'product': 0.016483954770855413, 'consum': 0.01606477442689487, 'corp': 0.015199935198448034, 'tire': 0.01516855030838579, 'pontiac': 0.015015877812292456, 'air': 0.015008050267877542, 'wire': 0.014925244567603477, 'buick': 0.014801295487287501, 'mercuri': 0.013869186905997333, '7s': 0.01377407838035271, 'liter': 0.013761807790015974, '1990': 0.013606438910621833, 'rx': 0.01239319451782326, 'column': 0.012330128218186086, 'trw': 0.012281735215755795, 'sedan': 0.012189105876691954, 'lincoln': 0.011994418365899734, 'hyundai': 0.011812508061970156, 'hatchback': 0.011729116518393753, 'chevrolet': 0.011667518296989978, 'matsuda': 0.011295097980812506, 'cougar': 0.011174352781404804, 'wheel': 0.010745170497914054, 'thunderbird': 0.010671358930556242, 'brief': 0.010179270213237435, '173461': 0.01012083192102663, 'cutlass': 0.010001457341860275, 'd': 0.00987871574914793, 'ignit': 0.00984665030853014, '225524': 0.00904341376107633, 'marqui': 0.00873685401752624, '251364': 0.008558876049039751, '102,548': 0.008558876049039751, '306972': 0.008402252731190527, 'grand': 0.008388276764676848, 'engin': 0.008178713887258528, 'staff': 0.007919239020133159}\n"
     ]
    },
    {
     "name": "stderr",
     "output_type": "stream",
     "text": []
    },
    {
     "name": "stdout",
     "output_type": "stream",
     "text": [
      "398 dismantling Europe's arsenal {'europ': 0.07700704653610654, 'arsen': 0.06666666666666665, 'dismantl': 0.06666666666666665, 'tank': 0.057251181410298904, 'convent': 0.03283914750045674, 'combat': 0.031764702833614204, 'soviet': 0.031413598645318286, 'cfe': 0.026471486717648648, 'arm': 0.025767601219026267, 'armor': 0.02533156135893111, 'nato': 0.023672981392516192, 'destroi': 0.020152484608173454, 'armour': 0.019048970733064947, 'czech': 0.018930632443407067, 'artilleri': 0.01861194157445953, 'treati': 0.018609363680922076, 'pact': 0.017476725863893133, 'armi': 0.016827646061351734, 'aircraft': 0.016372472086102388, 'warsaw': 0.016056220372087166, 'vehicl': 0.015537015162679055, 'rochensussra': 0.015174607902934154, 'pragu': 0.015114886519152264, 'slovak': 0.01465330888048603, 'helicopt': 0.014262609453589637, 'vienna': 0.014168540905169273, 'forc': 0.013920516837294204, 'gorbachev': 0.013771352304355888, 'au2601123594': 0.013497038463841898, 'ld0202163194': 0.013116390954317287, 'shevardnadz': 0.01297636458763499, 'belarusian': 0.012868060871886348, 'belaru': 0.012778266178642772, 'inspect': 0.012627487192552182, 'ld2801204494': 0.011994227912676361, 'au0704080394': 0.011966009782701455, 'militari': 0.01192343382175318, 'ceil': 0.011330101562768615, 'troop': 0.010928508534739891, 'slovakia': 0.01067402788781369, 'au2705160794': 0.010293471389348328, 'ctk': 0.010135521543079291, 'germani': 0.009522625126263307, '44': 0.009471759365254009, 'baker': 0.009341984509564073, 'reduct': 0.009133508640210907, 'bush': 0.009037516589657787, 'chenei': 0.00901678250319852, 'bratislava': 0.008881170154768058, 'greec': 0.00838840121872779, 'reduc': 0.008329171988373678, 'holo': 0.008226232883853093}\n"
     ]
    },
    {
     "name": "stderr",
     "output_type": "stream",
     "text": []
    },
    {
     "name": "stdout",
     "output_type": "stream",
     "text": [
      "399 oceanographic vessels {'vessel': 0.09999999999999998, 'oceanograph': 0.09999999999999998, 'okean': 0.03800769519929189, 'monitor': 0.03677596961548837, 'radioact': 0.03489500650567629, 'sea': 0.034324793403699025, 'ow2203032694': 0.03361906252965351, 'japan': 0.02776302572024522, 'scientist': 0.025948844238622537, 'sediment': 0.02338432193588252, 'dump': 0.021944032399016832, 'kyodo': 0.0211526872480277, 'typhoon': 0.02064969477697852, 'appledor': 0.020584748783155717, 'site': 0.018942967749573984, 'russian': 0.01876630807153577, 'titan': 0.017449994181652283, '4,162': 0.016231483202484378, 'korea': 0.015361857034400524, 'elsberri': 0.01533232513227386, 'ton': 0.014326657396163496, '0311': 0.013801122829188326, 'leas': 0.013572092990146667, 'seab': 0.01312697016873001, 'submarin': 0.012891272780373815, 'expedit': 0.012733081420257614, 'dkuaiaboft': 0.012620054085505848, 'nato': 0.01261252762573695, 'epa': 0.012292983969302052, 'niigata': 0.012234895077327826, 'sampl': 0.012221772235605012, 'convect': 0.012214247417461157, 'ballard': 0.011810924815279015, 'seawat': 0.011515307188326069, 'dispos': 0.011492412300413946, 'sanctuari': 0.011172929105577675, 'cabl': 0.011151368410647164, 'sf': 0.010869611879910488, 'wast': 0.010445045403406508, 'dod': 0.010378302250035228, 'voyag': 0.010223485784522666, 'tokyo': 0.010128029299082497, '22': 0.009945729982151045, 'japanes': 0.00994500543105082, 'bismarck': 0.009860447011326929, 'undersea': 0.009736178017864021, 'vladivostok': 0.009630956631612612, 'south': 0.009429876176583162, 'tier': 0.009401956114978585, 'lake': 0.009067336222170357, 'contamin': 0.009034099308530557, 'smmp': 0.008978502943072736}\n"
     ]
    },
    {
     "name": "stderr",
     "output_type": "stream",
     "text": []
    },
    {
     "name": "stdout",
     "output_type": "stream",
     "text": [
      "400 Amazon rain forest {'amazon': 0.1341073757620434, 'forest': 0.10750016012820701, 'mend': 0.09277625087315144, 'rain': 0.08455910878468763, 'brazil': 0.04257371497450088, 'tapper': 0.038993504432832435, 'rancher': 0.03574958319285082, 'chico': 0.033014749072986904, 'xapuri': 0.023453236148710397, 'deforest': 0.02103281642001795, 'murder': 0.014961786346940197, 'manau': 0.013977294324548804, 'film': 0.01329768028890257, 'brazilian': 0.012921154411659789, 'darci': 0.012682233506033716, 'acr': 0.012471150763602064, 'world': 0.011868884791285096, 'amazonia': 0.011813443630747962, 'alv': 0.011578799198527102, 'pereira': 0.011568093960706629, 'conserv': 0.011524975807685899, 'cattl': 0.011248385740950011, 'silva': 0.010897002595590687, 'confess': 0.010675159579857596, 'rondonia': 0.01012928017449044, 'ecologist': 0.009988284288126389, 'da': 0.009856002348752262, 'burn': 0.00957703086166181, 'jari': 0.009362320405480141, '53783': 0.009182831071718314, '286354': 0.008920591894250285, 'ecolog': 0.008868868802380593, '40911': 0.00872869483262863, 'protect': 0.00844593372874143, 'ilzamar': 0.008264858000565346, 'latex': 0.008250096004851742, 'surinam': 0.008239023566999747, 'speci': 0.008228487338405146, 'nut': 0.008056836524061002, 'pesticid': 0.0077810329165492595, 'bolivia': 0.007739146858795515, 'confer': 0.0076844502867728015, 'ranch': 0.007426960148824055, 'threat': 0.007342554251040383, 'preserv': 0.007311798945951241, 'darli': 0.007307527584970289, 'destroi': 0.007190399230504695, 'aleen': 0.007064900956329369, 'macminn': 0.007060464277230301, 'soil': 0.006745079962891762}\n"
     ]
    },
    {
     "name": "stderr",
     "output_type": "stream",
     "text": []
    },
    {
     "name": "stdout",
     "output_type": "stream",
     "text": [
      "401 foreign minorities, Germany {'minor': 0.06666666666666665, 'germani': 0.06666666666666665, 'foreign': 0.06666666666666665, 'turkei': 0.05420074270702191, 'turkish': 0.039109307819189275, 'kurdish': 0.03602698956920906, 'romanyi': 0.029840835783737047, 'kurd': 0.02907957851884371, 'deport': 0.02879651322562082, 'mor': 0.02726042972388139, 'sinti': 0.024968655155011704, 'kanther': 0.02466649378104161, 'turk': 0.021580543915008743, 'ankara': 0.02094455073083865, 'asylum': 0.020760500961308402, 'stercken': 0.019039822648583858, 'refuge': 0.018953857042452647, 'wies': 0.018294988973720734, 'ciller': 0.01626810071775221, 'nazi': 0.01566296286959376, 'bubi': 0.015263874944405804, 'gypsi': 0.014953118667126217, 'solingen': 0.014175094818821472, 'neo': 0.013830990239769927, 'percent': 0.013377451663335933, 'violenc': 0.013297315638820754, 'citizenship': 0.012704480266915154, 'schnarrenberg': 0.012312485272337472, 'leutheuss': 0.012312485272337472, 'immigr': 0.011839858388109503, 'embargo': 0.011752813026207235, 'christian': 0.011712466837725786, 'attack': 0.011462441376289406, 'dpa': 0.01139188019684424, 'kopp': 0.011161897093532429, 'semit': 0.010845377902360566, 'pkk': 0.010740743657821194, 'crimin': 0.01011200604549609, 'investig': 0.010087072589266917, 'human': 0.009913567689960046, 'ld2001131394': 0.009341145364410414, 'au2203112394': 0.009103487115694668, 'interior': 0.008989835029437437, 'racist': 0.008967874416362374, 'au2803145794': 0.0088121613935674, 'against': 0.008681625301560967, 'serbian': 0.008680758691252795, 'seeker': 0.008531411351059214, 'thiemann': 0.00809258396139625, 'riot': 0.008040690586889467, 'wing': 0.008031864269560655, 'tansu': 0.00803138790011145, 'cologn': 0.007992878888397842}\n"
     ]
    },
    {
     "name": "stderr",
     "output_type": "stream",
     "text": []
    },
    {
     "name": "stdout",
     "output_type": "stream",
     "text": [
      "402 behavioral genetics {'genet': 0.15567406666379488, 'behavior': 0.09999999999999998, 'bioethic': 0.048501229124596604, 'gene': 0.04482686286048651, 'research': 0.034365993982707475, 'disord': 0.03150980598318395, 'genom': 0.03055724558263062, 'twin': 0.023122923072838333, 'therapi': 0.0209644684604726, 'hyperact': 0.018709700912450288, 'shall': 0.017339561005649717, 'alzheim': 0.01721134927808864, 'entomolog': 0.01696346185316236, 'nbac': 0.016787953763571513, 'diseas': 0.016213847695101504, 'commiss': 0.015524071188325834, 'schizophrenia': 0.015206693008076934, 'insect': 0.014010667155105919, 'studi': 0.013573302491634055, 'crime': 0.01342419207969836, 'risk': 0.013324589540147175, 'respond': 0.013306626612608327, 'fingerprint': 0.013237955663414897, 'ceph': 0.012607140000435038, 'pedersen': 0.012456972103982247, 'advisori': 0.012377921915395381, 'schizophren': 0.012367543910888007, 'session': 0.012365810634932223, 'mental': 0.012210226625074807, 'cancer': 0.011993794403271314, 'investig': 0.011886133283099096, 'violent': 0.011884660965505493, 'trait': 0.011866950101987305, 'toddler': 0.011172679001290138, 'ritalin': 0.010869540244093465, 'brain': 0.010685230898793315, 'human': 0.010557312437564848, 'psychiatrist': 0.010258083842453084, 'disabl': 0.010204330002741829, 'patient': 0.010071836432111063, 'zametkin': 0.009931980802252716, 'abus': 0.009514038799897671, 'entomologist': 0.00948678191996747, 'dr': 0.00939311441750388, 'psychologist': 0.009305262997408489, 'infant': 0.009177294381436206, 'cystic': 0.009169969724527154, 'fibrosi': 0.009101640017067479, 'techniqu': 0.00837813974652045, 'health': 0.008298063403032572, 'hered': 0.008050979009020805}\n"
     ]
    },
    {
     "name": "stderr",
     "output_type": "stream",
     "text": []
    },
    {
     "name": "stdout",
     "output_type": "stream",
     "text": [
      "403 osteoporosis {'osteoporosi': 0.2286229560586183, 'calcium': 0.11900498077011315, 'bone': 0.08590192424664658, 'intak': 0.06121007087597509, 'fractur': 0.03881695943404581, 'fat': 0.031718958781910736, 'diet': 0.021186565452190883, 'fluorid': 0.020160591643482675, 'dietari': 0.01539076981474996, 'orwol': 0.015129625112372053, 'mass': 0.01473553784147362, 'hip': 0.01276987231547195, 'genet': 0.01255985736141427, 'men': 0.012311171458477895, 'milligram': 0.012247626878773812, 'calcitonin': 0.011744662087253522, 'adequ': 0.011506246436136102, '193314': 0.011046803112261753, 'rda': 0.010470512085420117, 'supplement': 0.01045705008587571, 'loss': 0.009915918645886028, 'sodium': 0.009740026124519623, 'optim': 0.009576197330746541, 'disord': 0.009501445453714688, 'spinal': 0.009387433575648196, 'spine': 0.00936700254092008, 'hrt': 0.009238894754401924, 'studi': 0.009058226162673398, 'food': 0.008826497551804311, 'dalski': 0.00874899243352235, 'health': 0.008659238930938113, 'tofu': 0.008514411007074577, 'etidron': 0.008445817293264025, 'ag': 0.00833319937998425, 'cup': 0.00793531685113289, 'yamanouchi': 0.007844639297199526, 'menopaus': 0.007828791625409162, 'kremer': 0.00781754305207612, '156843': 0.007564812556186027, 'oregon': 0.007337805400625671, 'shall': 0.007245661592239858, 'risk': 0.007204778344805304, 'elderli': 0.007186737983696763, 'yogurt': 0.007089648337834491, 'pak': 0.007079055344025555, 'oestrogen': 0.006998112616330084, 'peak': 0.0067414388631854855, 'miner': 0.0067413139285176366, 'vitamin': 0.006549631975468426, 'threefold': 0.006528669193504293}\n"
     ]
    },
    {
     "name": "stderr",
     "output_type": "stream",
     "text": []
    },
    {
     "name": "stdout",
     "output_type": "stream",
     "text": [
      "404 Ireland, peace talks {'hume': 0.06953797864464825, 'ireland': 0.06666666666666665, 'talk': 0.06666666666666665, 'peac': 0.06666666666666665, 'adam': 0.04548208095590883, 'reynold': 0.03910867817490085, 'violenc': 0.03348273954011503, 'mr': 0.029469465569284443, 'ira': 0.024887589371532418, 'belfast': 0.02454546707222796, 'gerri': 0.023691051840961062, 'bomb': 0.02256508556609064, 'kill': 0.0216795441257141, 'terrorist': 0.021266969228784002, 'sdlp': 0.01778186204351353, 'ulster': 0.016382725625171384, 'attack': 0.016321805219395757, 'dublin': 0.016071561358178194, 'border': 0.015962449238535122, 'cathol': 0.015237302702833978, 'murder': 0.01488854006042261, 'spring': 0.014797830654780875, 'communiqu': 0.014430383050650029, 'sectarian': 0.014419041549726508, 'initi': 0.014080769138093759, 'ld2605170794': 0.01205422771791078, 'loyalist': 0.011303340403945334, 'two': 0.011135675045888766, 'greysteel': 0.011063649400149762, 'pm2106120494': 0.011062865933288396, 'we': 0.010782827592923271, 'respond': 0.010562118747435357, 'firebomb': 0.010447558235213329, 'londonderri': 0.010406519100308332, 'restart': 0.010171462361770207, 'signific': 0.010048032841649984, 'loughinisland': 0.009952712849472455, 'derail': 0.009876446241016258, 'persuad': 0.009843494704375125, 'constitut': 0.009811897199681232, 'premedit': 0.009702001730548356, 'albert': 0.009701348169164237, 'ruc': 0.009613187866999403, 'newri': 0.009575402671887735, 'convinc': 0.009197559839621228, 'escal': 0.009038518209368766, 'ld1103093594': 0.008945211429899819, 'ld1902125094': 0.00854528887761561, 'cross': 0.00847642920975036, 'bbc': 0.008474775434386175, 'ld1902102794': 0.008211568738173407, 'brussel': 0.008133284130644966, 'return': 0.007771674585442372}\n"
     ]
    },
    {
     "name": "stderr",
     "output_type": "stream",
     "text": []
    },
    {
     "name": "stdout",
     "output_type": "stream",
     "text": [
      "405 cosmic events {'cosmic': 0.09999999999999998, 'event': 0.09999999999999998, 'univers': 0.04941895598922165, 'galaxi': 0.04861672009396353, 'astronom': 0.0474613717861365, 'quasar': 0.043963653479025505, 'bang': 0.03143740286791217, 'cobe': 0.030618777925999013, 'nasa': 0.029229575423535506, 'telescop': 0.026670270579763844, 'cosmolog': 0.02542323300184693, 'cosmologist': 0.022279985954220344, 'scientist': 0.02151016307943318, 'asteroid': 0.01981049994618831, 'astronomi': 0.01800631111267778, 'ulyss': 0.017781264665401163, 'graviti': 0.017718584995553004, 'matter': 0.014636457746528948, 'discoveri': 0.014383476552938597, 'gott': 0.013805640051988028, 'cosmorama': 0.013475255043971538, 'cern': 0.012879262095162314, 'hubbl': 0.012636968985326895, 'rippl': 0.012302851374885938, 'star': 0.011939295271279383, 'earth': 0.011711220009342833, 'big': 0.01167074300612659, 'observ': 0.011608320130580656, 'light': 0.011369158778166003, 'space': 0.01100245927631956, 'discov': 0.009961142143488495, 'fluctuat': 0.009596772241110448, 'detect': 0.009594694304261188, 'jupit': 0.009482962445514193, '15bn': 0.009344000011191468, 'scienc': 0.009239616937384378, 'exhibit': 0.009133405606813163, 'cookson': 0.009106373941849046, 'physicist': 0.008452337033015261, 'princeton': 0.008308603140220834, 'twin': 0.008258574095735556, 'clive': 0.008226000316233984, 'object': 0.008166366672393925, 'embl': 0.008082013276656048, 'togeth': 0.008012891751005382, 'astrophys': 0.007986705129605007, 'seti': 0.00785117872542012, 'planet': 0.007710825923457604, 'debri': 0.007617498181737613, 'lhc': 0.007520444170819639, 'explor': 0.007491536115630458, 'spacecraft': 0.0074881786129603264}\n"
     ]
    },
    {
     "name": "stderr",
     "output_type": "stream",
     "text": []
    },
    {
     "name": "stdout",
     "output_type": "stream",
     "text": [
      "406 Parkinson's disease {'diseas': 0.09999999999999998, 'parkinson': 0.09999999999999998, 'fetal': 0.0831168496799407, 'transplant': 0.06493197613947378, 'tissu': 0.05928183252081279, 'abort': 0.04325403904962343, 'cell': 0.03426582936242036, 'sullivan': 0.02845427037462915, 'brain': 0.023711831703425966, 'research': 0.02183894603639426, 'immor': 0.02125533273884591, 'dopa': 0.017470393278789974, 'degen': 0.016612316886227222, 'fetus': 0.015590549324314208, 'nocardia': 0.015057150859418396, 'human': 0.01397399533009032, 'nerv': 0.013954876078825368, 'victim': 0.013488397646654658, 'deprenyl': 0.012725583233903395, 'beaman': 0.012153856695704898, 'donor': 0.01185240437360461, 'langston': 0.01153042678552798, 'foetal': 0.01118256653428999, 'ban': 0.010704861821853182, 'corbett': 0.010413799443756686, 'burnstock': 0.010333193738613156, 'licens': 0.010064201840562115, 'baumil': 0.009978890244664532, 'implant': 0.009950284378288224, 'gut': 0.009905199324198387, 'miracl': 0.009848335657454053, 'moratorium': 0.009839318770353603, 'dopaminerg': 0.009655618766537408, '299051': 0.009634325855787915, 'schoonenberg': 0.009634325855787915, 'amyloid': 0.009446003519711622, 'qiu': 0.009406437349720093, 'nih': 0.009168741997884177, 'condou': 0.009106193685977737, '283602': 0.009106193685977737, 'untechn': 0.008810435561295488, 'organ': 0.00794795372985549, '404.7': 0.007874617451073597, 'treat': 0.007822727161535243, 'scientif': 0.007312781005219919, 'potenti': 0.007174897238121704, 'live': 0.007161628297560889, 'unchain': 0.007083786271364774, 'patent': 0.0067916060787772395, 'us': 0.006751806354278196, 'nonfet': 0.006686786169137683, 'anim': 0.0066816241117338086}\n"
     ]
    },
    {
     "name": "stderr",
     "output_type": "stream",
     "text": []
    },
    {
     "name": "stdout",
     "output_type": "stream",
     "text": [
      "407 poaching, wildlife preserves {'wildlif': 0.0768638672704865, 'preserv': 0.06666666666666665, 'poach': 0.06666666666666665, 'leakei': 0.06487520863127445, 'poacher': 0.04412767727343192, 'musk': 0.04013072135952253, 'saiga': 0.03511580902266672, 'kenya': 0.03390660698905937, 'adamson': 0.029840792683686963, 'phinda': 0.024053069232534342, 'tanzania': 0.023819486111173682, 'deer': 0.02239297633505723, 'campfir': 0.01728095074671807, 'african': 0.016154491022904675, 'reserv': 0.01569369250446292, '9842': 0.015312057689996198, 'hunter': 0.01526743362554723, 'namibia': 0.015140864790706435, 'appendix': 0.014532076495140864, 'xinjiang': 0.014487062821716166, 'hunt': 0.013939187506485854, 'ring': 0.013428659458976991, 'bison': 0.013350342781275303, 'conserv': 0.013308551182887372, 'safari': 0.012927043436533524, 'tiger': 0.01280092287681893, 'horn': 0.0127444781610184, 'ow2812071393': 0.012553660913977978, 'arrog': 0.0124077250936398, 'aphrodisiac': 0.012022811737973059, 'broken': 0.011799359959158375, 'wild': 0.011751297752684721, 'kora': 0.011501238767931457, 'elli': 0.011387677650428418, 'tsavo': 0.011379873787707388, 'dfg': 0.011069732360191232, 'fitzjohn': 0.010806837416679909, 'p9512': 0.01053465957431273, 'bear': 0.01009815108204103, 'polic': 0.009875031504561543, 'bladder': 0.009335079091440142, 'krasinski': 0.00933396130301733, 'hsu': 0.00932079338748494, 'lion': 0.009283083959436137, 'land': 0.009216579550511878, 'smear': 0.009087247616271582, 'tarim': 0.009068585564649954, 'springfield': 0.008999395857131677, 'zimbabw': 0.008803340619679105, 'kenyan': 0.008692955633176102, 'ranthambhor': 0.008429975567041363, 'gall': 0.008413580905456446}\n"
     ]
    },
    {
     "name": "stderr",
     "output_type": "stream",
     "text": []
    },
    {
     "name": "stdout",
     "output_type": "stream",
     "text": [
      "408 tropical storms {'tropic': 0.09999999999999998, 'storm': 0.09999999999999998, 'flood': 0.037345054256808896, 'philippin': 0.03664307085172406, 'disast': 0.03268875963706088, 'palau': 0.030381833527210102, 'declar': 0.02231722787353281, 'hyph': 0.0222266398005594, 'contigu': 0.021483273335626607, 'georgia': 0.021039307502473334, 'injuri': 0.020867645610752, 'martiniqu': 0.020192307814490815, 'kill': 0.019614701734329526, 'manila': 0.01795046063558246, 'ciwcoae3ft': 0.017469076188977098, 'homeless': 0.017418118262141086, 'rain': 0.016939596468710048, '281452': 0.016827359982232736, 'loan': 0.016145816945581183, 'typhoon': 0.015613713094109312, 'remnant': 0.015527143697014453, '59008': 0.015431595167848042, 'louisiana': 0.015422828084875143, 'allison': 0.01542047281413003, '59002': 0.01517933959353538, 'mudflow': 0.015083592424425061, 'juli': 0.014629458660520024, 'file': 0.013894541600298547, 'drown': 0.013783192493912848, 'date': 0.013556487300765745, 'carolina': 0.013254496678909506, '8025': 0.013231498699987385, 'vietnam': 0.012303532283891501, 'kulik': 0.012295430506557382, 'counti': 0.011976808346308702, '829300': 0.01162357450282463, 'peopl': 0.0116177529320806, 'dhqcuaf9ft': 0.011603288453263918, 'mqz': 0.011603288453263918, 'toll': 0.011585838455835142, '238543': 0.011174163637548416, '920922': 0.010963387561023254, 'amend': 0.010910042648901434, 'tornado': 0.010794867191308767, 'torrenti': 0.010792293415855317, '2728': 0.010774217899266698, 'associ': 0.01075430046313392, 'caraca': 0.01047153979739872, 'volcan': 0.010443683081697318, 'least': 0.01033456516642585, 'previous': 0.010246685496610827, 'alberto': 0.01015212896867924}\n"
     ]
    },
    {
     "name": "stderr",
     "output_type": "stream",
     "text": []
    },
    {
     "name": "stdout",
     "output_type": "stream",
     "text": [
      "409 legal, Pan Am, 103 {'libya': 0.07113584849063906, 'lockerbi': 0.06092886607563194, 'pan': 0.04999999999999999, 'am': 0.04999999999999999, '103': 0.04999999999999999, 'legal': 0.04999999999999999, 'libyan': 0.04069850137992993, 'court': 0.031488666956350816, 'talb': 0.03020630640546615, 'juri': 0.029075620326770735, 'wil': 0.0239331130404044, 'cglafaaaft': 0.019003552005659344, 'damag': 0.018264936469439212, 'award': 0.01760104111081653, 'guilti': 0.017467996134339754, 'misconduct': 0.016344930623809924, 'trial': 0.016295263863544348, 'sanction': 0.0156357756925025, 'plaintiff': 0.01524396474818354, '920711': 0.014362349069604622, 'airlin': 0.014327016193258874, 'compens': 0.013955099135994157, '1988': 0.013788107835539949, 'verdict': 0.013282965560814897, 'britain': 0.012573279451915956, 'arab': 0.012119253109325113, 'extradit': 0.011868173680566148, 'gadaffi': 0.011682476673976865, 'abu': 0.011654240925608246, 'brooklyn': 0.011496716483500924, 'dollar': 0.011473426518983821, 'reuter': 0.010984274036242164, '270': 0.010940215175845846, 'case': 0.01089794912273102, 'ec2dqab1ft': 0.010881387438392322, 'megrahi': 0.010770112487769722, 'resolut': 0.010743662684578121, 'us': 0.010638395409307718, 'fhimah': 0.010600362022345981, 'cgwasadpft': 0.010385594670922422, 'insur': 0.010041910685399637, '25.25m': 0.00980895682442072, 'mr': 0.00974164317425563, 'lax': 0.009523809754580692, 'moham': 0.00900582969712867, 'murder': 0.008946321976839132, 'jul': 0.00890061780399589, 'cbsb3adzft': 0.008889652063568971, 'accus': 0.00887463460209868, '92': 0.008851120612738928, 'abdel': 0.008827392931909792, 'al': 0.008638108254232843, 'zawi': 0.008600926948107454, 'ebbdoacdft': 0.008599633660010068}\n"
     ]
    },
    {
     "name": "stderr",
     "output_type": "stream",
     "text": []
    },
    {
     "name": "stdout",
     "output_type": "stream",
     "text": [
      "410 Schengen agreement {'schengen': 0.2927414592932658, 'agreement': 0.09999999999999998, 'passport': 0.034096718605997375, 'border': 0.03280876545615736, 'control': 0.027270027370091654, 'portug': 0.025996750883718524, 'lamassour': 0.025064238305302796, 'check': 0.022670213505567416, 'travel': 0.02076891372420771, 'immigr': 0.019452786569830696, 'frontier': 0.01881342026633287, 'abolish': 0.014774584652861794, 'comput': 0.014438496697667502, 'nine': 0.01431894164118585, 'signatori': 0.013358852992612217, 'system': 0.013343814784737038, 'ireland': 0.01260021662941268, 'franc': 0.011932094541472869, 'deadlin': 0.011673293558120206, 'denmark': 0.01110653593238779, 'extern': 0.010897831530286018, 'brussel': 0.010649901188276903, 'dankert': 0.010559763617874607, 'free': 0.010441880521789253, 'delai': 0.01036603179137955, 'luxembourg': 0.010259779698557375, 'lift': 0.009921425331187742, 'dicilec': 0.009714224460586972, 'sema': 0.009706469472408332, 'dauvergn': 0.009370727166019279, \"d'archirafi\": 0.009262883572454177, 'vanni': 0.009097876095965391, 'spain': 0.009096779475704395, 'alain': 0.008626938426964941, 'elsevi': 0.00847662529518529, 'systemat': 0.008381994080742241, 'intern': 0.008181415725664503, 'airport': 0.007749826778291541, 'committe': 0.00753082591836595, 'belga': 0.007474550752497581, 'qrz': 0.007472297832259747, 'au2706131094': 0.007439925172906402, 'benelux': 0.007377746429161528, 'illeg': 0.007143846721298127, 'schmidbauer': 0.007075000080862638, 'itali': 0.006952559457868379, 'andrew': 0.006844813747868016, 'problem': 0.00682455861577832, 'french': 0.006741488768708637, 'lisbon': 0.006583164517606827, 'affair': 0.006546722344549009}\n"
     ]
    },
    {
     "name": "stderr",
     "output_type": "stream",
     "text": []
    },
    {
     "name": "stdout",
     "output_type": "stream",
     "text": [
      "411 salvaging, shipwreck, treasure {'treasur': 0.08598258466662079, 'shipwreck': 0.06666666666666665, 'salvag': 0.06666666666666665, 'wreck': 0.043433528650868886, 'coin': 0.03767384900874305, 'sank': 0.03152468568373436, 'galleon': 0.031014052576157098, 'titan': 0.02709557507320748, 'found': 0.022696028642054694, 'clqcfag0ft': 0.021959766299849536, 'massachusett': 0.02135508999138709, 'gold': 0.020472619258290924, 'ship': 0.02009565059927936, 'ballard': 0.019919773286246407, 'edgerton': 0.01911921194555382, 'steamer': 0.017836611129604118, 'maritim': 0.01748080144791579, 'dubai': 0.017269297791488596, 'hunter': 0.016374469323845394, 'passeng': 0.015500538919166616, 'portland': 0.015485383088369456, 'newfoundland': 0.015211635604155255, 'ek1c5aaeft': 0.014592153845069018, 'silver': 0.014377554046245767, 'explor': 0.014253074503658507, '921216': 0.01353109548374773, 'zych': 0.013522001037792006, 'markei': 0.01339124957873984, 'relic': 0.012936297999970939, 'phoenician': 0.012483007200820372, 'iceberg': 0.01244443223561934, 'rosloff': 0.012442258265045221, '1898': 0.012299876287084616, 'almanac': 0.012192172129228011, 'mysteri': 0.012035985880189668, 'off': 0.01177364604279614, 'columbu': 0.011693499929743435, 'discoveri': 0.011464379463216203, 'coast': 0.011163687263545172, 'ulloa': 0.011074012443563748, '44.8m': 0.010952863390507623, '44311': 0.010828696324621405, 'xyz': 0.010739753437478586, 'spanish': 0.010671679055320536, '1,800': 0.010475586469388933, 'sonar': 0.010353145600955418, '259853': 0.010237575225051957, 'fish': 0.009991963887782243, 'boat': 0.009668467763484132, 'diver': 0.009311191536162498, '941128': 0.009163470897374234, 'collado': 0.00910073645592468}\n"
     ]
    },
    {
     "name": "stderr",
     "output_type": "stream",
     "text": []
    },
    {
     "name": "stdout",
     "output_type": "stream",
     "text": [
      "412 airport security {'airport': 0.1404340408158768, 'secur': 0.12462714961022373, 'passeng': 0.03937751555492441, 'baggag': 0.03741177830210385, 'heathrow': 0.03577478044112152, 'airlin': 0.03398436323209033, 'mogadishu': 0.02819815658451861, 'flight': 0.027642034484068708, 'ira': 0.026150045303092215, 'aviat': 0.02387094781214784, 'mortar': 0.02025841629233349, 'detector': 0.01948911594971863, 'plane': 0.01828859708010095, 'somali': 0.017899658808124563, 'bomb': 0.017711718079185118, 'manchest': 0.016703280048207408, 'babatop': 0.015629007055858426, 'terrorist': 0.015233027616125137, 'luggag': 0.01494830241600135, 'tak': 0.01400354219215571, 'knbc': 0.013519720648891273, 'transport': 0.012886734023544268, 'attack': 0.012731879209220191, 'oberstar': 0.012694096216175333, 'bag': 0.011736540733740896, 'kean': 0.011484511171532576, 'br2204094294': 0.011469361969293896, 'lago': 0.011227633081417441, 'ea2504200094': 0.011088844135673905, 'qalaad': 0.011088844135673905, 'ab1204175594': 0.011031858283307173, 'staf': 0.010770470230891872, 'night': 0.010671862004128466, 'laps': 0.010669704457177296, 'scotland': 0.010618952870040277, 'kai': 0.010182436898555148, 'nigeria': 0.01009830891916396, 'metal': 0.010067887647248051, 'board': 0.010007425655573651, 'wayn': 0.009702012526006736, 'cox': 0.009650521912786801, 'checkpoint': 0.00946750145531036, 'machin': 0.00909709713116712, 'counti': 0.008957551300771133, 'scan': 0.008852952832714407, 'search': 0.008615284561825077, 'africa': 0.008575218078233967, 'autom': 0.008497317016394676, 'burbank': 0.008492953686212825, 'metro': 0.00840903952934849}\n"
     ]
    },
    {
     "name": "stderr",
     "output_type": "stream",
     "text": []
    },
    {
     "name": "stdout",
     "output_type": "stream",
     "text": [
      "413 steel production {'steel': 0.09999999999999998, 'product': 0.09999999999999998, 'nucor': 0.09074193595224037, 'furnac': 0.050014371953715046, 'buss': 0.029571988476739648, 'nkk': 0.026358790938314714, 'plant': 0.025949502519088237, 'slag': 0.025434883584010737, 'crawfordsvil': 0.025285130553876035, 'mill': 0.024817982349187504, 'caparo': 0.02352271586857844, 'steelmak': 0.022339185928353433, 'ton': 0.02168794918897769, 'sharon': 0.020574436336061014, 'minimil': 0.019680088168238907, 'maker': 0.017387454158895164, 'mini': 0.01702085469644609, 'greenfield': 0.016358323546347735, 'blast': 0.01588690498773818, 'electr': 0.015283611095464049, 'sheet': 0.01406822997224882, 'hunterston': 0.013428144983960178, 'ravenscraig': 0.012858384573568138, 'thin': 0.012581387224444674, 'technolog': 0.012203302334615815, 'site': 0.01206624368781767, 'overcapac': 0.011897423298720367, 'slab': 0.011803618551335576, 'japanes': 0.011653214224734726, 'trico': 0.011366399448160812, 'integr': 0.01131284311277511, 'ltv': 0.010380695465640041, 'us': 0.009462639105566653, 'ventur': 0.009322467063831988, 'cut': 0.009320039024487218, 'scotland': 0.009248602179577904, 'dollar': 0.00921830817324257, 'manufactur': 0.00914474284410632, 'nippon': 0.009110875200273877, 'yen': 0.008897954144371395, 'method': 0.00881829975029863, 'ow3112132793': 0.008518171095032999, 'compani': 0.00844366517705245, 'tokyo': 0.008322591212810029, 'msa': 0.008125344937757227, 'would': 0.007843947759201452, 'scottish': 0.007772788366093703, 'hopp': 0.007390195828250172, 'hickman': 0.00708439580622554, 'oper': 0.006980550591195939, 'miyoshi': 0.006783900713297045, 'hot': 0.006654523847031791}\n"
     ]
    },
    {
     "name": "stderr",
     "output_type": "stream",
     "text": []
    },
    {
     "name": "stdout",
     "output_type": "stream",
     "text": [
      "414 Cuba, sugar, exports {'cuban': 0.07930755795453459, 'cuba': 0.06666666666666665, 'sugar': 0.06666666666666665, 'export': 0.06666666666666665, 'russia': 0.043945522993577214, 'oil': 0.038257881529203994, 'russian': 0.03524135046584202, 'mn': 0.03196113390580247, 'italgrani': 0.025567353271561313, 'ton': 0.023458010791486388, 'soviet': 0.021693143647186046, 'moscow': 0.021325536867220683, 'soskovet': 0.020847965993677477, 'interfax': 0.01993473983145949, 'davydov': 0.017902370713388054, 'exchang': 0.01766659630330055, 'suppli': 0.017528346501672544, 'ld2903122494': 0.016871040935015107, 'oleg': 0.015888672867222158, 'tonn': 0.015024878217539159, '2.5': 0.014993956363471115, 'pa3103223894': 0.013549222020243064, 'deliveri': 0.01353832683643107, 'agreement': 0.012630924058875073, 'crude': 0.012514621169158816, 'barter': 0.012012236698273053, 'petroleum': 0.011860869075038088, 'canada': 0.011736929282045026, 'sign': 0.011583817751068794, 'consul': 0.011134933811026341, 'canadian': 0.010903655258662128, 'ld2705170594': 0.010896196207090272, 'ld3101190594': 0.010565123834603642, 'cereal': 0.01044509097202731, 'caraballo': 0.01010322768823353, 'l100bn': 0.009833951706041491, 'latina': 0.00932893543085989, 'pa0504015994': 0.009248601005265667, 'zambia': 0.009213078680485832, 'relat': 0.009159659615113128, 'food': 0.009157768671250658, 'ambassador': 0.008853441092856419, 'shipment': 0.0088003605770883, 'prensa': 0.00876688628751914, 'aid': 0.008751150930212592, 'million': 0.008743618909636926, 'shumeyko': 0.008628465779635627, 'petersburg': 0.008600836509113549, 'drsov060_a_94020': 0.008435520467507554, 'medicin': 0.0083982139931062, 'fl2106155794': 0.008396092176123545, 'steamhurt': 0.008396092176123545, 'delbueno': 0.008396092176123545}\n"
     ]
    },
    {
     "name": "stderr",
     "output_type": "stream",
     "text": []
    },
    {
     "name": "stdout",
     "output_type": "stream",
     "text": [
      "415 drugs, Golden Triangle {'triangl': 0.08038317873091076, 'golden': 0.07663890512121814, 'khun': 0.07432630040853269, 'drug': 0.06666666666666665, 'sa': 0.051736725943581655, 'myanmar': 0.041577798072106285, 'narcot': 0.03692178811369657, 'thai': 0.03403244373282835, 'shan': 0.03281284788125526, 'thailand': 0.022429023851846405, 'burmes': 0.02231649275634663, 'lao': 0.021957292347208005, 'opium': 0.02140077887059201, 'suppress': 0.021273974166172507, 'kowit': 0.02105877846563225, 'xinhua': 0.018972099813883356, 'burma': 0.0187316252196788, 'un': 0.01566483961999056, 'lt': 0.015461090702937615, 'pol': 0.015349563079589987, 'bangkok': 0.01524498915769662, 'warlord': 0.014833299723605649, 'gen': 0.014505859805639124, 'mya': 0.013283273265692445, 'illicit': 0.012481445561507015, 'thinn': 0.011025677897230073, 'beij': 0.011010191225942717, 'gelbard': 0.010613054966651374, 'ccqb3aafft': 0.010457806424952759, 'abus': 0.010300648722378765, 'cooper': 0.009799524675562207, 'ow2601123894': 0.00907061234124912, 'ow1404051894': 0.008961944698658816, 'sarasin': 0.008769928397156266, 'control': 0.008720295379827775, 'ow2606150094': 0.008680042494457554, 'rat': 0.008675997492670028, 'bk2501012194': 0.00852075146716194, 'rangoon': 0.008328605201905924, 'lpdr': 0.007717833052251072, 'undcp': 0.007588261034283866, 'hk1503062794': 0.007546342891009506, 'arm': 0.007408851575921054, 'mule': 0.007398986477070716, 'mae': 0.007383084658187687, 'jianfei': 0.007338758785657933, 'intern': 0.00723595967433178, 'kingpin': 0.006949382104601865, 'yangon': 0.006827017967800821, 'alounkeo': 0.006804679657131624, '94wd0130a': 0.006804679657131624}\n"
     ]
    },
    {
     "name": "stderr",
     "output_type": "stream",
     "text": []
    },
    {
     "name": "stdout",
     "output_type": "stream",
     "text": [
      "416 Three Gorges Project {'project': 0.06666666666666665, 'gorg': 0.06666666666666665, 'three': 0.06666666666666665, 'hydropow': 0.04249600321453692, 'china': 0.04089425282713666, 'equip': 0.03376051090716772, 'kw': 0.027260889872543603, 'bid': 0.024642743143418234, 'manufactur': 0.020779428959770068, 'plant': 0.02019297312834451, 'billion': 0.01993025131582406, 'gener': 0.01783087424063882, 'demag': 0.017756901528339388, 'chines': 0.017483777486980996, 'power': 0.016887028334945167, '700mw': 0.016851419480378063, 'ow0501073594': 0.016655605696769833, 'yuan': 0.016486192831042367, 'hydroelectr': 0.01632568072067215, 'foreign': 0.016282843166724993, 'krupp': 0.016270595831666967, 'tender': 0.016222867803378963, 'machineri': 0.015976807372793927, 'ow2401015794': 0.015565145989607735, 'dig': 0.015423312850326935, 'larg': 0.015208553964172089, 'machin': 0.015003690314344027, 'instal': 0.014957239709123, 'xiao': 0.014676407660830938, 'copco': 0.014235720152576355, 'compani': 0.013777831992685141, 'ingersol': 0.013455171886955034, '946b0072d': 0.013243683747050143, 'turbin': 0.013182868608652719, 'contract': 0.013128039923931318, 'electr': 0.012697540027809274, 'cooper': 0.012582205932996233, 'hk1604072894': 0.012374829095649333, 'capac': 0.011763692038726112, 'caterpillar': 0.011616893459104473, 'atla': 0.011374673138758286, 'ow1501135394': 0.011296308985378326, 'ow2101040494': 0.010951200368709007, 'ow2702145494': 0.010802870283862627, 'rmb': 0.010641861732107996, 'leas': 0.010637789679217437, 'dam': 0.010552901089158183, 'volth': 0.010451266385827059, 'tonn': 0.010261772323085097, 'fri': 0.009997896969890225, 'ow2601135094': 0.00983310964312206, 'rand': 0.009715295960082025, 'lmz': 0.009602578223187615}\n"
     ]
    },
    {
     "name": "stderr",
     "output_type": "stream",
     "text": []
    },
    {
     "name": "stdout",
     "output_type": "stream",
     "text": [
      "417 creativity {'creativ': 0.22860735440739074, 'frosch': 0.044688030766410765, 'mental': 0.037226590940908535, 'csikszentmihalyi': 0.032063906528901696, 'nishi': 0.030709661581150516, 'handel': 0.02992419541266636, 'japan': 0.027569285831703066, 'educ': 0.02638750475723699, 'novak': 0.025103354266355543, 'research': 0.021197024521091023, 'manic': 0.01987202565399043, 'depress': 0.0191799809435686, 'japanes': 0.01823854382774205, 'scientist': 0.018228337727493608, 'ford': 0.017229980941825238, 'ill': 0.016079103606976803, 'individu': 0.015092524977345768, 'psychologist': 0.015013914825547809, 'root': 0.014408582624888911, 'univers': 0.01388410859254273, 'student': 0.012891612044075733, 'engin': 0.012800885551853389, 'mihali': 0.012419987648639384, 'bernstein': 0.012370403554035911, 'roark': 0.012180818470447788, 'stein': 0.01207948129281798, 'your': 0.011958438898308207, 'ideal': 0.011864798233581124, 'ascii': 0.01177129561568856, 'metaphor': 0.011616071461525474, 'compos': 0.01158405221739743, 'stifl': 0.01136095879682684, 'humor': 0.01131636828540596, 'tpc': 0.01128046275143655, 'brother': 0.011083722565774327, 'risk': 0.011057814887380226, 'solitud': 0.010750613466139126, 'ethic': 0.010711816538509887, 'genet': 0.010278501650512832, 'test': 0.010152481200470471, 'motiv': 0.010063563796167577, 'businesspeopl': 0.010060601833221302, 'disord': 0.009966179473213268, 'behavior': 0.009788825532812346, 'poet': 0.009740389569013913, 'b.t.v': 0.009694235266587307, 'health': 0.009633718380397307, 'high': 0.00963177431849985, 'answer': 0.009609771430902221, 'decor': 0.009576342532620616}\n"
     ]
    },
    {
     "name": "stderr",
     "output_type": "stream",
     "text": []
    },
    {
     "name": "stdout",
     "output_type": "stream",
     "text": [
      "418 quilts, income {'quilt': 0.19029078638318858, 'incom': 0.09999999999999998, 'weinraub': 0.02775366447984924, 'jacket': 0.025046461411242754, 'color': 0.021364806244933057, 'art': 0.02042232940012266, 'dress': 0.020296741887372974, 'pant': 0.02019832107773128, 'irma': 0.019727217444408036, 'pattern': 0.019608399948206665, 'boutiqu': 0.019532121445424974, 'fashion': 0.01831087216116676, 'wear': 0.017252578652862293, 'galn': 0.017223738146770032, 'bedcov': 0.01719305988557263, 'sweater': 0.016912654692765386, 'dollhous': 0.015994684666273903, '230753': 0.015740994861173436, 'folk': 0.015501527454652409, 'hutterit': 0.014974126956099771, 'design': 0.014941897818575961, 'shirt': 0.01444329881354092, 'skirt': 0.014390641335198058, 'gunnar': 0.014208386433896235, 'hearthsid': 0.014161393870540419, 'goodg': 0.013810965556961562, 'chanel': 0.013438849356750507, 'store': 0.013359445964225362, '6203': 0.012717503711131084, 'knit': 0.012540396399007968, 'magazin': 0.012446940920905883, 'plaid': 0.012278080657252579, 'turgeon': 0.012225890351672479, 'stitch': 0.011985111367294146, 'furnitur': 0.011963198760310462, 'fabric': 0.011535923833086464, 'cabin': 0.011399000192787532, 'bright': 0.011261634564191561, 'koshino': 0.010927236721821172, 'thread': 0.010820935683897437, 'silk': 0.010779947117522629, 'show': 0.010752619178127646, 'mennonit': 0.010520382618258314, 'outfit': 0.01042917261524328, 'rue': 0.010325178217882067, 'cotton': 0.010099807736898322, 'coat': 0.009883529620457195, 'versac': 0.00988180891071044, 'sim': 0.00984618492934972, 'guild': 0.009661473592914544, 'style': 0.009618075949771302}\n"
     ]
    },
    {
     "name": "stderr",
     "output_type": "stream",
     "text": []
    },
    {
     "name": "stdout",
     "output_type": "stream",
     "text": [
      "419 recycle, automobile tires {'tyre': 0.13441579613325697, 'tire': 0.08289691345110747, 'automobil': 0.06666666666666665, 'recycl': 0.06666666666666665, 'elm': 0.03889792742566456, 'wast': 0.02550189947132624, 'colwai': 0.02346406216594151, 'mpd': 0.022774666457017145, 'nipsco': 0.021869035420151894, 'weaver': 0.021747665743576013, 'energi': 0.021703395878288793, 'dkjc4abzft': 0.020317159980326342, '141372': 0.019916672764713036, 'plant': 0.019089347045604506, 'remould': 0.019086529344623408, 'electr': 0.017280593271322774, 'discard': 0.017195343280242314, 'wolverhampton': 0.016795355297469013, 'diaper': 0.016318187363910202, 'aea': 0.015764583669457058, 'ridgewai': 0.014846481414437574, 'crumb': 0.013614644240341412, 'dispos': 0.012716970171761724, '931110': 0.012414348301288434, 'burn': 0.011949827066596402, 'underlai': 0.01102294135547111, 'counti': 0.010898126054491477, 'colo': 0.010607887641563833, 'retread': 0.010573530198881879, 'p4911': 0.010291401487778759, 'junk': 0.010165189591993957, 'inciner': 0.01005879579863178, 'scrap': 0.009944634650385645, 'uk': 0.00992142442352286, 'bba': 0.009739830027931131, 'electrod': 0.009642012605484194, 'supervisor': 0.009537074627343942, 'solar': 0.009414342853725199, 'arch': 0.009265217881978148, 'bonomi': 0.008937223186223515, 'shred': 0.008878284365599398, 'beven': 0.008861617630514023, '8,000': 0.008458836121644503, '10m': 0.008023237129579542, 'explos': 0.007965841340559663, 'subsidiari': 0.007943241688694275, 'power': 0.00789061831339036, 'heat': 0.007820726592002067, 'asphalt': 0.007791380276243352, 'furnac': 0.007514471445084984, 'ventur': 0.007463601902708034, 'compani': 0.007457772116814296}\n"
     ]
    },
    {
     "name": "stderr",
     "output_type": "stream",
     "text": []
    },
    {
     "name": "stdout",
     "output_type": "stream",
     "text": [
      "420 carbon monoxide poisoning {'poison': 0.08621859949475345, 'carbon': 0.06666666666666665, 'monoxid': 0.06666666666666665, 'fontela': 0.034468501765833166, 'torr': 0.028589830457466173, 'hibachi': 0.02695134062500574, 'barbecu': 0.02577446210390871, 'rodriguez': 0.025453242266741012, 'ga': 0.02436779574255968, 'mexia': 0.02237002169006395, 'fume': 0.021077838596676828, 'calexico': 0.02003957921016576, 'victim': 0.019491577894254854, 'backer': 0.019136693571986718, 'camper': 0.018953026357331922, 'heater': 0.018890924526385754, 'lubner': 0.016543281620559652, 'cuyamaca': 0.016349169000209284, 'mccrae': 0.015901955093092834, 'school': 0.01568682669552203, 'pallar': 0.01558053490936137, 'worker': 0.015543471561500061, 'sgt': 0.015094041516748872, 'baja': 0.014926577287291047, 'ventil': 0.014590501010832473, 'schoolgirl': 0.014228033264768994, 'rotherham': 0.014027327869697953, 'leak': 0.013858513274672721, 'exposur': 0.013565650678906636, 'quantum': 0.013558335632188124, 'shall': 0.013427195258373903, 'factori': 0.013342702994852627, 'heat': 0.013212195697944363, 'said': 0.012970950519437065, 'dgwchacwft': 0.0128630766912407, 'dead': 0.012690806884129014, '930723': 0.012549790091460037, 'shanti': 0.012361721521137788, 'scharf': 0.012324130799025, 'electr': 0.012037978168124151, 'diego': 0.011910951075352963, 'cajon': 0.011892448614401805, 'cabin': 0.01186565831544362, 'san': 0.011747867192013173, 'tgwu': 0.011695393087875282, 'death': 0.011495239537826864, 'test': 0.011378519365435184, 'symptom': 0.011362732720372788, '28': 0.011260720247608345, '36882': 0.011084297086368301, 'coron': 0.011074008751263277, 'brought': 0.01088062832849453}\n"
     ]
    },
    {
     "name": "stderr",
     "output_type": "stream",
     "text": []
    },
    {
     "name": "stdout",
     "output_type": "stream",
     "text": [
      "421 industrial waste disposal {'industri': 0.06666666666666665, 'dispos': 0.06666666666666665, 'wast': 0.06666666666666665, 'recycl': 0.059438532097087486, 'plastic': 0.04019911422151644, 'environment': 0.030275818738323634, 'hazard': 0.03008604669390365, 'tanneri': 0.02568352271510793, 'chemic': 0.025055905990546874, 'electron': 0.021601725058758237, 'raymark': 0.021224362582090997, 'inciner': 0.021148500660346226, 'wastewat': 0.020719110913325282, 'environ': 0.02039728923326212, 'icer': 0.02030437812151186, 'packag': 0.0189381291894614, 'marson': 0.018618541217808697, 'yen': 0.01812315971668689, 'treatment': 0.01667827972419734, 'water': 0.0166194110873073, 'teanchuang': 0.015649792453567565, 'lao': 0.01562860993773064, 'chlorid': 0.014448251006831725, 'tonn': 0.014412729347583274, 'pollut': 0.01418088605182482, 'npl': 0.01384853200411356, 'solut': 0.013713045871276692, 'minprirodi': 0.013538198888581113, 'sludg': 0.013270690553492615, 'inspector': 0.013125882067827702, 'yeo': 0.012328410380035982, 'toshiba': 0.01228794399038391, 'lacquer': 0.01160563488789101, 'konica': 0.011276764501839686, 't': 0.01120802348194705, 'danger': 0.011104160418114276, 'inject': 0.010974319144191577, '94wn0104a': 0.010504437838172927, 'law': 0.010422099582141478, 'produc': 0.010058677984552978, 'russia': 0.010004554135874665, 'f037': 0.009789619564444747, 'f038': 0.009789619564444747, 'x': 0.009746982497457445, 'list': 0.009644758392712158, 'benzen': 0.009631641656748789, 'renaudin': 0.009430751801424895, 'simon': 0.009200441513964541, 'deficit': 0.009199094834934389, 'manufactur': 0.008918933963068263, 'dublin': 0.00873020442237956, 'vapor': 0.008619824016857172, 'percent': 0.008594655282345756}\n"
     ]
    },
    {
     "name": "stderr",
     "output_type": "stream",
     "text": []
    },
    {
     "name": "stdout",
     "output_type": "stream",
     "text": [
      "422 art, stolen, forged {'art': 0.15046247783128208, 'stolen': 0.11853566466202443, 'forg': 0.06666666666666665, 'museum': 0.042294888379977184, 'paint': 0.035361972552258446, 'picasso': 0.03419621759691876, 'theft': 0.03408552627020611, 'renoir': 0.023325844218654475, 'cel': 0.022645731208369855, 'sculptur': 0.018907847266342755, 'galleri': 0.018551169715795877, 'recov': 0.016727171098949646, 'artist': 0.015599338928575238, 'piec': 0.01441226626141459, 'braqu': 0.01433510407890716, 'warhol': 0.014078933227115113, 'aleen': 0.014002116800046186, 'macminn': 0.013993323626676388, 'norwegian': 0.01325739746543713, 'work': 0.013176064144973958, 'artwork': 0.013023650506490656, 'dealer': 0.012486823638229401, 'entertain': 0.01219050342063198, '120431': 0.012091375575119936, 'madonna': 0.011969168053562755, 'souza': 0.011900024739559083, 'exhibit': 0.010628179213616874, 'porcelain': 0.0103858593135177, 'column': 0.010325789575308025, 'wire': 0.010203433463110067, 'steal': 0.01010534946361041, 'oslo': 0.009893503058968571, 'auction': 0.0097613347223644, 'collector': 0.009706087379342511, 'lithograph': 0.0093436799883604, 'mingei': 0.00931803970932103, 'texa': 0.009288794546814772, 'insur': 0.009244190014269845, 'calendar': 0.009190724223997635, '156803': 0.009110099749460036, 'biumo.shauna': 0.009110099749460036, 'desk': 0.009035179197354044, 'washroom': 0.008973733547221646, 'home': 0.008821657199758696, 'vault': 0.008758793131874137, 'press6': 0.008514121612520954, '236173': 0.008514121612520954, 'shimojo': 0.008469791939335097, 'reward': 0.00845095873217748, 'matiss': 0.008294767262338385, 'vermeer': 0.008274443659190578}\n"
     ]
    },
    {
     "name": "stderr",
     "output_type": "stream",
     "text": []
    },
    {
     "name": "stdout",
     "output_type": "stream",
     "text": [
      "423 Milosevic, Mirjana Markovic {'milosev': 0.10773795193101687, 'markov': 0.06666666666666665, 'mirjana': 0.06666666666666665, 'bosnian': 0.03815291019644737, 'seselj': 0.03640234224768515, 'karadz': 0.03473079853712826, 'bosnia': 0.02805294010447364, 'draskov': 0.02576321163057493, 'dafina': 0.02384426766315359, 'ignja': 0.02326796693111989, 'opposit': 0.020848612656457106, 'garmaz': 0.020582068525837806, 'serb': 0.020131550166099278, 'montenegro': 0.019338715285813577, 'brcko': 0.01887401660393248, 'plavsic': 0.018115333469484934, 'vasov': 0.017472617607873716, 'mutini': 0.016704490555974495, 'dafiment': 0.016563030103346654, 'wife': 0.01653395097973237, 'bulgarian': 0.016194002394527018, 'vojislav': 0.015381739823324723, 'socialist': 0.014808952209833802, 'smilkov': 0.013468141448743748, 'you': 0.01338674950765903, 'parti': 0.013329221817220597, 'dereta': 0.013212350821792708, 'i': 0.013189470127476528, 'sofia': 0.013041747763978566, 'milanov': 0.012909907913498329, 'tijan': 0.012717709612210132, 'andjelkov': 0.012382791302606106, 'perov': 0.01172175645646709, 'her': 0.01097999496063992, 'bank': 0.01096353049826918, 'banja': 0.010770429656984916, 'urbanowicz': 0.010748053238793518, 'leader': 0.010672216512439906, 'danica': 0.010561323113967734, 'ogurl': 0.010343285963025188, 'paripov': 0.009934058403252816, 'elit': 0.009876930681725436, 'luka': 0.009783397923790876, 'depo': 0.00966975522759139, 'degen': 0.009635368725996263, 'srpska': 0.009540865432561843, 'polit': 0.009488841059868983, 'montenegrin': 0.009231508360053537, 'radovan': 0.009027922377270306, '94p20894a': 0.008962002353098672, 'journalist': 0.008839466768264016, 'rec': 0.008776399013581926}\n"
     ]
    },
    {
     "name": "stderr",
     "output_type": "stream",
     "text": []
    },
    {
     "name": "stdout",
     "output_type": "stream",
     "text": [
      "424 suicides {'suicid': 0.19999999999999996, 'kevorkian': 0.05632197144304127, 'calvi': 0.05478115350937196, 'gamsakhurdia': 0.0282200599980301, 'harper': 0.02816170911662326, 'puchol': 0.02696525485224559, 'murder': 0.024937370063412477, 'adkin': 0.024653214169980765, 'maxwel': 0.022917258695567343, 'mcnalli': 0.02019748142820435, 'michigan': 0.019979154301835392, 'tomblin': 0.01997449672368868, 'frei': 0.0195957441999223, 'zviad': 0.01896102761433415, 'payn': 0.01762715517651693, 'death': 0.01736488566173228, 'juda': 0.016396070887652922, 'ambrosiano': 0.016263852073505204, 'georgian': 0.01592348759254422, 'osbourn': 0.01575521389735019, 'sublimin': 0.01485194288367055, 'judg': 0.01460213883353196, 'prosecutor': 0.014224073353094889, 'reno': 0.013730513704385914, 'devic': 0.01213260397211778, 'charg': 0.012083876127651376, 'investig': 0.012030465592657118, 'alzheim': 0.011905166558620409, 'hi': 0.011812177859202402, 'album': 0.011639028410178116, 'georgia': 0.011605335998786777, 'matia': 0.011550564578908611, 'priest': 0.011259559371145063, 'di': 0.011155261115494856, 'banco': 0.011105398754028398, 'hartwig': 0.010809180436940825, 'he': 0.010588701664280808, 'mr': 0.009892240863643507, 'shevardnadz': 0.009722809217069507, 'cult': 0.009547840233547445, 'autopsi': 0.009346004795665342, 'vanc': 0.009299795676231463, 'oakland': 0.009209056962114834, 'euthanasia': 0.009039354253243042, 'attornei': 0.008960350880207888, 'bertram': 0.008941473698545343, 'insur': 0.008886285156408002, 'polic': 0.00887489721200054, '10593': 0.008873777168266593, 'belknap': 0.008686979713627753, 'detroit': 0.008636583549173606}\n"
     ]
    },
    {
     "name": "stderr",
     "output_type": "stream",
     "text": []
    },
    {
     "name": "stdout",
     "output_type": "stream",
     "text": [
      "425 counterfeiting money {'counterfeit': 0.18852560052195438, 'monei': 0.12578096767846317, 'bill': 0.038587609101662326, 'banknot': 0.02670694766496546, 'manau': 0.02532553604472973, 'campu': 0.02092974923140762, 'coin': 0.0201675364266038, 'note': 0.02001470116550789, 'tachick': 0.019268146711427854, 'currenc': 0.018924811523529803, 'sobrinho': 0.01829835252630968, 'print': 0.01779846506841749, 'swenson': 0.015714982118174618, 'jn0105145694': 0.015263978481314777, 'dollar': 0.01495396833105183, 'vienna': 0.014125884432223974, '100': 0.013864312331118926, 'zhenji': 0.013587144194461213, 'pf': 0.013536940838553403, 'modesto': 0.013516797308618848, 'souza': 0.013464819848905567, 'polic': 0.013445929743257682, 'castelo': 0.013237623533051343, 'tianjin': 0.013025382368555188, 'circul': 0.012911373196883387, 'indict': 0.012865205632966368, 'secret': 0.012740306887771103, 'oblast': 0.012649180123701748, 'lu': 0.012422191696105072, 'tabatinga': 0.012197520119360606, 'zhao': 0.012090114769690201, 'branco': 0.01198590058217569, 'aswaq': 0.01187397994607176, 'de': 0.01175182494913863, 'sao': 0.01165135964123041, 'paulo': 0.01162258802080653, 'nune': 0.011597582098421544, 'kabul': 0.011340048779889438, 'seiz': 0.011198784470112584, 'zhixiang': 0.011175796981462703, '123711': 0.01063233802673547, '94sm0285b': 0.010416994836438015, 'paula': 0.010275752174344177, 'feder': 0.010143699126277978, 'leticia': 0.010041017146128768, 'griffin': 0.009855811002051513, 'forg': 0.009822479538197842, 'au2104122094': 0.009695234130299954, 'changer': 0.00958535827381917, 'afghanistan': 0.009391370655653106}\n"
     ]
    },
    {
     "name": "stderr",
     "output_type": "stream",
     "text": []
    },
    {
     "name": "stdout",
     "output_type": "stream",
     "text": [
      "426 law enforcement, dogs {'drug': 0.06705441920850187, 'enforc': 0.06666666666666665, 'law': 0.06666666666666665, 'dog': 0.06666666666666665, 'welz': 0.05572578593459896, 'cocain': 0.03061013945245372, 'smuggl': 0.027578761625317246, 'danforth': 0.024121315104771432, 'narcot': 0.023872988235616507, 'custom': 0.02218225768884567, 'marko': 0.020713848981217555, 'snif': 0.019951820938841083, 'narcobusi': 0.019738744903597526, 'polic': 0.0192415820414106, 'pigott': 0.018768572631587432, 'vincenn': 0.016633762249752188, 'train': 0.015634341951152212, 'gauner': 0.015101080665050521, 'seiz': 0.015067091588367446, 'sunnyval': 0.014805687758878036, 'border': 0.014582199674370659, 'tackett': 0.01440685708299683, 'roger': 0.014291141831198754, 'dandi': 0.013901976077397, 'ross': 0.01370453278753013, 'bell': 0.013686058364210295, 'seizur': 0.013166584095460605, 'almati': 0.013089304653438709, 'sylmar': 0.012467020994473886, 'bomb': 0.012402055993390913, 'smuggler': 0.012116339549644558, 'detect': 0.012083561853514772, 'ld0106191694': 0.011909467961591145, 'suspect': 0.011819934428880477, 'explos': 0.011580280708934057, 'opium': 0.01154233056099674, 'dadbpadoft': 0.011349882915065942, 'inglewood': 0.011074195710480884, 'thermed': 0.01101508761502437, 'shepherd': 0.010576203946083489, 'kazakhstan': 0.01056741632850574, 'weathersbi': 0.010492290992311026, 'frontier': 0.009950144567447021, 'depart': 0.00993611034508867, 'handler': 0.009523238187795907, 'forfeitur': 0.009512088904501254, 'worker': 0.009383280368560894, 'combat': 0.009043289292144558, 'detector': 0.008982079253231431, 'machin': 0.008855491425974733, '944k0783c': 0.008847186282594302, 'dea': 0.008695672426666225, 'secur': 0.008644493860534303}\n"
     ]
    },
    {
     "name": "stderr",
     "output_type": "stream",
     "text": []
    },
    {
     "name": "stdout",
     "output_type": "stream",
     "text": [
      "427 UV damage, eyes {'ozon': 0.1140734110207745, 'ey': 0.10859021029296223, 'damag': 0.07991196443941753, 'uv': 0.06666666666666665, 'cfc': 0.03512129322527436, 'layer': 0.03338966395818232, 'deplet': 0.029421131145051654, 'sunglass': 0.027299994036965564, 'lens': 0.023975542052759848, 'cancer': 0.021880196901456303, 'eclips': 0.020746371983010853, 'blank': 0.019266548588075253, 'sun': 0.01841362761507794, 'rai': 0.0182223265282774, 'skin': 0.016607285496447237, 'cataract': 0.016139159606914224, 'jandorf': 0.015041547013932823, 'antarctica': 0.014139351684734647, 'proton': 0.013273979530767087, 'bk2411024993': 0.012800500481049505, 'arctic': 0.012646196755751266, 'halon': 0.012427025403932437, 'len': 0.01225997477502098, 'ultraviolet': 0.011680462111364477, 'scientist': 0.011230625919443214, 'sunburn': 0.010972625626127193, 'bangkok': 0.010454161249264257, 'shade': 0.010338832077540543, 'chlorofluorocarbon': 0.010174173791448558, 'health': 0.010026030348720077, 'chemic': 0.009954027758075273, 'substanc': 0.009625106866149341, 'loma': 0.009539631708808276, 'frame': 0.009533507011177384, 'tumor': 0.009502261667768346, 'amnuai': 0.00905728833463262, 'earth': 0.008874861637169077, 'tetrachlorid': 0.008848507636964391, 'phaseout': 0.00884181287347646, 'helsinki': 0.008774562495404568, 'hole': 0.00872049211506631, 'carrillo': 0.00871356099872997, 'montreal': 0.008639874604693822, 'ntt': 0.00849562709280492, 'cell': 0.008342111231192722, '1996': 0.0082158703910711, 'incis': 0.008139348355904295, 'radic': 0.007781608718771153, 'phase': 0.007767555338045323, '19313': 0.007749162717398005, 'environ': 0.007692340120286004}\n"
     ]
    },
    {
     "name": "stderr",
     "output_type": "stream",
     "text": []
    },
    {
     "name": "stdout",
     "output_type": "stream",
     "text": [
      "428 declining birth rates {'rate': 0.06666666666666665, 'declin': 0.06666666666666665, 'birth': 0.06666666666666665, 'percent': 0.029332053721079367, 'oblast': 0.028905283753517547, 'courbag': 0.027489823746190436, 'fall': 0.024564252209245258, 'birthrat': 0.024490890390676586, 'demograph': 0.024040426059197057, 'russia': 0.023319697915303188, 'abort': 0.02283843826641327, 'ld0306100694': 0.022404335060134256, 'kaliningrad': 0.021347365368873668, 'ag': 0.020466993450466847, 'cepd': 0.020142640767395945, 'chukchii': 0.019305337879050193, 'rimashevskaya': 0.0191664777771932, 'ws1404114194': 0.019132670879057137, 'drop': 0.018491199427590137, '1993': 0.017334104458422855, 'itali': 0.016741178614959978, 'yantarnii': 0.016520015506742296, 'number': 0.016269305979189245, 'germani': 0.015617769523139091, 'shalayev': 0.014482483855612885, 'german': 0.014123945033542657, 'uniar': 0.013928314213158963, 'unpreced': 0.013462383642425078, 'kamchat': 0.01287022525270013, 'ld1105161094': 0.01287022525270013, 'ow2204204494': 0.012861192223384506, 'per': 0.012775904786538762, 'exceed': 0.012713468692651648, 'reservist': 0.012613669943906622, 'immigr': 0.012611670490729613, 'esri': 0.012477289588116738, 'ukrainian': 0.012300126106325023, 'fertil': 0.012203610674285435, 'ms': 0.012079613660728468, 'brazil': 0.011962209290259204, 'p99': 0.011799580571296877, 'nonclassifi': 0.01178045151366355, 'krai': 0.011482965439907632, '538,168': 0.011452765638559131, 'ehbduaayft': 0.011452765638559131, '543,433': 0.011452765638559131, 'drsov107_f_94022': 0.011202167530067128, 'decreas': 0.011103774018076846, 'maghreb': 0.01107220215626703, 'enterpris': 0.010993341410086115, 'russian': 0.010697044365112469, 'european': 0.010661740383066942, 'increas': 0.010591842235874553}\n"
     ]
    },
    {
     "name": "stderr",
     "output_type": "stream",
     "text": []
    },
    {
     "name": "stdout",
     "output_type": "stream",
     "text": [
      "429 Legionnaires' disease {'legionnair': 0.17650799050542584, 'diseas': 0.1307939701128088, 'lockhe': 0.02977592394022621, 'bacteria': 0.028107636158741085, 'hepat': 0.02568683739110358, 'deiataabft': 0.021476403266274355, 'outbreak': 0.020611529814330686, 'shelter': 0.019921981503510433, 'sunnyval': 0.018447238929690243, 'mangion': 0.017957499416428425, 'health': 0.017824339824764873, 'soup': 0.017616941665262807, 'heathrow': 0.017151212358837955, 'burgess': 0.016902791282480886, 'kitchen': 0.015168106434752774, 'man': 0.014581379717587363, 'tort': 0.01455532569095231, 'smoke': 0.014455653096334453, 'ill': 0.014316730505056574, 'p9229': 0.014286438013918946, '236092': 0.014111464171480473, 'decontamin': 0.013958975329140866, '930508': 0.013519995228397237, 'area': 0.01347280862521958, 'lamar': 0.0134279379920046, 'reunion': 0.013279817402485645, 'brief': 0.013039810973850008, 'employe': 0.012876080141256735, 'piccadilli': 0.012873824189145278, 'squar': 0.012775643357669295, '157722': 0.0125540259342489, 'serrani': 0.0125540259342489, 'klm': 0.01242783664703713, 'onset': 0.012153137712286304, 'ship_publ': 0.012034452865476112, 'safeti': 0.012030271394302922, 'eizd8ac3ft': 0.01136413651585334, 'indefinit': 0.011347840790504984, 'leicest': 0.011310306410025343, 'build': 0.011182079127702065, 'circu': 0.010955145038287512, 'trafalgar': 0.010839496366308344, 'henson': 0.01032114886507408, 'cruis': 0.010285518719278776, 'missil': 0.010018153491853718, 'airport': 0.00996940454079275, 'akil': 0.009929517875107622, 'spokesman': 0.009880683006073594, 'nceh': 0.009767749928737808, 'chittenden': 0.009592781797661508}\n"
     ]
    },
    {
     "name": "stderr",
     "output_type": "stream",
     "text": []
    },
    {
     "name": "stdout",
     "output_type": "stream",
     "text": [
      "430 killer bee attacks {'bee': 0.17726979499219925, 'killer': 0.10486149835388595, 'attack': 0.07583065494227709, 'campech': 0.03949337159854224, 'bdqbpaduft': 0.03647999677317875, 'swarm': 0.033100292413977606, 'ahb': 0.028863718729219712, 'sting': 0.026707158225093088, '322881': 0.026369737059888994, 'acapulco': 0.025048515627337255, 'beekeep': 0.02351418182717635, 'stung': 0.023128717185169775, '910417': 0.02282533404630413, 'mexican': 0.02185178821505169, 'hive': 0.018511827705198852, 'notimex': 0.014456180936193412, 'peasant': 0.014278603729282394, 'di': 0.014215217609153142, 'african': 0.013147432343188555, 'mexico': 0.012804193696513963, 'southeastern': 0.012752876641652661, 'resort': 0.012593600778039463, 'tourist': 0.012470992206274845, 'pearson': 0.012310211033446235, 'escap': 0.011469084963864961, 'death': 0.011147652646336386, 'bulldog': 0.011083451272434593, '91': 0.010846646160050195, 'elderli': 0.010312784480133515, '88773': 0.009944215637514981, 'victim': 0.009756710582631122, 'tri': 0.009027356458612244, '37': 0.008295965974500072, 'symposium': 0.007466881180002687, 'apr': 0.007037740274336931, '35': 0.00685358294371497, 'mussen': 0.006827936922283239, 'sundai': 0.0068141637490023894, 'confere': 0.006780635531118135, 'hospit': 0.006497906031720284, 'subspeci': 0.006396074217244936, '17': 0.006018846747257408, 'thuner': 0.005934847341944845, '16': 0.0059124705333575755, 'musson': 0.005725911532152338, 'brief': 0.005673644395172234, 'venezuela': 0.005470513721656156, 'advanc': 0.005390819004030969, 'seldom': 0.00524454941160786, '174': 0.00518371161907355}\n"
     ]
    },
    {
     "name": "stderr",
     "output_type": "stream",
     "text": []
    },
    {
     "name": "stdout",
     "output_type": "stream",
     "text": [
      "431 robotic technology {'robot': 0.306391937263476, 'technolog': 0.09999999999999998, 'weld': 0.029450294044534666, 'autom': 0.023562254462323913, 'assembl': 0.02060845255702031, 'warehous': 0.017734250314170783, 'supplier': 0.016577299115161807, 'demark': 0.015897961125623132, 'hannov': 0.015640764829509414, 'factori': 0.015211329079582163, 'frankfurt': 0.014484800407067004, 'highbai': 0.01405776545771231, 'ration': 0.013803545138600722, '94ws0171a': 0.01370070001800383, 'irf': 0.013255717901008166, 'ow2502185794': 0.01323588931203394, 'rvd': 0.013171423824669883, 'german': 0.012807025431476063, 'handl': 0.012657187940796589, 'haggett': 0.012647075698968968, 'mattucci': 0.011992620270811253, 'satellit': 0.011549982455168008, 'product': 0.011407099747481796, 'durch': 0.011018128150793702, 'wirtschaft': 0.010660455284377328, 'superfin': 0.010646443584666675, 'engelberg': 0.010495817684986, 'yuan': 0.010447591162382027, 'paint': 0.010207806745844957, 'capabl': 0.010023290084264952, 'blick': 0.009985025387729524, 'fuzzi': 0.009973408423145605, 'plane': 0.00983502289624193, '1996': 0.00975508079779512, 'rendezv': 0.009594201828582304, 'precis': 0.009566465487155592, 'carton': 0.009565302525027337, 'adept': 0.009547095165531715, 'europ': 0.009487950909411957, 'robotiqu': 0.009456271736021008, 'exhibit': 0.009442890206980352, 'space': 0.00932101199650963, 'miebach': 0.00930426040229661, 'dortmund': 0.009198209191184591, 'model': 0.009163524747498715, 'kg': 0.009161041458314936, 'comput': 0.008977705040721264, 'muno': 0.008948471906827057, 'reconnaiss': 0.008867139229408452, 'robodoc': 0.008774376076938132, 'germani': 0.008730635494161363}\n"
     ]
    },
    {
     "name": "stderr",
     "output_type": "stream",
     "text": []
    },
    {
     "name": "stdout",
     "output_type": "stream",
     "text": [
      "432 profiling, motorists, police {'checkpoint': 0.07587001244535815, 'profil': 0.06666666666666665, 'polic': 0.06666666666666665, 'motorist': 0.06666666666666665, 'jackson': 0.0577516307972926, 'search': 0.037830763034476925, 'holt': 0.024617702100744352, 'lockyer': 0.024443437982868122, 'drug': 0.02106466127981067, 'sobrieti': 0.020584688442621065, 'sheriff': 0.020205635084724595, 'citi': 0.019880946349174127, 'gang': 0.018586128628505328, 'seizur': 0.01858600334643702, 'davi': 0.01837931431893367, 'hawthorn': 0.01771491909700659, 'bill': 0.017653659157844913, 'narcot': 0.017331903629468962, 'stop': 0.017215429406996673, 'winkler': 0.015883692031521162, 'paramount': 0.0156622299982326, 'mirabella': 0.014409197501712226, 'senat': 0.014010698667666908, 'influenc': 0.014009302162412158, 'random': 0.013977186964794329, 'driver': 0.013909459026971003, 'gundri': 0.013137629950908636, 'sen': 0.01306184118056914, 'alcohol': 0.012267028101237702, 'angel': 0.012138460637911519, 'lo': 0.01205054116746895, 'conduct': 0.01130294692313609, 'he': 0.01104441380600776, '62221': 0.010815150096367989, 'illeg': 0.010789367024318012, 'offic': 0.010748222519711555, 'robinson': 0.010499172772257582, 'hart': 0.01045867557010068, 'neighborhood': 0.010265015073898716, 'shoot': 0.009924364032512921, 'skeptic': 0.009920038022051443, 'vote': 0.00946442948893756, 'dickei': 0.0094623620302451, 'hoffman': 0.009443320345655495, '44662': 0.008995036991460882, 'peopl': 0.008576840359335276, 'deputi': 0.008459499653924172, 'ed': 0.008036260738939904, '15300': 0.00799617675777944, 'roadblock': 0.007978486594572535, 'hi': 0.007895142084074762, 'would': 0.007848767712590304, 'pubic': 0.007842208908451536}\n"
     ]
    },
    {
     "name": "stderr",
     "output_type": "stream",
     "text": []
    },
    {
     "name": "stdout",
     "output_type": "stream",
     "text": [
      "433 Greek, philosophy, stoicism {'elovich': 0.09857305013653254, 'stoicism': 0.08581077649720847, 'greek': 0.06666666666666665, 'philosophi': 0.06666666666666665, 'outdoor': 0.038847023950918796, 'leed': 0.032391800888633776, 'bootsi': 0.030674249886236668, 'collin': 0.03022410449224554, 'yorkshir': 0.029884368194075507, 'funk': 0.0278585243272175, 'danni': 0.02717955475014528, 'train': 0.026183271075797227, 'wakefield': 0.0208701894017254, 'learn': 0.018203242623468785, 'schider': 0.017866264424525276, 'pakistan': 0.016461603533856742, 'eagland': 0.01596675575803333, 'kashmir': 0.014460194348202457, 'india': 0.014115658400359062, 'sushi': 0.013780507281197616, 'emot': 0.01287588080657906, 'cours': 0.011991210774792102, 'hindu': 0.011685943774263968, 'ferngulli': 0.011395405041884622, 'joseph': 0.010689342697557044, 'jaffrei': 0.010532976496715137, 'classroom': 0.010420736851288163, 'secular': 0.010346991664540922, 'self': 0.010344960663070966, 'unflinch': 0.010324218399282818, 'epictetu': 0.010234940509286935, 'siddal': 0.00965969696807506, 'limbomaniac': 0.00945828307321551, 'mackinnon': 0.00940971821213648, 'humbersid': 0.009390994772121602, 'west': 0.009268388335797786, 'ego': 0.009246098380822685, 'doctor': 0.009211131984822287, 'furnham': 0.009209720381223852, 'plai': 0.009078900732875188, 'm62': 0.008941010622985884, 'saeed': 0.008883934105302341, 'inner': 0.008830508057450306, 'pennin': 0.00873224957367593, 'crowd': 0.008661913584066809, 'islam': 0.00856624977255824, 'citi': 0.008460888668450137, 'experi': 0.008414698871034862, 'film': 0.008328449473752305, 'team': 0.008311215345801627, 'trainer': 0.008290010882471518, 'groov': 0.008118857218384684}\n"
     ]
    },
    {
     "name": "stderr",
     "output_type": "stream",
     "text": []
    },
    {
     "name": "stdout",
     "output_type": "stream",
     "text": [
      "434 Estonia, economy {'economi': 0.11335224387542447, 'estonia': 0.11000925438945923, 'kroon': 0.08641445878011694, 'sildmæa': 0.040562236543554855, 'invest': 0.032966836764918094, 'percent': 0.029912320812308837, 'bank': 0.02386918071995199, 'niitenberg': 0.023804924858846915, 'inflat': 0.023070768976408574, 'price': 0.02162937154602451, 'currenc': 0.020597373713292247, 'kalla': 0.01995303440173679, 'meri': 0.019326307306550203, 'rajasalu': 0.01664999795245514, 'incom': 0.015982261886594143, 'xinhua': 0.01534841850508565, 'trade': 0.015298868564941788, 'legrain': 0.013770084809849587, 'volum': 0.013769050318540761, 'reform': 0.013757888198360003, 'wage': 0.013722519488340799, 'balanc': 0.013543493444068522, 'product': 0.013311712853894452, 'ow1006030094': 0.013240366564823953, 'china': 0.012723704580807835, 'sector': 0.012618845913733285, 'æaripæaev': 0.011997392822659946, 'investor': 0.011688084656796612, 'ws0505085594': 0.011564623042597866, 'rate': 0.011483920580758275, 'billion': 0.011476131047815849, 'cent': 0.011357507184409199, 'imf': 0.011239260560893841, 'energi': 0.011187413900267241, 'compar': 0.010860480764581765, 'our': 0.010847301477539158, '944k0613b': 0.01077758916099736, 'per': 0.010705952662877546, 'roubl': 0.01018826825857559, 'month': 0.010184242722540003, 'riigikogu': 0.010108692785744297, 'export': 0.009910788433017667, 'project': 0.009767304262409307, 'monetari': 0.009690554422153306, 'increas': 0.009626688611139422, 'growth': 0.009569920053252823, 'central': 0.00937714990068058, 'rise': 0.009250453410859238, 'saat': 0.009004709826000087, 'hæaæal': 0.008930043681343461}\n"
     ]
    },
    {
     "name": "stderr",
     "output_type": "stream",
     "text": []
    },
    {
     "name": "stdout",
     "output_type": "stream",
     "text": [
      "435 curbing population growth {'popul': 0.15633948367795247, 'growth': 0.07930892622093201, 'curb': 0.06666666666666665, 'rate': 0.034107637207766814, 'unfpa': 0.02981831294812945, 'chengd': 0.028455763577354166, 'henan': 0.02779128952609061, 'famili': 0.02705986675607809, 'per': 0.02480510784110145, 'egypt': 0.02148047469234005, 'fertil': 0.0208135663001744, '1993': 0.018173717868004244, 'ow1203094594': 0.017718042601056826, 'serbia': 0.017667111669962463, 'children': 0.016843405875326383, 'nefo': 0.016689868952451833, '1992': 0.015231220467377722, 'xinhua': 0.015014612564555338, 'percent': 0.01498853186220049, 'cent': 0.014223518016512171, 'provinc': 0.014216669825979165, 'zhongchen': 0.014077711807159757, 'china': 0.013296306514222712, 'woman': 0.013074322890167257, 'birth': 0.012993891306741995, 'figur': 0.012259087244641944, 'decreas': 0.011988597760763773, 'ma': 0.011795916885138279, 'expert': 0.011674084127573276, 'idsc': 0.010975710590980216, 'demograph': 0.010924671568720472, 'averag': 0.010909724649206592, 'egyptian': 0.01083667596576833, 'wheat': 0.01078827177970735, 'child': 0.010635031657542239, 'decad': 0.01054341942675091, 'thousand': 0.010234820403584822, '94ce0459a': 0.010106913739024642, '1.809': 0.010106913739024642, 'beij': 0.010091645633931194, 'migrat': 0.010086915369425603, 'bangladesh': 0.010050107083388148, 'million': 0.009904996965702668, 'educ': 0.009799048114514059, '0.664': 0.009778653440939597, 'success': 0.009638184708395656, 'drop': 0.009430791219653904, 'ld0206131094': 0.009385641704826905, 'natur': 0.009222887596902788, 'vojvodina': 0.009108914146422417, 'iran': 0.008866346841165404}\n"
     ]
    },
    {
     "name": "stderr",
     "output_type": "stream",
     "text": []
    },
    {
     "name": "stdout",
     "output_type": "stream",
     "text": [
      "436 railway accidents {'accid': 0.11699814974333361, 'railwai': 0.09999999999999998, 'train': 0.07056196164726432, 'crash': 0.039752729935218806, 'derail': 0.03403882007695647, 'bu': 0.02964422496821852, 'collid': 0.027144086502569227, 'injur': 0.026027149094123778, 'kill': 0.024906608465844696, 'track': 0.022744214358239055, 'cross': 0.02181135921114174, 'tunnel': 0.02084062658730035, 'driver': 0.01981122881849656, '313612': 0.017175602989387917, 'carriag': 0.016684518252264267, 'leed': 0.01585403228798209, 'clara': 0.01539045075644688, 'investig': 0.015041617369876487, 'boxcar': 0.014761845270215464, 'amsterdam': 0.012988370903352725, 'thailand': 0.012841187133417599, 'georgian': 0.012732267568379044, 'collis': 0.012593958847303284, 'guguli': 0.01248306479572228, 'mayduradz': 0.01248306479572228, 'ehoddab7ft': 0.01248306479572228, 'freight': 0.012234431407078982, 'junction': 0.01218765964690424, 'severn': 0.011946118821046757, 'villa': 0.011942264409953518, 'hospit': 0.011679999810058177, 'daqacabfft': 0.011442699835791999, 'cuba': 0.011300431641302835, 'fe': 0.011261133875883943, 'caus': 0.010865885101775758, 'fl2203182194': 0.010513935494330365, 'error': 0.010493728300874555, 'crew': 0.010259633444662797, 'seymour': 0.010133209564523167, 'eastbound': 0.01010876108878165, 'railroad': 0.010089502509163656, 'switch': 0.009894907409053006, 'signal': 0.009879610134321613, 'sprinter': 0.009787375162478889, 'reuter': 0.009739707882615587, 'emerg': 0.009609615515615445, 'sixteen': 0.00944051189439768, 'peopl': 0.009437187088664884, 'brake': 0.009350743749889426, 'fuent': 0.009306279677246374, 'prosecut': 0.009300461359085065}\n"
     ]
    },
    {
     "name": "stderr",
     "output_type": "stream",
     "text": []
    },
    {
     "name": "stdout",
     "output_type": "stream",
     "text": [
      "437 deregulation, gas, electric {'ga': 0.10684264990314554, 'deregul': 0.06666666666666665, 'electr': 0.06666666666666665, 'wakeham': 0.050436127398973844, 'price': 0.04788661693871146, 'consum': 0.047690704674227175, 'meter': 0.0405169328462733, 'station': 0.02542254739800593, 'british': 0.025234363598816964, 'palmgren': 0.022706163028507625, 'household': 0.022206611631208416, 'ofga': 0.019617589077900188, 'finland': 0.019297391423036398, 'spottiswood': 0.01709299048365197, 'rost': 0.016286071624408312, 'fire': 0.016167708016740567, 'corzin': 0.015660679595691545, 'custom': 0.014965844198550949, 'wast': 0.014761086221822648, 'sychrava': 0.014703352201988687, 'power': 0.01453003364719954, 'cut': 0.013156468607444786, '2.2p': 0.013015251885102455, 'lovisa': 0.012974950302004355, 'regul': 0.012686047173437713, 'juliet': 0.012489946469863027, 'duopoli': 0.012474427308106668, '18m': 0.011908945062665497, 'cost': 0.011519121139510624, 'sir': 0.011104446831320378, 'baker': 0.010908400467544651, 'salari': 0.010724523336024798, 'sierila': 0.010323653149276149, 'trust': 0.010281766207430081, 'formula': 0.009736443465542408, 'should': 0.009547414511128095, 'jame': 0.0095424594275554, 'opec': 0.009533110122836318, 'erewash': 0.009310091187796453, 'subsidi': 0.00923421969751498, 'mr': 0.009196869837822579, 'said': 0.009096599169066187, 'bt': 0.00892064600892751, 'increas': 0.008740415352146706, 'pass': 0.008721910834663858, 'imatran': 0.008702164095553487, 'govern': 0.008562200460827592, '2.9p': 0.008547984310532815, 'edward': 0.008516280796080022, 'voima': 0.008477918509448597, 'levi': 0.008376246807261829, '2.4m': 0.008310280223369508}\n"
     ]
    },
    {
     "name": "stderr",
     "output_type": "stream",
     "text": []
    },
    {
     "name": "stdout",
     "output_type": "stream",
     "text": [
      "438 tourism, increase {'tourism': 0.09999999999999998, 'increas': 0.09999999999999998, 'cuba': 0.04752478324349106, 'havana': 0.03425252010978629, 'cuban': 0.03248014270542432, 'tourist': 0.03065529726066198, 'china': 0.028571119164460437, 'mainland': 0.026128566415056287, 'cienfuego': 0.025215957224147323, 'hvg': 0.024961358124120387, 'intur': 0.02346963699807962, 'taiwan': 0.021897143435668887, 'latina': 0.02088368889106131, 'percent': 0.020640950002590343, 'hotel': 0.020098694645130446, 'prensa': 0.01962548965300165, 'rodriguez': 0.017608471622762255, 'cna': 0.016226777560589024, 'taipei': 0.01607509516348437, 'sweden': 0.016048975241629553, 'australia': 0.015739231186037612, '1993': 0.014748177939588476, 'gaviota': 0.013903236564181229, 'pa3112001193': 0.013136911475567581, 'foreign': 0.013067162799343494, 'chain': 0.012949997719921606, 'kenya': 0.01282132310586743, 'ow0106091894': 0.012660029389927815, 'aviacion': 0.012578222921061434, 'vacation': 0.012343213581145044, 'spanish': 0.012175705165103724, 'cubanacan': 0.011896493175156363, 'growth': 0.011641367106823529, 'cubana': 0.011406634200623343, 'mauritiu': 0.011203521961204874, 'cent': 0.01086843487904401, 'spain': 0.010649259071645847, 'carib': 0.010503527964246966, 'per': 0.010427951766992667, 'oversea': 0.010091092695522509, 'vilaggazdasag': 0.009971234564696747, 'reactiv': 0.00987780587990141, 'adollar': 0.009829326966310814, 'heti': 0.009776136314988672, 'pa2604020694': 0.00949899145781942, 'ow2305174494': 0.009410043216949958, 'prieto': 0.009351459643776264, 'algarv': 0.009119629392521525, 'cbc': 0.00911421907771227, 'gran': 0.00902798297940914, 'de': 0.00896400413125171, 'pl': 0.008883004244510703}\n"
     ]
    },
    {
     "name": "stderr",
     "output_type": "stream",
     "text": []
    },
    {
     "name": "stdout",
     "output_type": "stream",
     "text": [
      "439 inventions, scientific discoveries {'invent': 0.06666666666666665, 'scientif': 0.06666666666666665, 'discoveri': 0.06666666666666665, 'fulleren': 0.04698538196347947, 'cancer': 0.033958397592815465, 'patent': 0.031002967730847892, 'cr': 0.027949092817414024, 'viturid': 0.025620407303616005, 'crl': 0.023959019877940465, 'neutron': 0.02264282924497378, 'gene': 0.022048297673041756, 'mercuri': 0.021621488592664804, 'breast': 0.018690868559175077, 'lillian': 0.01783143032276954, 'hydrogen': 0.01769445338687083, 'yakimov': 0.01739906713284149, 'bomb': 0.017068979873432834, 'vorobyeva': 0.016719325328074297, 'jessen': 0.01658566948062376, 'danish': 0.016555801182981382, 'materi': 0.01606065469406566, 'punga': 0.016051752181953854, 'russian': 0.014638331287726273, 'miniatur': 0.014548521295615497, 'ow1201110394': 0.014341626267715252, 'medal': 0.01424347691490554, 'diamond': 0.013988013503900016, 'thorn': 0.013902114685547315, 'crystal': 0.013838745219947407, 'red': 0.013809891744393758, 'brca1': 0.013007431886284924, 'metal': 0.012557915945515764, 'film': 0.01247020191467775, 'micrograv': 0.01229556980062538, 'ow2402202194': 0.012184312562148547, 'rice': 0.012173672494450519, 'hybrid': 0.012116686806134978, 'moscow': 0.012082471559738392, 'cane': 0.012015670919194997, 'ld1304151794': 0.01198875841908903, 'dolib': 0.011923557170907645, 'scientist': 0.011055912234884049, 'exhibit': 0.010957745604056083, 'estonia': 0.01093126227712344, 'institut': 0.010792576883610409, 'puddl': 0.01072139019432336, 'hilari': 0.010536678923162323, 'nanomet': 0.01036018623063115, 'inventor': 0.010169585956815684, '504870': 0.010064159891189738, 'eefedacxft': 0.010064159891189738, 'tv': 0.009906653990711172, 'english': 0.009866832584201464}\n"
     ]
    },
    {
     "name": "stderr",
     "output_type": "stream",
     "text": []
    },
    {
     "name": "stdout",
     "output_type": "stream",
     "text": [
      "440 child labor {'labor': 0.13633406423630162, 'child': 0.09999999999999998, 'violat': 0.03383566977424866, 'sew': 0.03091941255370674, 'thailand': 0.0282524256445522, 'wto': 0.02769606297673894, 'sweatshop': 0.024383407048474012, 'trade': 0.023389925530919946, 'law': 0.02272236176026744, 'labour': 0.0221630309466075, 'enterpris': 0.022004768199604646, 'maystadt': 0.021652601415079603, 'gatt': 0.02163915914506003, 'worker': 0.017950356675351557, 'foreign': 0.016822953532414812, 'bk0804051294': 0.01653157289293825, 'kumano': 0.016458380962331626, 'taco': 0.016389597803456682, 'marrakech': 0.01602021049262322, 'bangkok': 0.01568349872725259, 'vae': 0.015600569963787607, 'raid': 0.01523752519103048, 'fine': 0.014971067103811329, 'talk': 0.014750896742800957, 'korea': 0.014476269093352348, 'phaithun': 0.014052893035945747, 'ministeri': 0.013899204438182045, 'minist': 0.013207041663961387, 'orang': 0.01306726991493208, 'schumer': 0.013049659559443217, 'oecd': 0.012509972942877557, 'u.': 0.012185477008278127, 'claus': 0.01192034971531845, 'hanford': 0.011638701157345718, 'issu': 0.011581585468056424, 'ow1404061794': 0.011487504589640265, 'sweep': 0.011443525072771148, 'thai': 0.011000731045893015, 'ana': 0.010769070364039561, 'shop': 0.010617371732431423, 'hk1805133294': 0.010484488625728693, 'cnpf': 0.010435340171658598, 'uncov': 0.010375101103876213, 'cite': 0.010353649062428747, 'dole': 0.010319645639888006, 'apr': 0.010310470245301129, '199133': 0.009972266959787042, 'bell': 0.009950268807598946, 'wire': 0.009845035370774913, 'lambertson': 0.009821528818319762, '192954': 0.009816059072809101}\n"
     ]
    },
    {
     "name": "stderr",
     "output_type": "stream",
     "text": []
    },
    {
     "name": "stdout",
     "output_type": "stream",
     "text": [
      "441 Lyme disease {'diseas': 0.1379913830887233, 'lyme': 0.12847026817786666, 'rspa': 0.06348563779315196, 'research': 0.04403736083801869, 'infecti': 0.03833392067190836, 'tick': 0.034130189115116186, 'repel': 0.03138184482516162, 'rmw': 0.03057250776204594, 'substanc': 0.023647415437652666, 'epidemiolog': 0.018267540426039685, 'complianc': 0.017589843247337655, 'blood': 0.017150194449054162, 'infect': 0.01612956905063871, 'hmr': 0.015940917903864385, 'spirochet': 0.01590374976224309, 'hm': 0.01551438864649548, 'etiolog': 0.015238477499094575, 'neurolog': 0.014853207543111525, 'insect': 0.014737521197844078, 'hyph': 0.014709365729277283, 'bite': 0.014221175606903903, 'hazard': 0.014159714377928524, 'symptom': 0.013858355618864388, 'date': 0.011534804981983221, 'materi': 0.01150855327215626, '42': 0.011028849215910061, 'beij': 0.01090994598124473, 'u.s.c': 0.010723538746830972, 'transfus': 0.010612927999070654, 'packag': 0.010508489582701968, '54004807b': 0.010082896828974956, 'bmft': 0.009800993644600244, 'georgeson': 0.009788559520868795, '94p60122c': 0.00972017247981894, 'antibiot': 0.009116191584076937, 'liuxingbingxu': 0.0090710831564615, '241': 0.009005299585331876, 'misus': 0.008811696487157024, 'wast': 0.008738102549575844, 'percent': 0.008663821562954985, 'immunodefici': 0.008660552185317133, '142a': 0.008386097636311115, 'zazhi': 0.00835443880557917, '301': 0.00818820488379949, 'aid': 0.007898860677627517, 'chines': 0.007885065890273992, 'anprm': 0.007814117476123662, 'regul': 0.00778409662282165, 'transport': 0.007610962525197361, 'zhonghua': 0.007467127348886953}\n"
     ]
    },
    {
     "name": "stderr",
     "output_type": "stream",
     "text": []
    },
    {
     "name": "stdout",
     "output_type": "stream",
     "text": [
      "442 heroic acts {'act': 0.09999999999999998, 'heroic': 0.09999999999999998, 'sippl': 0.04163371828044523, 'honggang': 0.031008254128032493, 'delapp': 0.030479771645599365, 'zhenghong': 0.02685649692539423, 'pinon': 0.022046239513221252, 'deed': 0.02169808624870253, 'pilot': 0.021459628940223453, 'xu': 0.020910700787701138, 'anderson': 0.0207426538768701, 'rescu': 0.02060720364614964, 'bair': 0.02007483013237837, 'car': 0.01820794167802548, 'drown': 0.017563559693759858, 'grishchenko': 0.01722952958670177, 'jin': 0.0171470325702373, 'award': 0.016845783487155496, 'helicopt': 0.01641660437232232, 'benfang': 0.016378752393983908, 'him': 0.016266205834213, 'polic': 0.01571998086580618, 'yunshan': 0.015558756214916855, 'marrow': 0.015140933863606196, 'chernobyl': 0.014665933904658632, '63113': 0.01454899971828966, 'cpc': 0.01362900271095123, 'honor': 0.013603577010151795, 'said': 0.013564205250033391, 'smith': 0.013556596718543815, 'counti': 0.013518816063001704, 'fullerton': 0.012879213449786084, 'save': 0.012795184800128492, 'he': 0.012714328557171493, 'chong': 0.012511391803840623, 'comrad': 0.012122687083083268, 'murfreesboro': 0.011988328047752959, 'xueji': 0.011793374998015298, 'ow3005171294': 0.011793374998015298, 'hi': 0.011583380491180018, 'romania': 0.011433711899996113, 'neighbor': 0.011262793813473802, 'cudgel': 0.011219084657854171, 'pull': 0.011215487351010517, 'ld2812152693': 0.011148448626198605, 'kohn': 0.01110096777989742, 'trott': 0.011047891871493971, 'todd': 0.01101571073867038, 'youngster': 0.010931898977985242, 'grachev': 0.010912381315122122, 'who': 0.010786890723851241, 'zhan': 0.010663671954396626}\n"
     ]
    },
    {
     "name": "stderr",
     "output_type": "stream",
     "text": []
    },
    {
     "name": "stdout",
     "output_type": "stream",
     "text": [
      "443 U.S., investment, Africa {'africa': 0.09107296470485254, 'invest': 0.06666666666666665, 'u.': 0.06666666666666665, 'ast': 0.03509301234009201, 'botswana': 0.03360080477468787, 'nedcor': 0.03338636056979103, 'rdp': 0.024863028741798507, 'johannesburg': 0.022441253307427494, 'aid': 0.02178949928264533, 'ow2604231794': 0.018986959527745456, 'sa': 0.01867138633711676, 'ow0705112594': 0.018532752187887094, 'g': 0.017852844877327852, 'jse': 0.01762772979651779, 'angolan': 0.017255982721929176, 'african': 0.016358380808139932, 'fund': 0.016128889713790298, 'mpla': 0.015939316564689627, 'masir': 0.015824179044532937, 'clinton': 0.01557238766205795, 'busi': 0.015207235085611418, 'pac': 0.015177392384661238, 'hp': 0.015129321645741739, 'mb1105103294': 0.015116325993811089, 'gaboron': 0.01474408952616961, 'warsaw': 0.014600046790662636, '7': 0.014508270386449707, 'siltek': 0.014448390395522337, 'bond': 0.014168506366319342, 'comput': 0.014066331212752204, 'pt': 0.013544047731782105, 'angola': 0.013430731328306437, 'mb0601164794': 0.0133281284672824, 'wilder': 0.013322800255434385, 'mb1304083194': 0.013095663976296119, 'virginia': 0.012935757247866143, 'irrc': 0.012819997004603427, 'fdi': 0.01255094317800016, 'star': 0.012480447171024088, 'usaid': 0.012356170856171342, 'hewlett': 0.012335131031224768, 'congratul': 0.012217804705055731, 'packard': 0.011894865227978878, 'elect': 0.011618379381226885, 'emerg': 0.011561977645965442, 'brown': 0.01153488907057159, 'schwarz': 0.011493106544209084, 'holomisa': 0.01141570583553908, 'market': 0.0114138739225451, 'khan': 0.01118032404120109, 'lift': 0.010989945152321103, 'ketumil': 0.010982334141330215}\n"
     ]
    },
    {
     "name": "stderr",
     "output_type": "stream",
     "text": []
    },
    {
     "name": "stdout",
     "output_type": "stream",
     "text": [
      "444 supercritical fluids {'supercrit': 0.1646687240772387, 'fluid': 0.09999999999999998, 'clean': 0.05026319166371847, 'turbin': 0.028833728583694863, 'solvent': 0.027433820792247012, 'technolog': 0.02609523760604291, 'silicon': 0.023603740751775105, 'aqueou': 0.023334240163897922, 'dioxid': 0.02291747566708224, 'substitut': 0.021255419525241532, 'carbon': 0.02108985334560095, 'siloxan': 0.020552532501715477, 'steam': 0.018316539412644915, 'mcf': 0.018238311466613196, 'metal': 0.017951064361252576, 'cfc': 0.017872949581975602, 'porou': 0.017580524454667876, 'tohoku': 0.01699998710910331, 'research': 0.014841776277866004, 'methyl': 0.01409040207302004, 'wood': 0.013815449513972898, 'cleaner': 0.013725734900965562, 'dry': 0.01358360656398188, 'toshiba': 0.013463248665720382, 'accept': 0.013171306180974061, '113': 0.013008183148554706, 'water': 0.012605016810324141, 'hyph': 0.012280129282770978, 'decamethyltetrasiloxan': 0.01212446554515641, 'octamethyltrisiloxan': 0.01212446554515641, 'project': 0.012081926360001601, 'hydrocarbon': 0.011762740291136484, 'frankfurt': 0.011583727545934425, 'westinghous': 0.01111523100193283, 'scwo': 0.010941550705054384, 'samsung': 0.010840491750747177, 'electron': 0.010642760137834582, 'decomposit': 0.010154736167755802, 'plastic': 0.0096699086421747, 'chemic': 0.009623108778094065, 'longyuan': 0.009394862641611653, 'rspa': 0.009298699108258096, '0334': 0.009023874706068427, 'power': 0.008904810117389304, 'durch': 0.008748565957749964, 'optoelectron': 0.00850928889853384, 'wirtschaft': 0.00846456811162619, 'risk': 0.008442073690155776, 'ozon': 0.008364307730475945, 'polyethylen': 0.00833628212826875, 'akvamiljo': 0.008255359956220102}\n"
     ]
    },
    {
     "name": "stderr",
     "output_type": "stream",
     "text": []
    },
    {
     "name": "stdout",
     "output_type": "stream",
     "text": [
      "445 women clergy {'clergi': 0.13218412715246883, 'women': 0.09999999999999998, 'synod': 0.07201196765796485, 'p8661': 0.04114614696382328, 'anglican': 0.03216465551706842, 'england': 0.03162257985684957, 'church': 0.027960249220092433, 'priest': 0.02529855718734915, 'commission': 0.023777525420389425, 'pound': 0.02217365289786977, 'ordin': 0.02145001262638538, 'laiti': 0.02115893796814083, 'parish': 0.02018934276437516, 'canterburi': 0.018520680793010582, 'communion': 0.018444439149731276, 'efqdgabtft': 0.016527347525335835, 'pelevin': 0.016044187410711185, 'egkdtae6ft': 0.015321727120373801, '139': 0.015175176922507314, 'dbbcmaesft': 0.014398372207514146, 'archbishop': 0.013731610650988064, 'resign': 0.013305264272745707, 'dioces': 0.013043658179413251, 'carei': 0.01250694659476426, 'cost': 0.012172451607543436, 'religi': 0.012096112893921051, 'retir': 0.01203051098028817, 'cao': 0.011936481092080257, 'vote': 0.011685021208173193, 'bishop': 0.0115436375040682, 'pension': 0.01152004698378677, 'compens': 0.011048984865449432, 'clergymen': 0.010528512791112507, 'kingdom': 0.009910456139401256, '940617': 0.009867638320019093, '940709': 0.009675910715955463, 'dr': 0.00929684598084802, 'gbz': 0.009279150184700519, 'gener': 0.0091760478173142, '930202': 0.008901018412460167, 'i': 0.008740827781301619, 'hous': 0.008654703426876121, 'dia': 0.008637841486924334, 'parliament': 0.008620904249112231, 'ec': 0.008467982874221616, '3.2m': 0.008313266753406538, 'deacon': 0.008132442047434267, 'pike': 0.008040222557675211, 'resettl': 0.007912857240322773, 'organ': 0.007833686845943431, 'subsidi': 0.007819271179787698}\n"
     ]
    },
    {
     "name": "stderr",
     "output_type": "stream",
     "text": []
    },
    {
     "name": "stdout",
     "output_type": "stream",
     "text": [
      "446 tourists, violence {'tourist': 0.14149015590637873, 'violenc': 0.11373736518456976, 'egypt': 0.04741047165805625, 'cairo': 0.045760307281096604, 'guatemala': 0.038903264063038734, 'milit': 0.03837071996815002, 'tourism': 0.02619329937653063, 'guatemalan': 0.02475478249934723, 'egyptian': 0.02378422147961513, 'ig': 0.022074407857215136, 'islam': 0.021126097440835094, 'attack': 0.020667851161886602, 'assiut': 0.020346624906023097, 'al': 0.019923511028585677, 'u.': 0.018059718041666895, 'qena': 0.016024661834103608, 'pa1904225094': 0.015618181479314304, 'travel': 0.014127671340566281, 'pkk': 0.014089165362936019, 'gunmen': 0.013627278418477412, 'notimex': 0.013550106983450386, 'eohr': 0.013388103251960048, 'turk': 0.012942499919721668, 'dayrut': 0.01257172131769099, 'haghia': 0.012538290075873688, 'mubarak': 0.011960352838298511, 'semirami': 0.011787054413894726, 'nile': 0.011756653742814586, 'bomb': 0.011566139391538192, 'bu': 0.01136967534711807, 'islamist': 0.010971751124953681, 'islamiya': 0.010593214588190241, 'aykena': 0.01049314136624964, 'pa3103171794': 0.01049314136624964, 'injur': 0.01030145132632651, 'libr': 0.009453910797120576, 'wound': 0.009228678923003244, 'parinello': 0.008919840488617601, 'leon': 0.008906762703256165, 'mertin': 0.008685671959732686, 'tour': 0.00864639975638213, 'sophia': 0.008608941617946947, 'extremist': 0.008562621281670143, 'asyut': 0.008472465485048717, 'carpio': 0.00839459674017724, 'shot': 0.007998040679262741, 'islamiyya': 0.007991079049535247, 'bloodi': 0.007967156941233523, 'citizen': 0.007915150128196827, 'spanish': 0.007875630106092579}\n"
     ]
    },
    {
     "name": "stderr",
     "output_type": "stream",
     "text": []
    },
    {
     "name": "stdout",
     "output_type": "stream",
     "text": [
      "447 Stirling engine {'cfc': 0.11155823923274782, 'engin': 0.09999999999999998, 'stirl': 0.09999999999999998, 'hyph': 0.09607460033782024, 'hfc': 0.05024498452119758, 'hcfc': 0.04421585256878829, 'r': 0.03960986077986976, 'retrofit': 0.03061144544403928, '502': 0.028738023761793175, '134a': 0.027664065421586587, 'substitut': 0.02525503717007654, 'chiller': 0.02471184387056205, 'refriger': 0.024398524260398156, 'centrifug': 0.020501399454416768, '12': 0.015862759413141598, 'accept': 0.014631028079293715, 'blend': 0.013708080455010836, 'cryocool': 0.010892578387159185, '114': 0.009839856377622453, '500': 0.009248512743398824, 'evapor': 0.008791160179469848, '113': 0.008635797234428949, 'gwp': 0.008400965111305612, 'solar': 0.008275612646219383, '401b': 0.008129644827531687, '401a': 0.008129644827531687, '152a': 0.00809793830317146, 'epa': 0.007426610629857697, '22': 0.007410082785990358, 'flammabl': 0.007056456750051395, 'discuss': 0.007024278033017205, 'cycl': 0.006962303156626351, '404a': 0.0067129236090729925, 'cool': 0.006619713946417145, '11': 0.006603379401667638, '143a': 0.006594347848705644, 'see': 0.006491453251063115, 'ammonia': 0.0063824399082573376, 'technolog': 0.006180595132329416, '402b': 0.0061252418444951865, '402a': 0.005778006004999629, 'altern': 0.005459771196889667, 'blank': 0.005194083528033772, '124': 0.00506718747843543, '507': 0.004603121368289397, 'under': 0.004517467180831875, 'process': 0.004397242004704249, 'emiss': 0.0043119979423999226, 'contain': 0.0042983820128476005, 'ozon': 0.0042558550589, '227ea': 0.004165389737308722, 'heat': 0.004134214780227109}\n"
     ]
    },
    {
     "name": "stderr",
     "output_type": "stream",
     "text": []
    },
    {
     "name": "stdout",
     "output_type": "stream",
     "text": [
      "448 ship losses {'loss': 0.09999999999999998, 'ship': 0.09999999999999998, 'ferri': 0.06380135959801043, 'estonia': 0.042681602099723534, 'capsiz': 0.03596678161890098, 'bow': 0.03307514647403088, 'stena': 0.03000801736128017, 'door': 0.0235658236543053, 'safeti': 0.02259072859098651, 'kirki': 0.020736157667631906, 'inquiri': 0.020526855362268545, 'passeng': 0.019412015206037622, 'sea': 0.019067021532658032, 'braer': 0.017641737070209225, 'finnish': 0.017338590711841528, 'vessel': 0.016669565150212354, 'raft': 0.016487006535463644, 'lifeboat': 0.016388518979501426, 'roll': 0.015819430089535094, 'swedish': 0.015250176607932438, 'crew': 0.014984933340598498, 'disast': 0.014883782899466444, 'sweden': 0.014740560582760935, 'outer': 0.014562725171120103, 'euroafrica': 0.014223566879703692, 'baltic': 0.013966497802410409, 'heweliusz': 0.013761602681301941, 'ystad': 0.01343383386633578, 'maritim': 0.013172609037212993, 'stralsund': 0.012796239030881815, 'off': 0.01273947318113827, 'sank': 0.012199096331255339, 'tanker': 0.01209479499112994, 'p4482': 0.011884986688553234, 'silja': 0.011568862592956329, 'water': 0.010964847195434875, 'sail': 0.010745638020600995, 'finland': 0.010336288028807521, 'storm': 0.00990149122978249, 'collin': 0.00978387476266052, 'investig': 0.009335402363248969, 'sonar': 0.009231332110082277, 'bulk': 0.008696833850450841, 'coast': 0.00868079067794755, 'hudner': 0.008477302232276735, 'imo': 0.008342670876277032, 'sealink': 0.008151065442073396, 'oil': 0.00810550640211624, 'accid': 0.007987659033633068, 'polish': 0.007837157884810616, 'stockholm': 0.007748660830507319, 'evacu': 0.007633379671934304}\n"
     ]
    },
    {
     "name": "stderr",
     "output_type": "stream",
     "text": []
    },
    {
     "name": "stdout",
     "output_type": "stream",
     "text": [
      "449 antibiotics ineffectiveness {'ineffect': 0.09999999999999998, 'antibiot': 0.09999999999999998, 'resist': 0.03522549678082191, 'cefmetazol': 0.03246287997739179, 'pfizer': 0.031336991628044306, 'gene': 0.02966841125128918, 'cefadroxil': 0.0281856833708357, 'rifabutin': 0.026481429903556383, 'fulleren': 0.024894779841681466, 'therapi': 0.023286464104511094, 'pylori': 0.02215026014341623, 'blank': 0.019664172867366728, 'aminoglycosid': 0.019537095655342316, 'pharmaceut': 0.018772545025368705, 'zinnat': 0.018714625774530595, 'technolog': 0.017439879115533696, 'zithromax': 0.01691393422180669, 'dollar': 0.01684879937002915, 'millilit': 0.01666674318692367, 'chongq': 0.01576193381876308, 'cbnb3af5ft': 0.015599348222550227, 'tumblw': 0.015599348222550227, 'transplant': 0.015409014180337723, 'glaxo': 0.015312082776503892, 'hp': 0.015157843668127122, 'diseas': 0.014198284110829493, 'astra': 0.014049447177149496, 'launch': 0.013958204248838977, 'hemihydr': 0.013655554939694496, 'zoloft': 0.013167841082858251, 'stomach': 0.01279075282599341, 'erad': 0.012783704564957893, 'ow2203110094': 0.012632902891052098, 'milligram': 0.0121788091941498, '255263': 0.012152728639113231, 'analyst': 0.01206435457421212, 'bacteria': 0.011622547016571241, 'compani': 0.011506607203298762, 'zagor': 0.0113329513529248, 'vaccin': 0.011241158693495536, 'mcgarriti': 0.011083268588647452, 'detox': 0.010714340442656812, 'fk506': 0.010620386338869067, 'potenc': 0.010198704304292884, 'enterpris': 0.010144505764279839, 'microb': 0.009971100260017284, 'sampl': 0.009839300250878666, '920214': 0.009654137131581812, 'new': 0.009567887115894548, 'vibrio': 0.009439499401421756, 'encod': 0.009191109057583491, 'h': 0.009150149721455137}\n"
     ]
    },
    {
     "name": "stderr",
     "output_type": "stream",
     "text": []
    },
    {
     "name": "stdout",
     "output_type": "stream",
     "text": [
      "450 King Hussein, peace {'king': 0.10549718130410868, 'hussein': 0.10461085792629375, 'peac': 0.09897054653663817, 'jordan': 0.06222737013147198, 'israel': 0.05945532855007884, 'isra': 0.04922663497381751, 'rabin': 0.033720649666106724, 'jerusalem': 0.030615759989311292, 'plo': 0.028568622916004812, 'palestinian': 0.025506992561489184, 'syria': 0.024047824414042532, 'jordanian': 0.021844562649813406, 'middl': 0.02138159626095819, 'mr': 0.018240168618362675, 'joz': 0.0174872847490682, 'east': 0.016905146028602578, 'ilz': 0.013507237139962939, 'agreement': 0.01323689283185283, 'assad': 0.011801553535053685, 'amman': 0.011715255078347836, 'pere': 0.011632083096781015, 'arafat': 0.011201492305481703, 'talk': 0.010705167643648119, 'syrian': 0.010359538544354839, 'ordin': 0.01034788345037834, 'p9721': 0.009850797306762527, 'lebanon': 0.00981701954632764, 'ozann': 0.009116329739080399, 'sign': 0.00792308578128083, 'summit': 0.007844222991379476, 'jewish': 0.007797687837422621, 'occupi': 0.007622298208917533, 'julian': 0.007599351090254724, 'co': 0.007293596463524963, '174001': 0.0072860662323553085, 'negoti': 0.0071971986801695545, 'mitterrand': 0.007153826257991099, 'yesterdai': 0.007121432114002287, 'formal': 0.007036361007857802, 'damascu': 0.006947524009298924, 'yitzhak': 0.0065444076177987275, 'yassir': 0.00628411830843577, 'treati': 0.006228769888182044, 'border': 0.006124343688524417, 'holi': 0.006055141910455086, 'islam': 0.005962059255508272, 'christoph': 0.005745572459608449, 'dome': 0.00564082856733641, 'hafez': 0.005516424027533039, 'shimon': 0.005477906107962479}\n"
     ]
    },
    {
     "name": "stderr",
     "output_type": "stream",
     "text": []
    },
    {
     "name": "stdout",
     "output_type": "stream",
     "text": [
      "601 Turkey Iraq water {'water': 0.09758632029807035, 'iraq': 0.06666666666666665, 'turkei': 0.06666666666666665, 'uzbekistan': 0.054588865799416145, 'irrig': 0.04137824461555963, 'dam': 0.04125360933196004, 'tashkent': 0.03985723318593619, 'euphrat': 0.0359919025173746, 'cotton': 0.025193648194475633, 'birecik': 0.024401506044812962, 'monocultur': 0.023291569742262583, 'tajik': 0.021687342409464506, '94wn0282d': 0.02043028158502117, 'project': 0.019389499454541125, 'resourc': 0.01696968875524407, 'tigri': 0.01621105873930276, 'depend': 0.015955922673725875, 'kyrgyzstan': 0.015531509024307891, 'downstream': 0.015054332275575675, 'tajikistan': 0.013779805516719673, 'afghanistan': 0.01362422374932103, 'moskovskiy': 0.013537060872521607, 'turk': 0.013318986140234523, 'power': 0.012482045852582705, 'anatolian': 0.012199768662352341, 'financ': 0.011942818455685303, 'donor': 0.011394410655169194, 'canal': 0.011295955019341324, 'riparian': 0.011237470518987804, 'novosti': 0.011018695247780657, 'syria': 0.01055003495913944, 'hydroelectr': 0.010439680356225212, 'jpten016___94058': 0.010215140792510584, 'monogovern': 0.010215140792510584, 'reservoir': 0.010180198126853208, 'abdulrashid': 0.009883365411012788, 'syrian': 0.009629434174667115, 'outburst': 0.009573254837439905, 'keban': 0.009476408776683537, 'murrani': 0.009337645249396984, 'syzria': 0.009337645249396984, 'euphat': 0.009337645249396984, 'dbjcvab5ft': 0.009337645249396984, 'mursaliyev': 0.00919005650415306, 'seem': 0.0089042346696696, 'dustum': 0.008898204102480042, 'azer': 0.008683522241588894, 'tuzrkei': 0.008652288053062604, 'flow': 0.008650282626416404, 'khiva': 0.008622882743290138, 'irzaq': 0.008515917153904817, 'user': 0.00843226400972362}\n"
     ]
    },
    {
     "name": "stderr",
     "output_type": "stream",
     "text": []
    },
    {
     "name": "stdout",
     "output_type": "stream",
     "text": [
      "602 Czech, Slovak sovereignty {'slovak': 0.20824686182376206, 'czech': 0.1696808188342486, 'sovereignti': 0.06666666666666665, 'republ': 0.033549171466792864, 'pittner': 0.021277507041208198, 'bratislava': 0.020772800513172686, 'sidonia': 0.020114181617143914, 'tosovski': 0.019260796151625098, 'agreement': 0.017280943976852488, 'citizenship': 0.016944702790729637, 'kasarna': 0.016168962519086446, 'sabotu': 0.014212126747435272, 'privatis': 0.014006415926941568, 'claim': 0.013190261901806711, 'minist': 0.01272451334482459, 'compens': 0.012705357854637079, '94p20465a': 0.012588658875589144, 'currenc': 0.011966779335748167, 'border': 0.011900642342200141, 'lidova': 0.010965728062565322, 'demokraci': 0.010965728062565322, 'kukan': 0.010238742930252493, 'vaclav': 0.01022548972951623, 'au0903205994': 0.01011191245251785, 'snegnerova': 0.009986971109677162, 'velecki': 0.009986971109677162, 'settlement': 0.009818678657305818, 'svehla': 0.009803132148726182, 'perknerova': 0.009799332395011566, 'kcs19bn': 0.009728026312042773, 'interior': 0.009379356910157751, 'voucher': 0.009193762683169956, 'properti': 0.009145811469505874, 'divis': 0.008876538626404694, 'zieleniec': 0.008831982994757728, 'pesek': 0.00881975658972308, 'side': 0.008809157995941785, 'tuchyna': 0.008808283967547686, 'srnie': 0.008705735879045126, 'asset': 0.008591730118785114, 'bank': 0.008519478408577209, 'settl': 0.008170528046664, 'javornik': 0.00803776550398947, 'approv': 0.008034647327596102, 'au1706152994': 0.007974367751089085, 'au2603202994': 0.007841582536477433, 'czechoslovakia': 0.007682447475693292, 'investor': 0.007466378042231935, 'separ': 0.007429207801759168, 'dhlcdaamft': 0.007426628062440516, 'appli': 0.007365969108114043}\n"
     ]
    },
    {
     "name": "stderr",
     "output_type": "stream",
     "text": []
    },
    {
     "name": "stdout",
     "output_type": "stream",
     "text": [
      "603 Tobacco cigarette lawsuit {'lawsuit': 0.06666666666666665, 'cigarett': 0.06666666666666665, 'tobacco': 0.06666666666666665, 'florida': 0.05446670173402677, 'rjr': 0.038708475381854526, 'nabisco': 0.03657066765323512, 'plaintiff': 0.03435052371074326, 'borden': 0.03215140706086002, 'tallahasse': 0.02942329446825841, 'mississippi': 0.023998412095044917, 'ee0dlabdft': 0.023596037700476694, 'dollar': 0.02355377102393834, 'ill': 0.023305965658602597, 'chile': 0.02184057780736713, 'ap': 0.019751125921866328, 'lawton': 0.01893801211218686, 'class': 0.01705444551642734, 'kkr': 0.016551489287473322, 'elocsabeft': 0.01635885094134077, 'p21': 0.015400278726388127, 'medicaid': 0.015387772215046613, 'orlean': 0.015256829836654535, 'reimburs': 0.014528492095057438, 'marlboro': 0.01436113978537936, 'defer': 0.012787013614996061, 'court': 0.012519663629269446, 'damag': 0.01246452991010718, '940527': 0.011790413558295439, 'stricken': 0.01140847059626624, 'cost': 0.011400457088259541, 'coal': 0.011281155961179155, 'legal': 0.010923442633956585, '300bn': 0.010919388069111751, 'dow': 0.010615279927509389, 'loud': 0.010551045812776648, 'p9121': 0.0104815126684705, 'sue': 0.0103540427985639, 'usz': 0.010122401775287386, 'judg': 0.009981758302804657, 'unsaf': 0.00997940871019407, '941215': 0.009680060648759259, 'lawyer': 0.009578734928392486, 'addict': 0.009547428438850869, 'legisl': 0.00942327629189544, 'mcgurti': 0.009270009866897763, 'sick': 0.00904946924817453, 'taxpay': 0.00881802169566919, '50bn': 0.008692093239440622, 'relat': 0.00868868206860706, '30bn': 0.008592357546919163, 'kilbourn': 0.008563805933548345, '941101': 0.008520237759405582, '777.50': 0.008441566544163526}\n"
     ]
    },
    {
     "name": "stderr",
     "output_type": "stream",
     "text": []
    },
    {
     "name": "stdout",
     "output_type": "stream",
     "text": [
      "604 Lyme disease arthritis {'blood': 0.0840554893619612, 'arthriti': 0.06666666666666665, 'diseas': 0.06666666666666665, 'lyme': 0.06666666666666665, 'byrd': 0.06368091036959693, 'transfus': 0.043270728896460914, 'tryptophan': 0.04302852564880491, 'gill': 0.034478123585769585, 'blevin': 0.02564093820448763, 'eosinophil': 0.025458766411314854, 'davei': 0.02064569737097656, 'test': 0.020067569263737723, 'hepat': 0.019043297086452287, 'hertzman': 0.01756348036170907, 'screen': 0.017132491120191686, 'eosinophilia': 0.015797445303125466, 'i': 0.01565378933268504, 'hospit': 0.015115387860368368, 'physician': 0.014981300784677154, 'he': 0.014559429368497296, 'gleich': 0.014263726624084018, 'touchdown': 0.013987860121544389, 'chaqa': 0.013306531447417062, 'aid': 0.01306150839828791, 'case': 0.011370073924967203, 'duffi': 0.011197650045833866, 'mayo': 0.010880095255493119, 'myalgia': 0.010531630202083643, 'mora': 0.01045423148392062, 'syndrom': 0.01024925202453704, 'suppli': 0.010004616721564804, 'know': 0.009715244397301462, 'jr': 0.00945191728396388, 'son': 0.009403378730129454, 'amino': 0.009310149178959877, \"didn't\": 0.009236170800008891, 'parasit': 0.008557934281351669, 'plai': 0.008417399487820179, 'sundai': 0.00832062751791896, 'viru': 0.008317939350982403, 'hi': 0.008125769813423975, 'health': 0.008036678013666615, 'contagi': 0.008012979345319622, 'safe': 0.007935417577754905, 'muscl': 0.007891499106672762, 'esiason': 0.007793392821320195, 'so': 0.007716920353195295, 'distract': 0.007615560909807036, 'sick': 0.007524199685042341, 'virus': 0.007510153242343835, 'cincinnati': 0.00745895891050019, 'archer': 0.007190275649520356, 'africa': 0.006976886962446176}\n"
     ]
    },
    {
     "name": "stderr",
     "output_type": "stream",
     "text": []
    },
    {
     "name": "stdout",
     "output_type": "stream",
     "text": [
      "605 Great Britain health care {'hospit': 0.10365906898494925, 'nh': 0.1015257772835019, 'health': 0.07760039367941504, 'patient': 0.05327032777518573, 'care': 0.04999999999999999, 'britain': 0.04999999999999999, 'great': 0.04999999999999999, 'bottomlei': 0.033219294579742736, 'gp': 0.0299531022325037, 'reform': 0.02398561519866535, 'servic': 0.021980266734285662, 'waldegrav': 0.01756541572463475, 'doctor': 0.0164614357738502, 'fund': 0.014777016635189134, 'tomlinson': 0.01464955559883526, 'pike': 0.01324872924400136, 'tqm': 0.01317526400974737, 'gui': 0.012851932764138822, 'trust': 0.012668868957401462, 'blunkett': 0.012558589742630617, 'specialist': 0.012134767689903403, 'consult': 0.012015138748494261, 'fundhold': 0.01200435218844505, 'treatment': 0.010815301642283623, 'closur': 0.010208155761610244, 'london': 0.010106116835771214, 'potter': 0.009848597869622335, 'alan': 0.009742443450884469, 'bma': 0.00966711778019134, 'wait': 0.009378365447689772, 'qualiti': 0.009198431011898585, 'cixb5ac6ft': 0.008842451685967237, 'practition': 0.008354201587238012, 'colleg': 0.008161434993241628, 'spend': 0.008059715099102051, 'staff': 0.008053154107226545, 'underfund': 0.007924558507532079, 'centr': 0.0077761338555166065, 'virginia': 0.007693084548958152, 'clinic': 0.007573885656419143, 'teach': 0.0075726402676531655, 'overspend': 0.007304652289647458, 'mr': 0.007147461117511362, 'labour': 0.007095041667271772, 'design': 0.006810120913197937, 'pound': 0.006799243846952365, 'outturn': 0.006794186270445993, 'lee': 0.00674764081714457, 'carri': 0.006681886280094482, 'contract': 0.0066703869280892465, 'tier': 0.006662802684661848, 'cook': 0.006607527681469121, 'chare': 0.006398345849186554}\n"
     ]
    },
    {
     "name": "stderr",
     "output_type": "stream",
     "text": []
    },
    {
     "name": "stdout",
     "output_type": "stream",
     "text": [
      "606 leg traps ban {'trap': 0.09544185722298973, 'leg': 0.06666666666666665, 'ban': 0.06666666666666665, 'fur': 0.06522498105680723, 'anim': 0.04457052380676719, 'bait': 0.030033908422435668, 'bear': 0.028660833849259045, 'wildlif': 0.028189409903880643, 'coyot': 0.026515061204212115, 'ungul': 0.025881764768392452, 'wolverin': 0.025327698842489678, 'brook': 0.019804320832027225, 'snare': 0.018831228742852785, 'aspen': 0.018720582855658096, 'hyph': 0.016952555120627922, 'antler': 0.01595544684173842, 'sept': 0.015846875503034555, 'furbear': 0.015756973200827733, 'subsist': 0.014792484623704133, 'wolv': 0.014385513443008806, 'hunt': 0.014143252427120315, 'xxx': 0.014046544306365975, 'harvest': 0.013917744073034175, '12_that': 0.013747154957062455, 'nabesna': 0.013419730252703361, 'adf': 0.012802008495192793, 'carib': 0.012604812617409832, 'rees': 0.012364822770434946, 'limit': 0.012245078147669886, 'clark': 0.012047536874845438, 'warden': 0.011958168097559781, 'moos': 0.011822487130646984, 'skin': 0.01163278076862804, 'take': 0.010784993686620581, 'furrier': 0.010770796210070875, 'possess': 0.010492629371172148, 'pickerel': 0.01006479768952752, '117': 0.009918136775746175, 'ptarmigan': 0.00982443303750306, 'alaska': 0.009523570494431598, 'skull': 0.009512707763777809, 'taken': 0.009426808320983372, 'beaver': 0.009421718403633005, 'mountain': 0.00940012683702888, 'unclassifi': 0.009338970352904947, 'sect': 0.008789398917067051, 'carcass': 0.008762711186603392, 'nov': 0.00872018658849335, 'person': 0.008700899110718708, 'grous': 0.008594939615757639, 'season': 0.008593052860577963, 'prohibit': 0.008381648284661132}\n"
     ]
    },
    {
     "name": "stderr",
     "output_type": "stream",
     "text": []
    },
    {
     "name": "stdout",
     "output_type": "stream",
     "text": [
      "607 human genetic code {'genet': 0.07989794871432243, 'code': 0.06666666666666665, 'human': 0.06666666666666665, 'gene': 0.059576734986104996, 'map': 0.05413677723115319, 'ceph': 0.05044623204227669, 'genom': 0.0475896217160842, 'venter': 0.04447814537056706, 'tudg': 0.035985461875956554, 'hg': 0.029002394616264887, 'patent': 0.028945497156211836, 'nih': 0.019130309913358325, 'watson': 0.01909655550007581, 'dr': 0.01722996877749936, 'research': 0.014672028508859734, 'chromosom': 0.01436044192612849, 'scienc': 0.013846695113401997, 'merck': 0.013498909527237491, 'ukrayini': 0.013366468963450263, 'ukrain': 0.013240062574037753, 'patholog': 0.012548155333635336, 'decod': 0.012314066481696697, 'hereditari': 0.011988396265833734, 'marker': 0.011798299115745193, 'mutagen': 0.011784487398056397, 'polymorphism': 0.011269339046739069, 'landmark': 0.010808041713706817, 'scientist': 0.010513553954408979, 'cohen': 0.01042305491945521, 'defect': 0.009994346205407852, 'zinder': 0.009953314803144597, 'ethic': 0.009720885981122597, 'tigr': 0.009715813606640014, 'humain': 0.00954717236012748, 'diagnost': 0.00938464455170666, 'dlpc5aauft': 0.009190962517075468, 'moz': 0.009065378503244013, 'helix': 0.008920980689917566, \"d'etud\": 0.008900462141110756, 'databas': 0.008614838286866882, 'sequenc': 0.008223287528478892, 'crick': 0.008158567141384727, 'ibid': 0.008068390714569301, 'discov': 0.007838369967382587, 'sb': 0.007677793331102425, 'race': 0.007508075753309882, 'haseltin': 0.007495632316035549, 'popul': 0.0074544903859169636, 'geneticist': 0.007381594037127838, 'collabor': 0.007363139942394178, 'screen': 0.007336656668259666, 'antimutagen': 0.007204220492072858}\n"
     ]
    },
    {
     "name": "stderr",
     "output_type": "stream",
     "text": []
    },
    {
     "name": "stdout",
     "output_type": "stream",
     "text": [
      "608 taxing social security {'tax': 0.10113243703077077, 'secur': 0.06666666666666665, 'social': 0.06666666666666665, 'elderli': 0.034726196744056415, 'clinton': 0.03163879306531403, 'senat': 0.027980593239517494, 'bush': 0.0273461434461814, 'letter': 0.02634370193950028, 'conin': 0.024134861778840194, '243821': 0.023375923409508028, 'rais': 0.021025140946077957, 'bond': 0.020963596881920225, 'howatt': 0.020183832129376144, 'republican': 0.019601129356029076, '47932': 0.01903396762270277, 'medicar': 0.018045947391936205, 'shoulder': 0.017410549994384288, 'live': 0.01706331671715326, 'budget': 0.016665862576106843, 'incom': 0.016258316051377005, 'editor': 0.01603162239578935, 'mr': 0.015854350553327953, 'recipi': 0.015216270106604576, 'dollar': 0.014526997691153083, 'cut': 0.014515412714021873, 'fair': 0.014358162396054995, 'negoti': 0.014119369954426626, 'vote': 0.014037531777973912, 'hous': 0.013781591303783702, '31.90': 0.013478474350080967, '243813': 0.013308498839537448, 'must': 0.012404782706220236, 'capit': 0.01240129601553084, 'poor': 0.011995196946364306, 'presid': 0.01188588842146712, 'juli': 0.011518365818800348, 'maintain': 0.011455376100929874, 'coupl': 0.01111223082391869, '241183': 0.010907642746330486, 'packag': 0.010875635763260701, 'planet': 0.010874458105535174, 'annuiti': 0.010817776599281554, 'rate': 0.010528955442736406, 'gallup': 0.010076641434770774, 'shelter': 0.01003367109215873, 'proverbi': 0.009956020691799627, 'graham': 0.00989543616925189, 'metro': 0.009733378401797617, 'debat': 0.009647227461267158, 'favor': 0.0096214452557476, '25,000': 0.00940087028471268, '824': 0.009365777981278245}\n"
     ]
    },
    {
     "name": "stderr",
     "output_type": "stream",
     "text": []
    },
    {
     "name": "stdout",
     "output_type": "stream",
     "text": [
      "609 per capita alcohol consumption {'beer': 0.08067799545697679, 'breweri': 0.06057184501440911, 'capita': 0.04999999999999999, 'alcohol': 0.04999999999999999, 'per': 0.04999999999999999, 'consumpt': 0.04999999999999999, 'ouzo': 0.03604037580358518, 'heineken': 0.03383108814890828, 'brewer': 0.03338003303806478, 'carlsberg': 0.025920547682554557, 'brew': 0.02188177673537639, 'cent': 0.021743803721572787, 'budvar': 0.02132458041527417, 'labatt': 0.020464004490431828, 'hectolitr': 0.018275638056415286, 'drink': 0.017185402503585478, 'liquor': 0.016764187148672567, 'litr': 0.016629473861250448, 'norwegian': 0.015511644199577394, 'fresh': 0.015364559378004117, 'zitzmann': 0.014539554472143223, 'iceland': 0.01447010255436605, 'csi': 0.014102844826604838, 'market': 0.013222742876626252, 'zywiec': 0.013158482579871723, 'budweis': 0.012747209981330807, 'zhongc': 0.012142328645648027, 'busch': 0.011997262675059852, 'german': 0.011840222668262986, 'anheus': 0.011802555408374334, 'beverag': 0.011321737355614987, 'czech': 0.011006554995153043, 'charoen': 0.010775956058744596, 'bavarian': 0.009663371080024024, 'brand': 0.009654678401705393, 'molson': 0.009530541344788646, 'bulldog': 0.009436234394099465, 'p2082': 0.008891818281781988, 'abi': 0.008883092612885153, 'fao': 0.008879193349591297, 'apbl': 0.008744791991838785, '203': 0.008736465206529726, 'guarante': 0.008667603477124896, 'yemen': 0.008546451219027083, 'thailand': 0.00847108187581433, 'stake': 0.008440668542641467, 'seera': 0.008440396428028052, 'compani': 0.008429932556618192, 'rawd': 0.00828732070122803, 'suntori': 0.008106476396330775, 'malt': 0.008056809831164606, 'munich': 0.0079158647342435, 'asahi': 0.00784568957081412, 'qualiti': 0.007677007251260991}\n"
     ]
    },
    {
     "name": "stderr",
     "output_type": "stream",
     "text": []
    },
    {
     "name": "stdout",
     "output_type": "stream",
     "text": [
      "610 minimum wage adverse impact {'minimum': 0.07770176535890942, 'advers': 0.04999999999999999, 'wage': 0.04999999999999999, 'impact': 0.04999999999999999, 'bush': 0.03719757829323643, 'sweatshop': 0.033592490220168, 'kennedi': 0.03246454680169763, 'reich': 0.03238207387577945, 'sew': 0.030911464400920498, 'senat': 0.030412005908571245, '4.65': 0.02916313400713846, 'hour': 0.028957624992759834, '3.35': 0.027874979534993644, 'garment': 0.02784376381408714, 'labor': 0.02201342829637319, 'jurek': 0.02134271737496729, 'djndkabtft': 0.021105029288411306, '4.25': 0.017959185660001976, 'bill': 0.0161615248972793, 'sen': 0.015350038578811684, 'martin': 0.0141691181542186, '3.80': 0.013424287092167265, '931014': 0.01299045478174184, 'child': 0.012893804823462862, 'orang': 0.012857122030569067, 'immigr': 0.012717167206305204, 'fast': 0.011980125212801495, '4.75': 0.011960059284064219, 'nguyen': 0.011565068326854978, 'shop': 0.011481183348241717, 'filibust': 0.011381515321219709, 'veto': 0.011310866786431091, 'less': 0.011169300575547195, 'rise': 0.010963954721274595, 'spokesmen': 0.010190757969033765, 'increment': 0.009957891195093363, 'congress': 0.00992886124973187, 'restat': 0.009784291071371541, 'vietnames': 0.009674443167891247, 'counti': 0.00966810329347746, 'dodd': 0.009540571036864436, 'kinder': 0.009523181291218173, 'stiff': 0.009459439095024657, 'otero': 0.009400197407899021, 'rais': 0.00933320626512883, 'worker': 0.009282725949509399, 'healthcar': 0.00922563661428279, 'solano': 0.009075661140778945, 'hatch': 0.008951572146057546, '5m': 0.008638258180749729, 'california': 0.008597091055624733, '28814': 0.008271667354672023, '1991': 0.008199065546584033}\n"
     ]
    },
    {
     "name": "stderr",
     "output_type": "stream",
     "text": []
    },
    {
     "name": "stdout",
     "output_type": "stream",
     "text": [
      "611 Kurds Germany violence {'germani': 0.08419707093370116, 'deport': 0.07002639973082858, 'violenc': 0.06666666666666665, 'kurd': 0.06666666666666665, 'augsburg': 0.03681726837596448, 'bohl': 0.032236743218910714, 'bavaria': 0.027615545508081887, 'riot': 0.02640825037573324, 'bonn': 0.0245127054294538, 'ecuc0aadft': 0.02084399170984111, 'pkk': 0.020737298872336326, 'stern': 0.02033192966655779, 'beckstein': 0.019607554860701353, 'yilmaz': 0.019170349663100557, 'bavarian': 0.017666966903681438, 'au2303100394': 0.017411769789992135, 'ruettger': 0.017177252501322928, 'munich': 0.0171017228943716, 'au0804133294': 0.016871825883207275, 'christian': 0.016606086461508428, 'au2403132594': 0.01617194541742232, 'union': 0.015527987251893256, 'duesseldorf': 0.015281604465823637, 'baeumer': 0.014041581792685677, 'cdu': 0.013556319720442009, '940321': 0.013426288927099881, 'turkish': 0.01333940803857576, 'interior': 0.013179517252660394, 'protest': 0.012789885059838023, 'ministri': 0.012767373260947885, 'german': 0.012505959252435956, 'csu': 0.012415659171497114, 'stoiber': 0.012226150984004015, 'order': 0.012193573648148886, 'au2404150794': 0.011814299518630153, 'au2603155994': 0.011459627223705809, 'injur': 0.010461548205468024, 'au0104132694': 0.010323659209865764, 'au2203112394': 0.0100784037947541, 'motorwai': 0.009966657508726986, 'au3012121093': 0.009771788865430493, 'geissler': 0.009753459042376709, 'schultz': 0.009698486772189307, 'au3003145494': 0.009361054528457119, 'hann': 0.00929399343861823, 'p9229': 0.00906764619281152, 'thiemann': 0.008959240329487568, 'drweu056__a94025': 0.008705884894996067, 'drweu068_h_94003': 0.008435912941603637, 'european': 0.008293312456329369, '6,000': 0.008264416317789873, 'au3003141494': 0.008193288402656498}\n"
     ]
    },
    {
     "name": "stderr",
     "output_type": "stream",
     "text": []
    },
    {
     "name": "stdout",
     "output_type": "stream",
     "text": [
      "612 Tibet protesters {'protest': 0.09999999999999998, 'tibet': 0.09999999999999998, 'lama': 0.07492577254758344, 'panchen': 0.061096655044019565, 'tibetan': 0.05732300478158329, 'dalai': 0.03555105263532723, 'hk3005091794': 0.030331703812380307, 'lhasa': 0.027841366138892307, 'tin': 0.021074701586559046, 'religi': 0.019107013144870517, 'monasteri': 0.018072615760507723, 'afp': 0.017350876301968163, 'tortur': 0.016435238098047294, 'spokesman': 0.01613011420527267, 'drchi104_k_94015': 0.015165851906190153, 'wangdi': 0.015161731700758277, 'dezchaa7ft': 0.015139769674662913, 'arrest': 0.014954437615607477, 'guo': 0.014608930175964697, 'trial': 0.013543587689668854, 'repress': 0.013488893356670795, 'observ': 0.013418742538611986, 'chines': 0.012639654062517037, 'demonstr': 0.012540482648798477, 'european': 0.012271674001242596, 'death': 0.012148153390142665, 'deni': 0.011376349671639804, '0847': 0.011330654140234953, 'buddhism': 0.010947177750993154, 'revolutionari': 0.010932977697499908, 'inflam': 0.010237012076074265, 'reincarn': 0.010160070672512633, 'jokhang': 0.00970400182588755, 'polit': 0.009580503215212026, '1959': 0.00949332875364311, 'prison': 0.009383939871525976, 'book': 0.009361743154674503, 'religion': 0.009260888385219154, 'foreshadow': 0.00924813943242377, '930526': 0.009155564982086263, 'shrine': 0.008912020700988128, 'erupt': 0.008635156128560705, 'xigaz': 0.008626201013542636, 'occup': 0.00847601684674861, 'chongli': 0.008312367853608149, '79462': 0.008312367853608149, 'degener': 0.008141396533372631, 'counter': 0.008139649855189042, 'hundr': 0.008132294243901708, 'cultur': 0.008063088616020477, 'sought': 0.007907937736936415, 'dissid': 0.007847128170049093}\n"
     ]
    },
    {
     "name": "stderr",
     "output_type": "stream",
     "text": []
    },
    {
     "name": "stdout",
     "output_type": "stream",
     "text": [
      "613 Berlin wall disposal {'berlin': 0.06666666666666665, 'wall': 0.06666666666666665, 'dispos': 0.06666666666666665, 'souvenir': 0.059395451001644554, 'chisel': 0.037804024146947265, '157833': 0.02926226540547341, '267041': 0.028102220271808937, 'wild': 0.025485323836134523, 'honeck': 0.025222161076666878, 'hammer': 0.022924419960965503, 'piec': 0.022755014807575635, '133124': 0.02270916929831462, 'mtv': 0.022427530823859797, 'art': 0.02061790420846846, 'erich': 0.020244465349488282, 'hunter': 0.020207616085187865, 'forebod': 0.0186128645642756, 'slab': 0.01763884950218959, 'roedi': 0.017072041929619912, 'press': 0.016645336613421283, 'helmstedt': 0.015848854374542223, 'hack': 0.015701480376479084, 'playground': 0.01551137032726522, '270641': 0.014958150905102607, 'photo': 0.014364985461830652, 'histori': 0.013791109469099994, 'europ': 0.013585052401128415, 'wire': 0.013509859619070828, 'hole': 0.013461667782431167, 'oust': 0.013208387661892904, 'poster': 0.013020481122537071, 'retriev': 0.012643173733529224, 'associ': 0.012513377773845062, 'reunit': 0.012331885094547412, 'joi': 0.011990669675513566, 'checkpoint': 0.011300303237260296, 'stare': 0.010837068879691467, 'man': 0.01075079232523204, 'chunk': 0.010695011390222355, 'champagn': 0.010517212915583317, 'policemen': 0.009901199074014108, 'guillotin': 0.00974570899552778, 'charli': 0.00953299089975479, 'boi': 0.009124589841773131, 'children': 0.008799763793265242, '3': 0.008635554963162618, '1990': 0.008469737241370892, 'desk': 0.00833229555807552, 'fall': 0.008240324583526934, 'crumbl': 0.008164859619375148, 'sundai': 0.007927093843744336, 'giant': 0.007855949529164878, 'map': 0.007602378648397382}\n"
     ]
    },
    {
     "name": "stderr",
     "output_type": "stream",
     "text": []
    },
    {
     "name": "stdout",
     "output_type": "stream",
     "text": [
      "614 Flavr Savr tomato {'savr': 0.07722322532287007, 'flavr': 0.07722322532287007, 'tomato': 0.06666666666666665, 'aph': 0.0576184312236929, 'calgen': 0.05709260973847169, 'gene': 0.055628052816188205, 'kan': 0.04649670096975404, 'rsquo': 0.044766834838708976, 'genet': 0.034850492427140854, 'food': 0.03278018177378113, 'fda': 0.027650942801492176, 'r': 0.024489163116141927, 'ii': 0.021886468482028798, 'kanamycin': 0.021639589110461332, 'dna': 0.016458288464608308, 'neomycin': 0.01603276245101906, 'transgen': 0.015456443433651351, 'antibiot': 0.013990323955115076, 'alter': 0.01373577746841309, 'safeti': 0.013120680878827371, 'ref': 0.012681807872783847, 'glycosyl': 0.012349922603788234, 'microorgan': 0.01184902498812627, 'enzym': 0.011839514578605869, 'aminoglycosid': 0.01181914744342603, 'protein': 0.011266963485435384, 'intestin': 0.01107464211741631, 'oilse': 0.01056296737665767, 'inactiv': 0.010313408558791834, 'transfer': 0.010043661215960783, 'biotechnolog': 0.009589998378224303, 'phosphotransferas': 0.009037000640773977, 'addit': 0.008870448387548266, 'product': 0.008494005574704186, 'tm': 0.008112778928768693, 'transform': 0.00788770162139357, '3': 0.007726468611115679, 'agenc': 0.007437769805034675, 'resist': 0.007226165951383758, 'advisori': 0.007053370540491825, 'fr940523': 0.006719945587696729, 'cottonse': 0.006707019287114136, 'cotton': 0.006656206244917775, 'rape': 0.0065263425442489975, 'crop': 0.0063776353729852, 'anim': 0.0063627552514002005, 'phosphoryl': 0.006342052447605884, 'gi': 0.0063407568884544215, 'oral': 0.006336523771776789, 'cell': 0.005837248571807362, 'atp': 0.005749884089658314}\n"
     ]
    },
    {
     "name": "stderr",
     "output_type": "stream",
     "text": []
    },
    {
     "name": "stdout",
     "output_type": "stream",
     "text": [
      "615 timber exports Asia {'export': 0.08175115716294122, 'asia': 0.06666666666666665, 'timber': 0.06666666666666665, 'lumber': 0.04880639027556832, 'environmentalist': 0.03651277634238485, 'owl': 0.03513813740507886, 'northwest': 0.03414528170709773, 'redwood': 0.03336896991309624, 'japan': 0.032426535954490895, 'forest': 0.030253799551653516, 'oregon': 0.02962351904934184, 'hardwood': 0.0266116498271982, 'tree': 0.024897595683803855, 'wood': 0.019849063412985746, 'california': 0.019703549336605345, 'packwood': 0.01835065042213353, 'mill': 0.016276173940369478, 'conner': 0.01619899431278712, 'japanes': 0.015764647617306768, 'protest': 0.015571321185955549, 'land': 0.01526901093394695, 'cut': 0.015024890492388206, 'raw': 0.014696360234462172, 'tariff': 0.014402525266889689, '230554': 0.012208802630985288, 'harvest': 0.01205055628233912, 'demonstr': 0.012034040841899041, 'wako': 0.011253142129558087, 'luppold': 0.011178377703501316, 'job': 0.011043116297158765, 'timberland': 0.011037610962678895, 'summer': 0.010650963471616518, 'feder': 0.010500314300958857, 'gene': 0.010306667214602843, 'log': 0.010070251224517733, 'west': 0.010056424073495433, 'u.': 0.00996865177698434, 'habitat': 0.009861768930271476, 'appalachian': 0.009480315455670808, 'sacramento': 0.009371167438071369, '264643': 0.009336434257924664, 'state': 0.009045250878072031, 'ban': 0.00893703863061651, 'appalachia': 0.008668202563398722, 'earth': 0.008630102704354525, 'virgin': 0.008610412993018922, 'washington': 0.008457730122410812, 'reagan': 0.008203014088971158, 'budget': 0.008169699494441058, 'doerner': 0.0076732043308547, 'save': 0.00766390118957604, 'scenic': 0.007556504650231677}\n"
     ]
    },
    {
     "name": "stderr",
     "output_type": "stream",
     "text": []
    },
    {
     "name": "stdout",
     "output_type": "stream",
     "text": [
      "616 Volkswagen Mexico {'volkswagen': 0.15165259608555573, 'mexico': 0.14613672363046148, 'car': 0.05751352407587651, 'vw': 0.048346102424261385, 'beetl': 0.047068296860584294, 'motor': 0.028188876260699526, 'plant': 0.025873599461956054, 'product': 0.02100935753262857, 'gm': 0.019525190535387288, 'mexican': 0.017155205135859688, 'honda': 0.01691788723466122, 'german': 0.015788363301908453, 'p3711': 0.01536019013560605, 'piech': 0.015191993231095116, 'ow2302083194': 0.0147605127506133, 'bmw': 0.014526961580615273, 'nissan': 0.013643118436357158, 'vehicl': 0.012999429008241033, 'autolatina': 0.01276578895488796, 'cent': 0.012622591915275018, 'asp': 0.01259168262892039, 'audi': 0.012368044746286165, 'germani': 0.012297246269452652, 'carmak': 0.012077112265921001, 'zona': 0.011853599546340037, 'bodi': 0.011764680938230493, 'franca': 0.011273867145462614, 'group': 0.011232315291218226, 'platform': 0.01108913423508575, 'per': 0.010995510302571204, 'ford': 0.010890287792916682, 'us': 0.010884690954705449, 'concept': 0.01082790412199149, 'export': 0.010677372197052662, 'it': 0.01029190097256643, 'seat': 0.009494088707529156, 'dm42bn': 0.00894914755113755, 'kyodo': 0.008771479395164192, 'kevin': 0.008434672351267382, 'mr': 0.008280336921903926, 'plan': 0.008087616175935326, 'ferdinand': 0.008015954242034834, 'skoda': 0.007980234297961691, 'barcelona': 0.007929468814125283, 'dina': 0.0077547190712428105, 'big': 0.007740847610965039, 'fiat': 0.0077089623581466475, 'market': 0.007668953620240133, 'brand': 0.007641604545786725, 'dreas036_a_94017': 0.00738025637530665}\n"
     ]
    },
    {
     "name": "stderr",
     "output_type": "stream",
     "text": []
    },
    {
     "name": "stdout",
     "output_type": "stream",
     "text": [
      "617 Russia Cuba economy {'cuba': 0.11587966978163962, 'sugar': 0.08599527111249874, 'economi': 0.06666666666666665, 'russia': 0.06666666666666665, 'cuban': 0.052623811233873066, 'harvest': 0.036922015108361954, 'tonn': 0.03677897170661961, 'castro': 0.026197409746913758, 'soviet': 0.02433420895194731, 'island': 0.019549119005459824, 'lage': 0.01934712355916993, 'tourism': 0.01903115064109283, 'oil': 0.01844328070466987, 'product': 0.017791868153131673, 'davydov': 0.016802996593601748, 'mr': 0.016184432449231585, 'cuz': 0.01549547175369786, 'shortag': 0.01483812002107665, 'rodrigu': 0.014738265129905385, 'cane': 0.014598221609559712, 'petroleum': 0.014509213631868073, 'plant': 0.014462667712114748, 'ventur': 0.012231748991858032, 'union': 0.01108106475564908, 'fidel': 0.010944468070391435, 'notimex': 0.010867025637827175, 'pascal': 0.010859899127978875, 'imf': 0.010840100841331314, 'peso': 0.010768697068805198, 'investor': 0.010622441790691352, 'ton': 0.010547614048150564, 'shumeyko': 0.010144589399649215, 'export': 0.009947666545069058, 'invest': 0.009580718292139715, 'fletcher': 0.009503210146178994, 'cienfuego': 0.009112252734861322, 'collaps': 0.009066406580532775, 'explor': 0.009034827944511234, 'econom': 0.008800901934275414, 'pa0901011794': 0.008419769384230617, 'ship': 0.00811954676326845, 'canut': 0.008014086911753251, 'dkic6aatft': 0.007923901839741725, 'pa0804185494': 0.007712107674272092, 'nuclear': 0.007448792966169297, 'sugarcan': 0.007387299050582602, 'kingston': 0.007365753019869806, 'lourd': 0.007298417079931338, 'embargo': 0.007170463673249395, 'commentari': 0.007122540404720575, '500,000': 0.007107905250410439, 'rapproch': 0.007099160132132428}\n"
     ]
    },
    {
     "name": "stderr",
     "output_type": "stream",
     "text": []
    },
    {
     "name": "stdout",
     "output_type": "stream",
     "text": [
      "618 Ayatollah Khomeini death {'rafsanjani': 0.10357676265315628, 'khamenei': 0.08404079782669477, 'ayatollah': 0.06666666666666665, 'khomeini': 0.06666666666666665, 'death': 0.06666666666666665, 'revolut': 0.028905052472595075, 'iran': 0.028004205785747346, 'mustafavi': 0.02548258066740169, 'iranian': 0.024778480091503147, 'hostag': 0.023382503918178588, 'mohtashemi': 0.02148323314491842, 'majli': 0.02139192232649518, 'lebanon': 0.01986808079755839, 'ali': 0.019743929553267495, 'shah': 0.019562732994936195, 'revolutionari': 0.019154751073909418, 'nouri': 0.017289749424567444, 'polit': 0.016654688441549947, 'presid': 0.014284148479637127, 'power': 0.014018897692661134, 'hezbollah': 0.013131325835401199, 'hashemi': 0.01256048897491306, 'moder': 0.012124631262264795, 'nourbakhsh': 0.011844475040384586, 'war': 0.011312128420087603, 'successor': 0.011191064340078402, 'cleric': 0.011115367654760722, 'mashhad': 0.010846141371567912, 'elect': 0.010312403583382212, 'bush': 0.009975299688908352, 'akbar': 0.009920378319019894, 'faction': 0.009668681858597452, 'theocraci': 0.009178602002693695, 'mr': 0.009073535813432653, '1981': 0.008943893083277499, 'parliamentari': 0.008782271030211123, 'her': 0.008593415197570736, 'mullah': 0.008559780325326737, 'obeid': 0.008153036740826897, 'hardlin': 0.008066854142848797, 'economi': 0.007877470185371226, 'rhetor': 0.007616311147930571, 'cabinet': 0.00760979235522263, 'hard': 0.00749771922788412, 'middl': 0.007465357176190471, 'american': 0.007447907752322587, 'hojatolislam': 0.007439555339528356, 'wright': 0.007365826465513145, 'constitut': 0.007190708078284237, 'father': 0.007006106096457252, 'polici': 0.0069827530903933815, 'mehdi': 0.006878877316637161, 'pragmatist': 0.006645323737933112}\n"
     ]
    },
    {
     "name": "stderr",
     "output_type": "stream",
     "text": []
    },
    {
     "name": "stdout",
     "output_type": "stream",
     "text": [
      "619 Winnie Mandela scandal {'anc': 0.09288441119452873, 'mandela': 0.08375690993302232, 'scandal': 0.06666666666666665, 'winni': 0.06666666666666665, 'sacp': 0.03845991446060377, 'separ': 0.03103396646698538, 'seipi': 0.0206720295195799, 'dlic6aa5ft': 0.01997540420492566, 'wife': 0.019033493310889608, 'list': 0.01855763613040371, 'niehau': 0.018067356212811587, 'avf': 0.018018079861652585, 'mcbride': 0.017363765783183993, 'jail': 0.01602158076644463, 'defeat': 0.015862142929018185, 'african': 0.015648913379754752, 'undiminish': 0.015487269701634377, 'pwv': 0.015378478421564935, 'mr': 0.015262987297176032, 'vicious': 0.01472460586717455, '920414': 0.014503736541978946, 'kidnap': 0.014403080994959737, 'waldmeir': 0.014350919273841092, 'bd2bcac4ft': 0.013837067714708507, 'asvat': 0.013781353013053263, 'spear': 0.013646001569239202, 'leagu': 0.013455993837152753, 'mb2201060294': 0.013099279073296183, 'cdna2adfft': 0.012841222353012372, 'nation': 0.012542278207467485, 'nomin': 0.012463831398351688, 'congress': 0.012428962956892333, 'patti': 0.01230365668271318, '931209': 0.012205526042965455, 'radic': 0.01178849482701285, 'assault': 0.011383008294451, 'squatter': 0.011354178913835725, 'men': 0.011279159636952757, 'shope': 0.011179278156492544, 'arisen': 0.011092007356763143, 'candid': 0.011042966280466701, 'hi': 0.01098699145106896, 'triumphant': 0.010976522288678028, 'elect': 0.010948882245499069, 'mb0601145294': 0.010867465978571689, 'decid': 0.010629573080848461, 'zulu': 0.010546180813724501, 'cdna2aarft': 0.010338997536741997, 'zaz': 0.010221811112483156, 'harass': 0.010198186501294695, 'organis': 0.00990277352580659, 'women': 0.009858333564987646}\n"
     ]
    },
    {
     "name": "stderr",
     "output_type": "stream",
     "text": []
    },
    {
     "name": "stdout",
     "output_type": "stream",
     "text": [
      "620 France nuclear testing {'rocard': 0.07059849748762617, 'zealand': 0.06889732370330483, 'franc': 0.06666666666666665, 'test': 0.06666666666666665, 'nuclear': 0.06666666666666665, 'greenpeac': 0.057006756163741824, 'apologis': 0.049923319156837516, 'becayaaaft': 0.04133122023322916, 'rainbow': 0.03741180551926627, 'wellington': 0.03676459711667197, 'warrior': 0.03446888921810615, 'pacif': 0.03405844512105776, '910430': 0.02557909870685421, 'michel': 0.02261679171647221, 'flagship': 0.020136163032830143, '91': 0.017646818509415445, 'bolger': 0.016299990173175568, 'bomb': 0.015588493866376738, 'prime': 0.013954133725928972, 'sawyer': 0.011238980622076934, 'french': 0.010676785681937279, 'south': 0.01022884696643362, 'mr': 0.010046919606094995, 'vessel': 0.009891391703078907, 'new': 0.009612313972878987, 'antarct': 0.009469016630450239, 'apr': 0.009288145755745736, 'bd2bcadaft': 0.008805648742997312, 'conciliatori': 0.008243773564088749, 'brief': 0.008075279864486182, 'minist': 0.007863444558014727, 'visit': 0.007194548409687487, 'beablad2ft': 0.007030383277777276, 'auckland': 0.0067256493271450795, 'emphasis': 0.005982402124710479, 'doctrinair': 0.005966347315637542, 'terri': 0.00589604761933878, 'rabuka': 0.00584938336303682, 'continu': 0.005786333846299756, '30': 0.005772282613025915, 'vanuatu': 0.005736984667315242, '910429': 0.005714764906140358, 'warili': 0.005710370157517291, 'agricultur': 0.005660439685738343, 'jim': 0.005599027976185305, 'agent': 0.005285949130949837, 'lang': 0.005184995754586458, 'nz': 0.005140814724279909, 'animos': 0.004988517833724706, 'counter': 0.0049509358450214695, 'world': 0.004720203204225813, 'troubl': 0.0047091504589035875, 'pollut': 0.004671576639574127}\n"
     ]
    },
    {
     "name": "stderr",
     "output_type": "stream",
     "text": []
    },
    {
     "name": "stdout",
     "output_type": "stream",
     "text": [
      "621 women ordained Church of England {'england': 0.0897006296691851, 'church': 0.07553716233915707, 'p8661': 0.06067522174070822, 'ordain': 0.04999999999999999, 'women': 0.04999999999999999, 'synod': 0.04549424860629116, 'religi': 0.035150175387339846, 'clergi': 0.02378760412620038, 'commission': 0.021348471140102313, 'gummer': 0.020119161095848773, 'pound': 0.0198853901462719, 'dfub2afaft': 0.019324294245635098, 'communion': 0.019194295958265564, 'daob4aafft': 0.018690199491075185, 'rift': 0.018686236392319724, 'runci': 0.017932353321912547, 'ecad7aadft': 0.017344319940348907, 'organ': 0.01639537792392862, 'archbishop': 0.015241819421468912, 'canterburi': 0.01515141943790898, 'kingdom': 0.014635622001998095, 'gbz': 0.014293976065768038, 'egkdtae6ft': 0.014038998083392816, '139': 0.013904717011108698, 'parish': 0.013493423297063803, 'ec': 0.013409378554411489, 'peop': 0.01329082551122223, 'anglican': 0.013290798309342306, 'dbbcmaesft': 0.013192946084810309, 'westminist': 0.013028076080793814, 'widdecomb': 0.01235446298349682, '930619': 0.012227107801302775, '930115': 0.011541521919754555, 'resign': 0.011219336210502286, 'cost': 0.011170211723604604, 'retir': 0.011068841618244788, '940301': 0.010539632756824365, 'gener': 0.01031410059802016, 'carei': 0.010144231985049525, '940709': 0.009549274262122102, 'compens': 0.009369836040547374, 'oppon': 0.009240902659855502, 'type': 0.009015074501938947, 'pension': 0.008998367217896265, '93': 0.008722715602797793, 'clergymen': 0.008719842540702917, 'ckpbqaa7ft': 0.0084263861394991, 'cathedr': 0.008399229018696814, 'industri': 0.008279659217363141, 'avert': 0.008207725247093728, '930202': 0.008155828611945921, 'london': 0.008098569958860604}\n"
     ]
    },
    {
     "name": "stderr",
     "output_type": "stream",
     "text": []
    },
    {
     "name": "stdout",
     "output_type": "stream",
     "text": [
      "622 price fixing {'price': 0.09999999999999998, 'fix': 0.09999999999999998, 'airlin': 0.05440954114332064, 'cartel': 0.03340881833090062, 'fine': 0.03301939950379984, 'cement': 0.031507958232078255, 'alleg': 0.03119207244923879, 'fare': 0.02959481204195205, 'compani': 0.024826631648076337, 'nasdaq': 0.022425374492988467, 'ausdollar': 0.021589418951030778, 'tnt': 0.020034328351095525, 'ansett': 0.0195559945938824, 'investig': 0.019159053423659065, 'mayn': 0.01819853097476948, 'european': 0.01810808074387492, 'candl': 0.01786719666398255, 'commiss': 0.017581331193970033, 'chemagro': 0.0173436624912456, 'carton': 0.015081002703026584, 'justic': 0.014232728555335767, 'fefc': 0.014003778456721634, 'pvc': 0.013801475087090837, 'transport': 0.013308694044483559, 'liotier': 0.012980074111165446, 'agre': 0.0129130137493845, 'nasd': 0.012667509584452862, 'competit': 0.012607470172855517, 'eu': 0.012533026234792778, 'nickless': 0.012506165802887574, 'ge': 0.012004303523553875, 'delta': 0.011290351898298903, 'impos': 0.011202672862268719, 'carpartn': 0.011125480658172288, 'case': 0.011002405821359062, 'depart': 0.010827546081762172, 'dealer': 0.010737532805142091, 'church': 0.010704602219845503, 'raid': 0.010640610238057326, 'ftc': 0.010543784605645085, 'bayer': 0.010158558773607775, 'suit': 0.010144120167497085, 'brussel': 0.01010382239244198, 'australia': 0.00991418706034846, 'system': 0.009417626035678861, 'clvb1aerft': 0.009383481930815441, 'collus': 0.009272702030945683, 'ecu132.15m': 0.009257162215318214, 'reuter': 0.00908991851760074, 'canada': 0.008971261984248916, 'antitrust': 0.008883901040858993, 'diamond': 0.008866823404470635}\n"
     ]
    },
    {
     "name": "stderr",
     "output_type": "stream",
     "text": []
    },
    {
     "name": "stdout",
     "output_type": "stream",
     "text": [
      "623 toxic chemical weapon {'toxic': 0.06666666666666665, 'weapon': 0.06666666666666665, 'chemic': 0.06666666666666665, 'plant': 0.04197960735860676, 'sarin': 0.03978678647472698, 'mustard': 0.03423400733793613, 'tarhunah': 0.03261943261591781, 'iraq': 0.03187590636977674, 'nerv': 0.02904039156109905, 'jowf': 0.025003863323485965, 'dprk': 0.02329821046469397, 'lewisit': 0.023195571308242936, 'ga': 0.0230920433082514, 'tripoli': 0.021634135402576585, 'libyan': 0.021170614769226197, 'scud': 0.020534225578361497, 'destruct': 0.020061459301341993, 'qadhdhafi': 0.019696614368279224, 'soman': 0.01860270480533806, 'rabta': 0.01757884415502052, 'pentagon': 0.016888559492849006, 'oblast': 0.016635767140340617, 'dunn': 0.01567569384696862, 'czech': 0.01524741153017295, 'warhead': 0.014103949572021516, 'au1002161294': 0.013292472428996878, 'yperit': 0.012784138459938447, 'shikhani': 0.012419718599266653, 'instrument': 0.012268693107461252, 'libya': 0.011624205539152763, 'tabun': 0.011569489128451326, 'phosgen': 0.011407315737666193, 'al': 0.011284965372405387, 'munit': 0.01104603243591011, 'instal': 0.01079459776108611, 'nuclear': 0.010612370622272153, 'apv': 0.010452023752705784, 'br2104134594': 0.010194477283070338, 'pm1701125394': 0.009805944517162522, 'dne': 0.008791905265132812, 'anatolii': 0.008766137834077828, 'chapayevsk': 0.008759689821210082, 'fronta': 0.008746265670033239, 'sampl': 0.008676683031355133, 'adamsit': 0.008649461636359242, 'gulf': 0.008619066185019958, 'mlada': 0.008600370222041742, 'missil': 0.008555407878948474, 'novoy': 0.008263231213328002, 'site': 0.008141943841540652, 'enterpris': 0.008065800781544672, 'pragu': 0.008009526292431504, 'ethylen': 0.007842265496196049}\n"
     ]
    },
    {
     "name": "stderr",
     "output_type": "stream",
     "text": []
    },
    {
     "name": "stdout",
     "output_type": "stream",
     "text": [
      "624 SDI Star Wars {'star': 0.06666666666666665, 'sdi': 0.06666666666666665, 'war': 0.06666666666666665, 'laser': 0.043119054772058955, 'sensor': 0.04082036501325414, 'delauer': 0.03653316686211538, 'missil': 0.03534445533027122, 'hedi': 0.033955025837629896, 'reagan': 0.03168178335092099, 'defens': 0.028100908034205896, 'weapon': 0.025003953738120234, 'woodruff': 0.02471359640284011, 'test': 0.024307253879995376, 'warhead': 0.024030548332718046, 'livermor': 0.023190687762936663, 'nuclear': 0.020525464091302917, 'uranium': 0.01978136914462982, 'oversold': 0.018086546971564647, 'teller': 0.016818672839702734, 'shield': 0.016337395404759165, 'quayl': 0.015920444016132004, 'intercept': 0.014107298821904863, 'sherer': 0.014056240240086082, 'chemic': 0.014015169472606595, 'irvin': 0.013749318368085831, '42452': 0.01284630354942018, '300384': 0.012676719084200413, 'trw': 0.012574338017220583, 'strateg': 0.012272604105742803, 'suer': 0.011972871473635896, 'retarget': 0.011079358051161205, 'contract': 0.011046948664049958, 'destroi': 0.010168451835409174, 'concept': 0.009867107023655924, 'guidanc': 0.009821948652458038, 'fairchild': 0.009528582509276391, 'griff': 0.009435934549242502, 'enemi': 0.008900625670681292, 'myle': 0.008881349350772156, 'obsolet': 0.008762161397618918, 'russia': 0.008751973175156746, 'he': 0.00846466472305939, 'energi': 0.008351489669238694, '36791': 0.00832457937820194, 'tuesdai': 0.008297346006486165, 'ss': 0.008233106922114694, 'berkman': 0.008068703061990411, 'infrar': 0.008033319966202821, 'launch': 0.00799664030716311, 'known': 0.007979494118283052, 'theoret': 0.007905247492571916, 'takahashi': 0.007794383045482263, 'pebbl': 0.00776502951166158}\n"
     ]
    },
    {
     "name": "stderr",
     "output_type": "stream",
     "text": []
    },
    {
     "name": "stdout",
     "output_type": "stream",
     "text": [
      "625 arrests bombing WTC {'bomb': 0.1086901685574031, 'arrest': 0.08507257569988512, 'wtc': 0.06666666666666665, 'centr': 0.035480885590855514, 'dckcyag4ft': 0.035462933578816115, 'p9229': 0.0338875154522126, 'sheikh': 0.03203651321863949, 'dcyckac7ft': 0.02958612267933258, 'halima': 0.027943416738197464, '930311': 0.02150769621744711, 'usz': 0.021102592626810537, 'abet': 0.020226604778801473, 'govt': 0.019888425377575333, 'safeti': 0.01882242463971291, '930325': 0.018143387450252516, 'nec': 0.018004852454254813, 'egyptian': 0.01655634741239762, 'rahman': 0.01654535076179558, 'world': 0.016452368389584537, 'mahmud': 0.01637154866663003, 'america': 0.015430124932007168, 'mastermind': 0.015328289153910943, 'abdul': 0.014835360890970949, 'legal': 0.013977523539024959, '93': 0.01393776034910018, 'cleric': 0.013661418766209963, 'omar': 0.012827923814217322, 'order': 0.012815042547804323, 'abu': 0.012771361352754912, 'brief': 0.012709262664907697, 'egypt': 0.01267469558176024, 'trade': 0.012633147554969346, 'extradit': 0.011667325018480239, 'siddig': 0.011665987556824856, 'peop': 0.011580423572439833, 'mar': 0.011246326696841587, 'public': 0.00990582386423976, 'fayoum': 0.009829256617792007, 'jersei': 0.009688329689102526, 'di': 0.009636472844559037, 'alleg': 0.009597014099287877, 'suspect': 0.009114409644189402, 'prison': 0.009098201931232603, 'personnel': 0.008907076686282038, '34': 0.008696303823689728, 'charg': 0.008392863867718783, 'kill': 0.008321432849867012, 'aid': 0.008135728342287884, 'ddzbrabbft': 0.00789273914202616, 'type': 0.007392415981890228, 'issu': 0.007181559666339228}\n"
     ]
    },
    {
     "name": "stderr",
     "output_type": "stream",
     "text": []
    },
    {
     "name": "stdout",
     "output_type": "stream",
     "text": [
      "626 human stampede {'human': 0.09999999999999998, 'stamped': 0.09999999999999998, 'warang': 0.0338524056861403, 'maoist': 0.03240576658659403, 'goma': 0.03013522972942494, 'rwanda': 0.029528384013912026, 'rpf': 0.029399844066300765, 'polic': 0.027971056640210757, 'zair': 0.027520619796731118, 'refuge': 0.023113115871853235, 'delhi': 0.023036523762941644, 'zairean': 0.021614939376148952, 'french': 0.01901418178517952, 'rao': 0.018302380296082717, 'kannur': 0.017921241289215552, 'ek0aoaauft': 0.017921241289215552, 'pratighatna': 0.017921241289215552, 'praja': 0.017339181111444644, 'indian': 0.016767558710629227, 'rs1m': 0.01576208248752833, 'rebel': 0.01548604904778621, 'nagpur': 0.0151278152097927, 'mortar': 0.014938230145697324, '20,400': 0.014767044041382925, 'shell': 0.01443998302312538, 'guerrilla': 0.014218068668914882, 'fire': 0.013946495928822761, 'demonstr': 0.01324853198940664, 'kerala': 0.012817407486194622, 'hutu': 0.012534022157555214, 'tutsi': 0.012409652773621245, 'andhra': 0.012305387395873986, 'india': 0.012117842478907724, 'kill': 0.012089134160651794, 'troop': 0.011856761736653988, 'warn': 0.011714772227481768, 'maharashtra': 0.011657851640163806, '941126': 0.011219946293465524, 'exodu': 0.01090036177005682, 'di': 0.010876602810702594, 'sidhva': 0.01087423071173663, 'rwandan': 0.010780444187095712, 'pradesh': 0.01067659445536392, 'egrd8abeft': 0.010599705660224567, 'shiraz': 0.010519357403026985, 'unauthoris': 0.010099157589259911, 'peopl': 0.009887730585253532, 'resort': 0.009845982770397964, 'student': 0.009803038249154494, 'border': 0.009611127297705697, 'quell': 0.009587755067041617, 'state': 0.009515921248712207}\n"
     ]
    },
    {
     "name": "stderr",
     "output_type": "stream",
     "text": []
    },
    {
     "name": "stdout",
     "output_type": "stream",
     "text": [
      "627 Russian food crisis {'food': 0.08274469806320331, 'crisi': 0.06666666666666665, 'russian': 0.06666666666666665, 'grain': 0.05650947978459894, 'aid': 0.052528425121176885, 'dollar': 0.042621232716372214, 'packag': 0.03118453678619831, 'credit': 0.029148858271982644, 'russia': 0.027582474441097262, 'programm': 0.02338299750177274, 'us': 0.022888885648014248, 'washington': 0.02166423944548307, 'shipment': 0.020324577995143808, 'mr': 0.020163198572698358, 'clinton': 0.019397845662691954, 'freight': 0.01821618599892618, 'donat': 0.017161344268680948, 'espi': 0.0167681603198153, 'agricultur': 0.016260722860158647, 'donor': 0.015188907626822862, 'commod': 0.013996725560918936, 'assist': 0.013931459125257962, 'ship': 0.013894834688136036, 'dfgb7aefft': 0.01365399347625939, 'g7': 0.013598928909403191, 'loan': 0.012874883242063529, 'ruz': 0.012655308835311407, '700m': 0.012167951504432496, 'ciobxaekft': 0.012046409327451333, 'americar': 0.01195702504106444, 'guarante': 0.011364901328133026, 'whiteman': 0.010823303361065115, '5.75bn': 0.010708707298292017, '455m': 0.010324139543477731, 'denling': 0.009916048452799964, 'airlift': 0.009641598287391452, 'mors': 0.00944336511726346, 'lauri': 0.009344277973006078, 'stall': 0.009342430498017118, 'baker': 0.00916960538318154, '930605': 0.008738556501375108, 'baulk': 0.008714384918185514, 'reuter': 0.008685835228925609, 'vancouv': 0.008651713192716471, 'shokhin': 0.008625141567352746, 'imf': 0.00857757585162179, 'concession': 0.008563865716659099, 'port': 0.008549890975440693, 'vessel': 0.008302727024030915, 'shipown': 0.008257062506445171, 'american': 0.008235611707323226, 'usz': 0.008171633438826502}\n"
     ]
    },
    {
     "name": "stderr",
     "output_type": "stream",
     "text": []
    },
    {
     "name": "stdout",
     "output_type": "stream",
     "text": [
      "628 U.S. invasion of Panama {'noriega': 0.15965025518330261, 'invas': 0.06666666666666665, 'panama': 0.06666666666666665, 'u.': 0.06666666666666665, 'bush': 0.058393830070851895, 'gen': 0.026550651543243833, 'cia': 0.025013230986018615, 'beilenson': 0.022588742404351946, 'balladar': 0.020109714535458, 'american': 0.020021693951913007, 'manuel': 0.01705872890585732, 'action': 0.014983789961969779, 'invad': 0.014892670700552389, '153453': 0.013789523594595022, 'war': 0.013531981576568581, 'us': 0.013198667924796162, '1989': 0.0131773794916947, 'scowcroft': 0.013130951552078393, 'decemb': 0.012709101976212937, 'repress': 0.012562884688272475, 'prd': 0.012161042044333069, 'elect': 0.012141531867838423, 'canal': 0.012065726081863529, 'remov': 0.011573345891832022, 'lotz': 0.011362522212878867, 'dictat': 0.011108197089761216, 'imperi': 0.01110297582343589, 'law': 0.011027222327576152, 'question': 0.01085449544623424, 'citizen': 0.010715517977911593, 'congress': 0.010570370735694124, 'regim': 0.01052316076192937, 'metro': 0.010302141080614322, 'overthrow': 0.0102125713205776, 'democraci': 0.010190230080603366, 'dollar': 0.009921189032757821, 'counterinsurg': 0.009742841580898255, 'against': 0.00959394427665401, 'marin': 0.009580484697229344, 'hi': 0.009486926310888369, 'democrat': 0.009435726686746325, 'verdict': 0.009261201845371709, 'linda': 0.009031590943030236, 'tyrant': 0.00900508476320906, 'georg': 0.00898483280947794, 'letter': 0.008711843774158025, 'now': 0.008672641889879878, 'tamper': 0.008664513108328796, 'committe': 0.008635806351824758, 'coup': 0.008570289676845292, 'mr': 0.008569309633720587, 'b': 0.008472905829630627, '153454': 0.008384016998527408}\n"
     ]
    },
    {
     "name": "stderr",
     "output_type": "stream",
     "text": []
    },
    {
     "name": "stdout",
     "output_type": "stream",
     "text": [
      "629 abortion clinic attack {'abort': 0.09803580396656073, 'clinic': 0.097096439537617, 'attack': 0.06666666666666665, 'tustin': 0.03132024500454367, 'abortionist': 0.02927895725812903, 'elgcwaabft': 0.02807971840210748, 'downer': 0.02804308705728666, 'demonstr': 0.024984816337140565, 'church': 0.02448559055829924, 'kaicher': 0.0242727792389901, 'dc4cxab3ft': 0.02236533090707134, 'shove': 0.02128245958756307, 'anti': 0.02059504725942056, 'nonviol': 0.02021639128223287, 'polic': 0.02011283024121702, 'o.r': 0.019890208083332257, '941207': 0.01706321844218139, 'fire': 0.01671335663966097, 'clash': 0.016567168241747983, 'violent': 0.015108322402077677, 'protestor': 0.014805998804506976, 'death': 0.014096849488409186, 'sentenc': 0.013673159278555645, 'arson': 0.013576273677365714, 'peop': 0.013420312600512739, '930331': 0.013370851754492243, 'murder': 0.013356846105021589, 'escort': 0.013323877675892546, 'milit': 0.012535457149030333, 'p9211': 0.012229998398032998, 'america': 0.01218088495330674, 'courri': 0.011946782080877589, 'concord': 0.011754686888053464, '78171': 0.011606422657061211, '137053': 0.011459861264913744, 'outsid': 0.011349638537978591, 'eemc4abaft': 0.011044894099730366, 'hampshir': 0.01096134284363981, '85782': 0.010893564845756688, 'juli': 0.010885182238747244, 'deport': 0.01056730915409237, 'usz': 0.010433390705733622, 'feminist': 0.010254625222647659, 'injuri': 0.010243369765131613, 'govt': 0.010215010103433099, 'p9229': 0.00972946595227854, 'flare': 0.009677191123499355, 'violenc': 0.00964136215144236, 'campaign': 0.009603234531573204, 'brief': 0.009540830740018453, 'hillview': 0.009442888094417647}\n"
     ]
    },
    {
     "name": "stderr",
     "output_type": "stream",
     "text": []
    },
    {
     "name": "stdout",
     "output_type": "stream",
     "text": [
      "630 Gulf War Syndrome {'gulf': 0.09679463954041816, 'war': 0.08212965182264523, 'syndrom': 0.06666666666666665, 'au1306080894': 0.044467207254997726, 'compens': 0.039405855060284434, 'ctk': 0.03200126305578685, 'pragu': 0.026794207590978836, 'czech': 0.025347669978778433, 'soldier': 0.025335145885409912, 'dreeu114__a94013': 0.022233603627498863, 'armi': 0.020760616988141283, 'ejmdeadpft': 0.020162946259089418, 'veteran': 0.018245065009747843, 'rumpi': 0.018139604649119304, 'pumpi': 0.017923937655658483, 'persia': 0.016206112094671724, 'chemic': 0.015323702492506142, '1429': 0.01494170604448386, 'antigen': 0.014745179660557994, 'dne': 0.014705747018821156, 'fronta': 0.014629408123060128, 'mlada': 0.01438537665494716, 'investig': 0.01409204155335144, 'complaint': 0.01378807516135853, 'ill': 0.013352502477629808, 'bonnet': 0.013157773651692933, '10.40': 0.013095646634422337, 'unchalleng': 0.012847131393126598, 'televis': 0.012770130597404374, 'hepat': 0.012727617887622271, 'faceless': 0.01260831533516847, 'unspoken': 0.012527726572196292, '941013': 0.012358273260844802, 'basqu': 0.011530665286867702, 'czechoslovak': 0.01152772777514862, 'c4': 0.01139399219336787, 'exist': 0.01129233164777409, 'laci': 0.011210069428589093, 'broadcast': 0.011180084539557496, '10.00': 0.011082494984463903, 'greedi': 0.011065065642971147, 'bbc1': 0.01097789356937185, 'anyon': 0.010976206113756725, '9.00': 0.010846511958296223, 'fifteen': 0.010843845906488323, '11': 0.010590466595405657, 'paper': 0.010452762355409005, 'dunklei': 0.01045215070099329, 'p4832': 0.01029767585808659, 'paid': 0.009842902887524978, 'p4841': 0.009766604896840163}\n"
     ]
    },
    {
     "name": "stderr",
     "output_type": "stream",
     "text": []
    },
    {
     "name": "stdout",
     "output_type": "stream",
     "text": [
      "631 Mandela South Africa President {'africa': 0.08751099426418738, 'presid': 0.08288143733232903, 'south': 0.07976661420286807, 'mandela': 0.04999999999999999, 'inaugur': 0.04480733817527502, 'congratul': 0.0361157579337063, 'victori': 0.03204589244773506, 'castro': 0.03101570957147955, 'masir': 0.019826254075717063, 'rodriqu': 0.019510901231944336, 'gore': 0.019507767036887266, 'angolan': 0.018066632801327667, 'elect': 0.01689557961889676, 'pretoria': 0.016136531373201108, 'sapa': 0.016014277739396027, 'cuban': 0.015737546212557258, 'angola': 0.015160033171829011, 'mai': 0.015001959949053956, 'arriv': 0.01492333487913859, 'your': 0.01451357201702269, 'afr': 0.013964107004610211, 'cuba': 0.013729616230693385, 'bk1205045394': 0.01350729497296733, 'mr': 0.01347638140079551, 'franco': 0.013378690691640964, 'african': 0.012691900045608818, 'english': 0.012672119662590088, 'attend': 0.01235391258864669, 'kna': 0.01201586197030388, 'messag': 0.01187480918937915, 'vice': 0.011780634826857431, 'dignitari': 0.011432779347004504, 'ketumil': 0.011184419366337744, 'republ': 0.011122447575155191, 'jiang': 0.0110274101487659, 'network': 0.010955694764296428, 'excel': 0.010937710535405916, 'bfn': 0.01091548439467586, 'deleg': 0.010856313227413305, 'ow0305141794': 0.010805731518324542, 'ea0305133094': 0.010793597349212395, '9': 0.01067552388815788, 'thi': 0.010596916984781789, 'binh': 0.010596916984781789, 'pakistan': 0.010509588201608475, 'johannesburg': 0.010312873107096082, 'santo': 0.010229225325774333, 'nelson': 0.010179609833577302, 'rsa': 0.010175328789336385, '090': 0.010047100706174764, 'gmt': 0.009761865333474106}\n"
     ]
    },
    {
     "name": "stderr",
     "output_type": "stream",
     "text": []
    },
    {
     "name": "stdout",
     "output_type": "stream",
     "text": [
      "632 southeast Asia tin mining {'tin': 0.13598423795168507, 'mine': 0.09807999207370294, 'malaysia': 0.05348646666854221, 'asia': 0.04999999999999999, 'southeast': 0.04999999999999999, 'tonn': 0.04879116898725477, 'mdollar': 0.03535983661597868, 'atpc': 0.025447812712506446, 'price': 0.02411171429352478, 'lumpur': 0.022455247752738522, 'kuala': 0.02242794629977957, 'indonesia': 0.019704567811794003, 'produc': 0.018882072126869088, 'metal': 0.01794910773798148, 'malaysian': 0.016609499038657813, 'aoi': 0.01585373460730714, 'mmc': 0.015134475404364182, 'product': 0.014810018004493736, 'export': 0.014542134895463025, 'kramat': 0.014077078467412563, 'commod': 0.013895375551636592, 'dollar': 0.01286038335328753, 'miner': 0.012548883407096907, 'lemb': 0.011962162390861762, 'output': 0.011718548617006394, 'sungei': 0.011245379106640937, 'p1099': 0.010714951143688214, 'or': 0.010420705386513839, 'rubi': 0.010216544513383111, 'mmea': 0.010158343265290339, 'cost': 0.010000541314961439, 'sia': 0.009726683555729936, 'world': 0.00958881732841792, 'ncl': 0.009524685219790647, 'myz': 0.009473021110700745, 'per': 0.009380249599837255, 'year': 0.008669847312931474, 'cent': 0.008634593389735755, 'kieran': 0.008547333257077202, 'tambang': 0.008441477832637403, 'market': 0.00814036635071083, 'tooth': 0.0073472942066113356, 'brazil': 0.007241736814551272, 'stockpil': 0.006782150856622409, 'analyst': 0.0065419240010692785, '1992': 0.006497048663695867, 'china': 0.006215876035797657, 'renison': 0.006156255567630087, 'low': 0.006117061738079712, 'associ': 0.005920258383120131, 'yala': 0.005907557162134734, 'consolid': 0.005696832112695227}\n"
     ]
    },
    {
     "name": "stderr",
     "output_type": "stream",
     "text": []
    },
    {
     "name": "stdout",
     "output_type": "stream",
     "text": [
      "633 Welsh devolution {'welsh': 0.1783986876378159, 'devolut': 0.09999999999999998, 'plaid': 0.05737436273324773, 'labour': 0.05360383066110568, 'cymru': 0.04995297158981588, 'wale': 0.04824489568900584, 'assembl': 0.029302832371084095, 'nationalist': 0.02548527944279252, 'ulster': 0.022811733458791957, 'parliament': 0.021262416646067116, 'elect': 0.018250917707677, 'dafydd': 0.018200921607207675, 'referendum': 0.017618782512026337, 'wiglei': 0.015622746302121458, 'hung': 0.014273259817804971, 'parti': 0.014182235476245057, 'unionist': 0.01348328032560072, 'favour': 0.01338646685906961, 'major': 0.012847440607201221, 'mp': 0.012441008713401279, 'kinnock': 0.011676215392463898, 'seat': 0.011597265204228782, 'commit': 0.011135972099264329, 'support': 0.010995987755780548, 'cbya2afift': 0.010804821059725689, 'prime': 0.010421429765957486, 'moreton': 0.010372604147484522, 'molyneaux': 0.010371545084676623, 'region': 0.01035892248758978, 'robertson': 0.00909826158880406, 'pr': 0.009039809749709797, 'scenario': 0.009015542434738538, 's4c': 0.00881194825531085, 'answer': 0.008682262101368679, 'dont': 0.008618818925911605, 'democrat': 0.008537578340843567, '920225': 0.007844950912465206, 'p8651': 0.007790482918526848, 'mr': 0.007665285331699187, 'cdja7aeqft': 0.0072088360193740255, 'liament': 0.0072088360193740255, 'nop': 0.007205334109694497, 'brecon': 0.006945924520191782, 'blair': 0.00689411120345554, 'delyn': 0.006776042163090103, 'pembrok': 0.00671087224342768, 'boycot': 0.006336665158553425, '920410': 0.006317049237443251, 'emphasis': 0.00627878282822247, 'raffan': 0.006266886391270589, 'cb1blafxft': 0.006266886391270589}\n"
     ]
    },
    {
     "name": "stderr",
     "output_type": "stream",
     "text": []
    },
    {
     "name": "stdout",
     "output_type": "stream",
     "text": [
      "634 L-tryptophan deaths {'death': 0.06666666666666665, 'l': 0.06666666666666665, 'tryptophan': 0.06666666666666665}\n"
     ]
    },
    {
     "name": "stderr",
     "output_type": "stream",
     "text": []
    },
    {
     "name": "stdout",
     "output_type": "stream",
     "text": [
      "635 doctor assisted suicides {'kevorkian': 0.10504369119323803, 'suicid': 0.08903609584724911, 'assist': 0.08653320994489469, 'adkin': 0.07269185906689256, 'doctor': 0.06666666666666665, 'patient': 0.029037060516269454, 'die': 0.028307128767088654, 'janet': 0.026564508389998045, 'alzheim': 0.02389132047768038, 'bergstedt': 0.02284833848479129, 'life': 0.022060536415939455, 'euthanasia': 0.02140318494858734, 'mcnalli': 0.01806652598011536, 'death': 0.016558496416483562, 'youngquist': 0.016033645750013377, 'disabl': 0.015522645973235692, 'physician': 0.015501227281502428, 'diseas': 0.015223481712893458, 'respir': 0.014588631875187358, '234211': 0.014124442581527391, 'ok': 0.013454553930867919, 'devic': 0.012722611215912949, 'letter': 0.012498047921482855, 'judg': 0.01182129265975575, 'michigan': 0.011392421533417307, 'd.': 0.010886137647127671, 'medic': 0.01038602651695502, 'june': 0.00996722620972685, 'ill': 0.009891917920844588, 'passiv': 0.009797246547257856, 'person': 0.00973259995241963, 'right': 0.009646707808468819, 'quadripleg': 0.009347890299686848, 'editor': 0.008884760965860997, 'live': 0.008799448676801803, 'ethic': 0.00879370547915644, 'moslei': 0.00818697982972792, 'brandt': 0.008104178352205471, 'do': 0.008067581004403758, 'termin': 0.0079587253397191, 'harm': 0.0077895664818810485, 'controversi': 0.007651831440140331, '234213': 0.007510031048572403, 'pathologist': 0.007508178836409862, 'saturdai': 0.007496698891824949, 'machin': 0.007491368633327013, 'oakland': 0.007095563334506143, 'hopefulli': 0.006973749645105717, '234212': 0.006877167419466837, 'religi': 0.006786556817404608, 'starv': 0.0067765293493070216}\n"
     ]
    },
    {
     "name": "stderr",
     "output_type": "stream",
     "text": []
    },
    {
     "name": "stdout",
     "output_type": "stream",
     "text": [
      "636 jury duty exemptions {'juri': 0.088538980720752, 'exempt': 0.06666666666666665, 'duti': 0.06666666666666665, 'eslick': 0.043021210096458186, 'juror': 0.039726687065932464, 'soldier': 0.038445242406343505, 'osc': 0.027524438672317214, 'command': 0.027433631791161858, 'bassett': 0.023424207289672056, 'spcmca': 0.02250916972089522, '19763': 0.02203543702069611, 'trial': 0.02050529519762524, 'summon': 0.020026332630557045, 'prosecutor': 0.0195364475121081, 'excus': 0.018549315509264693, 'vall': 0.017978323889553283, 'muskoge': 0.017177952474596494, 'murder': 0.016346232117851887, 'man': 0.016288227815167845, 'mspb': 0.016032899516667025, 'shoo': 0.015202208267880392, 'serv': 0.015157099648910932, 'daja': 0.01501262719271794, 'contempt': 0.014822927416628058, 'dijol': 0.01432408332626688, 'da': 0.013377707105418813, 'defend': 0.013350000931506553, 'okla': 0.013150692533268449, 'calvin': 0.0127426682973626, 'obscen': 0.012705838202541286, 'rogow': 0.01268005947948691, 'estrang': 0.012472670729279201, 'kinnel': 0.012415430747015274, 'select': 0.011924965700815783, 'vo': 0.011832628568987974, '516.75': 0.011510433368838217, 'pool': 0.010836738399192301, 'stab': 0.010684504643021717, 'ar': 0.010588527306635545, \"he'd\": 0.010459033258955922, 'oklahoma': 0.010151240545847443, 'judg': 0.010117860490709245, 'farlei': 0.010052053307972122, 'random': 0.009994982005170856, 'ventura': 0.009817786752114262, 'counsel': 0.009784374695076758, 'court': 0.009712628937281864, 'atti': 0.009625585292625126, 'gene': 0.009613385486028579, 'local': 0.009421327909333274, 'gcmca': 0.009237066972123174, 'dist': 0.008787497700033368}\n"
     ]
    },
    {
     "name": "stderr",
     "output_type": "stream",
     "text": []
    },
    {
     "name": "stdout",
     "output_type": "stream",
     "text": [
      "637 human growth hormone (HGH) {'steroid': 0.06200508207046619, 'growth': 0.04999999999999999, 'hgh': 0.04999999999999999, 'human': 0.04999999999999999, 'hormon': 0.04999999999999999, 'drug': 0.04257969429646549, 'astaphan': 0.04009597155707678, 'joyner': 0.03066712676237564, 'johnson': 0.03016328924085962, 'athlet': 0.027636081434918327, 'griffith': 0.023441395880318197, 'halpern': 0.020248091609569585, 'cambra': 0.018323430011900975, 'bodybuild': 0.01818458650883318, 'mose': 0.01806873279878656, 'robinson': 0.017956561713083092, 'anabol': 0.017741696975095003, 'albumin': 0.017377387717148196, 'olymp': 0.017369879927043325, 'sprinter': 0.017063798139384686, 'rocheleau': 0.016481768474385178, 'franci': 0.01569347534184719, 'lewi': 0.014796357173632728, 'track': 0.014424853424556766, 'stanozolol': 0.01404860938301539, 'baumann': 0.013555035345212497, 'stern': 0.013497858345859518, 'inquiri': 0.01327130778760789, 'cjd': 0.013002901049868721, 'canadian': 0.012975220665680205, 'sport': 0.012225656269364497, 'sorrano': 0.012098304304617499, 'indict': 0.011972032946266467, 'meter': 0.011345745273256757, 'bse': 0.010929414356698355, 'merieux': 0.010772273820971644, 'he': 0.010664811561535596, 'florenc': 0.010619571131150238, 'alleg': 0.010346082005363919, 'ben': 0.00987726600096472, 'hurdler': 0.009714066067963417, 'issajenko': 0.00971279434945926, 'testifi': 0.00960320223676955, 'levesqu': 0.009580510403868162, 'test': 0.009496354608174398, 'seoul': 0.009457267780249794, 'darrel': 0.009347135816862005, 'testimoni': 0.009202918686681199, 'biotech': 0.009094155479406675, 'carmichael': 0.008979413078981811, 'baldwin': 0.008829450633514598, 'duchain': 0.008699185673027512, 'nielsen': 0.008461956057730332, 'toronto': 0.008300237822130598}\n"
     ]
    },
    {
     "name": "stderr",
     "output_type": "stream",
     "text": []
    },
    {
     "name": "stdout",
     "output_type": "stream",
     "text": [
      "638 wrongful convictions {'convict': 0.11636030393246602, 'wrong': 0.09999999999999998, 'loganvil': 0.046397522140009195, 'trial': 0.042224832522153845, 'brandlei': 0.03694207525438586, 'chestman': 0.03168047195904399, 'row': 0.027814293081223893, 'sheftel': 0.027390332291400633, 'overturn': 0.02539696834199417, 'arrow': 0.0251420419894149, 'prison': 0.023192351187201542, 'waldbaum': 0.021479072149407735, 'justic': 0.020093649430581423, 'burglari': 0.01920385442521209, 'echol': 0.019115703030706355, 'rape': 0.018921793988823175, 'texa': 0.018828816415993987, 'miller': 0.018499394400524404, 'demjanjuk': 0.01727664649656432, 'judg': 0.01684522452212203, 'sfo': 0.015742514518976992, 'powel': 0.01490149879571532, 'inmat': 0.014734811046600927, 'blue': 0.014581320424837386, 'loeb': 0.014065162192417711, 'appeal': 0.014035883449924604, 'court': 0.013692910777103336, 'udf': 0.0136044990681685, 'mckinnon': 0.012490730145503233, 'purnel': 0.012488363062801891, 'case': 0.012149812778208669, '283543': 0.011599380535002299, 'death': 0.011399629555573042, '148411': 0.010602378174993071, 'mann': 0.009751003855568628, 'lawyer': 0.00947019105523397, 'ogorodnikova': 0.009356592214038338, 'releas': 0.009142697938217955, 'conro': 0.008891166431652666, 'william': 0.008868866459725946, 'slai': 0.008814706871899926, 'indict': 0.008386912580483583, 'mr': 0.008276109530878265, 'juri': 0.008257392928865773, 'rudiment': 0.007772411952852475, 'confidenti': 0.007559322589684024, 'unfairli': 0.007467478387571658, 'rehnquist': 0.007327579303013127, 'brudner': 0.007326410738477881, 'scovil': 0.007270488095498587, 'conspiraci': 0.007166426981280874}\n"
     ]
    },
    {
     "name": "stderr",
     "output_type": "stream",
     "text": []
    },
    {
     "name": "stdout",
     "output_type": "stream",
     "text": [
      "639 consumer on-line shopping {'shop': 0.08711942061745709, 'line': 0.07911944753085284, 'consum': 0.06666666666666665, 'internet': 0.04199015460845196, 'comput': 0.04102447417708747, 'hsn': 0.030114782374088097, 'interact': 0.02794328147512733, 'tv': 0.026125964014462596, 'cabl': 0.024756592448846204, 'servic': 0.0244457752824906, 'pc': 0.02386291266972887, 'electron': 0.023075158989963637, 'softwar': 0.021633322075087412, 'qvc': 0.019359575014123116, 'user': 0.0190394850265595, 'technolog': 0.018714222465272323, 'network': 0.01866844008447734, 'microsoft': 0.01850946531250027, 'tandem': 0.01830789957506889, 'mail': 0.016461622187076093, 'multimedia': 0.016338010093143215, 'dollar': 0.01588105269806275, 'televis': 0.014902919808020951, 'isn': 0.014808307868224933, 'market': 0.014182415474757293, '1998': 0.014014839007669595, 'compuserv': 0.013767388404167864, 'order': 0.013539096274837315, 'catalogu': 0.01350084980960811, 'compani': 0.013335069245209205, 'commerc': 0.012274178877196167, 'us': 0.011918690869791831, 'screen': 0.011862288349270944, 'inform': 0.011587314529905576, 'printer': 0.010979368247085793, 'product': 0.010823812823678731, 'commun': 0.01049674897495548, 'keho': 0.010392742095975023, 'home': 0.01006598392879208, 'video': 0.00965372259206316, 'intel': 0.00962107604425485, 'onlin': 0.009491955546293387, 'growth': 0.009401078026849245, 'custom': 0.009389107021428832, 'louis': 0.009294361507472574, 'america': 0.009166185731789494, 'prodigi': 0.009047478915249233, 'suhler': 0.008674940259925198, 'viewer': 0.00859622092703315, 'reach': 0.008574402967343712, 'forrest': 0.007479730484556137}\n"
     ]
    },
    {
     "name": "stderr",
     "output_type": "stream",
     "text": []
    },
    {
     "name": "stdout",
     "output_type": "stream",
     "text": [
      "640 maternity leave policies {'polici': 0.06666666666666665, 'matern': 0.06666666666666665, 'leav': 0.06666666666666665, 'welfar': 0.043132500709726844, 'social': 0.03477454900408016, 'employ': 0.030479356658983, 'pension': 0.029062217695103296, 'worker': 0.02880446540556609, 'shall': 0.028593500996808647, 'direct': 0.025739169659481947, 'brundtland': 0.0224806295208797, 'tindal': 0.021290517473853552, 'norwai': 0.019767369103930135, 'labour': 0.019248138600329548, 'sex': 0.019008556847123326, 'her': 0.018692473355083502, 'unplan': 0.018541923299625937, 'vranitzki': 0.018056372192703753, 'week': 0.017552305658270623, 'dilut': 0.016752440435264377, 'phair': 0.016614747636012037, 'equal': 0.015083759798072128, 'eoc': 0.014888989575003545, 'consult': 0.01427419119406597, 'cksc7aajft': 0.013875661532286386, 'cowl': 0.013289239742985985, 'tribun': 0.013211581807525748, 'articl': 0.013142048433026719, 'eu': 0.01290677489355161, 'timer': 0.01285254846782826, 'waxman': 0.01279239107387045, 'version': 0.012742202539877914, 'unemploy': 0.01272600199671308, 'ms': 0.01252025998711613, 'full': 0.0122671469409707, 'jilin': 0.012201347824908981, 'discrimin': 0.011561378674085632, 'enterpris': 0.011395767131179792, 'cdha7aa2ft': 0.011346433557224637, 'entitl': 0.011199726935943077, 'secur': 0.010941147152123703, 'ec': 0.010629462374322876, 'sweden': 0.010461056788288235, 'gro': 0.010161556794844697, 'norwegian': 0.010050615009325496, 'yuan': 0.00992569243979814, 'proof': 0.009838407583708067, 'discriminatori': 0.009719385117167476, 'ye': 0.009566128632775448, 'rule': 0.009392696533417856, 'harlem': 0.00934024945102292, 'atyp': 0.008577880680115418, '921119': 0.008527035084026418}\n"
     ]
    },
    {
     "name": "stderr",
     "output_type": "stream",
     "text": []
    },
    {
     "name": "stdout",
     "output_type": "stream",
     "text": [
      "641 Valdez wildlife marine life {'valdez': 0.06930718332932705, 'exxon': 0.0660008279130388, 'hazelwood': 0.0646839304561883, 'life': 0.04999999999999999, 'wildlif': 0.04999999999999999, 'marin': 0.04999999999999999, 'bird': 0.04701158302563405, 'spill': 0.03383972480827368, 'oil': 0.028306088517652796, 'eagl': 0.026662749687618992, 'gibson': 0.025952017391185335, 'fish': 0.022275426624390464, 'kodiak': 0.02185876002909129, 'anim': 0.021236581084202358, 'ship': 0.01811366663562366, 'bald': 0.017706496772853245, 'island': 0.016953648235035753, 'nest': 0.016303044068713423, 'salmon': 0.015958806781043815, 'pollut': 0.015836166570748423, 'scarborough': 0.015194077519230052, 'otter': 0.014985201953350156, 'rescu': 0.014234657853026345, 'shell': 0.013732911482151637, 'feather': 0.012384925423732873, 'pup': 0.011487672452495067, '104643': 0.011469782695853657, 'murkowski': 0.011140435798222931, 'iarossi': 0.011079283305465409, 'babbitt': 0.010544878750093958, 'aground': 0.01019198011020677, 'foul': 0.010030317310899775, 'captur': 0.009625576408949753, 'argo': 0.009601724965568501, 'frechett': 0.009401388586648494, 'villag': 0.00905119280805773, 'kurtzweil': 0.008984933733734756, 'fisheri': 0.008973702474945538, 'pelican': 0.008853306750290271, 'chenega': 0.0087545013239184, 'egg': 0.008737421544509636, 'corp': 0.008713440990198358, '60202': 0.008486064578587846, 'death': 0.008073960453010403, '66204': 0.008059309549427043, 'seal': 0.007861388341647093, 'accid': 0.00783262460260166, 'studd': 0.007712305433615774, 'reimburs': 0.007545852492612859, 'letter': 0.0074349529030830076, 'senat': 0.007324549692576037, '41201': 0.007267386498856121, 'dy': 0.007221589281810744}\n"
     ]
    },
    {
     "name": "stderr",
     "output_type": "stream",
     "text": []
    },
    {
     "name": "stdout",
     "output_type": "stream",
     "text": [
      "642 Tiananmen Square protesters {'shen': 0.10041036486539652, 'protest': 0.06666666666666665, 'tiananmen': 0.06666666666666665, 'squar': 0.06666666666666665, 'prison': 0.0401121318260038, 'china': 0.03987666296709347, 'tian': 0.03181647509101016, 'hk2605041894': 0.025578652123936993, 'deng': 0.02464424758168897, 'mfn': 0.022532080336337506, 'soldier': 0.018006658585298662, 'we': 0.017348447575822868, 'petit': 0.015869535266850168, 'tortur': 0.015841789238031558, 'men': 0.01559703953281954, 'changan': 0.01522407637162823, 'progress': 0.014360660732644881, 'offici': 0.014316061851167598, 'he': 0.014183427145589612, 'bush': 0.01353406359054058, 'movement': 0.013281591604912601, 'drchi102_k_94002': 0.012789326061968496, 'loan': 0.012775745897195044, 'wang': 0.012692049551511082, 'mao': 0.012658674317889147, 'yang': 0.012566792822978824, 'contact': 0.012387156549151143, 'relationship': 0.012342684425847766, 'peng': 0.011914234688327006, 'shaofang': 0.011850625091999325, 'rule': 0.011825356599994055, 'tiansen': 0.011444960329750016, 'xuguang': 0.011369126319486809, 'white': 0.010878686270498787, 'haifeng': 0.010795823693288041, 'shao': 0.010763580004432219, 'li': 0.01060049822380746, 'amnesti': 0.010467693582306346, 'liber': 0.010356549179000125, 'knot': 0.010244281666683341, 'dream': 0.010072729897902555, 'sentenc': 0.01006122569639322, 'hani': 0.01001035817798259, 'zhai': 0.009981451771101758, 'clinton': 0.009957086518758172, '0402': 0.009948926577005121, 'econom': 0.009857067577199822, 'muxidi': 0.009855821213320624, 'premier': 0.009593654254256423, 'weimin': 0.00945154442334116, 'chines': 0.009377070034315552, 'indoctrin': 0.009304283031502136, 'chen': 0.009270969264032288}\n"
     ]
    },
    {
     "name": "stderr",
     "output_type": "stream",
     "text": []
    },
    {
     "name": "stdout",
     "output_type": "stream",
     "text": [
      "643 salmon dams Pacific northwest {'fish': 0.06303058965322249, 'dam': 0.059631015427816306, 'salmon': 0.04999999999999999, 'pacif': 0.04999999999999999, 'northwest': 0.04999999999999999, 'water': 0.04925125154042181, 'river': 0.03416479104316406, 'chinook': 0.03397308835114156, 'sacramento': 0.030015135596573157, 'temperatur': 0.025233663228243587, 'reclam': 0.024090338753493645, 'steelhead': 0.023645777187619458, 'delta': 0.01992113231893654, 'run': 0.01978541318285203, 'habitat': 0.019402263228708378, 'hatcheri': 0.018949169014038786, 'fao': 0.01796264235679639, 'california': 0.015894799549725322, 'drought': 0.014441706605631289, 'sc': 0.01443797062456134, 'percent': 0.013768529861878901, 'buyout': 0.013043511584621284, 'speci': 0.012937440449617569, 'spawn': 0.012593174687739215, 'bureau': 0.012547575590676983, 'board': 0.01225674381541286, 'shasta': 0.012215909524055331, 'joaquin': 0.012208989058704853, 'bass': 0.012062145845833363, 'usfw': 0.012002379985537957, 'charterboat': 0.01192126322081498, 'rbdd': 0.011827078221559144, 'abund': 0.011787385298052094, 'sockey': 0.011685366413898883, 'stock': 0.011496269947979058, 'migrat': 0.011404511656574936, 'passag': 0.011384530383066773, 'protect': 0.011154600359237966, 'state': 0.010861327484221089, 'restor': 0.010754656581024615, 'declin': 0.01056743548792116, 'measur': 0.010331053092716565, 'oreil': 0.010136690817339358, 'fall': 0.010103956898446878, 'criteria': 0.010099353769092222, 'stripe': 0.009914335213552526, 'permit': 0.009877909622408759, 'upstream': 0.009825402856016227, 'scope': 0.009440533304823487, 'tribe': 0.009292754259119023, 'keswick': 0.009160379501076133, '124453': 0.008870283489694685, 'downstream': 0.008635774054338895}\n"
     ]
    },
    {
     "name": "stderr",
     "output_type": "stream",
     "text": []
    },
    {
     "name": "stdout",
     "output_type": "stream",
     "text": [
      "644 exotic animals import {'speci': 0.11217746094814146, 'exot': 0.08361799364351191, 'import': 0.07638137832460598, 'anim': 0.06666666666666665, 'bird': 0.06531096632850393, 'wbca': 0.05000335859423857, 'bred': 0.04672611070814547, 'captiv': 0.04208491580662356, 'list': 0.03181644538917601, 'frog': 0.02453588013731369, 'wildlif': 0.023364910968809438, '15.11': 0.020458416576862856, 'wild': 0.019588440355449363, 'approv': 0.019184805949733028, 'appendix': 0.017220248253128064, 'subpart': 0.014903705717567758, 'koffman': 0.014347575547633615, 'convent': 0.013175693815286327, 'specimen': 0.01206460982719761, 'appendic': 0.01155874091635016, 'day': 0.011380304928796561, 'cite': 0.010678791011835883, 'criteria': 0.010626346823647458, '15.31': 0.010080872743635156, 'conserv': 0.010011545255269469, 'propos': 0.009799353902647235, 'calavera': 0.00954323173362824, 'contest': 0.009379944187094588, 'fish': 0.009344585788125526, 'servic': 0.009104039664679797, 'requir': 0.008642268774449699, 'detriment': 0.008100782753930738, 'trade': 0.007942742679868777, 'goliath': 0.007729585358442557, 'illeg': 0.007419728791492223, 'blank': 0.00733518071196163, 'poultri': 0.006342847340651706, 'pursuant': 0.006222752954038707, 'implement': 0.006201276153309319, '15.32': 0.006182389346441807, 'sustain': 0.006072071061758014, 'flock': 0.0060308471266163075, '60524': 0.006008406594144461, 'habitat': 0.005895921133844354, 'b': 0.005880878301062086, 'parrot': 0.005697616024120975, 'wyom': 0.005619262094265571, 'includ': 0.005456143510490161, 'smuggl': 0.005441922698146215, '15.33': 0.0053960238383273405, 'export': 0.005244012238331723}\n"
     ]
    },
    {
     "name": "stderr",
     "output_type": "stream",
     "text": []
    },
    {
     "name": "stdout",
     "output_type": "stream",
     "text": [
      "645 software piracy {'softwar': 0.24979712435746648, 'piraci': 0.09999999999999998, 'pirat': 0.04194429428477255, 'copi': 0.04005680514279692, 'bsa': 0.0340010021949021, 'counterfeit': 0.022224556826906737, 'keho': 0.021729424262309092, 'louis': 0.019432900631813344, 'illeg': 0.019287931851164914, 'atari': 0.01870497291490007, 'allianc': 0.015886279282950565, 'tatung': 0.01568428177287228, 'holleyman': 0.014473513334725375, 'comput': 0.01429997708032528, 'nutricia': 0.01424087460911247, 'francisco': 0.013723442028555563, 'bulletin': 0.013647882731243491, 'kong': 0.012757856897033376, 'hong': 0.012626516760449083, 'lotu': 0.012599757999380696, '12bn': 0.011979307155171518, 'raid': 0.011895589066880156, 'person': 0.011887966160741587, 'egsdrabkft': 0.011589533839014204, 'theft': 0.01147727137659762, 'court': 0.010882402728011283, 'fake': 0.01031096458782596, 'sentenc': 0.0101975508594064, 'germani': 0.010057095003145562, 'cost': 0.009815437983625523, 'bloor': 0.009683911475886466, '14bn': 0.009650280899660454, 'galenco': 0.009594209729476558, 'microsoft': 0.009427401894481293, 'san': 0.009260171631889885, 'ed0dlahpft': 0.008948194316970718, 'cow': 0.008892905305235248, '921203': 0.0088876290584548, 'clcb9aa6ft': 0.008879415601457559, 'legitim': 0.008773539691144222, 'busi': 0.008648786089105048, 'uk': 0.008622541675937784, 'revenu': 0.008582708247899673, 'asia': 0.008414081084365886, 'program': 0.00839758345542566, 'eckstrom': 0.008390577677147742, 'gate': 0.008330568096387797, 'distribut': 0.008078835148067112, 'manila': 0.007912805697179568, 'jail': 0.00790867996381858, 'spreadsheet': 0.007502659535907844}\n"
     ]
    },
    {
     "name": "stderr",
     "output_type": "stream",
     "text": []
    },
    {
     "name": "stdout",
     "output_type": "stream",
     "text": [
      "646 food stamps increase {'stamp': 0.06666666666666665, 'increas': 0.06666666666666665, 'food': 0.06666666666666665, 'nativ': 0.029036595245310416, 'pass': 0.028926495758128185, 'disabl': 0.02707195392734539, 'provis': 0.026325340781824438, 'fdpir': 0.024217031760391163, 'tribal': 0.024006561607034516, 'elig': 0.02359224331292008, 'blind': 0.023555722256786232, '273.9': 0.02210434953711537, '271.2': 0.021540187367032934, 'resid': 0.021435998340770708, 'cfr': 0.021063405517723663, 'definit': 0.02023503752248249, 'live': 0.02011063728282619, 'exclus': 0.019271204321433127, 'farm': 0.01824806415029667, '7': 0.01714062092932485, 'exclud': 0.01701048887447133, 'indian': 0.01680313831561961, 'senat': 0.01670924056521734, 'american': 0.016518115262109136, 'arrang': 0.015077126027453243, 'group': 0.014769991030795057, 'ebt': 0.014441110300659896, 'amend': 0.01411885362976692, 'incom': 0.013830224629219335, '253.2': 0.013791899104364706, 'blank': 0.013752313187657345, 'rule': 0.01362320337341441, '272': 0.013597851154351085, 'welfar': 0.013415379654111687, 'reserv': 0.013321542461236582, 'ssi': 0.012835527593160182, '903': 0.012670469719144817, 'fulfil': 0.012302323241521753, '273': 0.011902668007268281, 'comment': 0.01155443289003919, '271': 0.01144520707250525, 'ssa': 0.011348928299204121, 'fr940208': 0.010582074785437805, 'orang': 0.010500942310108112, 'fact': 0.010348086624530786, 'near': 0.010133304199227769, 'fdpiho': 0.009686812704156465, 'home': 0.009528220330433414, 'she': 0.009490752366158072, 'ito': 0.009429888839289906, 'medrano': 0.00927259176684577, 'defin': 0.009167717709405469, 'tribe': 0.00913812435236877}\n"
     ]
    },
    {
     "name": "stderr",
     "output_type": "stream",
     "text": []
    },
    {
     "name": "stdout",
     "output_type": "stream",
     "text": [
      "647 windmill electricity {'electr': 0.11150650549314306, 'wind': 0.10149318649332523, 'windmil': 0.09999999999999998, 'mw': 0.03923897242413459, 'power': 0.03850367349230355, 'energi': 0.037110256061149934, 'instal': 0.03345585940445327, 'fmrt': 0.027796512950152952, 'plant': 0.026625998280124033, 'kilowatt': 0.02281245203147692, 'megawatt': 0.022196189583790934, 'technolog': 0.020308676765549274, 'capac': 0.018885314948043404, 'mersei': 0.018383364117627584, '94ws0133b': 0.017506310287376415, 'pg': 0.015918078983516576, 'ingenieur': 0.015841833899658677, 'barrag': 0.01510758952487579, 'pfennig': 0.013738835140886502, 'percnt': 0.01314575531121355, 'silverstein': 0.012823054490502379, 'german': 0.01230385964978556, 'suppli': 0.011861846476094274, 'emiss': 0.011291589341592726, 'germani': 0.011072183454989497, 'per': 0.01089026540416425, 'project': 0.010859520000013981, 'promot': 0.010316254574126481, 'liverpool': 0.010109253056553661, 'geotherm': 0.009940566600474194, 'cent': 0.009787374135371401, '2,300': 0.009722247654587624, 'cost': 0.00972022121744089, 'sourc': 0.009466348366234514, 'third': 0.00922097872011687, 'keuper': 0.009208268421681237, 'renew': 0.009036674816392672, 'smep': 0.008753155143688207, 'technic': 0.008747294040137412, 'gearless': 0.008544675698735201, 'solar': 0.008405184883976692, 'inf': 0.008275175187121056, 'berlin': 0.008269475389637718, 'fossil': 0.008138241199952004, 'gener': 0.008128616022644327, 'program': 0.00810718508274505, 'kwh': 0.007765717064805342, 'amp': 0.007553651161174489, 'erz': 0.0074668985607236164, 'thermi': 0.00745469043071388, 'util': 0.007184168561020367}\n"
     ]
    },
    {
     "name": "stderr",
     "output_type": "stream",
     "text": []
    },
    {
     "name": "stdout",
     "output_type": "stream",
     "text": [
      "648 family leave law {'leav': 0.09792615697295698, 'famili': 0.06666666666666665, 'law': 0.06666666666666665, 'bush': 0.04284062240753379, 'veto': 0.041904359456076, 'care': 0.04134932615561572, 'sick': 0.034212593461929876, 'employe': 0.03334388388385195, 'child': 0.030352273922824732, 'unpaid': 0.028576522062326068, 'wrightsman': 0.027454953737393536, 'busi': 0.019985906619464755, \"o'shaughnessi\": 0.017621039659690887, 'republican': 0.017474325956119228, 'feder': 0.017307628090624444, 'women': 0.016639590608782177, 'legisl': 0.016431111711774356, 'abort': 0.01628718776913119, 'health': 0.016113366509298743, 'small': 0.01545305596527239, 'opm': 0.015241038333122056, 'particip': 0.01479349651160232, \"o'connel\": 0.014506722085012564, 'senat': 0.014459312789713245, 'ill': 0.014374859023632686, 'parent': 0.013722078295031108, 'hatch': 0.01353335608197307, 'worker': 0.012774948950731002, 'ye': 0.01247808637588735, 'drug': 0.012182184294594105, 'sponsor': 0.01188071103804672, 'vote': 0.011491310253444765, 'overrid': 0.010487956772870892, 'bill': 0.010404128859180862, 'support': 0.010276029516723892, 'roukema': 0.009961555312080216, 'quayl': 0.00969881281515389, 'polic': 0.009677652623342033, 'hart': 0.008948731722593773, 'medic': 0.008603996586132675, 'fund': 0.008528582673429496, 'rep': 0.00833001913908535, 'dodd': 0.008236894000258578, 'proposit': 0.00820363180233096, 'corpor': 0.008163343989773883, 'lichtman': 0.008156110974248485, 'presid': 0.00811704408342323, 'q': 0.007990375631702877, 'fmla': 0.007723992482269385, 'marg': 0.007607748046997609, 'educ': 0.007448284574063583, 'promis': 0.007389766077547849}\n"
     ]
    },
    {
     "name": "stderr",
     "output_type": "stream",
     "text": []
    },
    {
     "name": "stdout",
     "output_type": "stream",
     "text": [
      "649 computer viruses {'viru': 0.12464551786201167, 'virus': 0.11587024239066378, 'comput': 0.09999999999999998, 'softwar': 0.054474501351671534, 'disk': 0.051922255690144886, 'infect': 0.04699842890220121, 'user': 0.04230405654628955, 'datacrim': 0.032265971509772555, 'michelangelo': 0.031226719341254823, 'pc': 0.025738523625042937, 'password': 0.022845203333353454, 'ibm': 0.021356541781994753, 'program': 0.018302811964506248, 'copi': 0.014580442080918375, 'polymorph': 0.014541718235824203, 'machin': 0.013229680613080184, 'detect': 0.012775975998531747, 'floppi': 0.01175265208561831, 'check': 0.01076638292837484, 'polygram': 0.00948210904636331, '13th': 0.009408043126465884, 'person': 0.009307423395368527, 'disc': 0.009191055743767516, 'ssb': 0.008715744390740205, 'piraci': 0.008414838585130332, 'lan': 0.00815879433704058, 'talski': 0.008121421874628247, 'destruct': 0.008112352601868045, 'bug': 0.007998161959082603, 'scan': 0.0076754863021481715, 'sai': 0.007531234632864999, 'higgin': 0.007461620207582731, 'netwar': 0.007331423242845071, 'screen': 0.007182312116291287, 'brand': 0.007171691065997707, 'disknet': 0.007093249626123259, 'satan': 0.007078629263788214, 'schwartau': 0.0070242870773487, 'counterfeit': 0.007014770090358362, 'mcafe': 0.006965130769858348, 'stang': 0.00641985283506283, 'livermor': 0.006373244774558293, 'spreadsheet': 0.006366161589988879, 'supplier': 0.006217077898540011, 'compani': 0.006159185224194248, 'spread': 0.006144067351047158, 'bureau': 0.006132621133469503, 'compat': 0.006108268487442028, 'wordperfect': 0.006039712050234429, 'sourc': 0.006007471960054024, 'anti': 0.005994930998491724}\n"
     ]
    },
    {
     "name": "stderr",
     "output_type": "stream",
     "text": []
    },
    {
     "name": "stdout",
     "output_type": "stream",
     "text": [
      "650 tax evasion indicted {'hunter': 0.10535604075146195, 'tax': 0.07871712220677103, 'indict': 0.06666666666666665, 'evas': 0.06666666666666665, 'gilliam': 0.06305945126232651, 'dominelli': 0.03739450246862582, 'ponzi': 0.026821068442947228, 'fraud': 0.025421166393950978, 'juror': 0.02411880656249038, 'j': 0.023912702369443494, 'trial': 0.023624162731286518, 'hoover': 0.019645808829613514, 'her': 0.018754049234893884, 'david': 0.018692248589809224, 'diego': 0.01831888596658941, '197': 0.01431041609486767, 'she': 0.014198313513063724, 'count': 0.013999024153457579, 'nanci': 0.01356315373331688, 'deliber': 0.013424513069991054, 'investor': 0.013319038114429608, '192': 0.013274217442095088, 'hedgecock': 0.013109086050123479, 'sentenc': 0.012887908975957344, 'jail': 0.012521019926519836, 'scheme': 0.0122807160936302, 'verdict': 0.011926834822137225, 'earl': 0.011446285819037881, 'b': 0.01113649031138541, 'san': 0.011045731764405958, 'massachusett': 0.010908531980032443, 'hugo': 0.01058463924509309, '1984': 0.010357596712722333, 'anderson': 0.010231361327905943, 'bakken': 0.009938319761001194, 'judg': 0.009813396829490357, 'jolla': 0.009797748020942881, 'firm': 0.009627171916381213, 'regan': 0.008788220777028137, 'jerri': 0.008524200904783917, 'illeg': 0.008429705233917595, 'guilti': 0.008418587695579577, 'role': 0.008134487753311886, 'princeton': 0.008121587335015277, '80': 0.007804423663538939, 'panel': 0.007802796702831976, 'co': 0.007597333775189486, '6192': 0.007287251474701332, 'pyramid': 0.007106538289277109, 'four': 0.0071001081436968295, 'cardin': 0.007035843150041861, 'stem': 0.00697805027955449}\n"
     ]
    },
    {
     "name": "stderr",
     "output_type": "stream",
     "text": []
    },
    {
     "name": "stdout",
     "output_type": "stream",
     "text": [
      "651 U.S. ethnic population {'latino': 0.07145122898967167, 'school': 0.06734758635570863, 'popul': 0.06666666666666665, 'u.': 0.06666666666666665, 'ethnic': 0.06666666666666665, 'hispan': 0.05395441240079766, 'district': 0.03925405977212159, 'student': 0.03572127618225359, 'orang': 0.03404698640493472, 'counti': 0.028655968520933814, 'cocodrilo': 0.023926174527547785, 'black': 0.02051125491914611, 'elementari': 0.017689720109374484, 'madrig': 0.01613282828373348, 'white': 0.015094743011405863, 'mostli': 0.014202884567912242, 'enrol': 0.014012775211797196, 'howelman': 0.013627154821908348, 'compton': 0.013323695689126575, '241832': 0.013215418054532042, 'asian': 0.012720659147197697, 'interraci': 0.012308615345687099, 'newspap': 0.011654631637425488, 'cerrito': 0.011345711818374613, 'chart': 0.011337272037530396, 'chavez': 0.01114744021434964, 'oak': 0.010870654162762075, 'bilingu': 0.010316537311589862, 'racial': 0.010313996725880648, 'parent': 0.010310368571873448, 'kid': 0.010268231542601524, 'huntington': 0.010166019737897818, 'dundon': 0.010111964581069421, 'color': 0.009792334020294917, 'anglo': 0.009733549289870011, 'grove': 0.00954357202698402, 'unifi': 0.009419192951375863, 'demograph': 0.009353344280635239, 'non': 0.008573098779836249, 'korean': 0.008441091702359576, 'drink': 0.008153871527332372, 'teacher': 0.008120093261580303, 'marshal': 0.008064751134978444, 'affirm': 0.008019383507487099, 'voter': 0.007956607037904182, 'segreg': 0.007704349182274831, 'you': 0.00769888404904759, 'garden': 0.007675676228373937, 'counselor': 0.007617545635534209, '1980': 0.0075200546149414215, 'newswatch': 0.007362027371377713, 'park': 0.007173895002535461, 'chang': 0.0070364077381311445}\n"
     ]
    },
    {
     "name": "stderr",
     "output_type": "stream",
     "text": []
    },
    {
     "name": "stdout",
     "output_type": "stream",
     "text": [
      "652 OIC Balkans 1990s {'bosnia': 0.08314222793115905, 'balkan': 0.07949998965022308, 'oic': 0.06666666666666665, '1990': 0.06666666666666665, 'herzegovina': 0.04528966569408185, 'velayati': 0.038115098368416436, 'un': 0.02922894593304351, 'sarajevo': 0.02372041115883127, 'bosnian': 0.021947120220788326, 'abdullah': 0.021522088815836827, 'serb': 0.020734323653183503, 'antara': 0.02069192086867512, 'malaysia': 0.020128578241891893, 'bernama': 0.019755434741174145, 'brunei': 0.019099647975671156, 'yugoslavia': 0.017876449191148253, 'nam': 0.016790412700625302, 'iran': 0.015928998698843448, 'jakarta': 0.015835901203769095, 'bulgarian': 0.015125206790267298, 'bk0802095894': 0.015081019787939007, 'iranian': 0.01488342018805407, 'serbia': 0.013979375631672756, 'ld0102073294': 0.013129475528291149, 'humanitarian': 0.013044319101368934, 'sofia': 0.012331379222754318, 'minist': 0.012112648795163163, 'izetbegov': 0.011568582445858277, 'unprofor': 0.011264617840016335, 'moslem': 0.01118613792860356, 'communiqu': 0.011173217690025543, 'intern': 0.011078647182078356, 'resolut': 0.010709215453743377, 'croatian': 0.010566960572286663, 'cleans': 0.01048394580905716, 'au3101114094': 0.010376938832909379, 'bk2804132994': 0.010252197041955315, 'militari': 0.010202362347668081, 'feb': 0.010164822566641994, 'conflict': 0.009929545334602698, 'aggress': 0.009725772218330334, 'serbian': 0.009519985119263538, 'condemn': 0.009310921424230354, 'embargo': 0.009297110940269812, 'lumpur': 0.00929571477255031, 'kuala': 0.009284412892367238, 'confer': 0.009221369896602091, 'hercegovina': 0.009008353356676376, 'ld0602124794': 0.008913798603969415, 'arm': 0.00850137913914688, 'former': 0.008359986315696212, 'ld2302080094': 0.008276610849244182}\n"
     ]
    },
    {
     "name": "stderr",
     "output_type": "stream",
     "text": []
    },
    {
     "name": "stdout",
     "output_type": "stream",
     "text": [
      "653 ETA Basque terrorism {'terror': 0.06666666666666665, 'eta': 0.06666666666666665, 'basqu': 0.06666666666666665, 'bomb': 0.03338784618961761, 'video': 0.031244289976087372, 'min': 0.03037537502827506, '11111111': 0.02719358116077469, 'footag': 0.02650738472786431, 'mad': 0.026200537382106544, 'urutigoechea': 0.023401990285996016, 'mar': 0.021883761679864736, 'br2802140494': 0.021148254657008814, '94': 0.01898036846178562, 'moreno': 0.0185768903134167, 'belgian': 0.01843773175560062, 'tape': 0.01683861729415574, 'par': 0.01652357581884632, 'feb': 0.016292691332989374, 'raquel': 0.016055293036480657, 'asylum': 0.015886019361713237, '8660': 0.015470061228500701, 'bijgaarden': 0.01542136177703615, 'joh': 0.015375268250887482, 'standaard': 0.015232459425842471, 'alg': 0.01520996980797125, 'virginia': 0.014615749227156208, '5115': 0.014569491020412646, 'catalan': 0.01454195237427247, 'nationalist': 0.014527020897636073, 'groot': 0.014522532193057642, 'assassin': 0.014178499253653923, 'garcia': 0.014131355122018666, 'threat': 0.013684035275926676, '800': 0.013254145606384611, 'select': 0.01313256944193409, 'hav': 0.012762682110696675, 'bog': 0.01242727976834312, 'pujol': 0.012396913362673793, 'mo': 0.012232426899839185, '001': 0.011934612614576642, '822': 0.011896412337144868, 'prefac': 0.01170941268716694, '542': 0.011595993781081275, 'ramajo': 0.011555067103577003, 'catalonia': 0.01127445756650796, 'report': 0.010976281191943991, 'solchaga': 0.01091670916798424, 'secret': 0.010773785650810474, 'tripoli': 0.010536242149138604, 'ireland': 0.010125120408527217, 'alphabet': 0.01008428450989331, 'tv': 0.010032967774393074, 'spain': 0.009968671550427353}\n"
     ]
    },
    {
     "name": "stderr",
     "output_type": "stream",
     "text": []
    },
    {
     "name": "stdout",
     "output_type": "stream",
     "text": [
      "654 same-sex schools {'school': 0.180988270369406, 'same': 0.06666666666666665, 'sex': 0.06666666666666665, 'pupil': 0.040228956984197616, 'girl': 0.034712273736803786, 'grammar': 0.02777320498102891, 'tabl': 0.026168429828325124, 'gcse': 0.025481714849313775, 'top': 0.021835796636777444, 'grade': 0.020763915742334493, 'singl': 0.020211343881616328, 'independ': 0.02013283363268889, 'level': 0.017380670003082983, 'leagu': 0.016603630098770077, 'exam': 0.016015643281812462, 'rank': 0.01536504221047652, 'sixth': 0.015058546010189392, 'clanchi': 0.014773375778390108, 'boi': 0.014595164751719, 'ed': 0.014585884429832186, 'co': 0.014283971662166132, 'colleg': 0.014270011359647087, 'westlak': 0.014130395598712485, 'result': 0.013511822040200992, 'survei': 0.012650663575650764, 'headmast': 0.012280828147964273, 'board': 0.011381778741301966, 'sector': 0.011245185633601024, 'educ': 0.011072374097154282, 'bing': 0.010928649842773594, 'academ': 0.010748061425554643, 'per': 0.010654435270168171, 'roedean': 0.010345945515604887, 'adoni': 0.010105948618919688, 'averag': 0.01004321271687425, 'collegi': 0.009982559392835159, 'wycomb': 0.009974464805139326, 'perform': 0.009561251187268565, 'score': 0.00944165561155197, 'malvern': 0.009128470360686257, 'sall': 0.009073939270103991, 'achiev': 0.008974691403600703, 'harvard': 0.00890874777378578, 'coeduc': 0.008639794971010006, 'cent': 0.008406501280047636, 'fee': 0.008372103329815887, 'comprehens': 0.00830141752261361, 'ucca': 0.008092466365813828, 'headmistress': 0.007852379142726717, 'ampleforth': 0.007305658866882021, 'north': 0.007161294968816927, 'mix': 0.00716128896090877}\n"
     ]
    },
    {
     "name": "stderr",
     "output_type": "stream",
     "text": []
    },
    {
     "name": "stdout",
     "output_type": "stream",
     "text": [
      "655 ADD diagnosis treatment {'treatment': 0.06666666666666665, 'diagnosi': 0.06666666666666665, 'add': 0.06666666666666665}\n"
     ]
    },
    {
     "name": "stderr",
     "output_type": "stream",
     "text": []
    },
    {
     "name": "stdout",
     "output_type": "stream",
     "text": [
      "656 lead poisoning children {'lead': 0.10066160382422538, 'programs_h': 0.1003282798211933, 'poison': 0.06666666666666665, 'children': 0.06666666666666665, 'recordkeep': 0.04256395176669791, 'grant': 0.03931354877893573, 'cfr': 0.03207024004508853, 'hyph': 0.02839780406718558, 'commun': 0.026455914758249672, 'paint': 0.02595353479990878, '24': 0.02203685022622227, 'develop': 0.021272749688453288, 'hous': 0.02042545055837762, 'moder': 0.015930432063443047, 'hazard': 0.015325775511185453, 'nofa': 0.015292960846231685, 'subsidi': 0.014979900628298348, 'rent': 0.014652827175698387, 'requir': 0.013049774021807412, 'loan': 0.011955728744364805, 'applic': 0.011915880498905788, 'clown': 0.011825374023616176, 'programs_indian': 0.01157973390243085, 'part': 0.01144537596500989, 'copper': 0.011441295085197404, 'test': 0.011235944822807898, 'incom': 0.011125061463236196, 'blank': 0.01107186190745512, 'doll': 0.01104308056569169, 'recal': 0.010552782564556079, 'slinki': 0.010206750648553696, 'disabl': 0.009912175987418633, 'health': 0.009709419241277974, 'duraspan': 0.009653673377583119, 'deadlin': 0.009605587105724095, 'abat': 0.00955605930547467, 'toi': 0.009213835787674847, 'low': 0.009139973196707668, 'submiss': 0.008709199440054423, 'solder': 0.008700277776903602, 'program': 0.008644092301703056, 'miscarriag': 0.008643161211137533, 'occup': 0.008417349881207703, 'feder': 0.00834628362733039, 'gannett': 0.008314284910985353, 'jurisdict': 0.008308790393344607, \"o'hommel\": 0.00827457718078553, 'homeless': 0.00825850714418353, 'epa': 0.008210758501649817, 'programs_soci': 0.007807787332718944, 'fund': 0.0076580126240453385, 'assess': 0.007472391565727814}\n"
     ]
    },
    {
     "name": "stderr",
     "output_type": "stream",
     "text": []
    },
    {
     "name": "stdout",
     "output_type": "stream",
     "text": [
      "657 school prayer banned {'school': 0.08188877774774313, 'ban': 0.06666666666666665, 'prayer': 0.06666666666666665, 'gingrich': 0.062490860488188006, 'korenstein': 0.041879867871039075, 'lear': 0.033974698502993034, 'tyurenkov': 0.03199133405511825, 'governor': 0.030159579496064754, 'republican': 0.026659323619663118, 'talcott': 0.026360754331164044, 'pepperdin': 0.0260880522441306, 'whitman': 0.02238313255394248, 'soviet': 0.02216363295709327, 'church': 0.019259617956149538, 'nui': 0.018744961300483778, 'sheldon': 0.018567310152356353, 'coalit': 0.01719537060312991, 'campu': 0.015666141935236844, 'gai': 0.015416007299068175, 'teach': 0.014483787008431608, 'romei': 0.014014854118023999, 'congress': 0.013426884670979642, 'baptist': 0.013292509323060484, 'speaker': 0.01265834200570684, 'newt': 0.012461477525275216, 'homosexu': 0.012116385042792917, 'van': 0.011948413608896416, 'malibu': 0.011860978845050309, 'elect': 0.011820302947347266, 'grover': 0.01165160764777348, 'jone': 0.011095957842012304, 'mr': 0.011025428933650884, 'clinton': 0.010897132074888585, 'anaheim': 0.010706592941231167, 'oppos': 0.010540634116070872, 'retic': 0.010215245521499132, 'spoken': 0.010076563386593802, 'thompson': 0.010043621612733249, 'spiritu': 0.009939411699926298, 'dart': 0.00975634199657505, 'caldwel': 0.009729693824718631, 'kolvenbach': 0.009585051501679572, '139641': 0.009585051501679572, 'vallei': 0.009560368816189782, 'wilson': 0.009545535469659952, 'congressman': 0.009409497564050044, 'christian': 0.0093699156257587, 'methodist': 0.009224311621544336, 'amend': 0.00915443951270462, 'american': 0.008961483053941274, 'hous': 0.008824569589906087, 'weld': 0.00879485260275033}\n"
     ]
    },
    {
     "name": "stderr",
     "output_type": "stream",
     "text": []
    },
    {
     "name": "stdout",
     "output_type": "stream",
     "text": [
      "658 teenage pregnancy {'pregnanc': 0.09999999999999998, 'teenag': 0.09999999999999998, 'adolesc': 0.053576498352959, 'servic': 0.029211416996445756, 'applic': 0.027132411343440827, 'sexual': 0.02707933591676326, 'clinic': 0.02698319157810441, 'program': 0.02551766770106689, 'health': 0.02530111289713854, 'care': 0.02408189042218388, 'youth': 0.019376329964763996, 'atod': 0.019041149700498246, 'site': 0.018970852512902488, 'grant': 0.0189202105322315, 'nurs': 0.018785356205578137, 'project': 0.01858497489343762, 'train': 0.01796265505744211, 'famili': 0.017755904290968967, 'practition': 0.016858250335928863, 'chc': 0.016535681770445752, 'plan': 0.016201017388833384, 'pilot': 0.015297749052640303, 'delinqu': 0.015295782785998744, 'provid': 0.015137262891751333, 'fund': 0.014462908322190922, 'grante': 0.014316209923157994, 'commun': 0.013587027174125917, 'bull': 0.013368601591835637, 'x': 0.013334464604846889, 'risk': 0.01316263385416875, 'educ': 0.012542390591284064, 'diseas': 0.012271609147308092, 'demonstr': 0.012032509795517432, 'sex': 0.012005915400095444, 'std': 0.011915868111580345, 'teen': 0.011827728110108952, 'popul': 0.011748611288572325, 'women': 0.011543346966991996, 'condom': 0.010977607282248536, 'titl': 0.01083895251114931, 'referr': 0.010505265034775925, 'hiv': 0.010256520303343, 'prevent': 0.010154837228272345, 'model': 0.010004967896267277, 'should': 0.009745638667425865, 'comprehens': 0.00971137838279921, 'goal': 0.009668182642990887, 'poverti': 0.009510019173006014, 'propos': 0.009393608795096021, 'multi': 0.00924843953024628, 'solomon': 0.00913732713742168, 'outcom': 0.00912072794164906}\n"
     ]
    },
    {
     "name": "stderr",
     "output_type": "stream",
     "text": []
    },
    {
     "name": "stdout",
     "output_type": "stream",
     "text": [
      "659 cruise health safety {'safeti': 0.10456046751504144, 'health': 0.06666666666666665, 'cruis': 0.06666666666666665, 'cdc': 0.041196281381920975, 'qe2': 0.03340287149173728, 'ship': 0.028418967657750663, 'cunard': 0.028405738053089543, 'imo': 0.025191522442084065, 'fee': 0.024545081699046865, 'sanit': 0.023497002359902357, 'vessel': 0.02191836174639747, 'circular': 0.021867632575902032, 'diseas': 0.02113407267133282, 'coastguard': 0.02031697294819214, 'passeng': 0.020135797046845323, 'ow1404010194': 0.019846771518851555, 'boat': 0.01869646617907916, 'refit': 0.01810100476714811, 'outbreak': 0.016950289715519186, 'inspect': 0.016379589731936605, 'boatmen': 0.01589632432073211, 'ro': 0.01563982152559893, 'legionnair': 0.015308865267961047, 'ship_publ': 0.014828669418020591, 'liner': 0.01337015246014929, 'shipown': 0.013345924768561569, 'springtim': 0.013150428350958199, 'ferri': 0.012037758086509809, 'nceh': 0.012035672603502011, 'southampton': 0.011746497651136261, 'prevent': 0.011463203923583059, 'york': 0.011449661853543035, 'standard': 0.01126878333311681, 'certif': 0.011264236518600184, 'bulkhead': 0.0111406617569288, 'hyph': 0.011059730584103259, 'maritim': 0.01076394770844522, 'center': 0.010585098933257667, 'spa': 0.01045324528570861, 'quaysid': 0.010151366929940033, '1995': 0.010063728698939487, '30341': 0.01001941030941245, '3724': 0.009925780382493999, 'drchi072_k_94001': 0.009923385759425777, 'regul': 0.009760696373310049, 'vsp': 0.009760614934572987, '4770': 0.009615321320733713, 'revis': 0.00952328103915099, 'cost': 0.009380475456431453, 'fincantieri': 0.009135588885513957, 'trafalgar': 0.00912862019529535, 'buford': 0.008904820529252575}\n"
     ]
    },
    {
     "name": "stderr",
     "output_type": "stream",
     "text": []
    },
    {
     "name": "stdout",
     "output_type": "stream",
     "text": [
      "660 whale watching California {'california': 0.06666666666666665, 'whale': 0.06666666666666665, 'watch': 0.06666666666666665, 'humphrei': 0.06326667970321974, 'bai': 0.03955832834290376, 'francisco': 0.028461949564996272, 'monterei': 0.028276236140596968, 'talbot': 0.02584263655086116, 'olema': 0.024252995248669616, 'harbor': 0.02359658256259961, 'boat': 0.021976881047685054, 'kayak': 0.020293400534407223, 'mcintosh': 0.019826681219220203, 'catalina': 0.019212858791291004, 'trip': 0.018416401264926205, 'dana': 0.01752086640720923, 'rescu': 0.016892669970305096, 'rey': 0.016796894112834814, 'sportfish': 0.01651077002180659, 'seashor': 0.016449494309789054, 'kinkead': 0.016278547524827023, 'beach': 0.015236620190961525, 'angler': 0.01490190257853425, 'calico': 0.014311410949067136, 'sanctuari': 0.014239062177094261, 'ostr': 0.014191974562848412, 'newport': 0.013589342488784215, 'rescuer': 0.013545800415880011, 'bass': 0.013071373877560372, 'water': 0.012612773950763323, 'swam': 0.012390989889574735, 'point': 0.012260175156761274, 'san': 0.012250453961056403, 'ott': 0.011884972613746944, 'him': 0.011598674165343223, 'cribb': 0.011483328042524388, 'island': 0.011321779842711203, 'marin': 0.011310904261902963, '99783': 0.01087988988603939, 'sculpin': 0.01073295999531327, 'mile': 0.010162080016203941, 'golden': 0.009925329686233143, 'drake': 0.009837340990948686, 'webber': 0.009828242729225778, 'cetacean': 0.0097641523212739, 'baja': 0.009734606012687235, 'gage': 0.009609023961131884, 'spill': 0.00960824383028431, 'bernot': 0.009442222501333034, 'lecki': 0.009373889763456097, 'volunt': 0.009362101169019286, 'orang': 0.00908761887319466, 'sacramento': 0.009019885820392029}\n"
     ]
    },
    {
     "name": "stderr",
     "output_type": "stream",
     "text": []
    },
    {
     "name": "stdout",
     "output_type": "stream",
     "text": [
      "661 melanoma treatment causes {'cancer': 0.09690168761714536, 'melanoma': 0.0812827424777326, 'caus': 0.06666666666666665, 'treatment': 0.06666666666666665, 'skin': 0.047125365193974575, 'recombin': 0.02661544202351278, 'sun': 0.025803591079374296, 'antibodi': 0.02565284849783206, 'proton': 0.024519216565208515, 'drug': 0.024044898780515377, 'dna': 0.023702674490312953, 'gene': 0.02251934147946133, 'tan': 0.019756587275015013, 'sunscreen': 0.019541035493924514, 'rifkin': 0.019078178508119256, 'radiat': 0.01893557297722194, 'radon': 0.01841586332418822, 'exposur': 0.01619920847892611, 'lung': 0.016096181624529353, 'diseas': 0.014298219333476053, 'nih': 0.0142256554437005, 'beam': 0.013947227920498318, 'atla': 0.013619657361726456, 'uva': 0.012597912845680818, 'garland': 0.012486349454224971, 'advisori': 0.011650611968544623, 'experi': 0.011514409266876493, 'jeremi': 0.011156830438369158, 'ultraviolet': 0.01101098933673266, '58133': 0.01096460053599365, 'dr': 0.010927154582829833, 'spf': 0.010893452960521124, 'loma': 0.010692253397761444, 'breast': 0.010673107442722278, 'oncogen': 0.010576959736215528, 'mustard': 0.010382209286956968, 'swerdlow': 0.009665717006150043, 'carrillo': 0.009583127998979816, 'rai': 0.009529343176849704, 'protocol': 0.009482683676556301, 'dermatologist': 0.009263775588354135, 'ovarian': 0.008999505555015216, 'protect': 0.00893262260323841, 'human': 0.008787782588344987, 'center': 0.008419492193102228, 'therapi': 0.008389089281588696, 'risk': 0.008279579074777598, 'smoke': 0.008254119007989611, 'ef9': 0.007888686752756858, 'linda': 0.007888148941542883, 'cookson': 0.007816868149037015, 'trend': 0.007678087872558053}\n"
     ]
    },
    {
     "name": "stderr",
     "output_type": "stream",
     "text": []
    },
    {
     "name": "stdout",
     "output_type": "stream",
     "text": [
      "662 telemarketer protection {'telemarket': 0.1390882604504846, 'protect': 0.09999999999999998, 'fraud': 0.05467527110212811, 'boiler': 0.04925176016109782, 'scam': 0.028319378230336978, 'california': 0.026569677830480004, 'mci': 0.023965948212632954, 'custom': 0.023380261957837132, 'leviticu': 0.022536739145777085, 'metal': 0.02156747980109413, 'room': 0.020561697733059325, 'preciou': 0.019717390730734512, 'fax': 0.019695714972756333, 'mcdonald': 0.019240669980981284, 'sentenc': 0.019105745596213766, 'newport': 0.018609382725552553, 'mastercard': 0.018536895520622498, 'parmenti': 0.01724439996391673, 'switch': 0.016122995852510456, 'distanc': 0.01480023930379968, 'anonym': 0.014554192616227632, 'bilk': 0.014056174944223314, 'theft': 0.013868865746173404, 'telephon': 0.013581393151379295, 'filippo': 0.013553180929289466, 'visa': 0.013547801312485369, 'arrest': 0.013137225492603516, 'beach': 0.013128697822517806, 'victim': 0.012992719924203387, 'con': 0.011743975919152876, 'dickei': 0.011018351898064235, 'unsolicit': 0.01097188673124012, 'defend': 0.010739525472773794, 'feder': 0.010205034544600217, 'suit': 0.010084156600212914, 'southern': 0.009855483186606498, 'invest': 0.009764736568124405, 'defraud': 0.009625787789617512, 'unauthor': 0.009127458968270094, 'aron': 0.009123151643160896, 'sklanski': 0.008972926364674774, 'carrier': 0.00886552772742941, 'katz': 0.008839065628692775, 'motorcycl': 0.008719170059308284, 'secur': 0.008420466247061378, 'convict': 0.008154783715473726, 'plead': 0.008125611260592776, 'state': 0.008120244671447887, 'fraudul': 0.008112347038092174, 'task': 0.008005970933638864, '251362': 0.007994175820644971}\n"
     ]
    },
    {
     "name": "stderr",
     "output_type": "stream",
     "text": []
    },
    {
     "name": "stdout",
     "output_type": "stream",
     "text": [
      "663 Agent Orange exposure {'exposur': 0.09531992476741058, 'orang': 0.09249580206154301, 'agent': 0.0855548101333104, 'veteran': 0.049762925063886465, 'rule': 0.033708751477285984, 'cdc': 0.03344990775306725, '83813': 0.03163482277970937, 'revamp': 0.03042450836775991, 'disabl': 0.029100955189864844, 'derwinski': 0.025558484686014123, 'studi': 0.022704771011081745, 'defoli': 0.020494920948475066, 'vietnam': 0.019246196282195347, 'diseas': 0.018321784668050827, '34,000': 0.018103258085299747, 'reagan': 0.017998385618460015, 'wire': 0.017414725758221783, 'vet': 0.016420793997906385, 'herbicid': 0.01577480985283594, '259874': 0.015141259857879164, 'feder': 0.01360224493097417, 'final': 0.013496016644355124, '124': 0.013445141191401758, 'bow': 0.013012467748248808, 'obstruct': 0.01256899799640138, 'hous': 0.012516828962357071, 'threw': 0.012187113289313947, 'benefit': 0.01202250502691143, 'ronald': 0.0112466218773007, 'conclud': 0.011130333345920309, 'edward': 0.011047607615912822, 'health': 0.011022933795751082, 'white': 0.010771258205974856, 'deadlin': 0.010539784650120199, 'affair': 0.010305160967089765, 'depart': 0.01016666460419214, 'cancel': 0.010017385080674141, 'francisco': 0.009873693693598001, 'panel': 0.009865780925653357, 'control': 0.009031928741584363, 'liabil': 0.008886748862238555, 'comment': 0.008785136334760992, 'committe': 0.00864053508097346, 'washington': 0.008497493590114284, 'statist': 0.00837146219300462, 'aug': 0.008288081367437911, 'legion': 0.008048635036326057, 'j': 0.008029268691418867, '248': 0.008003963996253692, 'doubt': 0.007946407193478265}\n"
     ]
    },
    {
     "name": "stderr",
     "output_type": "stream",
     "text": []
    },
    {
     "name": "stdout",
     "output_type": "stream",
     "text": [
      "664 American Indian Museum {'museum': 0.11113865789303229, 'smithsonian': 0.07835009745221765, 'american': 0.06666666666666665, 'indian': 0.06666666666666665, 'program': 0.048467167856566074, 'posit': 0.042747138837866065, '251152': 0.02816891982943975, 'layoff': 0.027526513455468943, 'director': 0.02633376771414165, 'hirshhorn': 0.023476863442662463, 'suitland': 0.023089100151692202, 'adam': 0.02109307670402061, 'assist': 0.021056654418466617, 'expans': 0.020179409096802586, 'gs': 0.01940057081507682, 'mcc': 0.01707571434846869, 'on': 0.016649042940013233, 'space': 0.014689864789382745, 'art': 0.014256719992698137, 'institut': 0.012560595713806723, 'dull': 0.012342705800207977, 'exce': 0.012147987071658338, 'blank': 0.011918154498837708, 'sculptur': 0.011915691726342305, 'md': 0.010801631072428099, 'abolish': 0.010732989972316264, 'endang': 0.010657223656787361, '96': 0.010560310941017398, 'brief': 0.010415394379010389, 'badli': 0.0098749826121689, 'nation': 0.009629836391719994, 'd.c': 0.009572375549018358, 'cut': 0.00947522622210905, 'print': 0.009417619352934926, 'storag': 0.009319412193658087, 'cancel': 0.009318211294395569, 'garden': 0.008880517299109566, 'annex': 0.00882050619320442, 'administr': 0.008808679167419805, 'staff': 0.008639820102709675, 'creation': 0.008513701307374026, 'proce': 0.008501279523014707, 'theater': 0.008385624096623238, 'airport': 0.008237239930638525, 'deep': 0.00813966162131999, 'virtual': 0.008078714523747572, 'grade': 0.008051513741149636, '213.3175': 0.007849956194784324, '213.3152': 0.007849956194784324, '213.3156': 0.007849956194784324, '213.3174': 0.007849956194784324, '213.3182': 0.007849956194784324}\n"
     ]
    },
    {
     "name": "stderr",
     "output_type": "stream",
     "text": []
    },
    {
     "name": "stdout",
     "output_type": "stream",
     "text": [
      "665 poverty Africa sub-Sahara {'ghana': 0.06513007830989047, 'poverti': 0.04999999999999999, 'sahara': 0.04999999999999999, 'africa': 0.04999999999999999, 'sub': 0.04999999999999999, 'lesotho': 0.03515465077531023, 'botchwei': 0.024308422093498833, 'mozambiqu': 0.022898636964861892, 'african': 0.022355473353916536, 'renamo': 0.022211589485190097, 'mokhehl': 0.021417898314275905, 'per': 0.020328315989544824, 'capita': 0.020157664674288794, 'mandela': 0.019836394679038305, 'growth': 0.019582585960447055, 'apartheid': 0.019509232349067623, 'conabl': 0.01926004681034774, 'mb1202090494': 0.01919738970508082, 'poor': 0.018539294784388118, 'mother': 0.01822809423631101, 'aid': 0.017915283446921035, 'black': 0.017302759600523136, 'jazairi': 0.016598744714261024, 'incom': 0.015362577039010639, 'defcsabaft': 0.014776496174775748, 'ntsu': 0.01444410898130617, 'cent': 0.01413536491715216, 'geneva': 0.013983364338396032, 'gdp': 0.013939521329856878, 'botswana': 0.013474123203282576, 'women': 0.013452544995313549, 'pope': 0.012999900268912429, '4234': 0.01297267223783871, 'rural': 0.012913621123638409, 'maseru': 0.01288850979876826, 'rawl': 0.012610372356073438, 'plessi': 0.012285471427979085, 'popul': 0.012279220033236012, 'foreign': 0.011422802875649991, 'economi': 0.011377222316983154, 'live': 0.010999787740698399, 'zimbabw': 0.010665883833669856, 'presid': 0.010582227961707762, 'decad': 0.010573267671070532, 'barber': 0.009929938125995973, 'drafr031_d_94006': 0.00959869485254041, 'rich': 0.009551954133883267, 'esap': 0.00930595556394967, 'ifad': 0.009104680625676993, 'debt': 0.008928894554136108, 'quett': 0.008894177341229817, 'kats': 0.008894177341229817, 'stal': 0.008867972112782688, 'loaf': 0.008851938476091897}\n"
     ]
    },
    {
     "name": "stderr",
     "output_type": "stream",
     "text": []
    },
    {
     "name": "stdout",
     "output_type": "stream",
     "text": [
      "666 Thatcher resignation impact {'impact': 0.06666666666666665, 'thatcher': 0.06666666666666665, 'resign': 0.06666666666666665, 'visa': 0.04640046485834168, 'bush': 0.038750675935447065, 'american': 0.03861918769585102, 'anglo': 0.0368590300944532, 'reynold': 0.02930721207435666, 'reagan': 0.02444471600267296, 'british': 0.023958203657709294, 'adam': 0.02369858527456363, 'stothard': 0.02205582266448356, 'pm1102141494': 0.02198545776935805, 'mr': 0.02182326886021027, 'protest': 0.020464564173715782, 'grant': 0.01671145927421022, 'britain': 0.016460328491940648, 'admir': 0.015702545271527237, 'relationship': 0.014938542382799513, 'ambassador': 0.014691877339051963, 'republican': 0.014156715941839596, 'thanksgiv': 0.01358764856172416, 'ronald': 0.013546489072921986, '312054': 0.013231935814712874, 'editori': 0.013159542133767063, 'whine': 0.013025737071320112, 'gulf': 0.012964367632965924, 'connot': 0.0127682963516106, 'flamboy': 0.012650101144020154, 'flier': 0.012615452785840798, 'someth': 0.012334848852777419, 'relat': 0.012291873049615923, 'georg': 0.012151095533675249, 'suez': 0.012065227486238577, 'irish': 0.011986296622656075, 'ditch': 0.011645955892140283, 'reckon': 0.011092300412967855, 'drweu032__a94015': 0.010992728884679025, 'deterior': 0.010991458787507381, 'gerri': 0.010526863550917103, 'persian': 0.010476184854360037, 'presid': 0.010411417563506107, 'without': 0.009785984015403657, 'carpet': 0.009769070691452221, 'ira': 0.0096058143585873, 'desert': 0.009566293091613977, 'symptom': 0.009550856607234455, 'anti': 0.009544055896855844, 'dublin': 0.009393111732323047, 'lion': 0.009393111732323047, 'tarzan': 0.009362560321499276, 'alli': 0.009251519489389936, 'sheepishli': 0.009233142240860411}\n"
     ]
    },
    {
     "name": "stderr",
     "output_type": "stream",
     "text": []
    },
    {
     "name": "stdout",
     "output_type": "stream",
     "text": [
      "667 unmarried-partner households {'unmarri': 0.10705741858637444, 'partner': 0.08529137764544828, 'gai': 0.06728255325037268, 'household': 0.06666666666666665, 'homosexu': 0.041076542089782925, 'lesbian': 0.036824517763118916, 'student': 0.02568308744914685, 'censu': 0.024191797432382617, 'coupl': 0.024144295609538624, 'famili': 0.020892316429175897, 'univers': 0.020666496415798586, 'stanford': 0.01996429913444911, 'citi': 0.01862786287736763, 'heterosexu': 0.018507842024050283, 'marri': 0.016878136465781533, 'employe': 0.01580012255816583, 'discrimin': 0.01573707400788856, 'ligaya': 0.015363167864750456, 'gritz': 0.01515795939687035, 'law': 0.015116600992633029, 'uci': 0.01407281345557674, 'custodi': 0.013509297313633574, 'marriag': 0.012818726227357278, 'cohabit': 0.012387601106527936, 'right': 0.012375657845249115, 'schult': 0.012347443755636935, 'benefit': 0.012050549698699627, 'agno': 0.011989331659545736, 'domest': 0.011836788656366629, 'ordin': 0.011815954549886022, 'polici': 0.011315477484676291, 'lo': 0.011147380380982161, 'angel': 0.011079197168883025, 'lotu': 0.01102673591119578, '291212': 0.010716066584206551, 'novack': 0.010633141167171947, 'francisco': 0.010584990804784497, 'regent': 0.010116256126997484, 'said': 0.010039717642367336, 'orang': 0.009694869236253126, 'uc': 0.00965248782218623, 'lender': 0.009589070723143916, 'divers': 0.0091123322883823, 'legal': 0.009040086055813135, 'california': 0.008865644705225975, 'irvin': 0.008740938830933768, 'sexual': 0.008693104538630527, 'wire': 0.008549254069514288, 'counti': 0.008524718607104988, 'spousal': 0.008405570792284996, 'robinson': 0.008338660131018761}\n"
     ]
    },
    {
     "name": "stderr",
     "output_type": "stream",
     "text": []
    },
    {
     "name": "stdout",
     "output_type": "stream",
     "text": [
      "668 poverty, disease {'poverti': 0.09999999999999998, 'diseas': 0.09999999999999998, 'health': 0.06898333046467127, 'undp': 0.03732478082629333, 'malaria': 0.03390357038918467, 'londono': 0.029074147786982314, 'epidem': 0.027702833510203247, 'aid': 0.027374185297117146, 'yaw': 0.023745910865707515, 'glucocorticoid': 0.018308704941081066, 'programm': 0.018289718549207648, 'bank': 0.017796903349181197, 'paper': 0.01753997418465272, 'case': 0.017223925586301227, 'iodis': 0.017032979391559903, 'white': 0.01685092159708675, 'india': 0.016068692638774203, 'male': 0.01604241591890853, 'kosova': 0.015394590365648357, 'dollar': 0.015319739533799002, 'micronutri': 0.015231019728820848, 'baboon': 0.01441815147759751, 'asia': 0.014278668162695832, '94we0165d': 0.013459917601563091, 'statu': 0.013193014648499755, 'birim': 0.013022755805373107, 'project': 0.012984791550972955, 'cuba': 0.012915968072913895, 'hiv': 0.01285553324834528, 'mortal': 0.012777995780179392, 'ill': 0.012432050227568036, 'lend': 0.012020471737184683, 'nutrit': 0.011902480329144881, 'target': 0.011877981663839344, 'bergman': 0.011481130868288295, 'death': 0.011410945092026432, 'anhui': 0.011203396419070203, 'tobacco': 0.011115858567165028, 'iodin': 0.011100137246202953, 'fl0401030894': 0.011040541483672938, 'colombia': 0.01103347340732872, 'contagi': 0.01099446132001701, 'vaccin': 0.009824350196474119, 'kosovar': 0.009790390079514424, 'cancer': 0.009666963830170081, 'vitamin': 0.009592510847380695, 'epidemiolog': 0.00930961629286223, 'kosovo': 0.009181082354656206, 'correl': 0.009108520645446143, 'ldl': 0.008991380066863822, 'bottomlei': 0.008950393171528034, 'releas': 0.008856722880274111}\n"
     ]
    },
    {
     "name": "stderr",
     "output_type": "stream",
     "text": []
    },
    {
     "name": "stdout",
     "output_type": "stream",
     "text": [
      "669 Islamic Revolution {'islam': 0.09999999999999998, 'revolut': 0.09999999999999998, 'u.': 0.05263861018724112, 'khomeini': 0.03765311573036943, 'satan': 0.033897871426580475, 'majl': 0.02796279549557003, 'iran': 0.026399244749837743, 'iranian': 0.022880713784320328, 'lebanon': 0.0216314467170064, 'rushdi': 0.02160179227773934, 'our': 0.021188511081134516, 'relat': 0.020445243322569737, 'interior': 0.0203130088700095, 'we': 0.019163683268956122, 'ld0904081394': 0.017900271346361633, 'al': 0.017847317247101892, 'student': 0.01761924284858891, 'hajj': 0.016826328663004333, 'muslim': 0.015463333683124796, 'ti': 0.015351097917811838, 'polici': 0.014792543379905349, 'iraq': 0.01392308317841899, 'oppress': 0.013810786359848587, 'kayhan': 0.013795251473974385, 'pipe': 0.013514074466676402, 'america': 0.013424130161234272, 'west': 0.01341641235707025, 'american': 0.013165153792639151, 'hazrati': 0.01302544951820199, 'deputi': 0.012967463638708088, 'ld1002110694': 0.012779948091947286, 'statesmen': 0.012499641041469948, 'hostil': 0.012273920490320972, 'realiti': 0.012239929522440171, 'sever': 0.011610523980051964, 'jahan': 0.011533485841374912, 'unit': 0.010979205734188322, 'ld0904202394': 0.010957695195519583, 'nc2601201994': 0.010944429423744973, 'you': 0.010684997798102593, 'ld1002122894': 0.010500466455033388, 'ambassador': 0.010479943601192324, 'diplomat': 0.010407521715849685, 'nicaragua': 0.010370459717605134, 'state': 0.010272373248769317, 'what': 0.010167777041173907, 'against': 0.01006849396581122, 'polit': 0.009986565529207049, 'foreign': 0.00982501116929868, 'gulf': 0.009772476778284698, 'besharati': 0.009604753811331277, 'reason': 0.009422402903277095}\n"
     ]
    },
    {
     "name": "stderr",
     "output_type": "stream",
     "text": []
    },
    {
     "name": "stdout",
     "output_type": "stream",
     "text": [
      "670 U.S. elections apathy {'apathi': 0.06666666666666665, 'u.': 0.06666666666666665, 'elect': 0.06666666666666665, 'ballot': 0.06130966839396273, 'voter': 0.0506327628319613, 'turnout': 0.04328318814077127, 'absente': 0.037064924398084086, 'candid': 0.03172461975889992, 'bernardi': 0.02971344359254511, 'korenstein': 0.028685250444819545, 'lo': 0.01945618210090734, 'angel': 0.018419041375082462, 'runoff': 0.018098592334677668, 'clerk': 0.017772302501855717, 'vote': 0.016865337261770176, 'poll': 0.015707292471979804, 'race': 0.01489472541725214, 'republican': 0.013938726693369895, 'femal': 0.013807930463651677, 'san': 0.013709144203154578, 'counti': 0.0136313759368649, 'amador': 0.013512078293186923, 'board': 0.013159771018559, 'citi': 0.013041005066264311, '299931': 0.012919293799868626, 'school': 0.012584102914167315, 'diego': 0.012429607784325808, '309782': 0.012218511642383188, 'martinez': 0.01207322739508802, 'incumb': 0.011906832397452865, 'tuesdai': 0.011833592872036213, 'low': 0.011809880577745938, 'sawoski': 0.011309158878607586, '48403': 0.011309158878607586, 'mayor': 0.011159463065763608, 'april': 0.010644027618001334, 'alleg': 0.010406547231315654, 'challeng': 0.01035937097697462, 'taught': 0.010329394494801504, 'hall': 0.010266888149138637, 'gubernatori': 0.010006925143923776, 'elia': 0.009518708577296415, 'colleg': 0.009424918633132075, 'choic': 0.009122140701198433, 'inglewood': 0.009080797696524456, 'contest': 0.00899756036434979, 'receiv': 0.008994030477648842, 'initi': 0.008981318355414634, 'clinton': 0.008965868482287457, '7th': 0.00885552460371709, 'ernani': 0.008725344463242477, 'johnson': 0.008694952370534045, 'nonvot': 0.008645488754831608}\n"
     ]
    },
    {
     "name": "stderr",
     "output_type": "stream",
     "text": []
    },
    {
     "name": "stdout",
     "output_type": "stream",
     "text": [
      "671 Salvation Army benefits {'benefit': 0.06666666666666665, 'salvat': 0.06666666666666665, 'armi': 0.06666666666666665, 'shelter': 0.06201360582938773, 'homeless': 0.060866420727035624, 'brower': 0.029862271912532407, 'glendal': 0.02493973792931289, 'dlamini': 0.023663441161625262, 'cyo': 0.0219126083400627, 'kettl': 0.0199233832260467, 'grant': 0.019687320227685517, 'foundat': 0.017675066889100602, 'labor': 0.017045908263345084, 'wage': 0.016752976591932173, 'center': 0.016679141921464656, 'alcohol': 0.015988330722435513, 'gun': 0.015761709223073888, 'overbi': 0.01553253612503047, 'trailer': 0.015408477308910293, 'donat': 0.015271563367927574, 'mall': 0.015137997187311354, 'batman': 0.014720887179266066, 'she': 0.014419010356220778, 'pinzon': 0.013972168036837885, 'said': 0.013771050675084771, 'program': 0.013706640834603535, 'veteran': 0.01368464763332794, 'minimum': 0.013026800268161913, 'metro': 0.012773678451070691, '278042': 0.012470824154071374, 'britt': 0.012212876633732203, 'booth': 0.01207911408051511, 'christma': 0.011938686532556137, 'store': 0.011833654146646212, 'shaw': 0.011787398663200555, 'armori': 0.011658234692234851, 'facil': 0.01142412080134993, 'lein': 0.011357627794358815, 'help': 0.011173590787359721, 'solicit': 0.011147079836708651, 'mather': 0.011081768165101653, 'cajon': 0.011080999448212543, 'bell': 0.010950784124732101, 'citi': 0.010759883391583246, 'resid': 0.010570635874985676, 'mckorn': 0.01053560211027191, '100,000': 0.010508209775962552, 'counti': 0.010494408395419515, 'alloc': 0.010353892672976588, '144604': 0.010233776820273108, 'church': 0.010144273274766955, 'women': 0.010063281475322577, 'bush': 0.009941895958864163}\n",
      "672 NRA membership profile {'profil': 0.06666666666666665, 'membership': 0.06666666666666665, 'nra': 0.06666666666666665}\n"
     ]
    },
    {
     "name": "stderr",
     "output_type": "stream",
     "text": []
    },
    {
     "name": "stdout",
     "output_type": "stream",
     "text": [
      "673 Soviet withdrawal Afghanistan {'gorbachev': 0.09094173029824539, 'afghanistan': 0.06666666666666665, 'soviet': 0.06666666666666665, 'withdraw': 0.06666666666666665, 'sakharov': 0.065438376764793, 'gromyko': 0.0348256580470392, 'europ': 0.02404486947903624, 'mikhail': 0.02282621183157455, 'reform': 0.02102689057710838, 'chenei': 0.02044289521944768, 'congress': 0.01997910152701843, 'shevardnadz': 0.019805085651767893, 'nuclear': 0.0179747101959534, 'bush': 0.01717504338876238, 'poland': 0.017019903773323984, 'polici': 0.01636353028306857, 'reagan': 0.014818239039410678, 'moscow': 0.014670414796881533, 'hungari': 0.014267596997613414, 'polit': 0.014056471476076183, 'russia': 0.014005501515363297, 'andrei': 0.0136918023280483, 'chang': 0.013487661851030994, 'warsaw': 0.013144946029419374, 'communist': 0.013055075630845545, 'east': 0.012771059819183837, 'econom': 0.01265928856195149, 'cold': 0.012634429091779609, 's': 0.012479718512892157, 'perestroika': 0.011951399274086352, 'eastern': 0.011451293464205611, 'azerbaijan': 0.011303496025485943, 'nationalist': 0.011175548743445911, 'chechen': 0.011102064128305078, 'chines': 0.010879531264116558, 'catastroph': 0.010842778103476634, 'kremlin': 0.01081997678002134, 'mao': 0.0105275637505833, 'treati': 0.010265348433473487, 'pact': 0.01007571657659174, 'intervent': 0.009508750599520138, 'eduard': 0.009401344234392974, 'stalin': 0.009272324068640607, 'chechnya': 0.009233839180252529, 'west': 0.00920255109592327, 'threat': 0.009091842633921007, 'presid': 0.009039487958349378, 'chervonopisski': 0.00900118434755322, 'china': 0.008754919396786845, 'humil': 0.008603484774337262, 'chou': 0.008424366802974283, 'deputi': 0.008329546844237166, 'old': 0.00813542883168407}\n"
     ]
    },
    {
     "name": "stderr",
     "output_type": "stream",
     "text": []
    },
    {
     "name": "stdout",
     "output_type": "stream",
     "text": [
      "674 Greenpeace prosecuted {'prosecut': 0.09999999999999998, 'greenpeac': 0.09999999999999998, 'protest': 0.05558786573938899, 'ship': 0.03529650493897948, 'arrest': 0.029592690636400184, 'norwai': 0.0258636211172472, 'exxon': 0.02568231009810786, 'cjvb5aafft': 0.021322421864810658, 'coastguard': 0.020421453070739056, 'cc3baaaaft': 0.018823625942994214, 'polic': 0.018448817885370384, 'nuclear': 0.01785077172668373, 'ceaa3abjft': 0.017234611474223265, '336ft': 0.017234611474223265, 'arctic': 0.016805586574228093, 'activist': 0.016787282623503052, 'eglezaakft': 0.01653347171386837, 'demonstr': 0.016018349143816807, 'unfurl': 0.015480146092621931, 'mururoa': 0.015351741307893818, 'banner': 0.015063433716881494, '78122': 0.014962776853780722, 'whale': 0.014899151797951336, 'zemlya': 0.014725321135233378, 'site': 0.014698625793262483, 'detain': 0.014344912749923368, 'tanker': 0.013790469321200639, 'novaya': 0.013433466987757917, '921022': 0.013124263097997186, 'vessel': 0.013052323837852736, 'anchor': 0.012983367825116044, 'harbor': 0.012887405309338055, 'norwegian': 0.012842833250048966, 'reuter': 0.012766172109555336, 'atol': 0.012754118792764908, 'harpoon': 0.012679955374683666, 'ticonderoga': 0.012630493592292132, 'freed': 0.012360289079634039, 'valdez': 0.012324056580556353, 'brief': 0.012216754392704594, 'submarin': 0.012098256140948479, 'sail': 0.011807228831495988, 'soviet': 0.011687619640516927, '920327': 0.01157385834063613, 'solo': 0.011384389498961147, 'deton': 0.010597772268203999, '920501': 0.010557949052769777, '92': 0.010507511818618911, 'scaffold': 0.010392912640425168, 'akatsuki': 0.010248820199577648, 'shallhorn': 0.010195760538819862, '940712': 0.0100718460053901}\n"
     ]
    },
    {
     "name": "stderr",
     "output_type": "stream",
     "text": []
    },
    {
     "name": "stdout",
     "output_type": "stream",
     "text": [
      "675 Olympics training swimming {'train': 0.10272294867377083, 'olymp': 0.09575318647411565, 'swim': 0.06666666666666665, 'diego': 0.03366946468950698, 'wattl': 0.032042949877235855, 'kyland': 0.03076046383457522, 'center': 0.030723280606908734, 'athlet': 0.02800816069787093, 'coach': 0.026584266053383734, 'san': 0.02610553679010268, 'purslei': 0.02580364934023617, 'foundat': 0.02577636721659303, 'campbel': 0.025409073552410906, 'chula': 0.025330010289558405, 'eastlak': 0.02375504358328785, 'marcik': 0.020780263636938426, 'vista': 0.019838437071946033, 'otai': 0.019558206281245674, 'spitz': 0.017186571419418508, 'million': 0.016924010815587275, 'facil': 0.016673628339741307, 'nielsen': 0.013747418179547586, 'plate': 0.01263215591828084, 'sen': 0.01260514018058414, 'toomei': 0.012602470868637623, 'deukmejian': 0.012543854149291718, 'burnout': 0.01125260583678898, 'reservoir': 0.010822718254040409, 'metro': 0.010684044445023319, 'bill': 0.010422313669461069, 'counti': 0.010416256267154715, 'deddeh': 0.010332241830352624, 'german': 0.00976455321705728, 'steroid': 0.009666146389363453, 'brower': 0.009452294912662751, 'fund': 0.00944765654750296, 'barcelona': 0.009290537838465257, 'licens': 0.009162502370137202, 'hacienda': 0.008822385261315882, 'loan': 0.008704647657909381, 'friedrich': 0.008461083484098906, 'state': 0.008340117981850154, 'rosenth': 0.008161686780228555, 'kayak': 0.008159914713263407, 'height': 0.008066965013655315, 'accardi': 0.007937842902162942, 'gift': 0.007926652414511735, 'track': 0.007921062470474844, 'chines': 0.007698396675123578, 'east': 0.007502818775719522, 'psychologist': 0.007379329084232978}\n"
     ]
    },
    {
     "name": "stderr",
     "output_type": "stream",
     "text": []
    },
    {
     "name": "stdout",
     "output_type": "stream",
     "text": [
      "676 poppy cultivation {'cultiv': 0.09999999999999998, 'poppi': 0.09999999999999998, 'drug': 0.09281493871034947, 'polic': 0.030745993564717244, 'lithuania': 0.027485334497609218, 'latvia': 0.026288196278948607, 'aguaruna': 0.025608089588711247, 'narcot': 0.025106524191731566, 'pnp': 0.022945960742179777, 'smuggler': 0.022146771158998022, 'iraq': 0.02008280322953676, 'stradin': 0.019507224633001103, 'farm': 0.018923663228938806, 'cao': 0.01811310137079778, 'nc2403174594': 0.01760336198029929, 'afghanistan': 0.017375290287752223, 'ld0802112094': 0.017029921753033594, 'khun': 0.01508081014522251, 'palmapampa': 0.014922076920333142, 'bang': 0.01491538599674016, 'riga': 0.014408584650971218, 'yunnan': 0.014313355777050904, 'arrest': 0.014198149310195694, 'dahuk': 0.013125478846563426, 'coca': 0.012450154594544467, 'narcobusi': 0.012305548918448376, 'apurimac': 0.012217145407035942, 'chiapa': 0.012184366501027843, 'lita': 0.012020371153732565, 'wafd': 0.011750088161643295, 'vilniu': 0.011657814458885855, 'sow': 0.01160139077312504, 'arm': 0.011594256650486195, 'py1901225994': 0.011565179316189018, 'py1002175194': 0.011546616457030633, 'chan': 0.011438740523492275, 'hashish': 0.0104976224361821, 'northern': 0.010393174663433561, 'shine': 0.010360719017175366, 'kung': 0.010213752635929246, 'sa': 0.010121216359400853, 'rehabilit': 0.009888904354880976, 'kilogram': 0.009878155246219723, 'sinai': 0.009803662296295404, 'our': 0.009445426716240154, 'detain': 0.00932527259404394, 'rivera': 0.009300986963474067, 'saint': 0.009280487429797993, 'percent': 0.009234584624742035, 'some': 0.0091468443941329, 'pao': 0.009074125951890217, 'border': 0.008962374536838257}\n"
     ]
    },
    {
     "name": "stderr",
     "output_type": "stream",
     "text": []
    },
    {
     "name": "stdout",
     "output_type": "stream",
     "text": [
      "677 Leaning Tower of Pisa {'pisa': 0.1477123956928184, 'tower': 0.12804624838682516, 'lean': 0.10980317112222332, 'cbnb3adwft': 0.034515209489500855, 'perpendicular': 0.029472493198093676, 'tilt': 0.022530179230965407, 'ecuc0aeqft': 0.022270264415388343, '920214': 0.021360800514423045, 'hundredth': 0.02126746655073428, 'bre': 0.02035457199550382, 'itali': 0.01879313549401342, '123484': 0.01865662046924677, 'electrolevel': 0.017268796394218015, 'prandini': 0.016408862869992026, 'tourist': 0.014930386814260075, 'phial': 0.014910661769002099, 'counterweight': 0.014028519112012142, '940318': 0.01322222065710301, '14th': 0.013131316541183415, 'visitor': 0.013039194394522028, 'anchor': 0.012887387655313321, 'itz': 0.012471674936070076, '294': 0.012316557310504449, 'rome': 0.012050975697462626, 'further': 0.011962531598224644, 'inch': 0.011739080003415128, 'marbl': 0.011332370807557135, 'brief': 0.01069740831671509, 'slip': 0.010657758700559896, 'electrod': 0.01065215666307592, 'cabl': 0.01028768204553496, 'p7999': 0.010138415052566024, 'eicafaawft': 0.01012257074182195, 'jamiolkowksi': 0.01012257074182195, 'giovanni': 0.00981283105402947, 'peril': 0.009613932428809986, 'reuter': 0.008665520732257738, 'cdxbcaa7ft': 0.008634398197109008, '664081': 0.008634398197109008, 'expert': 0.008619624369386578, 'amus': 0.00849074963977771, 'climb': 0.007990585091004632, 'recreat': 0.0077096208211756, 'urgent': 0.007706068280748439, 'fluid': 0.007705887255910336, 'stabilis': 0.007550753187954633, 'centuri': 0.007509645723972217, 'nec': 0.007487079998774907, '800': 0.007359968473494432, 'steel': 0.007347281165812525}\n"
     ]
    },
    {
     "name": "stderr",
     "output_type": "stream",
     "text": []
    },
    {
     "name": "stdout",
     "output_type": "stream",
     "text": [
      "678 joint custody impact {'custodi': 0.07837227814626796, 'joint': 0.06666666666666665, 'impact': 0.06666666666666665, 'fingert': 0.04542587731083514, 'court': 0.04344828463730562, 'ventura': 0.043305506465205826, 'joshua': 0.032639429960170184, 'theroux': 0.02960913749586086, 'besser': 0.029112304557406734, 'divorc': 0.02815836462591418, 'ex': 0.024938927791830882, 'spous': 0.024855603174669144, 'parent': 0.02461835247674847, 'mother': 0.02399595614704852, 'judg': 0.02060984454116152, 'herman': 0.019464609766006627, 'father': 0.01942633023814548, 'ahron': 0.018242013795966867, 'remarriag': 0.018195889250883127, 'child': 0.016724956404462924, 'she': 0.0165723556948847, 'mcgrath': 0.01631262350218774, 'appeal': 0.015809465881755805, 'counti': 0.01539345686710629, 'children': 0.015132900146217647, 'remarri': 0.014639351522105552, 'famili': 0.014550907752671175, 'women': 0.014237507210209738, 'pamela': 0.012470675321456882, 'case': 0.012386200785861681, 'davidson': 0.011373607110704096, 'law': 0.01045909724272437, 'her': 0.010423326208886433, 'swartz': 0.009765051254088792, 'kirsten': 0.00954124234378817, 'marriag': 0.008919441133040846, 'superior': 0.008571311954307359, 'francisco': 0.007901271988190958, 'ranni': 0.007899681987883782, 'move': 0.007747528161689995, 'kennon': 0.00769229499630798, 'steel': 0.0076066170325257395, 'sai': 0.007381888036100569, '283643': 0.007362144239122984, 'gender': 0.007242865766565013, 'hi': 0.007240855927973341, 'suprem': 0.007061863612856549, 'husband': 0.006949069746109785, 'best': 0.0069424628798295295, 'wed': 0.006816724071219899, 'feel': 0.006666057059550668, 'decis': 0.006453152442852445}\n"
     ]
    },
    {
     "name": "stderr",
     "output_type": "stream",
     "text": []
    },
    {
     "name": "stdout",
     "output_type": "stream",
     "text": [
      "679 opening adoption records {'adopt': 0.1299517200473674, 'adopte': 0.09298222444118266, 'record': 0.07775673740848815, 'parent': 0.06983220632842106, 'open': 0.06666666666666665, 'birth': 0.05983274235419971, 'confidenti': 0.0300750092777995, 'quackenbush': 0.02325749189781695, 'children': 0.02309867227509708, 'bill': 0.022252031506473535, 'california': 0.02078119256181897, 'burk': 0.015759602327937654, 'certif': 0.01487356901585785, '242561': 0.013997493171509444, 'her': 0.013117932168637901, 'judi': 0.013112599016985665, 'seal': 0.013058263278790026, 'name': 0.013044246954248537, 'relinquish': 0.013034627432347552, 'ident': 0.011842240928198446, 'search': 0.011543495967525406, 'privaci': 0.01116204516479956, 'legisl': 0.011125175147016634, 'sacramento': 0.01103217430999461, 'mother': 0.010701430719416292, 'adult': 0.010268921809278422, 'marriag': 0.010255241304602902, 'searcher': 0.009992059939789433, 'senat': 0.009861433006632093, '1984': 0.009740361320313726, 'access': 0.009687181681090947, 'would': 0.009623992373109187, 'bipartisan': 0.008975910922547325, 'ag': 0.008926715920323059, 'yearlong': 0.008153376582966982, 'unseal': 0.0078928476823464, 'marri': 0.007554732858766834, '1938': 0.007480926561844928, 'advertis': 0.0072846444604487, 'assemblyman': 0.007041397292014426, 'juli': 0.006981328644320793, 'shacklett': 0.006916116593459642, 'isenberg': 0.0068930873879884565, 'social': 0.006803129959366972, 'seader': 0.006746194709176416, '154': 0.006716470236275993, 'judiciari': 0.006556303334632941, 'inform': 0.0065168179826202936, 'stigma': 0.006480677332860617, 'ncfa': 0.006379269867312568, '246922': 0.006379269867312568}\n"
     ]
    },
    {
     "name": "stderr",
     "output_type": "stream",
     "text": []
    },
    {
     "name": "stdout",
     "output_type": "stream",
     "text": [
      "680 immigrants Spanish school {'bilingu': 0.11035899281351176, 'school': 0.0965325361850709, 'spanish': 0.08729103129904982, 'immigr': 0.06666666666666665, 'teacher': 0.05832835797198001, 'student': 0.050259490849684424, 'glenwood': 0.03878341339975064, 'english': 0.02755993282695396, 'educ': 0.023579633384810384, 'teach': 0.02190917409125784, 'classroom': 0.021227939197337203, 'district': 0.020295919289239437, 'parent': 0.02024673990939111, 'program': 0.01940839528116362, 'peterson': 0.019140400951548567, 'speak': 0.018130392751014208, 'children': 0.014364133853353596, 'schon': 0.014050411282664963, 'instruct': 0.013537064389175776, 'learn': 0.013265698526488024, 'meier': 0.013235992471716458, 'immers': 0.013219978592747584, 'elementari': 0.01295914770373809, 'soto': 0.01185576710650968, 'kindergarten': 0.011675509616821284, 'taught': 0.010928695252454998, 'class': 0.010470968381796673, 'nativ': 0.009936576321907033, 'esquivel': 0.009158259061803257, 'jolla': 0.008755175216883123, 'paula': 0.008471847098786293, 'crenshaw': 0.007868718985806935, 'center': 0.007801283270137628, 'fluent': 0.007693242403152539, 'granado': 0.007552534371561068, 'migrant': 0.007322934447513705, 'lead': 0.00729751372953833, 'kid': 0.006920339694103769, 'read': 0.006564866963560036, 'switack': 0.0060840729987373, 'assign': 0.006032763805802342, 'diego': 0.005549297958648121, 'kindergartn': 0.005503853955189507, 'frankenberg': 0.005422442406968172, 'scienc': 0.005414400187463621, 'skill': 0.005381720382420199, 'rodriguez': 0.005285458838151227, 'athlet': 0.005195247109357034, 'investig': 0.005192890394255592, 'math': 0.005168032209880737, 'aid': 0.0051441441424748486}\n"
     ]
    },
    {
     "name": "stderr",
     "output_type": "stream",
     "text": []
    },
    {
     "name": "stdout",
     "output_type": "stream",
     "text": [
      "681 wind power location {'wind': 0.16200054564915795, 'power': 0.10848792924258151, 'locat': 0.06666666666666665, 'turbin': 0.061240147255864366, 'energi': 0.04365585750550747, 'electr': 0.039156986467823215, 'mw': 0.025573282148558443, 'farm': 0.025236159626447596, 'renew': 0.02249119346934799, 'windpow': 0.020511988695325722, 'kilowatt': 0.01639133650281988, 'project': 0.016389633241753982, 'nffo': 0.01563567919165695, 'blade': 0.015438447305802176, 'fossil': 0.01429649933600111, 'technolog': 0.01410624168183499, 'fuel': 0.013353643161785292, 'windmil': 0.012588790055764777, 'trigen': 0.012564612828642033, 'geotherm': 0.012370426239745762, 'gener': 0.011906847249966426, 'kw': 0.011878620943621084, 'subsidi': 0.01139822279125461, 'rotor': 0.01107890776392952, 'solar': 0.010414075384117037, 'instal': 0.01041188841275545, 'produc': 0.010301372679759106, 'clean': 0.010239811797393658, 'wale': 0.01016215891686572, 'ecogen': 0.010068047873993416, 'capac': 0.009714115776887999, 'timisoara': 0.009334405098102886, 'carbon': 0.009053653302830127, 'dioxid': 0.00894757658373168, 'bocsa': 0.008906216906194447, 'ffa': 0.008840393805091806, 'glasfib': 0.008839353155945034, 'megawatt': 0.008791179028703928, 'denmark': 0.00849142550334432, '93p60168': 0.008411718333893736, 'photovolta': 0.008146990838164494, '944e0773a': 0.008075153463498673, 'flanigan': 0.007867541977405247, 'biomass': 0.007750103442597224, 'uk': 0.007700035854056516, 'suppli': 0.007673229998945642, 'commerci': 0.00766431107415421, 'rabochaya': 0.0076064611030268545, 'llandinam': 0.007462386384742218, 'compani': 0.007354392505239122, 'tribuna': 0.007353335776699905}\n"
     ]
    },
    {
     "name": "stderr",
     "output_type": "stream",
     "text": []
    },
    {
     "name": "stdout",
     "output_type": "stream",
     "text": [
      "682 adult immigrants English {'english': 0.08309257590975033, 'immigr': 0.06666666666666665, 'adult': 0.06666666666666665, 'literaci': 0.06503579204815897, 'class': 0.05276107228556736, 'librari': 0.043246198580129375, 'amnesti': 0.03261817783961073, 'educ': 0.0321146190228457, 'student': 0.03006831217292638, 'tutor': 0.027339451062442878, 'read': 0.02285779089497097, 'program': 0.02262000645380332, 'learn': 0.022421842032839857, 'flatlei': 0.019608903442535738, 'enrol': 0.019428457751050912, 'colleg': 0.016958643516140706, 'grant': 0.015696099295794404, 'accent': 0.015547746011355485, 'avedissian': 0.015188337545500289, 'torr': 0.015132968906394456, 'fund': 0.01367382988055533, 'willoughbi': 0.013342297333131699, 'taper': 0.01305227000963649, 'latino': 0.01301332579530401, 'jalisco': 0.012239297472770819, 'book': 0.01147409453275027, 'workplac': 0.011468001541692266, 'deukmejian': 0.011382397366099445, 'instruct': 0.011379106355726549, 'alien': 0.010790295708402953, 'languag': 0.010566580064011604, 'million': 0.009945863949420784, 'pronunci': 0.009737156343125797, 'spanish': 0.0093168941895781, 'volunt': 0.009070141546830375, 'golden': 0.009044991342809259, 'train': 0.008896045293369615, 'servic': 0.00888460781826898, 'teach': 0.008863837085459665, 'he': 0.008860810728368822, 'zaya': 0.008689159205538156, 'employ': 0.008643546200610466, 'gonzal': 0.008483374970977441, 'nativ': 0.008410005322897774, 'park': 0.008361326400730567, 'speech': 0.008341845997845926, 'provid': 0.008340637574306017, 'job': 0.008191531943020828, 'donat': 0.008155133560938069, 'skill': 0.008148226378891317, 'arena': 0.008120508525333232, 'i': 0.00804253145644584}\n"
     ]
    },
    {
     "name": "stderr",
     "output_type": "stream",
     "text": []
    },
    {
     "name": "stdout",
     "output_type": "stream",
     "text": [
      "683 Czechoslovakia breakup {'czechoslovakia': 0.13814438442031246, 'breakup': 0.09999999999999998, 'meciar': 0.04829815977673935, 'slovak': 0.04633861834430189, 'pragu': 0.045396419579788794, 'slovakia': 0.04189167748952883, 'czech': 0.03770059590793417, 'havel': 0.028818537704838738, 'reuter': 0.02412290065508729, 'cgma3aawft': 0.02071550386139099, 'lango': 0.020629131088654586, 'democrat': 0.018453804437907208, 'hzd': 0.01804500168959281, 'vaclav': 0.015926933613787386, 'kdh': 0.01470257060470388, 'liparova': 0.01438026028819251, 'cidbkaarft': 0.01438026028819251, 'czechoslovak': 0.01375559245301105, '920713': 0.013551217035457627, 'zdenka': 0.013114773799501886, 'mr': 0.013076868768530668, 'nationalist': 0.012401457519155223, 'movement': 0.012349063109191247, 'robinson': 0.012318630543755572, 'cfsbmaaeft': 0.012151830050541464, 'feder': 0.012048442469713212, 'knazko': 0.011957795862417506, 'will': 0.01183510520060818, 'anthoni': 0.011712127548352979, 'dubcek': 0.011582794235869625, 'split': 0.011417313909676976, 'elect': 0.011255645222292481, 'dyba': 0.010793816192510776, 'parliamentarian': 0.00975042171625632, 'confeder': 0.0093705308021322, 'function': 0.009343486942080603, 'pledg': 0.009221482414477495, 'candidaci': 0.009183158262897142, 'buncomb': 0.009109035130715858, 'parti': 0.009026008068735939, '920902': 0.008929718164244859, 'presid': 0.008872692123003227, 'klau': 0.008848320013929123, 'divorc': 0.008689412963379238, 'civic': 0.0086558107244855, 'wing': 0.008317764069015089, 'resuscit': 0.008096300756551569, 'spine': 0.008045739235028828, 'au1005060194': 0.00789408274863879, 'premier': 0.007802448083752362, '92': 0.007576354109135954}\n"
     ]
    },
    {
     "name": "stderr",
     "output_type": "stream",
     "text": []
    },
    {
     "name": "stdout",
     "output_type": "stream",
     "text": [
      "684 part-time benefits {'benefit': 0.06666666666666665, 'part': 0.06666666666666665, 'time': 0.06666666666666665, 'particip': 0.03893484156798144, 'disabl': 0.035002714226371766, 'disneyland': 0.03196882252131481, '_explain': 0.031207165665463173, 'pension': 0.029284965673727587, 'barber': 0.027964352951122314, 'scheme': 0.02737061221534816, 'court': 0.027299136951419625, '_describ': 0.02302559522770472, 'worker': 0.022997694838503703, 'equalis': 0.021952964626633736, 'judgment': 0.02056991540373041, 'women': 0.020269508053888094, 'program': 0.01975115952665949, 'truste': 0.018509313990162014, '119': 0.017678235300775554, 'pai': 0.017521286836898457, 'cooper': 0.016990890227625448, 'americorp': 0.01643455406577682, 'timer': 0.015158112529722623, 'child': 0.014354660394832706, 'sex': 0.013882049075595832, 'fund': 0.013502199885066308, 'men': 0.01347318971821952, 'colorol': 0.013452256089882104, 'care': 0.013270663962669084, 'equal': 0.013110320583296173, 'allow': 0.012072010458369914, 'treatment': 0.011992568918236983, 'employ': 0.011712791470564914, 'corpor': 0.011386143290511005, 'discrimin': 0.011015297182943386, 'contract': 0.010937645905845304, 'case': 0.01050263136256966, 'minimum': 0.010486853355425372, 'labor': 0.010347079776882541, 'v': 0.00969031876701883, 'live': 0.009480631472115048, 'avdel': 0.009424752261960516, 'retrospect': 0.00939264225316764, 'research': 0.009344815068666093, 'provid': 0.009175118472957327, 'agricultur': 0.008963087211532519, 'salari': 0.008892420519258927, 'contributori': 0.008793157810103043, 'cunliff': 0.008355704820226142, 'ejld6aceft': 0.008336501723509684, 'rowlingson': 0.008336501723509684, 'evalu': 0.008281150300512465, 'contribut': 0.008142993763721327}\n"
     ]
    },
    {
     "name": "stderr",
     "output_type": "stream",
     "text": []
    },
    {
     "name": "stdout",
     "output_type": "stream",
     "text": [
      "685 Oscar winner selection {'select': 0.06666666666666665, 'oscar': 0.06666666666666665, 'winner': 0.06666666666666665, 'film': 0.06634491923627404, 'documentari': 0.05946660979109334, 'nomin': 0.05028126259334742, 'academi': 0.04181654126771593, 'dga': 0.03673309713801819, 'disabl': 0.02579894039976649, 'miramax': 0.022260955723214446, 'ebert': 0.02183153644556432, 'maker': 0.017427238985721384, 'filmmak': 0.01721110080604844, 'committe': 0.016135308212053247, 'spielberg': 0.0157724838054436, 'thin': 0.01538032938680761, 'jurass': 0.015316835533804305, 'director': 0.014919587592180737, 'dutka': 0.014540725120912435, 'movi': 0.013989472258180372, 'nomine': 0.013667422044257261, 'vote': 0.013518174570685491, 'visibl': 0.01223449590318975, 'locklear': 0.01212160484502179, 'member': 0.012063639862213949, 'blue': 0.011980263988695535, 'judg': 0.011745673216748, 'rinei': 0.011678158606912301, 'daisi': 0.011657702365603552, 'roger': 0.01125104823738346, 'fourth': 0.011065415106755239, 'ad': 0.010923022517616286, 'block': 0.010822056132786785, 'exclud': 0.010576029359619973, 'schindler': 0.010319479655659927, 'letter': 0.010200522795298194, 'gallo': 0.009380839057611357, 'list': 0.00936914526822429, 'omiss': 0.009341718195305994, 'summer': 0.009301502282662678, 'ticket': 0.009259399249689586, '183954': 0.009092756813675744, '176382': 0.008902112269915805, 'featur': 0.008833687364297722, 'born': 0.008703181321108306, 'workman': 0.008685669849013459, 'motion': 0.008680874551119927, 'critic': 0.008675273949865345, 'werden': 0.008407841598731917, 'nonsens': 0.008212305257932474, 'matsushita': 0.00810446553732108, 'advertis': 0.008053094902234827, 'group': 0.00794447902669545}\n"
     ]
    },
    {
     "name": "stderr",
     "output_type": "stream",
     "text": []
    },
    {
     "name": "stdout",
     "output_type": "stream",
     "text": [
      "686 Argentina pegging dollar {'argentina': 0.1273057414668506, 'cavallo': 0.11577556963355398, 'dollar': 0.09085992235812931, 'peg': 0.06666666666666665, 'peso': 0.05850055940259115, 'inflat': 0.028247047553773788, 'bueno': 0.027157831678847822, 'barham': 0.02552979877145315, 'cent': 0.020941344026288243, 'avignolo': 0.018569125005138812, 'per': 0.01845033048812596, 'gdp': 0.0181117900033074, 'export': 0.01645719542040368, 'arz': 0.016368768716742685, 'deficit': 0.0158157413194188, 'economi': 0.015410150118387185, 'domingo': 0.015298155186297591, 'econ': 0.014700293311350183, 'inflow': 0.012379199102860117, 'air': 0.012204714225282416, 'grew': 0.011548618009179855, 'argentin': 0.011532094574851534, 'retail': 0.011363751766081, 'fidler': 0.010573233097125535, 'import': 0.010572898945977748, 'trade': 0.009595320028600621, 'daeb7aavft': 0.009223169261857952, 'estim': 0.009076670054456363, 'rate': 0.00905260748819172, 'figur': 0.00885178627815829, 'widen': 0.008829020780873718, '657.8m': 0.008711072590497476, 'sustain': 0.008401354990336764, 'good': 0.008294734163481006, 'py0804012994': 0.008281228442065504, 'macri': 0.008236638426492115, 'balanc': 0.008173196168700719, 'mr': 0.008130033916643022, 'rise': 0.00797129555652614, 'invest': 0.007961100062466113, 'increas': 0.007898962432361304, 'john': 0.007748199542692272, '1.59bn': 0.007664048999869936, 'year': 0.007653279271136328, 'fix': 0.0075017302976516, 'ferrovia': 0.007450211294413006, 'mac': 0.007163184036601534, 'rose': 0.007141208821794515, 'unemploy': 0.006966578377874348, 'peru': 0.006864827457491839, 'dhfbqaa5ft': 0.006818000410080348}\n"
     ]
    },
    {
     "name": "stderr",
     "output_type": "stream",
     "text": []
    },
    {
     "name": "stdout",
     "output_type": "stream",
     "text": [
      "687 Northern Ireland industry {'ireland': 0.06666666666666665, 'northern': 0.06666666666666665, 'industri': 0.06666666666666665, 'hualon': 0.0629056024381462, 'textil': 0.03480524002473496, 'mccool': 0.029852868879264433, 'nie': 0.028693943117077233, 'interconnector': 0.027153393038253072, 'dougan': 0.026641118387750597, 'derri': 0.025282167476674007, 'aitch': 0.02400263167906252, 'macki': 0.021328315093874308, 'manufactur': 0.02009147000972075, 'compani': 0.02005865869274956, 'idb': 0.01949309609727013, 'electr': 0.019269902948603986, 'flotat': 0.019221819879196394, 'caulfield': 0.019194052483372196, 'seagat': 0.018730160735341485, 'waterford': 0.018692433889939113, 'privatis': 0.016283075188860248, 'belfast': 0.015827681133405623, 'carberi': 0.014977520251456955, 'share': 0.013570827720947776, 'investor': 0.013341492958660429, 'dairi': 0.013227396899562066, 'ipound': 0.012976054674923066, 'sale': 0.012136870367223322, 'project': 0.012082435223048669, 'mcnulti': 0.011935949780601411, 'sector': 0.011663994314900977, 'suppli': 0.011657977815099241, 'haren': 0.01130815747452099, 'bombardi': 0.010958821410432333, 'pound': 0.010944883115579205, 'product': 0.010725515627101178, 'garment': 0.010365761637123664, 'food': 0.010326717611135829, 'job': 0.010239868143375278, 'grandmet': 0.010164820286072896, 'horton': 0.010052485773962342, 'milk': 0.01002468597192621, 'factori': 0.00986563014166628, 'finn': 0.009765338816906305, 'explain': 0.009221703155906183, 'england': 0.009148361176828016, 'winterton': 0.009134459369626988, 'short': 0.009095481106529314, 'employe': 0.008956252897553644, 'busi': 0.008749859752956833, 'plant': 0.008710904781360183, '250bc': 0.008610554681268381, 'desmond': 0.008531585868447242}\n"
     ]
    },
    {
     "name": "stderr",
     "output_type": "stream",
     "text": []
    },
    {
     "name": "stdout",
     "output_type": "stream",
     "text": [
      "688 non-U.S. media bias {'media': 0.06637025652502324, 'bia': 0.04999999999999999, 'non': 0.04999999999999999, 'u.': 0.04999999999999999, 'aidayev': 0.03582240620904996, 'bbc': 0.032780092859028075, 'elector': 0.03203486841506086, 'mr': 0.026580193030374868, 'elect': 0.02580232257515182, 'mellor': 0.023922893727947505, 'islam': 0.022158418974897346, 'rai': 0.021255649074676003, 'berlusconi': 0.019035347799199978, 'piral': 0.01896750925933217, 'embargo': 0.018578413730687693, 'kusarskii': 0.01841579748351913, 'pri': 0.018077167064035005, 'signatur': 0.01786447288431691, 'arab': 0.01700503255270178, 'govern': 0.016966887330813068, 'observ': 0.016575761475723896, 'iraq': 0.015943442066993576, 'lord': 0.01548451501822751, 'azhar': 0.015345735473015902, 'parti': 0.01522074780159383, 'broadcast': 0.015155136687907942, 'kong': 0.014860048255098988, 'hong': 0.014707066388063959, 'dlr': 0.014528085583957623, 'iran': 0.014280733570618083, 'he': 0.014229322965500689, 'poll': 0.013931152655264525, 'brcko': 0.013762044948819926, 'muslim': 0.013531533916915767, 'civic': 0.01323165137984945, 'al': 0.013047012301718917, 'karadz': 0.01286157242881893, 'plo': 0.012724278618583721, 'un': 0.011831619934120467, 'hoff': 0.011374382636752544, 'hk2203085494': 0.01107268496114761, 'star': 0.010892490829495461, 'campaign': 0.010849456509452833, 'cardena': 0.010610348004897064, 'vote': 0.010598880126083095, 'serbian': 0.010503658643767604, 'allianc': 0.010486896505186746, 'leader': 0.0103107772708295, 'council': 0.01029638792415953, 'nc2006193194': 0.010234973202585703, 'opposit': 0.010159099375504228, 'ulema': 0.009886167408269288, 'group': 0.009834605635259945}\n"
     ]
    },
    {
     "name": "stderr",
     "output_type": "stream",
     "text": []
    },
    {
     "name": "stdout",
     "output_type": "stream",
     "text": [
      "689 family-planning aid {'popul': 0.10413268503414788, 'plan': 0.06666666666666665, 'famili': 0.06666666666666665, 'aid': 0.06666666666666665, 'billion': 0.04790714016939562, 'contracept': 0.034563314771717785, '2050': 0.03274839975096679, 'ow0502212294': 0.03028321485934763, 'u.': 0.029718498884367422, 'stabil': 0.028321298346459828, 'million': 0.02214191899808936, 'dollar': 0.020569181331950598, 'wirth': 0.02033117613638939, 'assist': 0.01684663126446659, 'control': 0.016690665332872584, 'drchi026_a_94001': 0.015141607429673815, 'xinhua': 0.015044883055111442, '181561': 0.014960947274410464, 'decad': 0.014838235147169393, 'birth': 0.014445781523249133, 'clinton': 0.013922399136197526, 'unfpa': 0.013840562473638003, 'growth': 0.013583461938869033, 'u.n': 0.012845832287932658, 'global': 0.012748540898907982, 'world': 0.01249147250120443, 'boost': 0.012314298061478888, 'starvat': 0.011803616140018578, 'guttmach': 0.010634772145235373, 'japan': 0.010193206836579403, 'outrun': 0.009716996529392704, 'worldwid': 0.009639571126479111, 'fortuit': 0.009602090860346602, 'latin': 0.009469959481185992, 'editori': 0.009331925542141975, '585': 0.009201109193420182, 'immunodefici': 0.009161047086953238, '4.40': 0.008985354908146495, '5.4bn': 0.008903256418736285, 'reauthor': 0.008778284081279402, '392': 0.00864184697805926, 'studi': 0.008524081818151518, 'america': 0.008342650566123886, 'poor': 0.008253117097581303, '259': 0.008215537363986796, 'beij': 0.008076193575566661, 'doubl': 0.007868096183154365, 'efficaci': 0.007862863416231755, '90': 0.007810323936819161, '503': 0.007789779765490074, '40': 0.0076314322531588485, '410': 0.007610622044318254, 'report': 0.007520118043428579}\n"
     ]
    },
    {
     "name": "stderr",
     "output_type": "stream",
     "text": []
    },
    {
     "name": "stdout",
     "output_type": "stream",
     "text": [
      "690 college education advantage {'educ': 0.08417673991014794, 'colleg': 0.06666666666666665, 'advantag': 0.06666666666666665, 'kolberg': 0.0661715283957064, 'women': 0.04505329210867442, 'skill': 0.03128067575301607, 'train': 0.029444967384917822, 'employ': 0.029128691591564938, 'job': 0.028472718020115, 'worker': 0.027437201470101008, 'technician': 0.026366249452872643, 'men': 0.022723979613016355, 'graduat': 0.022128148581671447, 'apprenticeship': 0.020995494953959384, 'health': 0.01585414878819009, 'work': 0.015738053653456485, 'nurs': 0.015634491987117898, 'allianc': 0.015476336942445225, 'hire': 0.014507048543806203, 'math': 0.013847141933711735, 'survei': 0.013759994320014521, 'barri': 0.013642166830162809, 'comput': 0.01354668827876243, 'degre': 0.012767323778179303, 'enter': 0.012603909249654741, 'pupil': 0.012578121892458534, 'high': 0.012399565179942507, 'poll': 0.012061846772045436, 'occup': 0.011870839101112895, 'radiolog': 0.011619086604967733, 'knowledg': 0.011581688028560126, 'requir': 0.011327432850784207, 'read': 0.011154843401817466, 'labor': 0.010562682290103381, '248093': 0.010507497637136168, 'diploma': 0.01020764963651655, 'those': 0.010184832775162788, '387.24': 0.01016622685996744, '335.20': 0.01016622685996744, 'employe': 0.010088544267656107, 'care': 0.009928625348111907, 'sixti': 0.009813697029115387, 'entri': 0.009487734477410345, 'grafton': 0.009445703471945118, 'technologist': 0.009234188281840488, 'satisfi': 0.009206882678688617, 'medic': 0.0091087281184633, 'u.': 0.00884715851357529, 'janic': 0.008841281311472902, 'southern': 0.008714933883286957, 'compet': 0.008450081175432719, '72': 0.00835357667786015}\n"
     ]
    },
    {
     "name": "stderr",
     "output_type": "stream",
     "text": []
    },
    {
     "name": "stdout",
     "output_type": "stream",
     "text": [
      "691 clear-cutting forests {'forest': 0.06666666666666665, 'clear': 0.06666666666666665, 'cut': 0.06666666666666665, 'owl': 0.05773240100859131, 'murrelet': 0.0498903493501558, 'marbl': 0.031078551542346566, 'log': 0.027161079157882365, 'mill': 0.025469163044057067, 'pulp': 0.02500705335686722, 'speci': 0.02364795065261552, 'oregon': 0.022943048545639236, 'forestri': 0.02209521147906486, 'northwest': 0.021570419553896266, 'nest': 0.021398350514720086, 'paper': 0.020623834852528763, 'macmillan': 0.019166386224334534, 'habitat': 0.018770729463226336, 'environmentalist': 0.018609472659239776, 'plough': 0.017033333842183817, 'hectar': 0.01649553178152528, 'honduran': 0.014512421174006663, 'protect': 0.014257698912813489, 'environment': 0.014018446806270155, 'packwood': 0.013828106585344661, 'export': 0.013593776249249243, 'area': 0.013201299268971354, 'lumber': 0.013098007919844968, 'spot': 0.01309794275682249, 'boycott': 0.012878130461955238, 'canadian': 0.012799488302421065, 'finland': 0.0126298552924143, 'bush': 0.012160802482100318, 'bc': 0.012114097752491558, 'mosquitia': 0.011807712952102862, 'soil': 0.010852842769233739, 'ban': 0.010767689726117496, 'coastal': 0.010689376926510036, 'protest': 0.01061922350889539, 'p2411': 0.010479263826759067, 'harvest': 0.009820406788771493, 'columbia': 0.009790697590565221, 'tussock': 0.009692309378956168, 'washington': 0.009329017863125434, 'environ': 0.009323977641638547, 'endang': 0.009307167391315128, 'stone': 0.009298205621674714, 'bloedel': 0.008777154323682838, 'saimaa': 0.008395262896880603, 'unsightli': 0.008206828189957237, 'rautiainen': 0.008177284348258158, 'greenpeac': 0.008054756142743575, 'ectaraaoft': 0.007870460747570602, 'europ': 0.007857420371661684}\n"
     ]
    },
    {
     "name": "stderr",
     "output_type": "stream",
     "text": []
    },
    {
     "name": "stdout",
     "output_type": "stream",
     "text": [
      "692 prostate cancer detection treatment {'zeneca': 0.06579664803558993, 'detect': 0.04999999999999999, 'cancer': 0.04999999999999999, 'treatment': 0.04999999999999999, 'prostat': 0.04999999999999999, 'pharmaceut': 0.042724885595527666, 'schere': 0.036045529969803584, 'cell': 0.025758192495445628, 'takeda': 0.024609999230899578, 'drug': 0.023856402925438162, 'chromosom': 0.023255918848890597, 'pound': 0.021663702841774185, 'sale': 0.01993827026627049, 'ow0102122194': 0.01749071021664079, 'technolog': 0.016517671053565344, 'agrochem': 0.016284397132344156, 'product': 0.016212365864841385, 'tenormin': 0.01610469633859689, 'drg': 0.01597690968459815, 'amersham': 0.01527767362612082, 'ici': 0.015263968289015026, 'neutron': 0.014814203002455069, 'cent': 0.014615091896980925, 'divis': 0.01446026542958391, 'per': 0.014325993376416596, 'tianjin': 0.013819782403655634, 'cc': 0.013301092139236026, 'transamerica': 0.013214952876342162, 'turnov': 0.013138457140441118, 'demerg': 0.013091132736210443, 'cpa': 0.012817205446509059, 'medicar': 0.012524121855976254, 'test': 0.012216619416967604, 'beam': 0.01209501740996919, 'healthcar': 0.012046313086754716, 'therapi': 0.012038102800521623, 'greim': 0.011960883199578906, 'liver': 0.011699002880720274, 'genet': 0.011349166701896094, 'plough': 0.011326409385377217, 'proton': 0.011143211170964291, 'compani': 0.010977958066871208, 'research': 0.010975821550466454, 'paint': 0.010809212415694193, 'market': 0.010742252933774654, 'kyodo': 0.010393907506070743, 'transplant': 0.01015439970230609, 'dna': 0.010029495222775606, 'dollar': 0.009823626080893579, 'share': 0.009670241467219676, 'us': 0.009667750829520129, 'ucla': 0.009497008356640963, 'leukaemia': 0.009414710616750352, 'exco': 0.009068648479097132}\n"
     ]
    },
    {
     "name": "stderr",
     "output_type": "stream",
     "text": []
    },
    {
     "name": "stdout",
     "output_type": "stream",
     "text": [
      "693 newspapers electronic media {'newspap': 0.10945254791205922, 'electron': 0.06666666666666665, 'media': 0.06666666666666665, 'springer': 0.06399808124954219, 'internet': 0.04123522704421904, 'subscrib': 0.02917760789652293, 'digithurst': 0.026660445793001333, 'axel': 0.02235492045151511, 'church': 0.020418760973045732, 'lptv': 0.019243718731740155, 'hk0203092294': 0.018459213560061898, 'read': 0.017888256217388446, 'china': 0.017049476884322897, 'board': 0.016822379690634194, 'mgn': 0.01677784689985001, 'hoagland': 0.015952108799379063, 'reader': 0.01552392546376458, 'meta': 0.01487093666972473, 'negropont': 0.014749993210086541, 'comput': 0.014528507253587328, 'kirch': 0.014483247266018118, 'you': 0.014258655600539544, 'pira': 0.013780951040204005, 'digit': 0.01337229063342644, 'access': 0.013218540460702198, 'technolog': 0.013083924489871203, 'televisu': 0.012956610654191729, 'dkec2acpft': 0.012698097261984623, 'monitor': 0.012480082892256902, 'berlin': 0.012417232413444704, 'kruger': 0.01239288601593126, 'fax': 0.012177382820346524, 'audio': 0.012161937920054154, 'mckeown': 0.011753949883451081, 'pocket': 0.011609335904696545, 'servatiu': 0.011391247579466803, 'panel': 0.01128577942636406, 'reuter': 0.01114840311297214, 'selectv': 0.01112398861700011, 'paper': 0.011110583225828433, 'cabl': 0.011030267125090537, 'daili': 0.011009775824668819, '4383': 0.010875609290325293, 'can': 0.01055261584089995, 'deliveri': 0.010200593029114743, '3798': 0.010050771698957026, 'global': 0.009997322997325208, 'laboratori': 0.009951344029483979, 'desktop': 0.00983818696167906, 'salleri': 0.00975275112444279, 'ecfayabaft': 0.00975275112444279, 'germani': 0.009585595701040476}\n"
     ]
    },
    {
     "name": "stderr",
     "output_type": "stream",
     "text": []
    },
    {
     "name": "stdout",
     "output_type": "stream",
     "text": [
      "694 compost pile {'compost': 0.17459424884860908, 'pile': 0.09999999999999998, 'wast': 0.038703687206676336, 'landfil': 0.034294453798885786, 'recycl': 0.03410721583715704, 'tree': 0.0323761267206923, 'peat': 0.02091717410393956, 'topsoil': 0.02090249582622326, 'manur': 0.02019202010878131, 'packag': 0.02014994971303367, 'garlic': 0.019714243331403696, 'you': 0.018894328488635263, 'soil': 0.01888529791101931, 'solid': 0.017178420645211568, 'bag': 0.01670411227870374, 'sludg': 0.016189978911397687, 'becker': 0.01605195809946097, 'chinet': 0.015481611377846989, 'poultri': 0.015125034868088572, 'mulch': 0.014637990237303541, 'litter': 0.014244794432995265, 'respond': 0.0142335744828603, 'glue': 0.014140090954702101, 'plastic': 0.01386637452320369, 'site': 0.013443402771462238, 'sunland': 0.01333024151045553, 'bird': 0.01265121022007891, 'newspap': 0.012355713021772075, 'paper': 0.011751973012707731, 'park': 0.011497547134140543, 'yard': 0.011352286644095273, 'sanit': 0.011252282475826285, 'facil': 0.010422157553552658, '328152': 0.010246076289448902, 'propos': 0.010231225605087517, 'resid': 0.009954664946726673, 'ani': 0.00994460637351287, 'dispos': 0.00985981273859859, 'photodegrad': 0.009697572732112606, 'loam': 0.00958355798085404, 'trash': 0.009530743810156644, 'plant': 0.009469011518320166, 'blvd': 0.009417589134002171, 'sewag': 0.009365473315499787, 'tablewar': 0.009323992601506582, 'nitrogen': 0.00929807646771465, '8651': 0.009217887639388673, 'collect': 0.008926952638749892, 'levington': 0.00886968963596269, 'sphagnum': 0.00877207326995978, '17000': 0.008648996251475955}\n"
     ]
    },
    {
     "name": "stderr",
     "output_type": "stream",
     "text": []
    },
    {
     "name": "stdout",
     "output_type": "stream",
     "text": [
      "695 white collar crime sentence {'sentenc': 0.10980470227949624, 'minkow': 0.06138082485253626, 'white': 0.04999999999999999, 'collar': 0.04999999999999999, 'crime': 0.04999999999999999, 'bilzerian': 0.038684236706316114, 'prison': 0.028072255637435824, 'contra': 0.026876502935905957, 'obermai': 0.026144709433622987, 'montoya': 0.02581805965728421, 'bloom': 0.024018405866965548, 'spurrier': 0.023457926059330243, 'poindext': 0.02196550065398429, 'pechinei': 0.019801397601311922, 'plea': 0.019089196334927734, 'saunder': 0.01830822345108955, 'zzzz': 0.017366267225867756, 'boublil': 0.0168695631275398, 'guilti': 0.01560407586284949, 'judg': 0.014891331095703146, 'convict': 0.01439019905637608, 'fine': 0.014057632641917617, 'he': 0.013694543577719126, 'auer': 0.013498438251442783, 'hi': 0.013172439083343784, 'pixel': 0.013047801670538662, 'probat': 0.01287054639054556, 'edelstein': 0.011960009220468323, 'martin': 0.011367398927566415, 'pelat': 0.011127014486406126, \"d'amato\": 0.011032909558157614, 'prosecutor': 0.01094077108447229, 'count': 0.010751898656579842, 'remors': 0.010341290056316843, 'ventura': 0.010247098277060565, 'kenner': 0.009634710748046562, 'charg': 0.009633845330874512, 'mackei': 0.009600927944373382, 'fals': 0.009330016265170679, 'ipsen': 0.0091816390470689, 'drexel': 0.009118596843376951, 'defens': 0.008936149214098217, 'client': 0.008891433034758877, 'businessman': 0.008855402863748505, 'penalti': 0.008838992396794856, 'david': 0.00876369402846624, 'mckinzi': 0.00871064598336132, 'insur': 0.00863528270065551, 'bargain': 0.00847542543076982, 'appeal': 0.008377792690513903, 'el3dmablft': 0.008216175196610874, '52073': 0.00809182345093644, 'i': 0.008054277109296118}\n"
     ]
    },
    {
     "name": "stderr",
     "output_type": "stream",
     "text": []
    },
    {
     "name": "stdout",
     "output_type": "stream",
     "text": [
      "696 safety plastic surgery {'implant': 0.15777953520945612, 'safeti': 0.08155341562088278, 'corn': 0.067900575498694, 'surgeri': 0.06666666666666665, 'plastic': 0.06666666666666665, 'breast': 0.058490522188040385, 'silicon': 0.05455749453032427, 'dow': 0.05452532185281971, 'fda': 0.035826790933184735, 'zagor': 0.015517023582653933, 'peel': 0.014847375131933918, 'destouet': 0.014177080733308223, 'board': 0.012486155079887214, 'ruptur': 0.01216438347954354, 'karen': 0.011366735230663845, 'gel': 0.01085372826890957, 'cancer': 0.010764168554487677, 'women': 0.010515549381555939, 'patient': 0.010133296496625012, 'accredit': 0.009693570489876959, 'bioplasti': 0.009660956891540957, '1971': 0.00938979959946979, 'moratorium': 0.009169064352567152, 'memo': 0.008994253292222911, 'surgeon': 0.008711823418372766, 'studi': 0.00850735994630059, 'prosthesi': 0.00829191785779893, 'skin': 0.007885274552427704, 'weiss': 0.00770355864604375, 'chemic': 0.007493163587551733, 'document': 0.0074480184464563795, 'aaaapsf': 0.007401443312935546, 'salin': 0.007375891439872978, 'keratotomi': 0.007093097993882029, 'carter': 0.006869386925440391, 'tumbl': 0.0066634801321678525, 'cana3afzft': 0.006536244622685277, 'test': 0.00645503160873836, 'diseas': 0.0061100878317017155, 'mckennon': 0.006106045888043389, 'american': 0.006093594167649275, 'binder': 0.00599921184275751, 'harverson': 0.005957022061397974, 'problem': 0.005929542595241248, 'food': 0.005910072961013726, 'fill': 0.005824639195865933, 'doctor': 0.005724880690016373, 'certifi': 0.005699438641015936, 'cookson': 0.005699124986412088, 'polyurethan': 0.00565500373706744, 'cbkbqadtft': 0.0056104711474986016, 'mcghan': 0.005545042031662494}\n"
     ]
    },
    {
     "name": "stderr",
     "output_type": "stream",
     "text": []
    },
    {
     "name": "stdout",
     "output_type": "stream",
     "text": [
      "697 air traffic controller {'faa': 0.07288727459740682, 'air': 0.06666666666666665, 'control': 0.06666666666666665, 'traffic': 0.06666666666666665, 'tracon': 0.0393769484941795, 'hyph': 0.032194484610078185, 'tca': 0.031471222203989443, 'atpac': 0.028471295835052837, 'furlough': 0.027237751717133652, 'airport': 0.025097575355258313, 'wayn': 0.02420721323692464, 'deviat': 0.022963880249594067, 'feder': 0.01929573163079489, 'atct': 0.017979059808715902, 'nprm': 0.017350865435030904, 'hdr': 0.016844330958216365, 'procedur': 0.015947818803923385, 'advisori': 0.01577320195588467, 'clearanc': 0.014861498596368213, '20591': 0.014434570075801954, 'propos': 0.014249315066436164, 'eap': 0.013971761976082096, 'dc': 0.013540443864039374, 'meet': 0.012524335487052979, 'notic': 0.012520736430959918, 'employe': 0.012489212007113136, 'counti': 0.0123444011593042, 'committe': 0.012121356923259195, 'washington': 0.011787493100799032, 'schwartz': 0.011516605313820599, 'altitud': 0.011338165844986302, 'ra': 0.011247671817871365, 'aviat': 0.011186731857206011, '267': 0.01110819502101709, 'cathi': 0.010968934033508345, 'moor': 0.010852592240385935, 'clure': 0.010832113435014171, '280792': 0.010641165794364662, 'docket': 0.010616002091859804, 'sw': 0.01057503742897936, 'approv': 0.01056818952591748, 'msl': 0.010471759431120161, 'john': 0.010456546384541172, 'orang': 0.010433041772928553, 'curti': 0.009928681849733575, 'feet': 0.009901565749575044, 'instruct': 0.009575465303383733, 'antidrug': 0.009542841483489321, 'coast': 0.009487594253412952, '800': 0.009367229497548438, 'employ': 0.00930316676678421, 'safeti': 0.009145697899205054, 'shall': 0.008991225623946646}\n"
     ]
    },
    {
     "name": "stderr",
     "output_type": "stream",
     "text": []
    },
    {
     "name": "stdout",
     "output_type": "stream",
     "text": [
      "698 literacy rates Africa {'africa': 0.07643946073719973, 'literaci': 0.06666666666666665, 'rate': 0.06666666666666665, 'tunisian': 0.05811293325767103, 'tunisia': 0.03860806462917649, 'hdi': 0.036884010522363286, 'saharan': 0.033997784205928486, 'educ': 0.028930080022548595, 'develop': 0.02867141443353466, 'unesco': 0.0278681772208057, 'girl': 0.023857796094325718, 'build': 0.023772753774049086, 'eltaief': 0.018363134883991036, 'sub': 0.018123318274579775, 'human': 0.01565699047697915, 'bangladesh': 0.015646574710352218, 'engin': 0.014832848343765062, 'compani': 0.014579169079141172, 'polytechniqu': 0.014534750568393554, 'civil': 0.013903250143715637, '677': 0.01374499855040946, 'bredero': 0.0133358850724906, 'global': 0.013142021371527294, 'construct': 0.013114491545030957, 'indigen': 0.013087084461087162, 'spender': 0.01306122056429546, '919': 0.01266494572453025, 'poorer': 0.01254610677548896, 'world': 0.012454993218247272, 'aid': 0.012406412061159581, 'nation': 0.012145006403992414, 'dam': 0.011617676828375072, 'niger': 0.011535871577971759, 'boi': 0.01152743548765181, 'school': 0.011149687591579442, 'countri': 0.011102493569533446, '935bn': 0.010923706482370099, 'efbdvaa3ft': 0.010923706482370099, '0.894': 0.010923706482370099, 'militari': 0.010802509235096024, 'secur': 0.010746177687759526, '0.932': 0.010568917746788946, '623bn': 0.010568917746788946, 'arab': 0.010466842102007871, 'latin': 0.010408837862312387, 'gap': 0.010292554874047982, '27513': 0.0101219368018588, 'french': 0.01000027827042239, 'recurr': 0.009755855631648588, 'asia': 0.00962115642437037, 'talent': 0.00956669890894628, 'sidamigna': 0.009556021745616887}\n"
     ]
    },
    {
     "name": "stderr",
     "output_type": "stream",
     "text": []
    },
    {
     "name": "stdout",
     "output_type": "stream",
     "text": [
      "699 term limits {'term': 0.10955577814782702, 'limit': 0.09999999999999998, 'incumb': 0.06609450965493789, 'officehold': 0.03752180974085435, 'legisl': 0.03172366296422196, 'cawdrei': 0.030041934577046688, 'legislatur': 0.028445638658967255, 'quayl': 0.027112624889569992, 'oklahoma': 0.02441880616556325, 'offic': 0.023611494640642612, 'voter': 0.022532639769493667, 'brown': 0.02108201650519688, 'congress': 0.019169449663887787, 'teglia': 0.01863589022784076, 'lobbyist': 0.017589352982252175, 'reelect': 0.017226381906172226, 'elect': 0.017092438330491087, 'polit': 0.016619318318718868, 'proposit': 0.015707157560932532, 'tenur': 0.015015203008112727, 'opinion': 0.015000430707553362, 'harrar': 0.014982884246439183, 'picu': 0.014558494463328792, '131': 0.014188394350002465, 'lawmak': 0.013835894232083798, 'initi': 0.012952473104671939, 'charter': 0.012780107828220314, 'doerr': 0.012775466494231547, 'california': 0.012336153421860797, 'polsbi': 0.012266063111078003, 'rascal': 0.0121981178940582, 'competit': 0.011807974705415614, 'we': 0.011366574636057045, 'statewid': 0.010626938127943372, 'peopl': 0.01062455530672839, 'raiser': 0.010195407727937353, 'vote': 0.01008352981397426, 'politician': 0.009836032377107534, '291881': 0.009834206208581098, 'parrinello': 0.009641669779859821, 'mcguir': 0.009583292460928481, 'profession': 0.009537567512910378, 'he': 0.009280606353980557, 'ethic': 0.009140545832103034, 'serv': 0.009130438411717364, 'challeng': 0.009086523731537878, 'tabor': 0.009031328186281176, 'willi': 0.008928701677516615, 'poll': 0.008459444968772047, 'bureaucrat': 0.008389669059697884, 'elector': 0.00834440555469202}\n"
     ]
    },
    {
     "name": "stderr",
     "output_type": "stream",
     "text": []
    },
    {
     "name": "stdout",
     "output_type": "stream",
     "text": [
      "700 gasoline tax U.S. {'tax': 0.13576179455153575, 'u.': 0.06666666666666665, 'gasolin': 0.06666666666666665, 'proposit': 0.03810919932205802, 'ethanol': 0.03558346317254854, 'rfg': 0.035213739263231875, 'bush': 0.03130894577589146, 'billion': 0.026645659920325294, 'poll': 0.024669751863023684, 'california': 0.024036157741462793, 'panetta': 0.021869669135752633, 'voter': 0.020883671462084006, 'deficit': 0.019242992912976726, 'spend': 0.0185564166146402, '111': 0.016747007968732727, 'incom': 0.015614996497690681, 'democrat': 0.0151816549909728, 'etb': 0.015172318181413442, 'oxygen': 0.014991958933073445, 'measur': 0.01472428041470095, 'revolt': 0.014378025457704481, 'transport': 0.013848667050822697, 'republican': 0.013617573929061239, 'deduct': 0.013425635585857852, 'baldassar': 0.013100693942362263, 'deukmejian': 0.012779376853377246, 'mtbe': 0.012518241721968132, 'budget': 0.011714034486204655, 'rep': 0.011512900352196665, '212613': 0.011243186638467748, 'sale': 0.01088979922955671, 'senat': 0.010754254327584714, 'reduct': 0.01070767742740468, 'vote': 0.010655041160957788, '180763': 0.010618865005590627, 'evenli': 0.010537689670274922, 'babikian': 0.010273140548831638, 'reagan': 0.010090464319298881, 'clean': 0.01000331221533321, 'metro': 0.009888062243209185, 'transit': 0.009773820293122928, 'reduc': 0.009677082013440965, 'ballot': 0.009593217865933012, 'fund': 0.009587969523481392, 'favor': 0.009471895754471708, 'legisl': 0.009286864362143474, 'bill': 0.00906300896594489, 'air': 0.008779143961744838, 'excis': 0.00873885511326105, '5835': 0.00865136479964773, 'bipartisan': 0.00863220388604379, 'renew': 0.00854091923925109}\n"
     ]
    },
    {
     "name": "stderr",
     "output_type": "stream",
     "text": [
      "100%|\u001b[31m██████████\u001b[0m| 1/1 [04:00<00:00, 240.26s/it]\n"
     ]
    }
   ],
   "source": [
    "k1 = 0.8\n",
    "b = 0.4\n",
    "\n",
    "tpd = [20]\n",
    "tnd = [20]\n",
    "top_PRD = [1000]\n",
    "expanded_query_terms = [50]\n",
    "alpha = [0.8]\n",
    "lamb = [0.7]\n",
    "\n",
    "parameters = list(itertools.product(top_PRD, expanded_query_terms, alpha, lamb, tpd, tnd))\n",
    "\n",
    "for num_doc, num_q, alpha, lamb, tpd, tnd in tqdm(parameters, colour='red'):\n",
    "    run_RM3(num_doc, num_q, alpha, lamb, tpd, tnd)"
   ]
  },
  {
   "cell_type": "code",
   "execution_count": null,
   "id": "8e388db6",
   "metadata": {},
   "outputs": [],
   "source": []
  }
 ],
 "metadata": {
  "kernelspec": {
   "display_name": "Python 3 (ipykernel)",
   "language": "python",
   "name": "python3"
  },
  "language_info": {
   "codemirror_mode": {
    "name": "ipython",
    "version": 3
   },
   "file_extension": ".py",
   "mimetype": "text/x-python",
   "name": "python",
   "nbconvert_exporter": "python",
   "pygments_lexer": "ipython3",
   "version": "3.8.16"
  }
 },
 "nbformat": 4,
 "nbformat_minor": 5
}
